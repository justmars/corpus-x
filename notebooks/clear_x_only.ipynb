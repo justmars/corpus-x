{
 "cells": [
  {
   "cell_type": "code",
   "execution_count": 1,
   "metadata": {},
   "outputs": [],
   "source": [
    "from sqlpyd import Connection\n",
    "c = Connection(DatabasePath=\"db/x.db\", WAL=True)\n",
    "prefixes = [] # clear out all tables created via corpus_x \n",
    "for p in prefixes:\n",
    "    sql = f\"\"\"--sql\n",
    "        SELECT name \n",
    "        FROM sqlite_schema \n",
    "        WHERE type='table' and name like '{p}%' \n",
    "        ORDER BY name;\n",
    "        \"\"\"\n",
    "    for x in c.db.execute_returning_dicts(sql):\n",
    "        c.db.execute(f\"DROP TABLE IF EXISTS {x['name']};\")\n",
    "# To recreate, go to setup the run Cells 1-2 and Cells 13 to 19 "
   ]
  }
 ],
 "metadata": {
  "kernelspec": {
   "display_name": "Python 3.11.0 ('.venv': poetry)",
   "language": "python",
   "name": "python3"
  },
  "language_info": {
   "codemirror_mode": {
    "name": "ipython",
    "version": 3
   },
   "file_extension": ".py",
   "mimetype": "text/x-python",
   "name": "python",
   "nbconvert_exporter": "python",
   "pygments_lexer": "ipython3",
   "version": "3.11.0"
  },
  "orig_nbformat": 4,
  "vscode": {
   "interpreter": {
    "hash": "f64842d3af6374b09eb9796b9cace4dfa027b5166849e320c3f954ad57a9beb0"
   }
  }
 },
 "nbformat": 4,
 "nbformat_minor": 2
}
