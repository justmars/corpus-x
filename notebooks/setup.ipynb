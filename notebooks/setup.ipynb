{
 "cells": [
  {
   "cell_type": "code",
   "execution_count": 1,
   "metadata": {},
   "outputs": [],
   "source": [
    "%load_ext rich"
   ]
  },
  {
   "cell_type": "code",
   "execution_count": 2,
   "metadata": {},
   "outputs": [
    {
     "name": "stdout",
     "output_type": "stream",
     "text": [
      "Validation needed detail=PosixPath('/Users/mv/code/corpus/statutes/ra/9154/details.yaml'); e=ValidationError(model='StatuteUnit', errors=[{'loc': ('content',), 'msg': 'ensure this value has at most 100000 characters', 'type': 'value_error.any_str.max_length', 'ctx': {'limit_value': 100000}}])\n",
      "Validation needed detail=PosixPath('/Users/mv/code/corpus/statutes/ra/9486/details.yaml'); e=ValidationError(model='StatuteUnit', errors=[{'loc': ('content',), 'msg': 'ensure this value has at most 100000 characters', 'type': 'value_error.any_str.max_length', 'ctx': {'limit_value': 100000}}])\n",
      "Generic exception on insertion: e=SyntaxWarning(\"idx='1918' invalid serial of StatuteSerialCategory.RulesOfCourt\")\n"
     ]
    }
   ],
   "source": [
    "from corpus_x import setup_x # type: ignore\n",
    "from sqlpyd import Connection\n",
    "c = Connection(DatabasePath=\"x.db\", WAL=True)\n",
    "setup_x(c)"
   ]
  },
  {
   "cell_type": "code",
   "execution_count": null,
   "metadata": {},
   "outputs": [],
   "source": [
    "from sqlpyd import Connection\n",
    "c = Connection(DatabasePath=\"x.db\", WAL=True)"
   ]
  },
  {
   "cell_type": "code",
   "execution_count": null,
   "metadata": {},
   "outputs": [],
   "source": [
    "from corpus_pax.utils import delete_tables_with_prefix\n",
    "delete_tables_with_prefix(c=c, target_prefixes=[\"lex_tbl\"])"
   ]
  },
  {
   "cell_type": "code",
   "execution_count": null,
   "metadata": {},
   "outputs": [],
   "source": [
    "Statute.make_tables(c)"
   ]
  },
  {
   "cell_type": "code",
   "execution_count": null,
   "metadata": {},
   "outputs": [],
   "source": [
    "Statute.add_rows(c)"
   ]
  },
  {
   "cell_type": "code",
   "execution_count": null,
   "metadata": {},
   "outputs": [],
   "source": [
    "from corpus_x.statutes import StatuteFoundInUnit\n",
    "StatuteFoundInUnit.update_statute_ids(c)  "
   ]
  },
  {
   "cell_type": "code",
   "execution_count": null,
   "metadata": {},
   "outputs": [],
   "source": [
    "from corpus_x.codifications import Codification, CodeRow\n",
    "Codification.make_tables(c)"
   ]
  },
  {
   "cell_type": "code",
   "execution_count": null,
   "metadata": {},
   "outputs": [],
   "source": [
    "Codification.add_rows(c)"
   ]
  },
  {
   "cell_type": "markdown",
   "metadata": {},
   "source": [
    "## Corpus-X\n",
    "\n",
    "### Preparatory steps from files to db\n",
    "\n",
    "The pre-processed data can now be used to insert related Statutes and Citations of each Opinion back into the database. \n",
    "\n",
    "The statute and inclusion tables need to be created before the pre-processed data can be inserted."
   ]
  },
  {
   "cell_type": "code",
   "execution_count": null,
   "metadata": {},
   "outputs": [],
   "source": [
    "from corpus_x.inclusions import Inclusion\n",
    "Inclusion.make_tables(c) # note that statutes need to exist first"
   ]
  },
  {
   "cell_type": "markdown",
   "metadata": {},
   "source": [
    "### Move content from files to db\n",
    "\n",
    "Collect the pre-processed data and insert the same into the created database tables. \n",
    "\n",
    "Estimate at the end of 2022 (factors to consider):\n",
    "\n",
    "1. the last time data was scraped as raw files,\n",
    "2. the time separate opinions were manually included\n",
    "\n",
    "Result: about ~484k `CitationsInOpinions` and ~99k `StatutesInOpinions` records. "
   ]
  },
  {
   "cell_type": "code",
   "execution_count": null,
   "metadata": {},
   "outputs": [],
   "source": [
    "from corpus_x.inclusions import populate_db_with_inclusions\n",
    "populate_db_with_inclusions(c) "
   ]
  },
  {
   "cell_type": "markdown",
   "metadata": {},
   "source": [
    "### Ensure existence of component elements\n",
    "\n",
    "What exists in the database are records of statutes but not the statutes themselves. In other words, the foreign key included in the `StatuteInOpinions` table does not yet have a counterpart in the `StatuteRow` table. \n",
    "\n",
    "Note that the `CitationInOpinions` will have a counterpart in the `DecisionRow` table since this was processed first."
   ]
  },
  {
   "cell_type": "code",
   "execution_count": null,
   "metadata": {},
   "outputs": [],
   "source": [
    "from corpus_x.inclusions import StatuteInOpinion, CitationInOpinion\n",
    "StatuteInOpinion.add_statutes(c) # takes 2-3 minutes to store 500 objects\n",
    "StatuteInOpinion.update_statute_ids(c)\n",
    "CitationInOpinion.update_decision_ids(c)"
   ]
  },
  {
   "cell_type": "code",
   "execution_count": null,
   "metadata": {},
   "outputs": [],
   "source": [
    "from corpus_x.inclusions import StatuteInOpinion, CitationInOpinion"
   ]
  },
  {
   "cell_type": "code",
   "execution_count": null,
   "metadata": {},
   "outputs": [],
   "source": [
    "StatuteInOpinion.add_statutes(c)"
   ]
  },
  {
   "cell_type": "code",
   "execution_count": null,
   "metadata": {},
   "outputs": [],
   "source": [
    "StatuteInOpinion.update_statute_ids(c)"
   ]
  },
  {
   "cell_type": "code",
   "execution_count": null,
   "metadata": {},
   "outputs": [],
   "source": [
    "CitationInOpinion.update_decision_ids(c)"
   ]
  },
  {
   "cell_type": "markdown",
   "metadata": {},
   "source": [
    "With `StatuteRow` and `CitationRow` tables already in existence, can proceed to add the `CodeRow` table."
   ]
  },
  {
   "cell_type": "markdown",
   "metadata": {},
   "source": [
    "### Add Codifications "
   ]
  },
  {
   "cell_type": "code",
   "execution_count": null,
   "metadata": {},
   "outputs": [],
   "source": [
    "from corpus_x.codifications import Codification, CodeStatuteEvent\n",
    "Codification.make_tables(c) \n",
    "Codification.add_rows(c) # takes about 1-2 minutes\n"
   ]
  },
  {
   "cell_type": "markdown",
   "metadata": {},
   "source": [
    "Determine Codifications that are missing affector paths, i.e. improper use of `item`, `caption`, `content` in matching an event to a Statute unit."
   ]
  },
  {
   "cell_type": "code",
   "execution_count": null,
   "metadata": {},
   "outputs": [],
   "source": [
    "from corpus_x.codifications import CodeStatuteEvent\n",
    "if matches := CodeStatuteEvent.fetch_unmaterialized(c):\n",
    "    print(f\"Violating {len(matches)=}; review violators via SQL.\")"
   ]
  }
 ],
 "metadata": {
  "kernelspec": {
   "display_name": "Python 3.11.0 ('.venv': poetry)",
   "language": "python",
   "name": "python3"
  },
  "language_info": {
   "codemirror_mode": {
    "name": "ipython",
    "version": 3
   },
   "file_extension": ".py",
   "mimetype": "text/x-python",
   "name": "python",
   "nbconvert_exporter": "python",
   "pygments_lexer": "ipython3",
   "version": "3.11.0"
  },
  "orig_nbformat": 4,
  "vscode": {
   "interpreter": {
    "hash": "f64842d3af6374b09eb9796b9cace4dfa027b5166849e320c3f954ad57a9beb0"
   }
  }
 },
 "nbformat": 4,
 "nbformat_minor": 2
}
