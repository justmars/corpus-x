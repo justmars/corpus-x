{
 "cells": [
  {
   "cell_type": "code",
   "execution_count": 1,
   "metadata": {},
   "outputs": [],
   "source": [
    "%load_ext rich"
   ]
  },
  {
   "cell_type": "markdown",
   "metadata": {},
   "source": [
    "Open a persistent database connection. "
   ]
  },
  {
   "cell_type": "code",
   "execution_count": 2,
   "metadata": {},
   "outputs": [],
   "source": [
    "from sqlpyd import Connection\n",
    "c = Connection(DatabasePath=\"x.db\", WAL=True)"
   ]
  },
  {
   "cell_type": "markdown",
   "metadata": {},
   "source": [
    "Delete all tables from the named database within the `CWD`."
   ]
  },
  {
   "cell_type": "code",
   "execution_count": null,
   "metadata": {},
   "outputs": [],
   "source": [
    "#prefixes = [\"pax_tbl\", \"lex_tbl\", \"sc_tbl\"]\n",
    "prefixes = [] # because this deletes tables, default to empty list\n",
    "for p in prefixes:\n",
    "    sql = f\"\"\"--sql\n",
    "        SELECT name \n",
    "        FROM sqlite_schema \n",
    "        WHERE type='table' and name like '{p}%' \n",
    "        ORDER BY name;\n",
    "        \"\"\"\n",
    "    for x in c.db.execute_returning_dicts(sql):\n",
    "        c.db.execute(f\"DROP TABLE IF EXISTS {x['name']};\")"
   ]
  },
  {
   "cell_type": "markdown",
   "metadata": {},
   "source": [
    "Utilize the `corpus-pax` library to create the initial tables."
   ]
  },
  {
   "cell_type": "code",
   "execution_count": null,
   "metadata": {},
   "outputs": [],
   "source": [
    "from corpus_pax import init_persons\n",
    "init_persons(c)"
   ]
  },
  {
   "cell_type": "markdown",
   "metadata": {},
   "source": [
    "After the `corpus-pax` tables are created, can create the `corpus-base` tables which include decision and justice tables."
   ]
  },
  {
   "cell_type": "code",
   "execution_count": null,
   "metadata": {},
   "outputs": [],
   "source": [
    "from corpus_base import build_sc_tables, init_sc_cases\n",
    "build_sc_tables(c)\n",
    "init_sc_cases(c)"
   ]
  },
  {
   "cell_type": "markdown",
   "metadata": {},
   "source": [
    "Because it takes a significant amount of time, pre-process Opinions (a related decision table from corpus-base) via inclusion files stored in the local repository. \n",
    "\n",
    "This step need only be done whenever we change the citation / statute detection algorithms:\n",
    "\n",
    "1. `citation_utils.extract_citations()`; and \n",
    "2. `statute-patterns.count_rules()`."
   ]
  },
  {
   "cell_type": "code",
   "execution_count": null,
   "metadata": {},
   "outputs": [],
   "source": [
    "from corpus_x.inclusions import create_inclusion_files_from_db_opinions\n",
    "create_inclusion_files_from_db_opinions(c)"
   ]
  },
  {
   "cell_type": "markdown",
   "metadata": {},
   "source": [
    "The pre-processed data can now be used to insert related Statutes and Citations of each Opinion back into the database. \n",
    "\n",
    "The statute and inclusion tables need to be created before the pre-processed data can be inserted."
   ]
  },
  {
   "cell_type": "code",
   "execution_count": 3,
   "metadata": {},
   "outputs": [],
   "source": [
    "from corpus_x.inclusions import Inclusion\n",
    "from corpus_x import Statute\n",
    "Statute.make_tables(c) # inclusion files will reference a statute_id\n",
    "Inclusion.make_tables(c) # note that statutes need to exist first"
   ]
  },
  {
   "cell_type": "markdown",
   "metadata": {},
   "source": [
    "Collect the pre-processed data and insert the same into the created database tables."
   ]
  },
  {
   "cell_type": "code",
   "execution_count": 4,
   "metadata": {},
   "outputs": [],
   "source": [
    "from corpus_x.inclusions import populate_db_with_inclusions\n",
    "populate_db_with_inclusions(c)"
   ]
  },
  {
   "cell_type": "markdown",
   "metadata": {},
   "source": [
    "What exists in the database are records of statutes but not the statutes themselves. In other words, the foreign key included in the `StatuteInOpinions` table does not yet have a counterpart in the `StatuteRow` table. \n",
    "\n",
    "Note that the `CitationInOpinions` will have a counterpart in the `DecisionRow` table since this was processed first."
   ]
  },
  {
   "cell_type": "code",
   "execution_count": 5,
   "metadata": {},
   "outputs": [
    {
     "name": "stdout",
     "output_type": "stream",
     "text": [
      "Did not make statute content_file=PosixPath('/Users/mv/code/corpus/statutes/pd/389/details.yaml'); e=ValidationError(model='StatuteUnit', errors=[{'loc': ('item',), 'msg': 'none is not an allowed value', 'type': 'type_error.none.not_allowed'}])\n"
     ]
    },
    {
     "data": {
      "text/html": [
       "<pre style=\"white-space:pre;overflow-x:auto;line-height:normal;font-family:Menlo,'DejaVu Sans Mono',consolas,'Courier New',monospace\"><span style=\"font-weight: bold\">&lt;</span><span style=\"color: #ff00ff; text-decoration-color: #ff00ff; font-weight: bold\">sqlite3.Cursor</span><span style=\"color: #000000; text-decoration-color: #000000\"> object at </span><span style=\"color: #008080; text-decoration-color: #008080; font-weight: bold\">0x10dc23c40</span><span style=\"font-weight: bold\">&gt;</span>\n",
       "</pre>\n"
      ],
      "text/plain": [
       "\u001b[1m<\u001b[0m\u001b[1;95msqlite3.Cursor\u001b[0m\u001b[39m object at \u001b[0m\u001b[1;36m0x10dc23c40\u001b[0m\u001b[1m>\u001b[0m\n"
      ]
     },
     "metadata": {},
     "output_type": "display_data"
    }
   ],
   "source": [
    "from corpus_x.inclusions import StatuteInOpinion, CitationInOpinion\n",
    "StatuteInOpinion.add_statutes(c) # takes 2-3 minutes to store 500 objects\n",
    "StatuteInOpinion.update_statute_ids(c)\n",
    "CitationInOpinion.update_decision_ids(c)"
   ]
  },
  {
   "cell_type": "markdown",
   "metadata": {},
   "source": [
    "With `StatuteRow` and `CitationRow` tables already in existence, can proceed to add the `CodeRow` table."
   ]
  },
  {
   "cell_type": "code",
   "execution_count": 6,
   "metadata": {},
   "outputs": [],
   "source": [
    "from corpus_x.codifications import Codification\n",
    "Codification.make_tables(c)\n",
    "Codification.add_rows(c)"
   ]
  }
 ],
 "metadata": {
  "kernelspec": {
   "display_name": "Python 3.11.0 ('.venv': poetry)",
   "language": "python",
   "name": "python3"
  },
  "language_info": {
   "codemirror_mode": {
    "name": "ipython",
    "version": 3
   },
   "file_extension": ".py",
   "mimetype": "text/x-python",
   "name": "python",
   "nbconvert_exporter": "python",
   "pygments_lexer": "ipython3",
   "version": "3.11.0"
  },
  "orig_nbformat": 4,
  "vscode": {
   "interpreter": {
    "hash": "f64842d3af6374b09eb9796b9cace4dfa027b5166849e320c3f954ad57a9beb0"
   }
  }
 },
 "nbformat": 4,
 "nbformat_minor": 2
}
