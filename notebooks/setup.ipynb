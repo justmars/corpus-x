{
 "cells": [
  {
   "cell_type": "code",
   "execution_count": null,
   "metadata": {},
   "outputs": [],
   "source": [
    "%load_ext rich"
   ]
  },
  {
   "cell_type": "markdown",
   "metadata": {},
   "source": [
    "Open a persistent database connection. "
   ]
  },
  {
   "cell_type": "code",
   "execution_count": null,
   "metadata": {},
   "outputs": [],
   "source": [
    "from sqlpyd import Connection\n",
    "c = Connection(DatabasePath=\"app/data/x.db\", WAL=True)"
   ]
  },
  {
   "cell_type": "markdown",
   "metadata": {},
   "source": [
    "Delete all tables from the named database within the `CWD`."
   ]
  },
  {
   "cell_type": "code",
   "execution_count": null,
   "metadata": {},
   "outputs": [],
   "source": [
    "#prefixes = [\"pax_tbl\", \"lex_tbl\", \"sc_tbl\"]\n",
    "prefixes = [] # because this deletes tables, default to empty list\n",
    "for p in prefixes:\n",
    "    if p:\n",
    "        sql = f\"\"\"--sql\n",
    "            SELECT name \n",
    "            FROM sqlite_schema \n",
    "            WHERE type='table' and name like '{p}%' \n",
    "            ORDER BY name;\n",
    "            \"\"\"\n",
    "        for x in c.db.execute_returning_dicts(sql):\n",
    "            c.db.execute(f\"DROP TABLE IF EXISTS {x['name']};\")"
   ]
  },
  {
   "cell_type": "markdown",
   "metadata": {},
   "source": [
    "## Corpus-Pax\n",
    "\n",
    "Utilize the `corpus-pax` library to create the initial tables."
   ]
  },
  {
   "cell_type": "code",
   "execution_count": null,
   "metadata": {},
   "outputs": [],
   "source": [
    "from corpus_pax import init_persons\n",
    "init_persons(c)"
   ]
  },
  {
   "cell_type": "markdown",
   "metadata": {},
   "source": [
    "## Corpus-Base\n",
    "\n",
    "After the `corpus-pax` tables are created, can create the `corpus-base` tables which include decision and justice tables."
   ]
  },
  {
   "cell_type": "code",
   "execution_count": null,
   "metadata": {},
   "outputs": [],
   "source": [
    "from corpus_base import build_sc_tables, init_sc_cases\n",
    "build_sc_tables(c)\n",
    "init_sc_cases(c)"
   ]
  },
  {
   "cell_type": "markdown",
   "metadata": {},
   "source": [
    "Because it takes a significant amount of time, pre-process Opinions (a related decision table from corpus-base) via inclusion files stored in the local repository. \n",
    "\n",
    "This step need only be done whenever we change the citation / statute detection algorithms:\n",
    "\n",
    "1. `citation_utils.extract_citations()`; and \n",
    "2. `statute-patterns.count_rules()`."
   ]
  },
  {
   "cell_type": "code",
   "execution_count": null,
   "metadata": {},
   "outputs": [],
   "source": [
    "from corpus_x.inclusions import create_inclusion_files_from_db_opinions\n",
    "create_inclusion_files_from_db_opinions(c)"
   ]
  },
  {
   "cell_type": "markdown",
   "metadata": {},
   "source": [
    "## Corpus-X\n",
    "\n",
    "### Preparatory steps from files to db\n",
    "\n",
    "The pre-processed data can now be used to insert related Statutes and Citations of each Opinion back into the database. \n",
    "\n",
    "The statute and inclusion tables need to be created before the pre-processed data can be inserted."
   ]
  },
  {
   "cell_type": "code",
   "execution_count": null,
   "metadata": {},
   "outputs": [],
   "source": [
    "from corpus_x.inclusions import Inclusion\n",
    "from corpus_x import Statute\n",
    "Statute.make_tables(c) # inclusion files will reference a statute_id\n",
    "Inclusion.make_tables(c) # note that statutes need to exist first"
   ]
  },
  {
   "cell_type": "markdown",
   "metadata": {},
   "source": [
    "### Move content from files to db\n",
    "\n",
    "Collect the pre-processed data and insert the same into the created database tables. \n",
    "\n",
    "Estimate at the end of 2022 (factors to consider):\n",
    "\n",
    "1. the last time data was scraped as raw files,\n",
    "2. the time separate opinions were manually included\n",
    "\n",
    "Result: about ~484k `CitationsInOpinions` and ~99k `StatutesInOpinions` records. "
   ]
  },
  {
   "cell_type": "code",
   "execution_count": null,
   "metadata": {},
   "outputs": [],
   "source": [
    "from corpus_x.inclusions import populate_db_with_inclusions\n",
    "populate_db_with_inclusions(c) # takes 5 minutes"
   ]
  },
  {
   "cell_type": "markdown",
   "metadata": {},
   "source": [
    "### Ensure existence of component elements\n",
    "\n",
    "What exists in the database are records of statutes but not the statutes themselves. In other words, the foreign key included in the `StatuteInOpinions` table does not yet have a counterpart in the `StatuteRow` table. \n",
    "\n",
    "Note that the `CitationInOpinions` will have a counterpart in the `DecisionRow` table since this was processed first."
   ]
  },
  {
   "cell_type": "code",
   "execution_count": null,
   "metadata": {},
   "outputs": [],
   "source": [
    "from corpus_x.inclusions import StatuteInOpinion, CitationInOpinion\n",
    "StatuteInOpinion.add_statutes(c) # takes 2-3 minutes to store 500 objects\n",
    "StatuteInOpinion.update_statute_ids(c)\n",
    "CitationInOpinion.update_decision_ids(c)"
   ]
  },
  {
   "cell_type": "markdown",
   "metadata": {},
   "source": [
    "With `StatuteRow` and `CitationRow` tables already in existence, can proceed to add the `CodeRow` table."
   ]
  },
  {
   "cell_type": "markdown",
   "metadata": {},
   "source": [
    "### Add Codifications "
   ]
  },
  {
   "cell_type": "code",
   "execution_count": null,
   "metadata": {},
   "outputs": [],
   "source": [
    "from corpus_x.codifications import Codification, CodeStatuteEvent\n",
    "Codification.make_tables(c) \n",
    "Codification.add_rows(c) # takes about 1-2 minutes\n"
   ]
  },
  {
   "cell_type": "markdown",
   "metadata": {},
   "source": [
    "Determine Codifications that are missing affector paths, i.e. improper use of `item`, `caption`, `content` in matching an event to a Statute unit."
   ]
  },
  {
   "cell_type": "code",
   "execution_count": null,
   "metadata": {},
   "outputs": [],
   "source": [
    "from corpus_x.codifications import CodeStatuteEvent\n",
    "if matches := CodeStatuteEvent.fetch_unmaterialized(c):\n",
    "    print(f\"Violating {len(matches)=}; review violators via SQL.\")"
   ]
  }
 ],
 "metadata": {
  "kernelspec": {
   "display_name": "Python 3.11.0 ('.venv': poetry)",
   "language": "python",
   "name": "python3"
  },
  "language_info": {
   "codemirror_mode": {
    "name": "ipython",
    "version": 3
   },
   "file_extension": ".py",
   "mimetype": "text/x-python",
   "name": "python",
   "nbconvert_exporter": "python",
   "pygments_lexer": "ipython3",
   "version": "3.11.0 (main, Nov  1 2022, 21:56:32) [Clang 14.0.0 (clang-1400.0.29.202)]"
  },
  "orig_nbformat": 4,
  "vscode": {
   "interpreter": {
    "hash": "f64842d3af6374b09eb9796b9cace4dfa027b5166849e320c3f954ad57a9beb0"
   }
  }
 },
 "nbformat": 4,
 "nbformat_minor": 2
}
