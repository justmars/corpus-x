{
 "cells": [
  {
   "cell_type": "code",
   "execution_count": null,
   "metadata": {},
   "outputs": [
    {
     "ename": "",
     "evalue": "",
     "output_type": "error",
     "traceback": [
      "\u001b[1;31mRunning cells with '.venv' requires the ipykernel package.\n",
      "\u001b[1;31mRun the following command to install 'ipykernel' into the Python environment. \n",
      "\u001b[1;31mCommand: '/Users/mv/Code/corpus-x/.venv/bin/python -m pip install ipykernel -U --force-reinstall'"
     ]
    }
   ],
   "source": [
    "%load_ext rich\n",
    "\n",
    "from sqlpyd import Connection\n",
    "c = Connection(DatabasePath=\"x.db\", WAL=True) # type: ignore"
   ]
  },
  {
   "cell_type": "code",
   "execution_count": null,
   "metadata": {},
   "outputs": [],
   "source": [
    "from corpus_x.resources import corpus_sqlenv\n",
    "sql = corpus_sqlenv.get_template(\"statutes/references/src_ref_mp_list.sql\")\n",
    "c.db.create_view(\"view_src_ref_mp_list\", sql.render(), replace=True)\n",
    "#c.db.execute_returning_dicts(sql.render())\n"
   ]
  },
  {
   "cell_type": "code",
   "execution_count": null,
   "metadata": {},
   "outputs": [],
   "source": [
    "civ_code_id = 'ra-386-june-18-1949'\n",
    "# These are statutes that reference the civil code ordered by the most recent referrer (src)\n",
    "tbl = c.db[\"view_src_ref_mp_list\"]\n",
    "list(tbl.rows_where(\"rf_id = ?\", (civ_code_id,), select=\"rf_id, src_statute_id\"))"
   ]
  }
 ],
 "metadata": {
  "kernelspec": {
   "display_name": "Python 3.11.0 ('.venv': poetry)",
   "language": "python",
   "name": "python3"
  },
  "language_info": {
   "codemirror_mode": {
    "name": "ipython",
    "version": 3
   },
   "file_extension": ".py",
   "mimetype": "text/x-python",
   "name": "python",
   "nbconvert_exporter": "python",
   "pygments_lexer": "ipython3",
   "version": "3.11.0 (main, Nov  1 2022, 21:56:32) [Clang 14.0.0 (clang-1400.0.29.202)]"
  },
  "orig_nbformat": 4,
  "vscode": {
   "interpreter": {
    "hash": "f64842d3af6374b09eb9796b9cace4dfa027b5166849e320c3f954ad57a9beb0"
   }
  }
 },
 "nbformat": 4,
 "nbformat_minor": 2
}
