{
 "cells": [
  {
   "cell_type": "code",
   "execution_count": 1,
   "metadata": {},
   "outputs": [],
   "source": [
    "%load_ext rich\n",
    "\n",
    "from sqlpyd import Connection\n",
    "c = Connection(DatabasePath=\"db/x.db\", WAL=True) # type: ignore"
   ]
  },
  {
   "cell_type": "code",
   "execution_count": 2,
   "metadata": {},
   "outputs": [
    {
     "data": {
      "text/html": [
       "<pre style=\"white-space:pre;overflow-x:auto;line-height:normal;font-family:Menlo,'DejaVu Sans Mono',consolas,'Courier New',monospace\"><span style=\"font-weight: bold\">&lt;</span><span style=\"color: #ff00ff; text-decoration-color: #ff00ff; font-weight: bold\">Database</span><span style=\"color: #000000; text-decoration-color: #000000\"> &lt;sqlite3.Connection object at </span><span style=\"color: #008080; text-decoration-color: #008080; font-weight: bold\">0x11142f6a0</span><span style=\"font-weight: bold\">&gt;</span>&gt;\n",
       "</pre>\n"
      ],
      "text/plain": [
       "\u001b[1m<\u001b[0m\u001b[1;95mDatabase\u001b[0m\u001b[39m <sqlite3.Connection object at \u001b[0m\u001b[1;36m0x11142f6a0\u001b[0m\u001b[1m>\u001b[0m>\n"
      ]
     },
     "metadata": {},
     "output_type": "display_data"
    }
   ],
   "source": [
    "from corpus_x.resources import corpus_sqlenv\n",
    "sql = corpus_sqlenv.get_template(\"statutes/references/src_ref_mp_list.sql\")\n",
    "c.db.create_view(\"view_src_ref_mp_list\", sql.render(), replace=True)\n",
    "#c.db.execute_returning_dicts(sql.render())\n"
   ]
  },
  {
   "cell_type": "code",
   "execution_count": 8,
   "metadata": {},
   "outputs": [
    {
     "data": {
      "text/html": [
       "<pre style=\"white-space:pre;overflow-x:auto;line-height:normal;font-family:Menlo,'DejaVu Sans Mono',consolas,'Courier New',monospace\">\n",
       "<span style=\"font-weight: bold\">[</span>\n",
       "    <span style=\"font-weight: bold\">{</span><span style=\"color: #008000; text-decoration-color: #008000\">'rf_id'</span>: <span style=\"color: #008000; text-decoration-color: #008000\">'ra-386-june-18-1949'</span>, <span style=\"color: #008000; text-decoration-color: #008000\">'src_statute_id'</span>: <span style=\"color: #008000; text-decoration-color: #008000\">'rule-am-19-10-20-sc-october-15-2019'</span><span style=\"font-weight: bold\">}</span>,\n",
       "    <span style=\"font-weight: bold\">{</span><span style=\"color: #008000; text-decoration-color: #008000\">'rf_id'</span>: <span style=\"color: #008000; text-decoration-color: #008000\">'ra-386-june-18-1949'</span>, <span style=\"color: #008000; text-decoration-color: #008000\">'src_statute_id'</span>: <span style=\"color: #008000; text-decoration-color: #008000\">'ra-11222-february-21-2019'</span><span style=\"font-weight: bold\">}</span>,\n",
       "    <span style=\"font-weight: bold\">{</span><span style=\"color: #008000; text-decoration-color: #008000\">'rf_id'</span>: <span style=\"color: #008000; text-decoration-color: #008000\">'ra-386-june-18-1949'</span>, <span style=\"color: #008000; text-decoration-color: #008000\">'src_statute_id'</span>: <span style=\"color: #008000; text-decoration-color: #008000\">'ra-11057-august-17-2018'</span><span style=\"font-weight: bold\">}</span>,\n",
       "    <span style=\"font-weight: bold\">{</span><span style=\"color: #008000; text-decoration-color: #008000\">'rf_id'</span>: <span style=\"color: #008000; text-decoration-color: #008000\">'ra-386-june-18-1949'</span>, <span style=\"color: #008000; text-decoration-color: #008000\">'src_statute_id'</span>: <span style=\"color: #008000; text-decoration-color: #008000\">'ra-10846-may-23-2016'</span><span style=\"font-weight: bold\">}</span>,\n",
       "    <span style=\"font-weight: bold\">{</span><span style=\"color: #008000; text-decoration-color: #008000\">'rf_id'</span>: <span style=\"color: #008000; text-decoration-color: #008000\">'ra-386-june-18-1949'</span>, <span style=\"color: #008000; text-decoration-color: #008000\">'src_statute_id'</span>: <span style=\"color: #008000; text-decoration-color: #008000\">'rule-am-12-12-11-sc-august-27-2013'</span><span style=\"font-weight: bold\">}</span>,\n",
       "    <span style=\"font-weight: bold\">{</span><span style=\"color: #008000; text-decoration-color: #008000\">'rf_id'</span>: <span style=\"color: #008000; text-decoration-color: #008000\">'ra-386-june-18-1949'</span>, <span style=\"color: #008000; text-decoration-color: #008000\">'src_statute_id'</span>: <span style=\"color: #008000; text-decoration-color: #008000\">'ra-10607-august-15-2013'</span><span style=\"font-weight: bold\">}</span>,\n",
       "    <span style=\"font-weight: bold\">{</span><span style=\"color: #008000; text-decoration-color: #008000\">'rf_id'</span>: <span style=\"color: #008000; text-decoration-color: #008000\">'ra-386-june-18-1949'</span>, <span style=\"color: #008000; text-decoration-color: #008000\">'src_statute_id'</span>: <span style=\"color: #008000; text-decoration-color: #008000\">'ra-10142-july-18-2010'</span><span style=\"font-weight: bold\">}</span>,\n",
       "    <span style=\"font-weight: bold\">{</span><span style=\"color: #008000; text-decoration-color: #008000\">'rf_id'</span>: <span style=\"color: #008000; text-decoration-color: #008000\">'ra-386-june-18-1949'</span>, <span style=\"color: #008000; text-decoration-color: #008000\">'src_statute_id'</span>: <span style=\"color: #008000; text-decoration-color: #008000\">'ra-10066-march-26-2010'</span><span style=\"font-weight: bold\">}</span>,\n",
       "    <span style=\"font-weight: bold\">{</span><span style=\"color: #008000; text-decoration-color: #008000\">'rf_id'</span>: <span style=\"color: #008000; text-decoration-color: #008000\">'ra-386-june-18-1949'</span>, <span style=\"color: #008000; text-decoration-color: #008000\">'src_statute_id'</span>: <span style=\"color: #008000; text-decoration-color: #008000\">'ra-9904-january-07-2010'</span><span style=\"font-weight: bold\">}</span>,\n",
       "    <span style=\"font-weight: bold\">{</span><span style=\"color: #008000; text-decoration-color: #008000\">'rf_id'</span>: <span style=\"color: #008000; text-decoration-color: #008000\">'ra-386-june-18-1949'</span>, <span style=\"color: #008000; text-decoration-color: #008000\">'src_statute_id'</span>: <span style=\"color: #008000; text-decoration-color: #008000\">'ra-9407-march-24-2007'</span><span style=\"font-weight: bold\">}</span>,\n",
       "    <span style=\"font-weight: bold\">{</span><span style=\"color: #008000; text-decoration-color: #008000\">'rf_id'</span>: <span style=\"color: #008000; text-decoration-color: #008000\">'ra-386-june-18-1949'</span>, <span style=\"color: #008000; text-decoration-color: #008000\">'src_statute_id'</span>: <span style=\"color: #008000; text-decoration-color: #008000\">'ra-9355-october-02-2006'</span><span style=\"font-weight: bold\">}</span>,\n",
       "    <span style=\"font-weight: bold\">{</span><span style=\"color: #008000; text-decoration-color: #008000\">'rf_id'</span>: <span style=\"color: #008000; text-decoration-color: #008000\">'ra-386-june-18-1949'</span>, <span style=\"color: #008000; text-decoration-color: #008000\">'src_statute_id'</span>: <span style=\"color: #008000; text-decoration-color: #008000\">'ra-9184-january-10-2003'</span><span style=\"font-weight: bold\">}</span>,\n",
       "    <span style=\"font-weight: bold\">{</span><span style=\"color: #008000; text-decoration-color: #008000\">'rf_id'</span>: <span style=\"color: #008000; text-decoration-color: #008000\">'ra-386-june-18-1949'</span>, <span style=\"color: #008000; text-decoration-color: #008000\">'src_statute_id'</span>: <span style=\"color: #008000; text-decoration-color: #008000\">'ra-9182-december-23-2002'</span><span style=\"font-weight: bold\">}</span>,\n",
       "    <span style=\"font-weight: bold\">{</span><span style=\"color: #008000; text-decoration-color: #008000\">'rf_id'</span>: <span style=\"color: #008000; text-decoration-color: #008000\">'ra-386-june-18-1949'</span>, <span style=\"color: #008000; text-decoration-color: #008000\">'src_statute_id'</span>: <span style=\"color: #008000; text-decoration-color: #008000\">'rule-am-02-6-02-sc-august-2-2002'</span><span style=\"font-weight: bold\">}</span>,\n",
       "    <span style=\"font-weight: bold\">{</span><span style=\"color: #008000; text-decoration-color: #008000\">'rf_id'</span>: <span style=\"color: #008000; text-decoration-color: #008000\">'ra-386-june-18-1949'</span>, <span style=\"color: #008000; text-decoration-color: #008000\">'src_statute_id'</span>: <span style=\"color: #008000; text-decoration-color: #008000\">'ra-9165-june-07-2002'</span><span style=\"font-weight: bold\">}</span>,\n",
       "    <span style=\"font-weight: bold\">{</span><span style=\"color: #008000; text-decoration-color: #008000\">'rf_id'</span>: <span style=\"color: #008000; text-decoration-color: #008000\">'ra-386-june-18-1949'</span>, <span style=\"color: #008000; text-decoration-color: #008000\">'src_statute_id'</span>: <span style=\"color: #008000; text-decoration-color: #008000\">'ra-9160-september-29-2001'</span><span style=\"font-weight: bold\">}</span>,\n",
       "    <span style=\"font-weight: bold\">{</span><span style=\"color: #008000; text-decoration-color: #008000\">'rf_id'</span>: <span style=\"color: #008000; text-decoration-color: #008000\">'ra-386-june-18-1949'</span>, <span style=\"color: #008000; text-decoration-color: #008000\">'src_statute_id'</span>: <span style=\"color: #008000; text-decoration-color: #008000\">'ra-9048-march-22-2001'</span><span style=\"font-weight: bold\">}</span>,\n",
       "    <span style=\"font-weight: bold\">{</span><span style=\"color: #008000; text-decoration-color: #008000\">'rf_id'</span>: <span style=\"color: #008000; text-decoration-color: #008000\">'ra-386-june-18-1949'</span>, <span style=\"color: #008000; text-decoration-color: #008000\">'src_statute_id'</span>: <span style=\"color: #008000; text-decoration-color: #008000\">'rule-am-00-5-03-sc-1-october-03-2000-1'</span><span style=\"font-weight: bold\">}</span>,\n",
       "    <span style=\"font-weight: bold\">{</span><span style=\"color: #008000; text-decoration-color: #008000\">'rf_id'</span>: <span style=\"color: #008000; text-decoration-color: #008000\">'ra-386-june-18-1949'</span>, <span style=\"color: #008000; text-decoration-color: #008000\">'src_statute_id'</span>: <span style=\"color: #008000; text-decoration-color: #008000\">'ra-8799-july-19-2000'</span><span style=\"font-weight: bold\">}</span>,\n",
       "    <span style=\"font-weight: bold\">{</span><span style=\"color: #008000; text-decoration-color: #008000\">'rf_id'</span>: <span style=\"color: #008000; text-decoration-color: #008000\">'ra-386-june-18-1949'</span>, <span style=\"color: #008000; text-decoration-color: #008000\">'src_statute_id'</span>: <span style=\"color: #008000; text-decoration-color: #008000\">'ra-8749-june-23-1999'</span><span style=\"font-weight: bold\">}</span>,\n",
       "    <span style=\"font-weight: bold\">{</span><span style=\"color: #008000; text-decoration-color: #008000\">'rf_id'</span>: <span style=\"color: #008000; text-decoration-color: #008000\">'ra-386-june-18-1949'</span>, <span style=\"color: #008000; text-decoration-color: #008000\">'src_statute_id'</span>: <span style=\"color: #008000; text-decoration-color: #008000\">'ra-8552-february-25-1998'</span><span style=\"font-weight: bold\">}</span>,\n",
       "    <span style=\"font-weight: bold\">{</span><span style=\"color: #008000; text-decoration-color: #008000\">'rf_id'</span>: <span style=\"color: #008000; text-decoration-color: #008000\">'ra-386-june-18-1949'</span>, <span style=\"color: #008000; text-decoration-color: #008000\">'src_statute_id'</span>: <span style=\"color: #008000; text-decoration-color: #008000\">'ra-8508-february-13-1998'</span><span style=\"font-weight: bold\">}</span>,\n",
       "    <span style=\"font-weight: bold\">{</span><span style=\"color: #008000; text-decoration-color: #008000\">'rf_id'</span>: <span style=\"color: #008000; text-decoration-color: #008000\">'ra-386-june-18-1949'</span>, <span style=\"color: #008000; text-decoration-color: #008000\">'src_statute_id'</span>: <span style=\"color: #008000; text-decoration-color: #008000\">'ra-8371-october-29-1997'</span><span style=\"font-weight: bold\">}</span>,\n",
       "    <span style=\"font-weight: bold\">{</span><span style=\"color: #008000; text-decoration-color: #008000\">'rf_id'</span>: <span style=\"color: #008000; text-decoration-color: #008000\">'ra-386-june-18-1949'</span>, <span style=\"color: #008000; text-decoration-color: #008000\">'src_statute_id'</span>: <span style=\"color: #008000; text-decoration-color: #008000\">'ra-8293-june-06-1997'</span><span style=\"font-weight: bold\">}</span>,\n",
       "    <span style=\"font-weight: bold\">{</span><span style=\"color: #008000; text-decoration-color: #008000\">'rf_id'</span>: <span style=\"color: #008000; text-decoration-color: #008000\">'ra-386-june-18-1949'</span>, <span style=\"color: #008000; text-decoration-color: #008000\">'src_statute_id'</span>: <span style=\"color: #008000; text-decoration-color: #008000\">'rule-bm-803-april-08-1997'</span><span style=\"font-weight: bold\">}</span>,\n",
       "    <span style=\"font-weight: bold\">{</span><span style=\"color: #008000; text-decoration-color: #008000\">'rf_id'</span>: <span style=\"color: #008000; text-decoration-color: #008000\">'ra-386-june-18-1949'</span>, <span style=\"color: #008000; text-decoration-color: #008000\">'src_statute_id'</span>: <span style=\"color: #008000; text-decoration-color: #008000\">'ra-8041-june-07-1995'</span><span style=\"font-weight: bold\">}</span>,\n",
       "    <span style=\"font-weight: bold\">{</span><span style=\"color: #008000; text-decoration-color: #008000\">'rf_id'</span>: <span style=\"color: #008000; text-decoration-color: #008000\">'ra-386-june-18-1949'</span>, <span style=\"color: #008000; text-decoration-color: #008000\">'src_statute_id'</span>: <span style=\"color: #008000; text-decoration-color: #008000\">'ra-7653-june-14-1993'</span><span style=\"font-weight: bold\">}</span>,\n",
       "    <span style=\"font-weight: bold\">{</span><span style=\"color: #008000; text-decoration-color: #008000\">'rf_id'</span>: <span style=\"color: #008000; text-decoration-color: #008000\">'ra-386-june-18-1949'</span>, <span style=\"color: #008000; text-decoration-color: #008000\">'src_statute_id'</span>: <span style=\"color: #008000; text-decoration-color: #008000\">'ra-7394-april-13-1992'</span><span style=\"font-weight: bold\">}</span>,\n",
       "    <span style=\"font-weight: bold\">{</span><span style=\"color: #008000; text-decoration-color: #008000\">'rf_id'</span>: <span style=\"color: #008000; text-decoration-color: #008000\">'ra-386-june-18-1949'</span>, <span style=\"color: #008000; text-decoration-color: #008000\">'src_statute_id'</span>: <span style=\"color: #008000; text-decoration-color: #008000\">'ra-7192-january-12-1992'</span><span style=\"font-weight: bold\">}</span>,\n",
       "    <span style=\"font-weight: bold\">{</span><span style=\"color: #008000; text-decoration-color: #008000\">'rf_id'</span>: <span style=\"color: #008000; text-decoration-color: #008000\">'ra-386-june-18-1949'</span>, <span style=\"color: #008000; text-decoration-color: #008000\">'src_statute_id'</span>: <span style=\"color: #008000; text-decoration-color: #008000\">'ra-7160-october-10-1991'</span><span style=\"font-weight: bold\">}</span>,\n",
       "    <span style=\"font-weight: bold\">{</span><span style=\"color: #008000; text-decoration-color: #008000\">'rf_id'</span>: <span style=\"color: #008000; text-decoration-color: #008000\">'ra-386-june-18-1949'</span>, <span style=\"color: #008000; text-decoration-color: #008000\">'src_statute_id'</span>: <span style=\"color: #008000; text-decoration-color: #008000\">'ra-6809-december-13-1989'</span><span style=\"font-weight: bold\">}</span>,\n",
       "    <span style=\"font-weight: bold\">{</span><span style=\"color: #008000; text-decoration-color: #008000\">'rf_id'</span>: <span style=\"color: #008000; text-decoration-color: #008000\">'ra-386-june-18-1949'</span>, <span style=\"color: #008000; text-decoration-color: #008000\">'src_statute_id'</span>: <span style=\"color: #008000; text-decoration-color: #008000\">'eo-209-july-06-1987'</span><span style=\"font-weight: bold\">}</span>,\n",
       "    <span style=\"font-weight: bold\">{</span><span style=\"color: #008000; text-decoration-color: #008000\">'rf_id'</span>: <span style=\"color: #008000; text-decoration-color: #008000\">'ra-386-june-18-1949'</span>, <span style=\"color: #008000; text-decoration-color: #008000\">'src_statute_id'</span>: <span style=\"color: #008000; text-decoration-color: #008000\">'eo-200-june-18-1987'</span><span style=\"font-weight: bold\">}</span>,\n",
       "    <span style=\"font-weight: bold\">{</span><span style=\"color: #008000; text-decoration-color: #008000\">'rf_id'</span>: <span style=\"color: #008000; text-decoration-color: #008000\">'ra-386-june-18-1949'</span>, <span style=\"color: #008000; text-decoration-color: #008000\">'src_statute_id'</span>: <span style=\"color: #008000; text-decoration-color: #008000\">'eo-14-may-07-1986'</span><span style=\"font-weight: bold\">}</span>,\n",
       "    <span style=\"font-weight: bold\">{</span><span style=\"color: #008000; text-decoration-color: #008000\">'rf_id'</span>: <span style=\"color: #008000; text-decoration-color: #008000\">'ra-386-june-18-1949'</span>, <span style=\"color: #008000; text-decoration-color: #008000\">'src_statute_id'</span>: <span style=\"color: #008000; text-decoration-color: #008000\">'bp-877-june-12-1985'</span><span style=\"font-weight: bold\">}</span>,\n",
       "    <span style=\"font-weight: bold\">{</span><span style=\"color: #008000; text-decoration-color: #008000\">'rf_id'</span>: <span style=\"color: #008000; text-decoration-color: #008000\">'ra-386-june-18-1949'</span>, <span style=\"color: #008000; text-decoration-color: #008000\">'src_statute_id'</span>: <span style=\"color: #008000; text-decoration-color: #008000\">'bp-337-february-10-1983'</span><span style=\"font-weight: bold\">}</span>,\n",
       "    <span style=\"font-weight: bold\">{</span><span style=\"color: #008000; text-decoration-color: #008000\">'rf_id'</span>: <span style=\"color: #008000; text-decoration-color: #008000\">'ra-386-june-18-1949'</span>, <span style=\"color: #008000; text-decoration-color: #008000\">'src_statute_id'</span>: <span style=\"color: #008000; text-decoration-color: #008000\">'pd-1755-november-24-1980'</span><span style=\"font-weight: bold\">}</span>,\n",
       "    <span style=\"font-weight: bold\">{</span><span style=\"color: #008000; text-decoration-color: #008000\">'rf_id'</span>: <span style=\"color: #008000; text-decoration-color: #008000\">'ra-386-june-18-1949'</span>, <span style=\"color: #008000; text-decoration-color: #008000\">'src_statute_id'</span>: <span style=\"color: #008000; text-decoration-color: #008000\">'bp-70-may-01-1980'</span><span style=\"font-weight: bold\">}</span>,\n",
       "    <span style=\"font-weight: bold\">{</span><span style=\"color: #008000; text-decoration-color: #008000\">'rf_id'</span>: <span style=\"color: #008000; text-decoration-color: #008000\">'ra-386-june-18-1949'</span>, <span style=\"color: #008000; text-decoration-color: #008000\">'src_statute_id'</span>: <span style=\"color: #008000; text-decoration-color: #008000\">'bp-25-april-10-1979'</span><span style=\"font-weight: bold\">}</span>,\n",
       "    <span style=\"font-weight: bold\">{</span><span style=\"color: #008000; text-decoration-color: #008000\">'rf_id'</span>: <span style=\"color: #008000; text-decoration-color: #008000\">'ra-386-june-18-1949'</span>, <span style=\"color: #008000; text-decoration-color: #008000\">'src_statute_id'</span>: <span style=\"color: #008000; text-decoration-color: #008000\">'pd-1486-june-11-1978'</span><span style=\"font-weight: bold\">}</span>,\n",
       "    <span style=\"font-weight: bold\">{</span><span style=\"color: #008000; text-decoration-color: #008000\">'rf_id'</span>: <span style=\"color: #008000; text-decoration-color: #008000\">'ra-386-june-18-1949'</span>, <span style=\"color: #008000; text-decoration-color: #008000\">'src_statute_id'</span>: <span style=\"color: #008000; text-decoration-color: #008000\">'pd-1521-june-11-1978'</span><span style=\"font-weight: bold\">}</span>,\n",
       "    <span style=\"font-weight: bold\">{</span><span style=\"color: #008000; text-decoration-color: #008000\">'rf_id'</span>: <span style=\"color: #008000; text-decoration-color: #008000\">'ra-386-june-18-1949'</span>, <span style=\"color: #008000; text-decoration-color: #008000\">'src_statute_id'</span>: <span style=\"color: #008000; text-decoration-color: #008000\">'pd-1296-february-07-1978'</span><span style=\"font-weight: bold\">}</span>,\n",
       "    <span style=\"font-weight: bold\">{</span><span style=\"color: #008000; text-decoration-color: #008000\">'rf_id'</span>: <span style=\"color: #008000; text-decoration-color: #008000\">'ra-386-june-18-1949'</span>, <span style=\"color: #008000; text-decoration-color: #008000\">'src_statute_id'</span>: <span style=\"color: #008000; text-decoration-color: #008000\">'pd-1096-february-19-1977'</span><span style=\"font-weight: bold\">}</span>,\n",
       "    <span style=\"font-weight: bold\">{</span><span style=\"color: #008000; text-decoration-color: #008000\">'rf_id'</span>: <span style=\"color: #008000; text-decoration-color: #008000\">'ra-386-june-18-1949'</span>, <span style=\"color: #008000; text-decoration-color: #008000\">'src_statute_id'</span>: <span style=\"color: #008000; text-decoration-color: #008000\">'pd-1083-february-04-1977'</span><span style=\"font-weight: bold\">}</span>,\n",
       "    <span style=\"font-weight: bold\">{</span><span style=\"color: #008000; text-decoration-color: #008000\">'rf_id'</span>: <span style=\"color: #008000; text-decoration-color: #008000\">'ra-386-june-18-1949'</span>, <span style=\"color: #008000; text-decoration-color: #008000\">'src_statute_id'</span>: <span style=\"color: #008000; text-decoration-color: #008000\">'pd-1067-december-31-1976'</span><span style=\"font-weight: bold\">}</span>,\n",
       "    <span style=\"font-weight: bold\">{</span><span style=\"color: #008000; text-decoration-color: #008000\">'rf_id'</span>: <span style=\"color: #008000; text-decoration-color: #008000\">'ra-386-june-18-1949'</span>, <span style=\"color: #008000; text-decoration-color: #008000\">'src_statute_id'</span>: <span style=\"color: #008000; text-decoration-color: #008000\">'pd-856-december-23-1975'</span><span style=\"font-weight: bold\">}</span>,\n",
       "    <span style=\"font-weight: bold\">{</span><span style=\"color: #008000; text-decoration-color: #008000\">'rf_id'</span>: <span style=\"color: #008000; text-decoration-color: #008000\">'ra-386-june-18-1949'</span>, <span style=\"color: #008000; text-decoration-color: #008000\">'src_statute_id'</span>: <span style=\"color: #008000; text-decoration-color: #008000\">'pd-612-december-18-1974'</span><span style=\"font-weight: bold\">}</span>,\n",
       "    <span style=\"font-weight: bold\">{</span><span style=\"color: #008000; text-decoration-color: #008000\">'rf_id'</span>: <span style=\"color: #008000; text-decoration-color: #008000\">'ra-386-june-18-1949'</span>, <span style=\"color: #008000; text-decoration-color: #008000\">'src_statute_id'</span>: <span style=\"color: #008000; text-decoration-color: #008000\">'pd-603-december-10-1974'</span><span style=\"font-weight: bold\">}</span>,\n",
       "    <span style=\"font-weight: bold\">{</span><span style=\"color: #008000; text-decoration-color: #008000\">'rf_id'</span>: <span style=\"color: #008000; text-decoration-color: #008000\">'ra-386-june-18-1949'</span>, <span style=\"color: #008000; text-decoration-color: #008000\">'src_statute_id'</span>: <span style=\"color: #008000; text-decoration-color: #008000\">'pd-442-may-01-1974'</span><span style=\"font-weight: bold\">}</span>,\n",
       "    <span style=\"font-weight: bold\">{</span><span style=\"color: #008000; text-decoration-color: #008000\">'rf_id'</span>: <span style=\"color: #008000; text-decoration-color: #008000\">'ra-386-june-18-1949'</span>, <span style=\"color: #008000; text-decoration-color: #008000\">'src_statute_id'</span>: <span style=\"color: #008000; text-decoration-color: #008000\">'pd-49-november-14-1972'</span><span style=\"font-weight: bold\">}</span>,\n",
       "    <span style=\"font-weight: bold\">{</span><span style=\"color: #008000; text-decoration-color: #008000\">'rf_id'</span>: <span style=\"color: #008000; text-decoration-color: #008000\">'ra-386-june-18-1949'</span>, <span style=\"color: #008000; text-decoration-color: #008000\">'src_statute_id'</span>: <span style=\"color: #008000; text-decoration-color: #008000\">'pd-20-october-12-1972'</span><span style=\"font-weight: bold\">}</span>,\n",
       "    <span style=\"font-weight: bold\">{</span><span style=\"color: #008000; text-decoration-color: #008000\">'rf_id'</span>: <span style=\"color: #008000; text-decoration-color: #008000\">'ra-386-june-18-1949'</span>, <span style=\"color: #008000; text-decoration-color: #008000\">'src_statute_id'</span>: <span style=\"color: #008000; text-decoration-color: #008000\">'ra-6359-july-14-1971'</span><span style=\"font-weight: bold\">}</span>,\n",
       "    <span style=\"font-weight: bold\">{</span><span style=\"color: #008000; text-decoration-color: #008000\">'rf_id'</span>: <span style=\"color: #008000; text-decoration-color: #008000\">'ra-386-june-18-1949'</span>, <span style=\"color: #008000; text-decoration-color: #008000\">'src_statute_id'</span>: <span style=\"color: #008000; text-decoration-color: #008000\">'ra-5980-august-04-1969'</span><span style=\"font-weight: bold\">}</span>,\n",
       "    <span style=\"font-weight: bold\">{</span><span style=\"color: #008000; text-decoration-color: #008000\">'rf_id'</span>: <span style=\"color: #008000; text-decoration-color: #008000\">'ra-386-june-18-1949'</span>, <span style=\"color: #008000; text-decoration-color: #008000\">'src_statute_id'</span>: <span style=\"color: #008000; text-decoration-color: #008000\">'ra-4726-june-18-1966'</span><span style=\"font-weight: bold\">}</span>,\n",
       "    <span style=\"font-weight: bold\">{</span><span style=\"color: #008000; text-decoration-color: #008000\">'rf_id'</span>: <span style=\"color: #008000; text-decoration-color: #008000\">'ra-386-june-18-1949'</span>, <span style=\"color: #008000; text-decoration-color: #008000\">'src_statute_id'</span>: <span style=\"color: #008000; text-decoration-color: #008000\">'ra-3931-june-18-1964'</span><span style=\"font-weight: bold\">}</span>,\n",
       "    <span style=\"font-weight: bold\">{</span><span style=\"color: #008000; text-decoration-color: #008000\">'rf_id'</span>: <span style=\"color: #008000; text-decoration-color: #008000\">'ra-386-june-18-1949'</span>, <span style=\"color: #008000; text-decoration-color: #008000\">'src_statute_id'</span>: <span style=\"color: #008000; text-decoration-color: #008000\">'roc-1964-january-01-1964'</span><span style=\"font-weight: bold\">}</span>,\n",
       "    <span style=\"font-weight: bold\">{</span><span style=\"color: #008000; text-decoration-color: #008000\">'rf_id'</span>: <span style=\"color: #008000; text-decoration-color: #008000\">'ra-386-june-18-1949'</span>, <span style=\"color: #008000; text-decoration-color: #008000\">'src_statute_id'</span>: <span style=\"color: #008000; text-decoration-color: #008000\">'ra-1401-september-09-1955'</span><span style=\"font-weight: bold\">}</span>,\n",
       "    <span style=\"font-weight: bold\">{</span><span style=\"color: #008000; text-decoration-color: #008000\">'rf_id'</span>: <span style=\"color: #008000; text-decoration-color: #008000\">'ra-386-june-18-1949'</span>, <span style=\"color: #008000; text-decoration-color: #008000\">'src_statute_id'</span>: <span style=\"color: #008000; text-decoration-color: #008000\">'ra-876-june-19-1953'</span><span style=\"font-weight: bold\">}</span>,\n",
       "    <span style=\"font-weight: bold\">{</span><span style=\"color: #008000; text-decoration-color: #008000\">'rf_id'</span>: <span style=\"color: #008000; text-decoration-color: #008000\">'ra-386-june-18-1949'</span>, <span style=\"color: #008000; text-decoration-color: #008000\">'src_statute_id'</span>: <span style=\"color: #008000; text-decoration-color: #008000\">'ra-772-june-20-1952'</span><span style=\"font-weight: bold\">}</span>,\n",
       "    <span style=\"font-weight: bold\">{</span><span style=\"color: #008000; text-decoration-color: #008000\">'rf_id'</span>: <span style=\"color: #008000; text-decoration-color: #008000\">'ra-386-june-18-1949'</span>, <span style=\"color: #008000; text-decoration-color: #008000\">'src_statute_id'</span>: <span style=\"color: #008000; text-decoration-color: #008000\">'ra-610-may-04-1951'</span><span style=\"font-weight: bold\">}</span>\n",
       "<span style=\"font-weight: bold\">]</span>\n",
       "</pre>\n"
      ],
      "text/plain": [
       "\n",
       "\u001b[1m[\u001b[0m\n",
       "    \u001b[1m{\u001b[0m\u001b[32m'rf_id'\u001b[0m: \u001b[32m'ra-386-june-18-1949'\u001b[0m, \u001b[32m'src_statute_id'\u001b[0m: \u001b[32m'rule-am-19-10-20-sc-october-15-2019'\u001b[0m\u001b[1m}\u001b[0m,\n",
       "    \u001b[1m{\u001b[0m\u001b[32m'rf_id'\u001b[0m: \u001b[32m'ra-386-june-18-1949'\u001b[0m, \u001b[32m'src_statute_id'\u001b[0m: \u001b[32m'ra-11222-february-21-2019'\u001b[0m\u001b[1m}\u001b[0m,\n",
       "    \u001b[1m{\u001b[0m\u001b[32m'rf_id'\u001b[0m: \u001b[32m'ra-386-june-18-1949'\u001b[0m, \u001b[32m'src_statute_id'\u001b[0m: \u001b[32m'ra-11057-august-17-2018'\u001b[0m\u001b[1m}\u001b[0m,\n",
       "    \u001b[1m{\u001b[0m\u001b[32m'rf_id'\u001b[0m: \u001b[32m'ra-386-june-18-1949'\u001b[0m, \u001b[32m'src_statute_id'\u001b[0m: \u001b[32m'ra-10846-may-23-2016'\u001b[0m\u001b[1m}\u001b[0m,\n",
       "    \u001b[1m{\u001b[0m\u001b[32m'rf_id'\u001b[0m: \u001b[32m'ra-386-june-18-1949'\u001b[0m, \u001b[32m'src_statute_id'\u001b[0m: \u001b[32m'rule-am-12-12-11-sc-august-27-2013'\u001b[0m\u001b[1m}\u001b[0m,\n",
       "    \u001b[1m{\u001b[0m\u001b[32m'rf_id'\u001b[0m: \u001b[32m'ra-386-june-18-1949'\u001b[0m, \u001b[32m'src_statute_id'\u001b[0m: \u001b[32m'ra-10607-august-15-2013'\u001b[0m\u001b[1m}\u001b[0m,\n",
       "    \u001b[1m{\u001b[0m\u001b[32m'rf_id'\u001b[0m: \u001b[32m'ra-386-june-18-1949'\u001b[0m, \u001b[32m'src_statute_id'\u001b[0m: \u001b[32m'ra-10142-july-18-2010'\u001b[0m\u001b[1m}\u001b[0m,\n",
       "    \u001b[1m{\u001b[0m\u001b[32m'rf_id'\u001b[0m: \u001b[32m'ra-386-june-18-1949'\u001b[0m, \u001b[32m'src_statute_id'\u001b[0m: \u001b[32m'ra-10066-march-26-2010'\u001b[0m\u001b[1m}\u001b[0m,\n",
       "    \u001b[1m{\u001b[0m\u001b[32m'rf_id'\u001b[0m: \u001b[32m'ra-386-june-18-1949'\u001b[0m, \u001b[32m'src_statute_id'\u001b[0m: \u001b[32m'ra-9904-january-07-2010'\u001b[0m\u001b[1m}\u001b[0m,\n",
       "    \u001b[1m{\u001b[0m\u001b[32m'rf_id'\u001b[0m: \u001b[32m'ra-386-june-18-1949'\u001b[0m, \u001b[32m'src_statute_id'\u001b[0m: \u001b[32m'ra-9407-march-24-2007'\u001b[0m\u001b[1m}\u001b[0m,\n",
       "    \u001b[1m{\u001b[0m\u001b[32m'rf_id'\u001b[0m: \u001b[32m'ra-386-june-18-1949'\u001b[0m, \u001b[32m'src_statute_id'\u001b[0m: \u001b[32m'ra-9355-october-02-2006'\u001b[0m\u001b[1m}\u001b[0m,\n",
       "    \u001b[1m{\u001b[0m\u001b[32m'rf_id'\u001b[0m: \u001b[32m'ra-386-june-18-1949'\u001b[0m, \u001b[32m'src_statute_id'\u001b[0m: \u001b[32m'ra-9184-january-10-2003'\u001b[0m\u001b[1m}\u001b[0m,\n",
       "    \u001b[1m{\u001b[0m\u001b[32m'rf_id'\u001b[0m: \u001b[32m'ra-386-june-18-1949'\u001b[0m, \u001b[32m'src_statute_id'\u001b[0m: \u001b[32m'ra-9182-december-23-2002'\u001b[0m\u001b[1m}\u001b[0m,\n",
       "    \u001b[1m{\u001b[0m\u001b[32m'rf_id'\u001b[0m: \u001b[32m'ra-386-june-18-1949'\u001b[0m, \u001b[32m'src_statute_id'\u001b[0m: \u001b[32m'rule-am-02-6-02-sc-august-2-2002'\u001b[0m\u001b[1m}\u001b[0m,\n",
       "    \u001b[1m{\u001b[0m\u001b[32m'rf_id'\u001b[0m: \u001b[32m'ra-386-june-18-1949'\u001b[0m, \u001b[32m'src_statute_id'\u001b[0m: \u001b[32m'ra-9165-june-07-2002'\u001b[0m\u001b[1m}\u001b[0m,\n",
       "    \u001b[1m{\u001b[0m\u001b[32m'rf_id'\u001b[0m: \u001b[32m'ra-386-june-18-1949'\u001b[0m, \u001b[32m'src_statute_id'\u001b[0m: \u001b[32m'ra-9160-september-29-2001'\u001b[0m\u001b[1m}\u001b[0m,\n",
       "    \u001b[1m{\u001b[0m\u001b[32m'rf_id'\u001b[0m: \u001b[32m'ra-386-june-18-1949'\u001b[0m, \u001b[32m'src_statute_id'\u001b[0m: \u001b[32m'ra-9048-march-22-2001'\u001b[0m\u001b[1m}\u001b[0m,\n",
       "    \u001b[1m{\u001b[0m\u001b[32m'rf_id'\u001b[0m: \u001b[32m'ra-386-june-18-1949'\u001b[0m, \u001b[32m'src_statute_id'\u001b[0m: \u001b[32m'rule-am-00-5-03-sc-1-october-03-2000-1'\u001b[0m\u001b[1m}\u001b[0m,\n",
       "    \u001b[1m{\u001b[0m\u001b[32m'rf_id'\u001b[0m: \u001b[32m'ra-386-june-18-1949'\u001b[0m, \u001b[32m'src_statute_id'\u001b[0m: \u001b[32m'ra-8799-july-19-2000'\u001b[0m\u001b[1m}\u001b[0m,\n",
       "    \u001b[1m{\u001b[0m\u001b[32m'rf_id'\u001b[0m: \u001b[32m'ra-386-june-18-1949'\u001b[0m, \u001b[32m'src_statute_id'\u001b[0m: \u001b[32m'ra-8749-june-23-1999'\u001b[0m\u001b[1m}\u001b[0m,\n",
       "    \u001b[1m{\u001b[0m\u001b[32m'rf_id'\u001b[0m: \u001b[32m'ra-386-june-18-1949'\u001b[0m, \u001b[32m'src_statute_id'\u001b[0m: \u001b[32m'ra-8552-february-25-1998'\u001b[0m\u001b[1m}\u001b[0m,\n",
       "    \u001b[1m{\u001b[0m\u001b[32m'rf_id'\u001b[0m: \u001b[32m'ra-386-june-18-1949'\u001b[0m, \u001b[32m'src_statute_id'\u001b[0m: \u001b[32m'ra-8508-february-13-1998'\u001b[0m\u001b[1m}\u001b[0m,\n",
       "    \u001b[1m{\u001b[0m\u001b[32m'rf_id'\u001b[0m: \u001b[32m'ra-386-june-18-1949'\u001b[0m, \u001b[32m'src_statute_id'\u001b[0m: \u001b[32m'ra-8371-october-29-1997'\u001b[0m\u001b[1m}\u001b[0m,\n",
       "    \u001b[1m{\u001b[0m\u001b[32m'rf_id'\u001b[0m: \u001b[32m'ra-386-june-18-1949'\u001b[0m, \u001b[32m'src_statute_id'\u001b[0m: \u001b[32m'ra-8293-june-06-1997'\u001b[0m\u001b[1m}\u001b[0m,\n",
       "    \u001b[1m{\u001b[0m\u001b[32m'rf_id'\u001b[0m: \u001b[32m'ra-386-june-18-1949'\u001b[0m, \u001b[32m'src_statute_id'\u001b[0m: \u001b[32m'rule-bm-803-april-08-1997'\u001b[0m\u001b[1m}\u001b[0m,\n",
       "    \u001b[1m{\u001b[0m\u001b[32m'rf_id'\u001b[0m: \u001b[32m'ra-386-june-18-1949'\u001b[0m, \u001b[32m'src_statute_id'\u001b[0m: \u001b[32m'ra-8041-june-07-1995'\u001b[0m\u001b[1m}\u001b[0m,\n",
       "    \u001b[1m{\u001b[0m\u001b[32m'rf_id'\u001b[0m: \u001b[32m'ra-386-june-18-1949'\u001b[0m, \u001b[32m'src_statute_id'\u001b[0m: \u001b[32m'ra-7653-june-14-1993'\u001b[0m\u001b[1m}\u001b[0m,\n",
       "    \u001b[1m{\u001b[0m\u001b[32m'rf_id'\u001b[0m: \u001b[32m'ra-386-june-18-1949'\u001b[0m, \u001b[32m'src_statute_id'\u001b[0m: \u001b[32m'ra-7394-april-13-1992'\u001b[0m\u001b[1m}\u001b[0m,\n",
       "    \u001b[1m{\u001b[0m\u001b[32m'rf_id'\u001b[0m: \u001b[32m'ra-386-june-18-1949'\u001b[0m, \u001b[32m'src_statute_id'\u001b[0m: \u001b[32m'ra-7192-january-12-1992'\u001b[0m\u001b[1m}\u001b[0m,\n",
       "    \u001b[1m{\u001b[0m\u001b[32m'rf_id'\u001b[0m: \u001b[32m'ra-386-june-18-1949'\u001b[0m, \u001b[32m'src_statute_id'\u001b[0m: \u001b[32m'ra-7160-october-10-1991'\u001b[0m\u001b[1m}\u001b[0m,\n",
       "    \u001b[1m{\u001b[0m\u001b[32m'rf_id'\u001b[0m: \u001b[32m'ra-386-june-18-1949'\u001b[0m, \u001b[32m'src_statute_id'\u001b[0m: \u001b[32m'ra-6809-december-13-1989'\u001b[0m\u001b[1m}\u001b[0m,\n",
       "    \u001b[1m{\u001b[0m\u001b[32m'rf_id'\u001b[0m: \u001b[32m'ra-386-june-18-1949'\u001b[0m, \u001b[32m'src_statute_id'\u001b[0m: \u001b[32m'eo-209-july-06-1987'\u001b[0m\u001b[1m}\u001b[0m,\n",
       "    \u001b[1m{\u001b[0m\u001b[32m'rf_id'\u001b[0m: \u001b[32m'ra-386-june-18-1949'\u001b[0m, \u001b[32m'src_statute_id'\u001b[0m: \u001b[32m'eo-200-june-18-1987'\u001b[0m\u001b[1m}\u001b[0m,\n",
       "    \u001b[1m{\u001b[0m\u001b[32m'rf_id'\u001b[0m: \u001b[32m'ra-386-june-18-1949'\u001b[0m, \u001b[32m'src_statute_id'\u001b[0m: \u001b[32m'eo-14-may-07-1986'\u001b[0m\u001b[1m}\u001b[0m,\n",
       "    \u001b[1m{\u001b[0m\u001b[32m'rf_id'\u001b[0m: \u001b[32m'ra-386-june-18-1949'\u001b[0m, \u001b[32m'src_statute_id'\u001b[0m: \u001b[32m'bp-877-june-12-1985'\u001b[0m\u001b[1m}\u001b[0m,\n",
       "    \u001b[1m{\u001b[0m\u001b[32m'rf_id'\u001b[0m: \u001b[32m'ra-386-june-18-1949'\u001b[0m, \u001b[32m'src_statute_id'\u001b[0m: \u001b[32m'bp-337-february-10-1983'\u001b[0m\u001b[1m}\u001b[0m,\n",
       "    \u001b[1m{\u001b[0m\u001b[32m'rf_id'\u001b[0m: \u001b[32m'ra-386-june-18-1949'\u001b[0m, \u001b[32m'src_statute_id'\u001b[0m: \u001b[32m'pd-1755-november-24-1980'\u001b[0m\u001b[1m}\u001b[0m,\n",
       "    \u001b[1m{\u001b[0m\u001b[32m'rf_id'\u001b[0m: \u001b[32m'ra-386-june-18-1949'\u001b[0m, \u001b[32m'src_statute_id'\u001b[0m: \u001b[32m'bp-70-may-01-1980'\u001b[0m\u001b[1m}\u001b[0m,\n",
       "    \u001b[1m{\u001b[0m\u001b[32m'rf_id'\u001b[0m: \u001b[32m'ra-386-june-18-1949'\u001b[0m, \u001b[32m'src_statute_id'\u001b[0m: \u001b[32m'bp-25-april-10-1979'\u001b[0m\u001b[1m}\u001b[0m,\n",
       "    \u001b[1m{\u001b[0m\u001b[32m'rf_id'\u001b[0m: \u001b[32m'ra-386-june-18-1949'\u001b[0m, \u001b[32m'src_statute_id'\u001b[0m: \u001b[32m'pd-1486-june-11-1978'\u001b[0m\u001b[1m}\u001b[0m,\n",
       "    \u001b[1m{\u001b[0m\u001b[32m'rf_id'\u001b[0m: \u001b[32m'ra-386-june-18-1949'\u001b[0m, \u001b[32m'src_statute_id'\u001b[0m: \u001b[32m'pd-1521-june-11-1978'\u001b[0m\u001b[1m}\u001b[0m,\n",
       "    \u001b[1m{\u001b[0m\u001b[32m'rf_id'\u001b[0m: \u001b[32m'ra-386-june-18-1949'\u001b[0m, \u001b[32m'src_statute_id'\u001b[0m: \u001b[32m'pd-1296-february-07-1978'\u001b[0m\u001b[1m}\u001b[0m,\n",
       "    \u001b[1m{\u001b[0m\u001b[32m'rf_id'\u001b[0m: \u001b[32m'ra-386-june-18-1949'\u001b[0m, \u001b[32m'src_statute_id'\u001b[0m: \u001b[32m'pd-1096-february-19-1977'\u001b[0m\u001b[1m}\u001b[0m,\n",
       "    \u001b[1m{\u001b[0m\u001b[32m'rf_id'\u001b[0m: \u001b[32m'ra-386-june-18-1949'\u001b[0m, \u001b[32m'src_statute_id'\u001b[0m: \u001b[32m'pd-1083-february-04-1977'\u001b[0m\u001b[1m}\u001b[0m,\n",
       "    \u001b[1m{\u001b[0m\u001b[32m'rf_id'\u001b[0m: \u001b[32m'ra-386-june-18-1949'\u001b[0m, \u001b[32m'src_statute_id'\u001b[0m: \u001b[32m'pd-1067-december-31-1976'\u001b[0m\u001b[1m}\u001b[0m,\n",
       "    \u001b[1m{\u001b[0m\u001b[32m'rf_id'\u001b[0m: \u001b[32m'ra-386-june-18-1949'\u001b[0m, \u001b[32m'src_statute_id'\u001b[0m: \u001b[32m'pd-856-december-23-1975'\u001b[0m\u001b[1m}\u001b[0m,\n",
       "    \u001b[1m{\u001b[0m\u001b[32m'rf_id'\u001b[0m: \u001b[32m'ra-386-june-18-1949'\u001b[0m, \u001b[32m'src_statute_id'\u001b[0m: \u001b[32m'pd-612-december-18-1974'\u001b[0m\u001b[1m}\u001b[0m,\n",
       "    \u001b[1m{\u001b[0m\u001b[32m'rf_id'\u001b[0m: \u001b[32m'ra-386-june-18-1949'\u001b[0m, \u001b[32m'src_statute_id'\u001b[0m: \u001b[32m'pd-603-december-10-1974'\u001b[0m\u001b[1m}\u001b[0m,\n",
       "    \u001b[1m{\u001b[0m\u001b[32m'rf_id'\u001b[0m: \u001b[32m'ra-386-june-18-1949'\u001b[0m, \u001b[32m'src_statute_id'\u001b[0m: \u001b[32m'pd-442-may-01-1974'\u001b[0m\u001b[1m}\u001b[0m,\n",
       "    \u001b[1m{\u001b[0m\u001b[32m'rf_id'\u001b[0m: \u001b[32m'ra-386-june-18-1949'\u001b[0m, \u001b[32m'src_statute_id'\u001b[0m: \u001b[32m'pd-49-november-14-1972'\u001b[0m\u001b[1m}\u001b[0m,\n",
       "    \u001b[1m{\u001b[0m\u001b[32m'rf_id'\u001b[0m: \u001b[32m'ra-386-june-18-1949'\u001b[0m, \u001b[32m'src_statute_id'\u001b[0m: \u001b[32m'pd-20-october-12-1972'\u001b[0m\u001b[1m}\u001b[0m,\n",
       "    \u001b[1m{\u001b[0m\u001b[32m'rf_id'\u001b[0m: \u001b[32m'ra-386-june-18-1949'\u001b[0m, \u001b[32m'src_statute_id'\u001b[0m: \u001b[32m'ra-6359-july-14-1971'\u001b[0m\u001b[1m}\u001b[0m,\n",
       "    \u001b[1m{\u001b[0m\u001b[32m'rf_id'\u001b[0m: \u001b[32m'ra-386-june-18-1949'\u001b[0m, \u001b[32m'src_statute_id'\u001b[0m: \u001b[32m'ra-5980-august-04-1969'\u001b[0m\u001b[1m}\u001b[0m,\n",
       "    \u001b[1m{\u001b[0m\u001b[32m'rf_id'\u001b[0m: \u001b[32m'ra-386-june-18-1949'\u001b[0m, \u001b[32m'src_statute_id'\u001b[0m: \u001b[32m'ra-4726-june-18-1966'\u001b[0m\u001b[1m}\u001b[0m,\n",
       "    \u001b[1m{\u001b[0m\u001b[32m'rf_id'\u001b[0m: \u001b[32m'ra-386-june-18-1949'\u001b[0m, \u001b[32m'src_statute_id'\u001b[0m: \u001b[32m'ra-3931-june-18-1964'\u001b[0m\u001b[1m}\u001b[0m,\n",
       "    \u001b[1m{\u001b[0m\u001b[32m'rf_id'\u001b[0m: \u001b[32m'ra-386-june-18-1949'\u001b[0m, \u001b[32m'src_statute_id'\u001b[0m: \u001b[32m'roc-1964-january-01-1964'\u001b[0m\u001b[1m}\u001b[0m,\n",
       "    \u001b[1m{\u001b[0m\u001b[32m'rf_id'\u001b[0m: \u001b[32m'ra-386-june-18-1949'\u001b[0m, \u001b[32m'src_statute_id'\u001b[0m: \u001b[32m'ra-1401-september-09-1955'\u001b[0m\u001b[1m}\u001b[0m,\n",
       "    \u001b[1m{\u001b[0m\u001b[32m'rf_id'\u001b[0m: \u001b[32m'ra-386-june-18-1949'\u001b[0m, \u001b[32m'src_statute_id'\u001b[0m: \u001b[32m'ra-876-june-19-1953'\u001b[0m\u001b[1m}\u001b[0m,\n",
       "    \u001b[1m{\u001b[0m\u001b[32m'rf_id'\u001b[0m: \u001b[32m'ra-386-june-18-1949'\u001b[0m, \u001b[32m'src_statute_id'\u001b[0m: \u001b[32m'ra-772-june-20-1952'\u001b[0m\u001b[1m}\u001b[0m,\n",
       "    \u001b[1m{\u001b[0m\u001b[32m'rf_id'\u001b[0m: \u001b[32m'ra-386-june-18-1949'\u001b[0m, \u001b[32m'src_statute_id'\u001b[0m: \u001b[32m'ra-610-may-04-1951'\u001b[0m\u001b[1m}\u001b[0m\n",
       "\u001b[1m]\u001b[0m\n"
      ]
     },
     "metadata": {},
     "output_type": "display_data"
    }
   ],
   "source": [
    "civ_code_id = 'ra-386-june-18-1949'\n",
    "# These are statutes that reference the civil code ordered by the most recent referrer (src)\n",
    "tbl = c.db[\"view_src_ref_mp_list\"]\n",
    "list(tbl.rows_where(\"rf_id = ?\", (civ_code_id,), select=\"rf_id, src_statute_id\"))"
   ]
  }
 ],
 "metadata": {
  "kernelspec": {
   "display_name": "Python 3.11.0 ('.venv': poetry)",
   "language": "python",
   "name": "python3"
  },
  "language_info": {
   "codemirror_mode": {
    "name": "ipython",
    "version": 3
   },
   "file_extension": ".py",
   "mimetype": "text/x-python",
   "name": "python",
   "nbconvert_exporter": "python",
   "pygments_lexer": "ipython3",
   "version": "3.11.0 (main, Nov  1 2022, 21:56:32) [Clang 14.0.0 (clang-1400.0.29.202)]"
  },
  "orig_nbformat": 4,
  "vscode": {
   "interpreter": {
    "hash": "f64842d3af6374b09eb9796b9cace4dfa027b5166849e320c3f954ad57a9beb0"
   }
  }
 },
 "nbformat": 4,
 "nbformat_minor": 2
}
