{
 "cells": [
  {
   "cell_type": "code",
   "execution_count": 1,
   "metadata": {},
   "outputs": [],
   "source": [
    "%load_ext rich\n",
    "from sqlpyd import Connection\n",
    "from corpus_x.__main__ import get_codification, get_statute, get_decision\n",
    "c = Connection(DatabasePath=\"x.db\", WAL=True) # type: ignore"
   ]
  },
  {
   "cell_type": "code",
   "execution_count": 2,
   "metadata": {},
   "outputs": [],
   "source": [
    "code_pk = \"mv-2022-bp-129-judiciary-reorganization-act-v1\"\n",
    "xx = get_codification(c, code_pk)"
   ]
  },
  {
   "cell_type": "code",
   "execution_count": 3,
   "metadata": {},
   "outputs": [
    {
     "data": {
      "text/html": [
       "<pre style=\"white-space:pre;overflow-x:auto;line-height:normal;font-family:Menlo,'DejaVu Sans Mono',consolas,'Courier New',monospace\">\n",
       "<span style=\"font-weight: bold\">[</span>\n",
       "    <span style=\"font-weight: bold\">{</span>\n",
       "        <span style=\"color: #008000; text-decoration-color: #008000\">'statute_category'</span>: <span style=\"color: #008000; text-decoration-color: #008000\">'bp'</span>,\n",
       "        <span style=\"color: #008000; text-decoration-color: #008000\">'statute_serial_id'</span>: <span style=\"color: #008000; text-decoration-color: #008000\">'129'</span>,\n",
       "        <span style=\"color: #008000; text-decoration-color: #008000\">'locator'</span>: <span style=\"color: #008000; text-decoration-color: #008000\">'Section 42'</span>,\n",
       "        <span style=\"color: #008000; text-decoration-color: #008000\">'statute'</span>: <span style=\"color: #008000; text-decoration-color: #008000\">'Batas Pambansa Blg. 129'</span>,\n",
       "        <span style=\"color: #008000; text-decoration-color: #008000\">'action'</span>: <span style=\"color: #008000; text-decoration-color: #008000\">'Originated'</span>\n",
       "    <span style=\"font-weight: bold\">}</span>,\n",
       "    <span style=\"font-weight: bold\">{</span>\n",
       "        <span style=\"color: #008000; text-decoration-color: #008000\">'statute_category'</span>: <span style=\"color: #008000; text-decoration-color: #008000\">'ra'</span>,\n",
       "        <span style=\"color: #008000; text-decoration-color: #008000\">'statute_serial_id'</span>: <span style=\"color: #008000; text-decoration-color: #008000\">'11459'</span>,\n",
       "        <span style=\"color: #008000; text-decoration-color: #008000\">'locator'</span>: <span style=\"color: #008000; text-decoration-color: #008000\">'Section 42'</span>,\n",
       "        <span style=\"color: #008000; text-decoration-color: #008000\">'statute'</span>: <span style=\"color: #008000; text-decoration-color: #008000\">'Republic Act No. 11459'</span>,\n",
       "        <span style=\"color: #008000; text-decoration-color: #008000\">'action'</span>: <span style=\"color: #008000; text-decoration-color: #008000\">'Amended'</span>\n",
       "    <span style=\"font-weight: bold\">}</span>\n",
       "<span style=\"font-weight: bold\">]</span>\n",
       "</pre>\n"
      ],
      "text/plain": [
       "\n",
       "\u001b[1m[\u001b[0m\n",
       "    \u001b[1m{\u001b[0m\n",
       "        \u001b[32m'statute_category'\u001b[0m: \u001b[32m'bp'\u001b[0m,\n",
       "        \u001b[32m'statute_serial_id'\u001b[0m: \u001b[32m'129'\u001b[0m,\n",
       "        \u001b[32m'locator'\u001b[0m: \u001b[32m'Section 42'\u001b[0m,\n",
       "        \u001b[32m'statute'\u001b[0m: \u001b[32m'Batas Pambansa Blg. 129'\u001b[0m,\n",
       "        \u001b[32m'action'\u001b[0m: \u001b[32m'Originated'\u001b[0m\n",
       "    \u001b[1m}\u001b[0m,\n",
       "    \u001b[1m{\u001b[0m\n",
       "        \u001b[32m'statute_category'\u001b[0m: \u001b[32m'ra'\u001b[0m,\n",
       "        \u001b[32m'statute_serial_id'\u001b[0m: \u001b[32m'11459'\u001b[0m,\n",
       "        \u001b[32m'locator'\u001b[0m: \u001b[32m'Section 42'\u001b[0m,\n",
       "        \u001b[32m'statute'\u001b[0m: \u001b[32m'Republic Act No. 11459'\u001b[0m,\n",
       "        \u001b[32m'action'\u001b[0m: \u001b[32m'Amended'\u001b[0m\n",
       "    \u001b[1m}\u001b[0m\n",
       "\u001b[1m]\u001b[0m\n"
      ]
     },
     "metadata": {},
     "output_type": "display_data"
    }
   ],
   "source": [
    "from statute_trees.utils import fetch_values_from_key\n",
    "list(fetch_values_from_key(xx['units'][0], 'history'))[0]\n"
   ]
  },
  {
   "cell_type": "code",
   "execution_count": 4,
   "metadata": {},
   "outputs": [
    {
     "data": {
      "text/html": [
       "<pre style=\"white-space:pre;overflow-x:auto;line-height:normal;font-family:Menlo,'DejaVu Sans Mono',consolas,'Courier New',monospace\">Added ra-<span style=\"color: #008080; text-decoration-color: #008080; font-weight: bold\">7902</span>-february-<span style=\"color: #008080; text-decoration-color: #008080; font-weight: bold\">23</span>-<span style=\"color: #008080; text-decoration-color: #008080; font-weight: bold\">1995</span>\n",
       "</pre>\n"
      ],
      "text/plain": [
       "Added ra-\u001b[1;36m7902\u001b[0m-february-\u001b[1;36m23\u001b[0m-\u001b[1;36m1995\u001b[0m\n"
      ]
     },
     "metadata": {},
     "output_type": "display_data"
    },
    {
     "data": {
      "text/html": [
       "<pre style=\"white-space:pre;overflow-x:auto;line-height:normal;font-family:Menlo,'DejaVu Sans Mono',consolas,'Courier New',monospace\">Added <span style=\"color: #008080; text-decoration-color: #008080; font-weight: bold\">1.1</span>.<span style=\"color: #008080; text-decoration-color: #008080; font-weight: bold\">1</span>.\n",
       "</pre>\n"
      ],
      "text/plain": [
       "Added \u001b[1;36m1.1\u001b[0m.\u001b[1;36m1\u001b[0m.\n"
      ]
     },
     "metadata": {},
     "output_type": "display_data"
    },
    {
     "data": {
      "text/html": [
       "<pre style=\"white-space:pre;overflow-x:auto;line-height:normal;font-family:Menlo,'DejaVu Sans Mono',consolas,'Courier New',monospace\">Added ra-<span style=\"color: #008080; text-decoration-color: #008080; font-weight: bold\">7472</span>-may-<span style=\"color: #008080; text-decoration-color: #008080; font-weight: bold\">05</span>-<span style=\"color: #008080; text-decoration-color: #008080; font-weight: bold\">1992</span>\n",
       "</pre>\n"
      ],
      "text/plain": [
       "Added ra-\u001b[1;36m7472\u001b[0m-may-\u001b[1;36m05\u001b[0m-\u001b[1;36m1992\u001b[0m\n"
      ]
     },
     "metadata": {},
     "output_type": "display_data"
    },
    {
     "data": {
      "text/html": [
       "<pre style=\"white-space:pre;overflow-x:auto;line-height:normal;font-family:Menlo,'DejaVu Sans Mono',consolas,'Courier New',monospace\">Added <span style=\"color: #008080; text-decoration-color: #008080; font-weight: bold\">1.1</span>.<span style=\"color: #008080; text-decoration-color: #008080; font-weight: bold\">1</span>.\n",
       "</pre>\n"
      ],
      "text/plain": [
       "Added \u001b[1;36m1.1\u001b[0m.\u001b[1;36m1\u001b[0m.\n"
      ]
     },
     "metadata": {},
     "output_type": "display_data"
    },
    {
     "data": {
      "text/html": [
       "<pre style=\"white-space:pre;overflow-x:auto;line-height:normal;font-family:Menlo,'DejaVu Sans Mono',consolas,'Courier New',monospace\">Added ra-<span style=\"color: #008080; text-decoration-color: #008080; font-weight: bold\">10567</span>-may-<span style=\"color: #008080; text-decoration-color: #008080; font-weight: bold\">22</span>-<span style=\"color: #008080; text-decoration-color: #008080; font-weight: bold\">2013</span>\n",
       "</pre>\n"
      ],
      "text/plain": [
       "Added ra-\u001b[1;36m10567\u001b[0m-may-\u001b[1;36m22\u001b[0m-\u001b[1;36m2013\u001b[0m\n"
      ]
     },
     "metadata": {},
     "output_type": "display_data"
    },
    {
     "data": {
      "text/html": [
       "<pre style=\"white-space:pre;overflow-x:auto;line-height:normal;font-family:Menlo,'DejaVu Sans Mono',consolas,'Courier New',monospace\">Added <span style=\"color: #008080; text-decoration-color: #008080; font-weight: bold\">1.1</span>.\n",
       "</pre>\n"
      ],
      "text/plain": [
       "Added \u001b[1;36m1.1\u001b[0m.\n"
      ]
     },
     "metadata": {},
     "output_type": "display_data"
    },
    {
     "data": {
      "text/html": [
       "<pre style=\"white-space:pre;overflow-x:auto;line-height:normal;font-family:Menlo,'DejaVu Sans Mono',consolas,'Courier New',monospace\">Added ra-<span style=\"color: #008080; text-decoration-color: #008080; font-weight: bold\">10710</span>-december-<span style=\"color: #008080; text-decoration-color: #008080; font-weight: bold\">09</span>-<span style=\"color: #008080; text-decoration-color: #008080; font-weight: bold\">2015</span>\n",
       "</pre>\n"
      ],
      "text/plain": [
       "Added ra-\u001b[1;36m10710\u001b[0m-december-\u001b[1;36m09\u001b[0m-\u001b[1;36m2015\u001b[0m\n"
      ]
     },
     "metadata": {},
     "output_type": "display_data"
    },
    {
     "data": {
      "text/html": [
       "<pre style=\"white-space:pre;overflow-x:auto;line-height:normal;font-family:Menlo,'DejaVu Sans Mono',consolas,'Courier New',monospace\">Added <span style=\"color: #008080; text-decoration-color: #008080; font-weight: bold\">1.1</span>.\n",
       "</pre>\n"
      ],
      "text/plain": [
       "Added \u001b[1;36m1.1\u001b[0m.\n"
      ]
     },
     "metadata": {},
     "output_type": "display_data"
    },
    {
     "data": {
      "text/html": [
       "<pre style=\"white-space:pre;overflow-x:auto;line-height:normal;font-family:Menlo,'DejaVu Sans Mono',consolas,'Courier New',monospace\">Added ra-<span style=\"color: #008080; text-decoration-color: #008080; font-weight: bold\">10714</span>-december-<span style=\"color: #008080; text-decoration-color: #008080; font-weight: bold\">09</span>-<span style=\"color: #008080; text-decoration-color: #008080; font-weight: bold\">2015</span>\n",
       "</pre>\n"
      ],
      "text/plain": [
       "Added ra-\u001b[1;36m10714\u001b[0m-december-\u001b[1;36m09\u001b[0m-\u001b[1;36m2015\u001b[0m\n"
      ]
     },
     "metadata": {},
     "output_type": "display_data"
    },
    {
     "data": {
      "text/html": [
       "<pre style=\"white-space:pre;overflow-x:auto;line-height:normal;font-family:Menlo,'DejaVu Sans Mono',consolas,'Courier New',monospace\">Added <span style=\"color: #008080; text-decoration-color: #008080; font-weight: bold\">1.1</span>.\n",
       "</pre>\n"
      ],
      "text/plain": [
       "Added \u001b[1;36m1.1\u001b[0m.\n"
      ]
     },
     "metadata": {},
     "output_type": "display_data"
    },
    {
     "data": {
      "text/html": [
       "<pre style=\"white-space:pre;overflow-x:auto;line-height:normal;font-family:Menlo,'DejaVu Sans Mono',consolas,'Courier New',monospace\">Added ra-<span style=\"color: #008080; text-decoration-color: #008080; font-weight: bold\">11381</span>-august-<span style=\"color: #008080; text-decoration-color: #008080; font-weight: bold\">22</span>-<span style=\"color: #008080; text-decoration-color: #008080; font-weight: bold\">2019</span>\n",
       "</pre>\n"
      ],
      "text/plain": [
       "Added ra-\u001b[1;36m11381\u001b[0m-august-\u001b[1;36m22\u001b[0m-\u001b[1;36m2019\u001b[0m\n"
      ]
     },
     "metadata": {},
     "output_type": "display_data"
    },
    {
     "data": {
      "text/html": [
       "<pre style=\"white-space:pre;overflow-x:auto;line-height:normal;font-family:Menlo,'DejaVu Sans Mono',consolas,'Courier New',monospace\">Added <span style=\"color: #008080; text-decoration-color: #008080; font-weight: bold\">1.1</span>.\n",
       "</pre>\n"
      ],
      "text/plain": [
       "Added \u001b[1;36m1.1\u001b[0m.\n"
      ]
     },
     "metadata": {},
     "output_type": "display_data"
    },
    {
     "data": {
      "text/html": [
       "<pre style=\"white-space:pre;overflow-x:auto;line-height:normal;font-family:Menlo,'DejaVu Sans Mono',consolas,'Courier New',monospace\">Added ra-<span style=\"color: #008080; text-decoration-color: #008080; font-weight: bold\">11384</span>-august-<span style=\"color: #008080; text-decoration-color: #008080; font-weight: bold\">22</span>-<span style=\"color: #008080; text-decoration-color: #008080; font-weight: bold\">2019</span>\n",
       "</pre>\n"
      ],
      "text/plain": [
       "Added ra-\u001b[1;36m11384\u001b[0m-august-\u001b[1;36m22\u001b[0m-\u001b[1;36m2019\u001b[0m\n"
      ]
     },
     "metadata": {},
     "output_type": "display_data"
    },
    {
     "data": {
      "text/html": [
       "<pre style=\"white-space:pre;overflow-x:auto;line-height:normal;font-family:Menlo,'DejaVu Sans Mono',consolas,'Courier New',monospace\">Added <span style=\"color: #008080; text-decoration-color: #008080; font-weight: bold\">1.1</span>.\n",
       "</pre>\n"
      ],
      "text/plain": [
       "Added \u001b[1;36m1.1\u001b[0m.\n"
      ]
     },
     "metadata": {},
     "output_type": "display_data"
    },
    {
     "data": {
      "text/html": [
       "<pre style=\"white-space:pre;overflow-x:auto;line-height:normal;font-family:Menlo,'DejaVu Sans Mono',consolas,'Courier New',monospace\">Added ra-<span style=\"color: #008080; text-decoration-color: #008080; font-weight: bold\">10298</span>-november-<span style=\"color: #008080; text-decoration-color: #008080; font-weight: bold\">15</span>-<span style=\"color: #008080; text-decoration-color: #008080; font-weight: bold\">2012</span>\n",
       "</pre>\n"
      ],
      "text/plain": [
       "Added ra-\u001b[1;36m10298\u001b[0m-november-\u001b[1;36m15\u001b[0m-\u001b[1;36m2012\u001b[0m\n"
      ]
     },
     "metadata": {},
     "output_type": "display_data"
    },
    {
     "data": {
      "text/html": [
       "<pre style=\"white-space:pre;overflow-x:auto;line-height:normal;font-family:Menlo,'DejaVu Sans Mono',consolas,'Courier New',monospace\">Added <span style=\"color: #008080; text-decoration-color: #008080; font-weight: bold\">1.1</span>.\n",
       "</pre>\n"
      ],
      "text/plain": [
       "Added \u001b[1;36m1.1\u001b[0m.\n"
      ]
     },
     "metadata": {},
     "output_type": "display_data"
    },
    {
     "data": {
      "text/html": [
       "<pre style=\"white-space:pre;overflow-x:auto;line-height:normal;font-family:Menlo,'DejaVu Sans Mono',consolas,'Courier New',monospace\">Added ra-<span style=\"color: #008080; text-decoration-color: #008080; font-weight: bold\">10538</span>-may-<span style=\"color: #008080; text-decoration-color: #008080; font-weight: bold\">15</span>-<span style=\"color: #008080; text-decoration-color: #008080; font-weight: bold\">2013</span>\n",
       "</pre>\n"
      ],
      "text/plain": [
       "Added ra-\u001b[1;36m10538\u001b[0m-may-\u001b[1;36m15\u001b[0m-\u001b[1;36m2013\u001b[0m\n"
      ]
     },
     "metadata": {},
     "output_type": "display_data"
    },
    {
     "data": {
      "text/html": [
       "<pre style=\"white-space:pre;overflow-x:auto;line-height:normal;font-family:Menlo,'DejaVu Sans Mono',consolas,'Courier New',monospace\">Added <span style=\"color: #008080; text-decoration-color: #008080; font-weight: bold\">1.1</span>.\n",
       "</pre>\n"
      ],
      "text/plain": [
       "Added \u001b[1;36m1.1\u001b[0m.\n"
      ]
     },
     "metadata": {},
     "output_type": "display_data"
    },
    {
     "data": {
      "text/html": [
       "<pre style=\"white-space:pre;overflow-x:auto;line-height:normal;font-family:Menlo,'DejaVu Sans Mono',consolas,'Courier New',monospace\">Added ra-<span style=\"color: #008080; text-decoration-color: #008080; font-weight: bold\">9680</span>-july-<span style=\"color: #008080; text-decoration-color: #008080; font-weight: bold\">29</span>-<span style=\"color: #008080; text-decoration-color: #008080; font-weight: bold\">2009</span>\n",
       "</pre>\n"
      ],
      "text/plain": [
       "Added ra-\u001b[1;36m9680\u001b[0m-july-\u001b[1;36m29\u001b[0m-\u001b[1;36m2009\u001b[0m\n"
      ]
     },
     "metadata": {},
     "output_type": "display_data"
    },
    {
     "data": {
      "text/html": [
       "<pre style=\"white-space:pre;overflow-x:auto;line-height:normal;font-family:Menlo,'DejaVu Sans Mono',consolas,'Courier New',monospace\">Added <span style=\"color: #008080; text-decoration-color: #008080; font-weight: bold\">1.1</span>.<span style=\"color: #008080; text-decoration-color: #008080; font-weight: bold\">1</span>.\n",
       "</pre>\n"
      ],
      "text/plain": [
       "Added \u001b[1;36m1.1\u001b[0m.\u001b[1;36m1\u001b[0m.\n"
      ]
     },
     "metadata": {},
     "output_type": "display_data"
    },
    {
     "data": {
      "text/html": [
       "<pre style=\"white-space:pre;overflow-x:auto;line-height:normal;font-family:Menlo,'DejaVu Sans Mono',consolas,'Courier New',monospace\">Added ra-<span style=\"color: #008080; text-decoration-color: #008080; font-weight: bold\">10303</span>-november-<span style=\"color: #008080; text-decoration-color: #008080; font-weight: bold\">15</span>-<span style=\"color: #008080; text-decoration-color: #008080; font-weight: bold\">2012</span>\n",
       "</pre>\n"
      ],
      "text/plain": [
       "Added ra-\u001b[1;36m10303\u001b[0m-november-\u001b[1;36m15\u001b[0m-\u001b[1;36m2012\u001b[0m\n"
      ]
     },
     "metadata": {},
     "output_type": "display_data"
    },
    {
     "data": {
      "text/html": [
       "<pre style=\"white-space:pre;overflow-x:auto;line-height:normal;font-family:Menlo,'DejaVu Sans Mono',consolas,'Courier New',monospace\">Added <span style=\"color: #008080; text-decoration-color: #008080; font-weight: bold\">1.1</span>.\n",
       "</pre>\n"
      ],
      "text/plain": [
       "Added \u001b[1;36m1.1\u001b[0m.\n"
      ]
     },
     "metadata": {},
     "output_type": "display_data"
    },
    {
     "data": {
      "text/html": [
       "<pre style=\"white-space:pre;overflow-x:auto;line-height:normal;font-family:Menlo,'DejaVu Sans Mono',consolas,'Courier New',monospace\">Added ra-<span style=\"color: #008080; text-decoration-color: #008080; font-weight: bold\">10521</span>-april-<span style=\"color: #008080; text-decoration-color: #008080; font-weight: bold\">23</span>-<span style=\"color: #008080; text-decoration-color: #008080; font-weight: bold\">2013</span>\n",
       "</pre>\n"
      ],
      "text/plain": [
       "Added ra-\u001b[1;36m10521\u001b[0m-april-\u001b[1;36m23\u001b[0m-\u001b[1;36m2013\u001b[0m\n"
      ]
     },
     "metadata": {},
     "output_type": "display_data"
    },
    {
     "data": {
      "text/html": [
       "<pre style=\"white-space:pre;overflow-x:auto;line-height:normal;font-family:Menlo,'DejaVu Sans Mono',consolas,'Courier New',monospace\">Added <span style=\"color: #008080; text-decoration-color: #008080; font-weight: bold\">1.1</span>.\n",
       "</pre>\n"
      ],
      "text/plain": [
       "Added \u001b[1;36m1.1\u001b[0m.\n"
      ]
     },
     "metadata": {},
     "output_type": "display_data"
    },
    {
     "data": {
      "text/html": [
       "<pre style=\"white-space:pre;overflow-x:auto;line-height:normal;font-family:Menlo,'DejaVu Sans Mono',consolas,'Courier New',monospace\">Added ra-<span style=\"color: #008080; text-decoration-color: #008080; font-weight: bold\">10562</span>-may-<span style=\"color: #008080; text-decoration-color: #008080; font-weight: bold\">17</span>-<span style=\"color: #008080; text-decoration-color: #008080; font-weight: bold\">2013</span>\n",
       "</pre>\n"
      ],
      "text/plain": [
       "Added ra-\u001b[1;36m10562\u001b[0m-may-\u001b[1;36m17\u001b[0m-\u001b[1;36m2013\u001b[0m\n"
      ]
     },
     "metadata": {},
     "output_type": "display_data"
    },
    {
     "data": {
      "text/html": [
       "<pre style=\"white-space:pre;overflow-x:auto;line-height:normal;font-family:Menlo,'DejaVu Sans Mono',consolas,'Courier New',monospace\">Added <span style=\"color: #008080; text-decoration-color: #008080; font-weight: bold\">1.1</span>.\n",
       "</pre>\n"
      ],
      "text/plain": [
       "Added \u001b[1;36m1.1\u001b[0m.\n"
      ]
     },
     "metadata": {},
     "output_type": "display_data"
    },
    {
     "data": {
      "text/html": [
       "<pre style=\"white-space:pre;overflow-x:auto;line-height:normal;font-family:Menlo,'DejaVu Sans Mono',consolas,'Courier New',monospace\">Added ra-<span style=\"color: #008080; text-decoration-color: #008080; font-weight: bold\">10563</span>-may-<span style=\"color: #008080; text-decoration-color: #008080; font-weight: bold\">15</span>-<span style=\"color: #008080; text-decoration-color: #008080; font-weight: bold\">2013</span>\n",
       "</pre>\n"
      ],
      "text/plain": [
       "Added ra-\u001b[1;36m10563\u001b[0m-may-\u001b[1;36m15\u001b[0m-\u001b[1;36m2013\u001b[0m\n"
      ]
     },
     "metadata": {},
     "output_type": "display_data"
    },
    {
     "data": {
      "text/html": [
       "<pre style=\"white-space:pre;overflow-x:auto;line-height:normal;font-family:Menlo,'DejaVu Sans Mono',consolas,'Courier New',monospace\">Added <span style=\"color: #008080; text-decoration-color: #008080; font-weight: bold\">1.1</span>.\n",
       "</pre>\n"
      ],
      "text/plain": [
       "Added \u001b[1;36m1.1\u001b[0m.\n"
      ]
     },
     "metadata": {},
     "output_type": "display_data"
    },
    {
     "data": {
      "text/html": [
       "<pre style=\"white-space:pre;overflow-x:auto;line-height:normal;font-family:Menlo,'DejaVu Sans Mono',consolas,'Courier New',monospace\">Added ra-<span style=\"color: #008080; text-decoration-color: #008080; font-weight: bold\">10564</span>-may-<span style=\"color: #008080; text-decoration-color: #008080; font-weight: bold\">15</span>-<span style=\"color: #008080; text-decoration-color: #008080; font-weight: bold\">2013</span>\n",
       "</pre>\n"
      ],
      "text/plain": [
       "Added ra-\u001b[1;36m10564\u001b[0m-may-\u001b[1;36m15\u001b[0m-\u001b[1;36m2013\u001b[0m\n"
      ]
     },
     "metadata": {},
     "output_type": "display_data"
    },
    {
     "data": {
      "text/html": [
       "<pre style=\"white-space:pre;overflow-x:auto;line-height:normal;font-family:Menlo,'DejaVu Sans Mono',consolas,'Courier New',monospace\">Added <span style=\"color: #008080; text-decoration-color: #008080; font-weight: bold\">1.1</span>.\n",
       "</pre>\n"
      ],
      "text/plain": [
       "Added \u001b[1;36m1.1\u001b[0m.\n"
      ]
     },
     "metadata": {},
     "output_type": "display_data"
    },
    {
     "data": {
      "text/html": [
       "<pre style=\"white-space:pre;overflow-x:auto;line-height:normal;font-family:Menlo,'DejaVu Sans Mono',consolas,'Courier New',monospace\">Added ra-<span style=\"color: #008080; text-decoration-color: #008080; font-weight: bold\">10581</span>-may-<span style=\"color: #008080; text-decoration-color: #008080; font-weight: bold\">24</span>-<span style=\"color: #008080; text-decoration-color: #008080; font-weight: bold\">2013</span>\n",
       "</pre>\n"
      ],
      "text/plain": [
       "Added ra-\u001b[1;36m10581\u001b[0m-may-\u001b[1;36m24\u001b[0m-\u001b[1;36m2013\u001b[0m\n"
      ]
     },
     "metadata": {},
     "output_type": "display_data"
    },
    {
     "data": {
      "text/html": [
       "<pre style=\"white-space:pre;overflow-x:auto;line-height:normal;font-family:Menlo,'DejaVu Sans Mono',consolas,'Courier New',monospace\">Added <span style=\"color: #008080; text-decoration-color: #008080; font-weight: bold\">1.1</span>.\n",
       "</pre>\n"
      ],
      "text/plain": [
       "Added \u001b[1;36m1.1\u001b[0m.\n"
      ]
     },
     "metadata": {},
     "output_type": "display_data"
    },
    {
     "data": {
      "text/html": [
       "<pre style=\"white-space:pre;overflow-x:auto;line-height:normal;font-family:Menlo,'DejaVu Sans Mono',consolas,'Courier New',monospace\">Added ra-<span style=\"color: #008080; text-decoration-color: #008080; font-weight: bold\">10582</span>-may-<span style=\"color: #008080; text-decoration-color: #008080; font-weight: bold\">24</span>-<span style=\"color: #008080; text-decoration-color: #008080; font-weight: bold\">2013</span>\n",
       "</pre>\n"
      ],
      "text/plain": [
       "Added ra-\u001b[1;36m10582\u001b[0m-may-\u001b[1;36m24\u001b[0m-\u001b[1;36m2013\u001b[0m\n"
      ]
     },
     "metadata": {},
     "output_type": "display_data"
    },
    {
     "data": {
      "text/html": [
       "<pre style=\"white-space:pre;overflow-x:auto;line-height:normal;font-family:Menlo,'DejaVu Sans Mono',consolas,'Courier New',monospace\">Added <span style=\"color: #008080; text-decoration-color: #008080; font-weight: bold\">1.1</span>.\n",
       "</pre>\n"
      ],
      "text/plain": [
       "Added \u001b[1;36m1.1\u001b[0m.\n"
      ]
     },
     "metadata": {},
     "output_type": "display_data"
    },
    {
     "data": {
      "text/html": [
       "<pre style=\"white-space:pre;overflow-x:auto;line-height:normal;font-family:Menlo,'DejaVu Sans Mono',consolas,'Courier New',monospace\">Added ra-<span style=\"color: #008080; text-decoration-color: #008080; font-weight: bold\">10695</span>-november-<span style=\"color: #008080; text-decoration-color: #008080; font-weight: bold\">11</span>-<span style=\"color: #008080; text-decoration-color: #008080; font-weight: bold\">2015</span>\n",
       "</pre>\n"
      ],
      "text/plain": [
       "Added ra-\u001b[1;36m10695\u001b[0m-november-\u001b[1;36m11\u001b[0m-\u001b[1;36m2015\u001b[0m\n"
      ]
     },
     "metadata": {},
     "output_type": "display_data"
    },
    {
     "data": {
      "text/html": [
       "<pre style=\"white-space:pre;overflow-x:auto;line-height:normal;font-family:Menlo,'DejaVu Sans Mono',consolas,'Courier New',monospace\">Added <span style=\"color: #008080; text-decoration-color: #008080; font-weight: bold\">1.1</span>.\n",
       "</pre>\n"
      ],
      "text/plain": [
       "Added \u001b[1;36m1.1\u001b[0m.\n"
      ]
     },
     "metadata": {},
     "output_type": "display_data"
    },
    {
     "data": {
      "text/html": [
       "<pre style=\"white-space:pre;overflow-x:auto;line-height:normal;font-family:Menlo,'DejaVu Sans Mono',consolas,'Courier New',monospace\">Added ra-<span style=\"color: #008080; text-decoration-color: #008080; font-weight: bold\">10700</span>-november-<span style=\"color: #008080; text-decoration-color: #008080; font-weight: bold\">20</span>-<span style=\"color: #008080; text-decoration-color: #008080; font-weight: bold\">2015</span>\n",
       "</pre>\n"
      ],
      "text/plain": [
       "Added ra-\u001b[1;36m10700\u001b[0m-november-\u001b[1;36m20\u001b[0m-\u001b[1;36m2015\u001b[0m\n"
      ]
     },
     "metadata": {},
     "output_type": "display_data"
    },
    {
     "data": {
      "text/html": [
       "<pre style=\"white-space:pre;overflow-x:auto;line-height:normal;font-family:Menlo,'DejaVu Sans Mono',consolas,'Courier New',monospace\">Added <span style=\"color: #008080; text-decoration-color: #008080; font-weight: bold\">1.1</span>.\n",
       "</pre>\n"
      ],
      "text/plain": [
       "Added \u001b[1;36m1.1\u001b[0m.\n"
      ]
     },
     "metadata": {},
     "output_type": "display_data"
    },
    {
     "data": {
      "text/html": [
       "<pre style=\"white-space:pre;overflow-x:auto;line-height:normal;font-family:Menlo,'DejaVu Sans Mono',consolas,'Courier New',monospace\">Added ra-<span style=\"color: #008080; text-decoration-color: #008080; font-weight: bold\">10702</span>-november-<span style=\"color: #008080; text-decoration-color: #008080; font-weight: bold\">20</span>-<span style=\"color: #008080; text-decoration-color: #008080; font-weight: bold\">2015</span>\n",
       "</pre>\n"
      ],
      "text/plain": [
       "Added ra-\u001b[1;36m10702\u001b[0m-november-\u001b[1;36m20\u001b[0m-\u001b[1;36m2015\u001b[0m\n"
      ]
     },
     "metadata": {},
     "output_type": "display_data"
    },
    {
     "data": {
      "text/html": [
       "<pre style=\"white-space:pre;overflow-x:auto;line-height:normal;font-family:Menlo,'DejaVu Sans Mono',consolas,'Courier New',monospace\">Added <span style=\"color: #008080; text-decoration-color: #008080; font-weight: bold\">1.1</span>.\n",
       "</pre>\n"
      ],
      "text/plain": [
       "Added \u001b[1;36m1.1\u001b[0m.\n"
      ]
     },
     "metadata": {},
     "output_type": "display_data"
    },
    {
     "data": {
      "text/html": [
       "<pre style=\"white-space:pre;overflow-x:auto;line-height:normal;font-family:Menlo,'DejaVu Sans Mono',consolas,'Courier New',monospace\">Added ra-<span style=\"color: #008080; text-decoration-color: #008080; font-weight: bold\">10739</span>-december-<span style=\"color: #008080; text-decoration-color: #008080; font-weight: bold\">29</span>-<span style=\"color: #008080; text-decoration-color: #008080; font-weight: bold\">2015</span>\n",
       "</pre>\n"
      ],
      "text/plain": [
       "Added ra-\u001b[1;36m10739\u001b[0m-december-\u001b[1;36m29\u001b[0m-\u001b[1;36m2015\u001b[0m\n"
      ]
     },
     "metadata": {},
     "output_type": "display_data"
    },
    {
     "data": {
      "text/html": [
       "<pre style=\"white-space:pre;overflow-x:auto;line-height:normal;font-family:Menlo,'DejaVu Sans Mono',consolas,'Courier New',monospace\">Added <span style=\"color: #008080; text-decoration-color: #008080; font-weight: bold\">1.1</span>.\n",
       "</pre>\n"
      ],
      "text/plain": [
       "Added \u001b[1;36m1.1\u001b[0m.\n"
      ]
     },
     "metadata": {},
     "output_type": "display_data"
    },
    {
     "data": {
      "text/html": [
       "<pre style=\"white-space:pre;overflow-x:auto;line-height:normal;font-family:Menlo,'DejaVu Sans Mono',consolas,'Courier New',monospace\">Added ra-<span style=\"color: #008080; text-decoration-color: #008080; font-weight: bold\">11349</span>-july-<span style=\"color: #008080; text-decoration-color: #008080; font-weight: bold\">25</span>-<span style=\"color: #008080; text-decoration-color: #008080; font-weight: bold\">2019</span>\n",
       "</pre>\n"
      ],
      "text/plain": [
       "Added ra-\u001b[1;36m11349\u001b[0m-july-\u001b[1;36m25\u001b[0m-\u001b[1;36m2019\u001b[0m\n"
      ]
     },
     "metadata": {},
     "output_type": "display_data"
    },
    {
     "data": {
      "text/html": [
       "<pre style=\"white-space:pre;overflow-x:auto;line-height:normal;font-family:Menlo,'DejaVu Sans Mono',consolas,'Courier New',monospace\">Added <span style=\"color: #008080; text-decoration-color: #008080; font-weight: bold\">1.1</span>.\n",
       "</pre>\n"
      ],
      "text/plain": [
       "Added \u001b[1;36m1.1\u001b[0m.\n"
      ]
     },
     "metadata": {},
     "output_type": "display_data"
    },
    {
     "data": {
      "text/html": [
       "<pre style=\"white-space:pre;overflow-x:auto;line-height:normal;font-family:Menlo,'DejaVu Sans Mono',consolas,'Courier New',monospace\">Added ra-<span style=\"color: #008080; text-decoration-color: #008080; font-weight: bold\">10394</span>-march-<span style=\"color: #008080; text-decoration-color: #008080; font-weight: bold\">14</span>-<span style=\"color: #008080; text-decoration-color: #008080; font-weight: bold\">2013</span>\n",
       "</pre>\n"
      ],
      "text/plain": [
       "Added ra-\u001b[1;36m10394\u001b[0m-march-\u001b[1;36m14\u001b[0m-\u001b[1;36m2013\u001b[0m\n"
      ]
     },
     "metadata": {},
     "output_type": "display_data"
    },
    {
     "data": {
      "text/html": [
       "<pre style=\"white-space:pre;overflow-x:auto;line-height:normal;font-family:Menlo,'DejaVu Sans Mono',consolas,'Courier New',monospace\">Added <span style=\"color: #008080; text-decoration-color: #008080; font-weight: bold\">1.1</span>.\n",
       "</pre>\n"
      ],
      "text/plain": [
       "Added \u001b[1;36m1.1\u001b[0m.\n"
      ]
     },
     "metadata": {},
     "output_type": "display_data"
    },
    {
     "data": {
      "text/html": [
       "<pre style=\"white-space:pre;overflow-x:auto;line-height:normal;font-family:Menlo,'DejaVu Sans Mono',consolas,'Courier New',monospace\">Added ra-<span style=\"color: #008080; text-decoration-color: #008080; font-weight: bold\">10704</span>-november-<span style=\"color: #008080; text-decoration-color: #008080; font-weight: bold\">20</span>-<span style=\"color: #008080; text-decoration-color: #008080; font-weight: bold\">2015</span>\n",
       "</pre>\n"
      ],
      "text/plain": [
       "Added ra-\u001b[1;36m10704\u001b[0m-november-\u001b[1;36m20\u001b[0m-\u001b[1;36m2015\u001b[0m\n"
      ]
     },
     "metadata": {},
     "output_type": "display_data"
    },
    {
     "data": {
      "text/html": [
       "<pre style=\"white-space:pre;overflow-x:auto;line-height:normal;font-family:Menlo,'DejaVu Sans Mono',consolas,'Courier New',monospace\">Added <span style=\"color: #008080; text-decoration-color: #008080; font-weight: bold\">1.1</span>.\n",
       "</pre>\n"
      ],
      "text/plain": [
       "Added \u001b[1;36m1.1\u001b[0m.\n"
      ]
     },
     "metadata": {},
     "output_type": "display_data"
    },
    {
     "data": {
      "text/html": [
       "<pre style=\"white-space:pre;overflow-x:auto;line-height:normal;font-family:Menlo,'DejaVu Sans Mono',consolas,'Courier New',monospace\">Added ra-<span style=\"color: #008080; text-decoration-color: #008080; font-weight: bold\">10713</span>-december-<span style=\"color: #008080; text-decoration-color: #008080; font-weight: bold\">09</span>-<span style=\"color: #008080; text-decoration-color: #008080; font-weight: bold\">2015</span>\n",
       "</pre>\n"
      ],
      "text/plain": [
       "Added ra-\u001b[1;36m10713\u001b[0m-december-\u001b[1;36m09\u001b[0m-\u001b[1;36m2015\u001b[0m\n"
      ]
     },
     "metadata": {},
     "output_type": "display_data"
    },
    {
     "data": {
      "text/html": [
       "<pre style=\"white-space:pre;overflow-x:auto;line-height:normal;font-family:Menlo,'DejaVu Sans Mono',consolas,'Courier New',monospace\">Added <span style=\"color: #008080; text-decoration-color: #008080; font-weight: bold\">1.1</span>.\n",
       "</pre>\n"
      ],
      "text/plain": [
       "Added \u001b[1;36m1.1\u001b[0m.\n"
      ]
     },
     "metadata": {},
     "output_type": "display_data"
    },
    {
     "data": {
      "text/html": [
       "<pre style=\"white-space:pre;overflow-x:auto;line-height:normal;font-family:Menlo,'DejaVu Sans Mono',consolas,'Courier New',monospace\">Added ra-<span style=\"color: #008080; text-decoration-color: #008080; font-weight: bold\">10162</span>-april-<span style=\"color: #008080; text-decoration-color: #008080; font-weight: bold\">17</span>-<span style=\"color: #008080; text-decoration-color: #008080; font-weight: bold\">2012</span>\n",
       "</pre>\n"
      ],
      "text/plain": [
       "Added ra-\u001b[1;36m10162\u001b[0m-april-\u001b[1;36m17\u001b[0m-\u001b[1;36m2012\u001b[0m\n"
      ]
     },
     "metadata": {},
     "output_type": "display_data"
    },
    {
     "data": {
      "text/html": [
       "<pre style=\"white-space:pre;overflow-x:auto;line-height:normal;font-family:Menlo,'DejaVu Sans Mono',consolas,'Courier New',monospace\">Added <span style=\"color: #008080; text-decoration-color: #008080; font-weight: bold\">1.1</span>.\n",
       "</pre>\n"
      ],
      "text/plain": [
       "Added \u001b[1;36m1.1\u001b[0m.\n"
      ]
     },
     "metadata": {},
     "output_type": "display_data"
    },
    {
     "data": {
      "text/html": [
       "<pre style=\"white-space:pre;overflow-x:auto;line-height:normal;font-family:Menlo,'DejaVu Sans Mono',consolas,'Courier New',monospace\">Added ra-<span style=\"color: #008080; text-decoration-color: #008080; font-weight: bold\">10249</span>-november-<span style=\"color: #008080; text-decoration-color: #008080; font-weight: bold\">08</span>-<span style=\"color: #008080; text-decoration-color: #008080; font-weight: bold\">2012</span>\n",
       "</pre>\n"
      ],
      "text/plain": [
       "Added ra-\u001b[1;36m10249\u001b[0m-november-\u001b[1;36m08\u001b[0m-\u001b[1;36m2012\u001b[0m\n"
      ]
     },
     "metadata": {},
     "output_type": "display_data"
    },
    {
     "data": {
      "text/html": [
       "<pre style=\"white-space:pre;overflow-x:auto;line-height:normal;font-family:Menlo,'DejaVu Sans Mono',consolas,'Courier New',monospace\">Added <span style=\"color: #008080; text-decoration-color: #008080; font-weight: bold\">1.1</span>.\n",
       "</pre>\n"
      ],
      "text/plain": [
       "Added \u001b[1;36m1.1\u001b[0m.\n"
      ]
     },
     "metadata": {},
     "output_type": "display_data"
    },
    {
     "data": {
      "text/html": [
       "<pre style=\"white-space:pre;overflow-x:auto;line-height:normal;font-family:Menlo,'DejaVu Sans Mono',consolas,'Courier New',monospace\">Added ra-<span style=\"color: #008080; text-decoration-color: #008080; font-weight: bold\">10300</span>-november-<span style=\"color: #008080; text-decoration-color: #008080; font-weight: bold\">15</span>-<span style=\"color: #008080; text-decoration-color: #008080; font-weight: bold\">2012</span>\n",
       "</pre>\n"
      ],
      "text/plain": [
       "Added ra-\u001b[1;36m10300\u001b[0m-november-\u001b[1;36m15\u001b[0m-\u001b[1;36m2012\u001b[0m\n"
      ]
     },
     "metadata": {},
     "output_type": "display_data"
    },
    {
     "data": {
      "text/html": [
       "<pre style=\"white-space:pre;overflow-x:auto;line-height:normal;font-family:Menlo,'DejaVu Sans Mono',consolas,'Courier New',monospace\">Added <span style=\"color: #008080; text-decoration-color: #008080; font-weight: bold\">1.1</span>.\n",
       "</pre>\n"
      ],
      "text/plain": [
       "Added \u001b[1;36m1.1\u001b[0m.\n"
      ]
     },
     "metadata": {},
     "output_type": "display_data"
    },
    {
     "data": {
      "text/html": [
       "<pre style=\"white-space:pre;overflow-x:auto;line-height:normal;font-family:Menlo,'DejaVu Sans Mono',consolas,'Courier New',monospace\">Added ra-<span style=\"color: #008080; text-decoration-color: #008080; font-weight: bold\">10302</span>-november-<span style=\"color: #008080; text-decoration-color: #008080; font-weight: bold\">15</span>-<span style=\"color: #008080; text-decoration-color: #008080; font-weight: bold\">2012</span>\n",
       "</pre>\n"
      ],
      "text/plain": [
       "Added ra-\u001b[1;36m10302\u001b[0m-november-\u001b[1;36m15\u001b[0m-\u001b[1;36m2012\u001b[0m\n"
      ]
     },
     "metadata": {},
     "output_type": "display_data"
    },
    {
     "data": {
      "text/html": [
       "<pre style=\"white-space:pre;overflow-x:auto;line-height:normal;font-family:Menlo,'DejaVu Sans Mono',consolas,'Courier New',monospace\">Added <span style=\"color: #008080; text-decoration-color: #008080; font-weight: bold\">1.1</span>.\n",
       "</pre>\n"
      ],
      "text/plain": [
       "Added \u001b[1;36m1.1\u001b[0m.\n"
      ]
     },
     "metadata": {},
     "output_type": "display_data"
    },
    {
     "data": {
      "text/html": [
       "<pre style=\"white-space:pre;overflow-x:auto;line-height:normal;font-family:Menlo,'DejaVu Sans Mono',consolas,'Courier New',monospace\">Added ra-<span style=\"color: #008080; text-decoration-color: #008080; font-weight: bold\">10339</span>-november-<span style=\"color: #008080; text-decoration-color: #008080; font-weight: bold\">21</span>-<span style=\"color: #008080; text-decoration-color: #008080; font-weight: bold\">2012</span>\n",
       "</pre>\n"
      ],
      "text/plain": [
       "Added ra-\u001b[1;36m10339\u001b[0m-november-\u001b[1;36m21\u001b[0m-\u001b[1;36m2012\u001b[0m\n"
      ]
     },
     "metadata": {},
     "output_type": "display_data"
    },
    {
     "data": {
      "text/html": [
       "<pre style=\"white-space:pre;overflow-x:auto;line-height:normal;font-family:Menlo,'DejaVu Sans Mono',consolas,'Courier New',monospace\">Added <span style=\"color: #008080; text-decoration-color: #008080; font-weight: bold\">1.1</span>.\n",
       "</pre>\n"
      ],
      "text/plain": [
       "Added \u001b[1;36m1.1\u001b[0m.\n"
      ]
     },
     "metadata": {},
     "output_type": "display_data"
    },
    {
     "data": {
      "text/html": [
       "<pre style=\"white-space:pre;overflow-x:auto;line-height:normal;font-family:Menlo,'DejaVu Sans Mono',consolas,'Courier New',monospace\">Added ra-<span style=\"color: #008080; text-decoration-color: #008080; font-weight: bold\">10517</span>-april-<span style=\"color: #008080; text-decoration-color: #008080; font-weight: bold\">23</span>-<span style=\"color: #008080; text-decoration-color: #008080; font-weight: bold\">2013</span>\n",
       "</pre>\n"
      ],
      "text/plain": [
       "Added ra-\u001b[1;36m10517\u001b[0m-april-\u001b[1;36m23\u001b[0m-\u001b[1;36m2013\u001b[0m\n"
      ]
     },
     "metadata": {},
     "output_type": "display_data"
    },
    {
     "data": {
      "text/html": [
       "<pre style=\"white-space:pre;overflow-x:auto;line-height:normal;font-family:Menlo,'DejaVu Sans Mono',consolas,'Courier New',monospace\">Added <span style=\"color: #008080; text-decoration-color: #008080; font-weight: bold\">1.1</span>.\n",
       "</pre>\n"
      ],
      "text/plain": [
       "Added \u001b[1;36m1.1\u001b[0m.\n"
      ]
     },
     "metadata": {},
     "output_type": "display_data"
    },
    {
     "data": {
      "text/html": [
       "<pre style=\"white-space:pre;overflow-x:auto;line-height:normal;font-family:Menlo,'DejaVu Sans Mono',consolas,'Courier New',monospace\">Added ra-<span style=\"color: #008080; text-decoration-color: #008080; font-weight: bold\">10518</span>-april-<span style=\"color: #008080; text-decoration-color: #008080; font-weight: bold\">23</span>-<span style=\"color: #008080; text-decoration-color: #008080; font-weight: bold\">2013</span>\n",
       "</pre>\n"
      ],
      "text/plain": [
       "Added ra-\u001b[1;36m10518\u001b[0m-april-\u001b[1;36m23\u001b[0m-\u001b[1;36m2013\u001b[0m\n"
      ]
     },
     "metadata": {},
     "output_type": "display_data"
    },
    {
     "data": {
      "text/html": [
       "<pre style=\"white-space:pre;overflow-x:auto;line-height:normal;font-family:Menlo,'DejaVu Sans Mono',consolas,'Courier New',monospace\">Added <span style=\"color: #008080; text-decoration-color: #008080; font-weight: bold\">1.1</span>.\n",
       "</pre>\n"
      ],
      "text/plain": [
       "Added \u001b[1;36m1.1\u001b[0m.\n"
      ]
     },
     "metadata": {},
     "output_type": "display_data"
    },
    {
     "data": {
      "text/html": [
       "<pre style=\"white-space:pre;overflow-x:auto;line-height:normal;font-family:Menlo,'DejaVu Sans Mono',consolas,'Courier New',monospace\">Added ra-<span style=\"color: #008080; text-decoration-color: #008080; font-weight: bold\">10523</span>-april-<span style=\"color: #008080; text-decoration-color: #008080; font-weight: bold\">23</span>-<span style=\"color: #008080; text-decoration-color: #008080; font-weight: bold\">2013</span>\n",
       "</pre>\n"
      ],
      "text/plain": [
       "Added ra-\u001b[1;36m10523\u001b[0m-april-\u001b[1;36m23\u001b[0m-\u001b[1;36m2013\u001b[0m\n"
      ]
     },
     "metadata": {},
     "output_type": "display_data"
    },
    {
     "data": {
      "text/html": [
       "<pre style=\"white-space:pre;overflow-x:auto;line-height:normal;font-family:Menlo,'DejaVu Sans Mono',consolas,'Courier New',monospace\">Added <span style=\"color: #008080; text-decoration-color: #008080; font-weight: bold\">1.1</span>.\n",
       "</pre>\n"
      ],
      "text/plain": [
       "Added \u001b[1;36m1.1\u001b[0m.\n"
      ]
     },
     "metadata": {},
     "output_type": "display_data"
    },
    {
     "data": {
      "text/html": [
       "<pre style=\"white-space:pre;overflow-x:auto;line-height:normal;font-family:Menlo,'DejaVu Sans Mono',consolas,'Courier New',monospace\">Added ra-<span style=\"color: #008080; text-decoration-color: #008080; font-weight: bold\">10539</span>-may-<span style=\"color: #008080; text-decoration-color: #008080; font-weight: bold\">15</span>-<span style=\"color: #008080; text-decoration-color: #008080; font-weight: bold\">2013</span>\n",
       "</pre>\n"
      ],
      "text/plain": [
       "Added ra-\u001b[1;36m10539\u001b[0m-may-\u001b[1;36m15\u001b[0m-\u001b[1;36m2013\u001b[0m\n"
      ]
     },
     "metadata": {},
     "output_type": "display_data"
    },
    {
     "data": {
      "text/html": [
       "<pre style=\"white-space:pre;overflow-x:auto;line-height:normal;font-family:Menlo,'DejaVu Sans Mono',consolas,'Courier New',monospace\">Added <span style=\"color: #008080; text-decoration-color: #008080; font-weight: bold\">1.1</span>.\n",
       "</pre>\n"
      ],
      "text/plain": [
       "Added \u001b[1;36m1.1\u001b[0m.\n"
      ]
     },
     "metadata": {},
     "output_type": "display_data"
    },
    {
     "data": {
      "text/html": [
       "<pre style=\"white-space:pre;overflow-x:auto;line-height:normal;font-family:Menlo,'DejaVu Sans Mono',consolas,'Courier New',monospace\">Added ra-<span style=\"color: #008080; text-decoration-color: #008080; font-weight: bold\">10543</span>-may-<span style=\"color: #008080; text-decoration-color: #008080; font-weight: bold\">15</span>-<span style=\"color: #008080; text-decoration-color: #008080; font-weight: bold\">2013</span>\n",
       "</pre>\n"
      ],
      "text/plain": [
       "Added ra-\u001b[1;36m10543\u001b[0m-may-\u001b[1;36m15\u001b[0m-\u001b[1;36m2013\u001b[0m\n"
      ]
     },
     "metadata": {},
     "output_type": "display_data"
    },
    {
     "data": {
      "text/html": [
       "<pre style=\"white-space:pre;overflow-x:auto;line-height:normal;font-family:Menlo,'DejaVu Sans Mono',consolas,'Courier New',monospace\">Added <span style=\"color: #008080; text-decoration-color: #008080; font-weight: bold\">1.1</span>.\n",
       "</pre>\n"
      ],
      "text/plain": [
       "Added \u001b[1;36m1.1\u001b[0m.\n"
      ]
     },
     "metadata": {},
     "output_type": "display_data"
    },
    {
     "data": {
      "text/html": [
       "<pre style=\"white-space:pre;overflow-x:auto;line-height:normal;font-family:Menlo,'DejaVu Sans Mono',consolas,'Courier New',monospace\">Added ra-<span style=\"color: #008080; text-decoration-color: #008080; font-weight: bold\">10547</span>-may-<span style=\"color: #008080; text-decoration-color: #008080; font-weight: bold\">15</span>-<span style=\"color: #008080; text-decoration-color: #008080; font-weight: bold\">2013</span>\n",
       "</pre>\n"
      ],
      "text/plain": [
       "Added ra-\u001b[1;36m10547\u001b[0m-may-\u001b[1;36m15\u001b[0m-\u001b[1;36m2013\u001b[0m\n"
      ]
     },
     "metadata": {},
     "output_type": "display_data"
    },
    {
     "data": {
      "text/html": [
       "<pre style=\"white-space:pre;overflow-x:auto;line-height:normal;font-family:Menlo,'DejaVu Sans Mono',consolas,'Courier New',monospace\">Added <span style=\"color: #008080; text-decoration-color: #008080; font-weight: bold\">1.1</span>.\n",
       "</pre>\n"
      ],
      "text/plain": [
       "Added \u001b[1;36m1.1\u001b[0m.\n"
      ]
     },
     "metadata": {},
     "output_type": "display_data"
    },
    {
     "data": {
      "text/html": [
       "<pre style=\"white-space:pre;overflow-x:auto;line-height:normal;font-family:Menlo,'DejaVu Sans Mono',consolas,'Courier New',monospace\">Added ra-<span style=\"color: #008080; text-decoration-color: #008080; font-weight: bold\">10569</span>-may-<span style=\"color: #008080; text-decoration-color: #008080; font-weight: bold\">22</span>-<span style=\"color: #008080; text-decoration-color: #008080; font-weight: bold\">2013</span>\n",
       "</pre>\n"
      ],
      "text/plain": [
       "Added ra-\u001b[1;36m10569\u001b[0m-may-\u001b[1;36m22\u001b[0m-\u001b[1;36m2013\u001b[0m\n"
      ]
     },
     "metadata": {},
     "output_type": "display_data"
    },
    {
     "data": {
      "text/html": [
       "<pre style=\"white-space:pre;overflow-x:auto;line-height:normal;font-family:Menlo,'DejaVu Sans Mono',consolas,'Courier New',monospace\">Added <span style=\"color: #008080; text-decoration-color: #008080; font-weight: bold\">1.1</span>.\n",
       "</pre>\n"
      ],
      "text/plain": [
       "Added \u001b[1;36m1.1\u001b[0m.\n"
      ]
     },
     "metadata": {},
     "output_type": "display_data"
    },
    {
     "data": {
      "text/html": [
       "<pre style=\"white-space:pre;overflow-x:auto;line-height:normal;font-family:Menlo,'DejaVu Sans Mono',consolas,'Courier New',monospace\">Added ra-<span style=\"color: #008080; text-decoration-color: #008080; font-weight: bold\">10580</span>-may-<span style=\"color: #008080; text-decoration-color: #008080; font-weight: bold\">24</span>-<span style=\"color: #008080; text-decoration-color: #008080; font-weight: bold\">2013</span>\n",
       "</pre>\n"
      ],
      "text/plain": [
       "Added ra-\u001b[1;36m10580\u001b[0m-may-\u001b[1;36m24\u001b[0m-\u001b[1;36m2013\u001b[0m\n"
      ]
     },
     "metadata": {},
     "output_type": "display_data"
    },
    {
     "data": {
      "text/html": [
       "<pre style=\"white-space:pre;overflow-x:auto;line-height:normal;font-family:Menlo,'DejaVu Sans Mono',consolas,'Courier New',monospace\">Added <span style=\"color: #008080; text-decoration-color: #008080; font-weight: bold\">1.1</span>.\n",
       "</pre>\n"
      ],
      "text/plain": [
       "Added \u001b[1;36m1.1\u001b[0m.\n"
      ]
     },
     "metadata": {},
     "output_type": "display_data"
    },
    {
     "data": {
      "text/html": [
       "<pre style=\"white-space:pre;overflow-x:auto;line-height:normal;font-family:Menlo,'DejaVu Sans Mono',consolas,'Courier New',monospace\">Added ra-<span style=\"color: #008080; text-decoration-color: #008080; font-weight: bold\">10603</span>-june-<span style=\"color: #008080; text-decoration-color: #008080; font-weight: bold\">11</span>-<span style=\"color: #008080; text-decoration-color: #008080; font-weight: bold\">2013</span>\n",
       "</pre>\n"
      ],
      "text/plain": [
       "Added ra-\u001b[1;36m10603\u001b[0m-june-\u001b[1;36m11\u001b[0m-\u001b[1;36m2013\u001b[0m\n"
      ]
     },
     "metadata": {},
     "output_type": "display_data"
    },
    {
     "data": {
      "text/html": [
       "<pre style=\"white-space:pre;overflow-x:auto;line-height:normal;font-family:Menlo,'DejaVu Sans Mono',consolas,'Courier New',monospace\">Added <span style=\"color: #008080; text-decoration-color: #008080; font-weight: bold\">1.1</span>.\n",
       "</pre>\n"
      ],
      "text/plain": [
       "Added \u001b[1;36m1.1\u001b[0m.\n"
      ]
     },
     "metadata": {},
     "output_type": "display_data"
    },
    {
     "data": {
      "text/html": [
       "<pre style=\"white-space:pre;overflow-x:auto;line-height:normal;font-family:Menlo,'DejaVu Sans Mono',consolas,'Courier New',monospace\">Added ra-<span style=\"color: #008080; text-decoration-color: #008080; font-weight: bold\">10880</span>-july-<span style=\"color: #008080; text-decoration-color: #008080; font-weight: bold\">17</span>-<span style=\"color: #008080; text-decoration-color: #008080; font-weight: bold\">2016</span>\n",
       "</pre>\n"
      ],
      "text/plain": [
       "Added ra-\u001b[1;36m10880\u001b[0m-july-\u001b[1;36m17\u001b[0m-\u001b[1;36m2016\u001b[0m\n"
      ]
     },
     "metadata": {},
     "output_type": "display_data"
    },
    {
     "data": {
      "text/html": [
       "<pre style=\"white-space:pre;overflow-x:auto;line-height:normal;font-family:Menlo,'DejaVu Sans Mono',consolas,'Courier New',monospace\">Added <span style=\"color: #008080; text-decoration-color: #008080; font-weight: bold\">1.1</span>.\n",
       "</pre>\n"
      ],
      "text/plain": [
       "Added \u001b[1;36m1.1\u001b[0m.\n"
      ]
     },
     "metadata": {},
     "output_type": "display_data"
    },
    {
     "data": {
      "text/html": [
       "<pre style=\"white-space:pre;overflow-x:auto;line-height:normal;font-family:Menlo,'DejaVu Sans Mono',consolas,'Courier New',monospace\">Added ra-<span style=\"color: #008080; text-decoration-color: #008080; font-weight: bold\">11383</span>-august-<span style=\"color: #008080; text-decoration-color: #008080; font-weight: bold\">22</span>-<span style=\"color: #008080; text-decoration-color: #008080; font-weight: bold\">2019</span>\n",
       "</pre>\n"
      ],
      "text/plain": [
       "Added ra-\u001b[1;36m11383\u001b[0m-august-\u001b[1;36m22\u001b[0m-\u001b[1;36m2019\u001b[0m\n"
      ]
     },
     "metadata": {},
     "output_type": "display_data"
    },
    {
     "data": {
      "text/html": [
       "<pre style=\"white-space:pre;overflow-x:auto;line-height:normal;font-family:Menlo,'DejaVu Sans Mono',consolas,'Courier New',monospace\">Added <span style=\"color: #008080; text-decoration-color: #008080; font-weight: bold\">1.1</span>.\n",
       "</pre>\n"
      ],
      "text/plain": [
       "Added \u001b[1;36m1.1\u001b[0m.\n"
      ]
     },
     "metadata": {},
     "output_type": "display_data"
    },
    {
     "data": {
      "text/html": [
       "<pre style=\"white-space:pre;overflow-x:auto;line-height:normal;font-family:Menlo,'DejaVu Sans Mono',consolas,'Courier New',monospace\">Added ra-<span style=\"color: #008080; text-decoration-color: #008080; font-weight: bold\">11387</span>-august-<span style=\"color: #008080; text-decoration-color: #008080; font-weight: bold\">22</span>-<span style=\"color: #008080; text-decoration-color: #008080; font-weight: bold\">2019</span>\n",
       "</pre>\n"
      ],
      "text/plain": [
       "Added ra-\u001b[1;36m11387\u001b[0m-august-\u001b[1;36m22\u001b[0m-\u001b[1;36m2019\u001b[0m\n"
      ]
     },
     "metadata": {},
     "output_type": "display_data"
    },
    {
     "data": {
      "text/html": [
       "<pre style=\"white-space:pre;overflow-x:auto;line-height:normal;font-family:Menlo,'DejaVu Sans Mono',consolas,'Courier New',monospace\">Added <span style=\"color: #008080; text-decoration-color: #008080; font-weight: bold\">1.1</span>.\n",
       "</pre>\n"
      ],
      "text/plain": [
       "Added \u001b[1;36m1.1\u001b[0m.\n"
      ]
     },
     "metadata": {},
     "output_type": "display_data"
    },
    {
     "data": {
      "text/html": [
       "<pre style=\"white-space:pre;overflow-x:auto;line-height:normal;font-family:Menlo,'DejaVu Sans Mono',consolas,'Courier New',monospace\">Added ra-<span style=\"color: #008080; text-decoration-color: #008080; font-weight: bold\">10712</span>-december-<span style=\"color: #008080; text-decoration-color: #008080; font-weight: bold\">09</span>-<span style=\"color: #008080; text-decoration-color: #008080; font-weight: bold\">2015</span>\n",
       "</pre>\n"
      ],
      "text/plain": [
       "Added ra-\u001b[1;36m10712\u001b[0m-december-\u001b[1;36m09\u001b[0m-\u001b[1;36m2015\u001b[0m\n"
      ]
     },
     "metadata": {},
     "output_type": "display_data"
    },
    {
     "data": {
      "text/html": [
       "<pre style=\"white-space:pre;overflow-x:auto;line-height:normal;font-family:Menlo,'DejaVu Sans Mono',consolas,'Courier New',monospace\">Added <span style=\"color: #008080; text-decoration-color: #008080; font-weight: bold\">1.1</span>.\n",
       "</pre>\n"
      ],
      "text/plain": [
       "Added \u001b[1;36m1.1\u001b[0m.\n"
      ]
     },
     "metadata": {},
     "output_type": "display_data"
    },
    {
     "data": {
      "text/html": [
       "<pre style=\"white-space:pre;overflow-x:auto;line-height:normal;font-family:Menlo,'DejaVu Sans Mono',consolas,'Courier New',monospace\">Added ra-<span style=\"color: #008080; text-decoration-color: #008080; font-weight: bold\">10245</span>-november-<span style=\"color: #008080; text-decoration-color: #008080; font-weight: bold\">08</span>-<span style=\"color: #008080; text-decoration-color: #008080; font-weight: bold\">2012</span>\n",
       "</pre>\n"
      ],
      "text/plain": [
       "Added ra-\u001b[1;36m10245\u001b[0m-november-\u001b[1;36m08\u001b[0m-\u001b[1;36m2012\u001b[0m\n"
      ]
     },
     "metadata": {},
     "output_type": "display_data"
    },
    {
     "data": {
      "text/html": [
       "<pre style=\"white-space:pre;overflow-x:auto;line-height:normal;font-family:Menlo,'DejaVu Sans Mono',consolas,'Courier New',monospace\">Added <span style=\"color: #008080; text-decoration-color: #008080; font-weight: bold\">1.1</span>.\n",
       "</pre>\n"
      ],
      "text/plain": [
       "Added \u001b[1;36m1.1\u001b[0m.\n"
      ]
     },
     "metadata": {},
     "output_type": "display_data"
    },
    {
     "data": {
      "text/html": [
       "<pre style=\"white-space:pre;overflow-x:auto;line-height:normal;font-family:Menlo,'DejaVu Sans Mono',consolas,'Courier New',monospace\">Added ra-<span style=\"color: #008080; text-decoration-color: #008080; font-weight: bold\">10247</span>-november-<span style=\"color: #008080; text-decoration-color: #008080; font-weight: bold\">08</span>-<span style=\"color: #008080; text-decoration-color: #008080; font-weight: bold\">2012</span>\n",
       "</pre>\n"
      ],
      "text/plain": [
       "Added ra-\u001b[1;36m10247\u001b[0m-november-\u001b[1;36m08\u001b[0m-\u001b[1;36m2012\u001b[0m\n"
      ]
     },
     "metadata": {},
     "output_type": "display_data"
    },
    {
     "data": {
      "text/html": [
       "<pre style=\"white-space:pre;overflow-x:auto;line-height:normal;font-family:Menlo,'DejaVu Sans Mono',consolas,'Courier New',monospace\">Added <span style=\"color: #008080; text-decoration-color: #008080; font-weight: bold\">1.1</span>.\n",
       "</pre>\n"
      ],
      "text/plain": [
       "Added \u001b[1;36m1.1\u001b[0m.\n"
      ]
     },
     "metadata": {},
     "output_type": "display_data"
    },
    {
     "data": {
      "text/html": [
       "<pre style=\"white-space:pre;overflow-x:auto;line-height:normal;font-family:Menlo,'DejaVu Sans Mono',consolas,'Courier New',monospace\">Added ra-<span style=\"color: #008080; text-decoration-color: #008080; font-weight: bold\">10248</span>-november-<span style=\"color: #008080; text-decoration-color: #008080; font-weight: bold\">08</span>-<span style=\"color: #008080; text-decoration-color: #008080; font-weight: bold\">2012</span>\n",
       "</pre>\n"
      ],
      "text/plain": [
       "Added ra-\u001b[1;36m10248\u001b[0m-november-\u001b[1;36m08\u001b[0m-\u001b[1;36m2012\u001b[0m\n"
      ]
     },
     "metadata": {},
     "output_type": "display_data"
    },
    {
     "data": {
      "text/html": [
       "<pre style=\"white-space:pre;overflow-x:auto;line-height:normal;font-family:Menlo,'DejaVu Sans Mono',consolas,'Courier New',monospace\">Added <span style=\"color: #008080; text-decoration-color: #008080; font-weight: bold\">1.1</span>.\n",
       "</pre>\n"
      ],
      "text/plain": [
       "Added \u001b[1;36m1.1\u001b[0m.\n"
      ]
     },
     "metadata": {},
     "output_type": "display_data"
    },
    {
     "data": {
      "text/html": [
       "<pre style=\"white-space:pre;overflow-x:auto;line-height:normal;font-family:Menlo,'DejaVu Sans Mono',consolas,'Courier New',monospace\">Added ra-<span style=\"color: #008080; text-decoration-color: #008080; font-weight: bold\">10250</span>-november-<span style=\"color: #008080; text-decoration-color: #008080; font-weight: bold\">08</span>-<span style=\"color: #008080; text-decoration-color: #008080; font-weight: bold\">2012</span>\n",
       "</pre>\n"
      ],
      "text/plain": [
       "Added ra-\u001b[1;36m10250\u001b[0m-november-\u001b[1;36m08\u001b[0m-\u001b[1;36m2012\u001b[0m\n"
      ]
     },
     "metadata": {},
     "output_type": "display_data"
    },
    {
     "data": {
      "text/html": [
       "<pre style=\"white-space:pre;overflow-x:auto;line-height:normal;font-family:Menlo,'DejaVu Sans Mono',consolas,'Courier New',monospace\">Added <span style=\"color: #008080; text-decoration-color: #008080; font-weight: bold\">1.1</span>.\n",
       "</pre>\n"
      ],
      "text/plain": [
       "Added \u001b[1;36m1.1\u001b[0m.\n"
      ]
     },
     "metadata": {},
     "output_type": "display_data"
    },
    {
     "data": {
      "text/html": [
       "<pre style=\"white-space:pre;overflow-x:auto;line-height:normal;font-family:Menlo,'DejaVu Sans Mono',consolas,'Courier New',monospace\">Added ra-<span style=\"color: #008080; text-decoration-color: #008080; font-weight: bold\">10371</span>-february-<span style=\"color: #008080; text-decoration-color: #008080; font-weight: bold\">28</span>-<span style=\"color: #008080; text-decoration-color: #008080; font-weight: bold\">2013</span>\n",
       "</pre>\n"
      ],
      "text/plain": [
       "Added ra-\u001b[1;36m10371\u001b[0m-february-\u001b[1;36m28\u001b[0m-\u001b[1;36m2013\u001b[0m\n"
      ]
     },
     "metadata": {},
     "output_type": "display_data"
    },
    {
     "data": {
      "text/html": [
       "<pre style=\"white-space:pre;overflow-x:auto;line-height:normal;font-family:Menlo,'DejaVu Sans Mono',consolas,'Courier New',monospace\">Added <span style=\"color: #008080; text-decoration-color: #008080; font-weight: bold\">1.1</span>.\n",
       "</pre>\n"
      ],
      "text/plain": [
       "Added \u001b[1;36m1.1\u001b[0m.\n"
      ]
     },
     "metadata": {},
     "output_type": "display_data"
    },
    {
     "data": {
      "text/html": [
       "<pre style=\"white-space:pre;overflow-x:auto;line-height:normal;font-family:Menlo,'DejaVu Sans Mono',consolas,'Courier New',monospace\">Added ra-<span style=\"color: #008080; text-decoration-color: #008080; font-weight: bold\">10392</span>-march-<span style=\"color: #008080; text-decoration-color: #008080; font-weight: bold\">14</span>-<span style=\"color: #008080; text-decoration-color: #008080; font-weight: bold\">2013</span>\n",
       "</pre>\n"
      ],
      "text/plain": [
       "Added ra-\u001b[1;36m10392\u001b[0m-march-\u001b[1;36m14\u001b[0m-\u001b[1;36m2013\u001b[0m\n"
      ]
     },
     "metadata": {},
     "output_type": "display_data"
    },
    {
     "data": {
      "text/html": [
       "<pre style=\"white-space:pre;overflow-x:auto;line-height:normal;font-family:Menlo,'DejaVu Sans Mono',consolas,'Courier New',monospace\">Added <span style=\"color: #008080; text-decoration-color: #008080; font-weight: bold\">1.1</span>.\n",
       "</pre>\n"
      ],
      "text/plain": [
       "Added \u001b[1;36m1.1\u001b[0m.\n"
      ]
     },
     "metadata": {},
     "output_type": "display_data"
    },
    {
     "data": {
      "text/html": [
       "<pre style=\"white-space:pre;overflow-x:auto;line-height:normal;font-family:Menlo,'DejaVu Sans Mono',consolas,'Courier New',monospace\">Added ra-<span style=\"color: #008080; text-decoration-color: #008080; font-weight: bold\">10715</span>-december-<span style=\"color: #008080; text-decoration-color: #008080; font-weight: bold\">09</span>-<span style=\"color: #008080; text-decoration-color: #008080; font-weight: bold\">2015</span>\n",
       "</pre>\n"
      ],
      "text/plain": [
       "Added ra-\u001b[1;36m10715\u001b[0m-december-\u001b[1;36m09\u001b[0m-\u001b[1;36m2015\u001b[0m\n"
      ]
     },
     "metadata": {},
     "output_type": "display_data"
    },
    {
     "data": {
      "text/html": [
       "<pre style=\"white-space:pre;overflow-x:auto;line-height:normal;font-family:Menlo,'DejaVu Sans Mono',consolas,'Courier New',monospace\">Added <span style=\"color: #008080; text-decoration-color: #008080; font-weight: bold\">1.1</span>.\n",
       "</pre>\n"
      ],
      "text/plain": [
       "Added \u001b[1;36m1.1\u001b[0m.\n"
      ]
     },
     "metadata": {},
     "output_type": "display_data"
    },
    {
     "data": {
      "text/html": [
       "<pre style=\"white-space:pre;overflow-x:auto;line-height:normal;font-family:Menlo,'DejaVu Sans Mono',consolas,'Courier New',monospace\">Added ra-<span style=\"color: #008080; text-decoration-color: #008080; font-weight: bold\">10340</span>-november-<span style=\"color: #008080; text-decoration-color: #008080; font-weight: bold\">21</span>-<span style=\"color: #008080; text-decoration-color: #008080; font-weight: bold\">2012</span>\n",
       "</pre>\n"
      ],
      "text/plain": [
       "Added ra-\u001b[1;36m10340\u001b[0m-november-\u001b[1;36m21\u001b[0m-\u001b[1;36m2012\u001b[0m\n"
      ]
     },
     "metadata": {},
     "output_type": "display_data"
    },
    {
     "data": {
      "text/html": [
       "<pre style=\"white-space:pre;overflow-x:auto;line-height:normal;font-family:Menlo,'DejaVu Sans Mono',consolas,'Courier New',monospace\">Added <span style=\"color: #008080; text-decoration-color: #008080; font-weight: bold\">1.1</span>.\n",
       "</pre>\n"
      ],
      "text/plain": [
       "Added \u001b[1;36m1.1\u001b[0m.\n"
      ]
     },
     "metadata": {},
     "output_type": "display_data"
    },
    {
     "data": {
      "text/html": [
       "<pre style=\"white-space:pre;overflow-x:auto;line-height:normal;font-family:Menlo,'DejaVu Sans Mono',consolas,'Courier New',monospace\">Added ra-<span style=\"color: #008080; text-decoration-color: #008080; font-weight: bold\">10348</span>-december-<span style=\"color: #008080; text-decoration-color: #008080; font-weight: bold\">06</span>-<span style=\"color: #008080; text-decoration-color: #008080; font-weight: bold\">2012</span>\n",
       "</pre>\n"
      ],
      "text/plain": [
       "Added ra-\u001b[1;36m10348\u001b[0m-december-\u001b[1;36m06\u001b[0m-\u001b[1;36m2012\u001b[0m\n"
      ]
     },
     "metadata": {},
     "output_type": "display_data"
    },
    {
     "data": {
      "text/html": [
       "<pre style=\"white-space:pre;overflow-x:auto;line-height:normal;font-family:Menlo,'DejaVu Sans Mono',consolas,'Courier New',monospace\">Added <span style=\"color: #008080; text-decoration-color: #008080; font-weight: bold\">1.1</span>.\n",
       "</pre>\n"
      ],
      "text/plain": [
       "Added \u001b[1;36m1.1\u001b[0m.\n"
      ]
     },
     "metadata": {},
     "output_type": "display_data"
    },
    {
     "data": {
      "text/html": [
       "<pre style=\"white-space:pre;overflow-x:auto;line-height:normal;font-family:Menlo,'DejaVu Sans Mono',consolas,'Courier New',monospace\">Added ra-<span style=\"color: #008080; text-decoration-color: #008080; font-weight: bold\">10363</span>-january-<span style=\"color: #008080; text-decoration-color: #008080; font-weight: bold\">28</span>-<span style=\"color: #008080; text-decoration-color: #008080; font-weight: bold\">2013</span>\n",
       "</pre>\n"
      ],
      "text/plain": [
       "Added ra-\u001b[1;36m10363\u001b[0m-january-\u001b[1;36m28\u001b[0m-\u001b[1;36m2013\u001b[0m\n"
      ]
     },
     "metadata": {},
     "output_type": "display_data"
    },
    {
     "data": {
      "text/html": [
       "<pre style=\"white-space:pre;overflow-x:auto;line-height:normal;font-family:Menlo,'DejaVu Sans Mono',consolas,'Courier New',monospace\">Added <span style=\"color: #008080; text-decoration-color: #008080; font-weight: bold\">1.1</span>.\n",
       "</pre>\n"
      ],
      "text/plain": [
       "Added \u001b[1;36m1.1\u001b[0m.\n"
      ]
     },
     "metadata": {},
     "output_type": "display_data"
    },
    {
     "data": {
      "text/html": [
       "<pre style=\"white-space:pre;overflow-x:auto;line-height:normal;font-family:Menlo,'DejaVu Sans Mono',consolas,'Courier New',monospace\">Added ra-<span style=\"color: #008080; text-decoration-color: #008080; font-weight: bold\">10519</span>-april-<span style=\"color: #008080; text-decoration-color: #008080; font-weight: bold\">23</span>-<span style=\"color: #008080; text-decoration-color: #008080; font-weight: bold\">2013</span>\n",
       "</pre>\n"
      ],
      "text/plain": [
       "Added ra-\u001b[1;36m10519\u001b[0m-april-\u001b[1;36m23\u001b[0m-\u001b[1;36m2013\u001b[0m\n"
      ]
     },
     "metadata": {},
     "output_type": "display_data"
    },
    {
     "data": {
      "text/html": [
       "<pre style=\"white-space:pre;overflow-x:auto;line-height:normal;font-family:Menlo,'DejaVu Sans Mono',consolas,'Courier New',monospace\">Added <span style=\"color: #008080; text-decoration-color: #008080; font-weight: bold\">1.1</span>.\n",
       "</pre>\n"
      ],
      "text/plain": [
       "Added \u001b[1;36m1.1\u001b[0m.\n"
      ]
     },
     "metadata": {},
     "output_type": "display_data"
    },
    {
     "data": {
      "text/html": [
       "<pre style=\"white-space:pre;overflow-x:auto;line-height:normal;font-family:Menlo,'DejaVu Sans Mono',consolas,'Courier New',monospace\">Added ra-<span style=\"color: #008080; text-decoration-color: #008080; font-weight: bold\">10540</span>-may-<span style=\"color: #008080; text-decoration-color: #008080; font-weight: bold\">15</span>-<span style=\"color: #008080; text-decoration-color: #008080; font-weight: bold\">2013</span>\n",
       "</pre>\n"
      ],
      "text/plain": [
       "Added ra-\u001b[1;36m10540\u001b[0m-may-\u001b[1;36m15\u001b[0m-\u001b[1;36m2013\u001b[0m\n"
      ]
     },
     "metadata": {},
     "output_type": "display_data"
    },
    {
     "data": {
      "text/html": [
       "<pre style=\"white-space:pre;overflow-x:auto;line-height:normal;font-family:Menlo,'DejaVu Sans Mono',consolas,'Courier New',monospace\">Added <span style=\"color: #008080; text-decoration-color: #008080; font-weight: bold\">1.1</span>.\n",
       "</pre>\n"
      ],
      "text/plain": [
       "Added \u001b[1;36m1.1\u001b[0m.\n"
      ]
     },
     "metadata": {},
     "output_type": "display_data"
    },
    {
     "data": {
      "text/html": [
       "<pre style=\"white-space:pre;overflow-x:auto;line-height:normal;font-family:Menlo,'DejaVu Sans Mono',consolas,'Courier New',monospace\">Added ra-<span style=\"color: #008080; text-decoration-color: #008080; font-weight: bold\">10544</span>-may-<span style=\"color: #008080; text-decoration-color: #008080; font-weight: bold\">15</span>-<span style=\"color: #008080; text-decoration-color: #008080; font-weight: bold\">2013</span>\n",
       "</pre>\n"
      ],
      "text/plain": [
       "Added ra-\u001b[1;36m10544\u001b[0m-may-\u001b[1;36m15\u001b[0m-\u001b[1;36m2013\u001b[0m\n"
      ]
     },
     "metadata": {},
     "output_type": "display_data"
    },
    {
     "data": {
      "text/html": [
       "<pre style=\"white-space:pre;overflow-x:auto;line-height:normal;font-family:Menlo,'DejaVu Sans Mono',consolas,'Courier New',monospace\">Added <span style=\"color: #008080; text-decoration-color: #008080; font-weight: bold\">1.1</span>.\n",
       "</pre>\n"
      ],
      "text/plain": [
       "Added \u001b[1;36m1.1\u001b[0m.\n"
      ]
     },
     "metadata": {},
     "output_type": "display_data"
    },
    {
     "data": {
      "text/html": [
       "<pre style=\"white-space:pre;overflow-x:auto;line-height:normal;font-family:Menlo,'DejaVu Sans Mono',consolas,'Courier New',monospace\">Added ra-<span style=\"color: #008080; text-decoration-color: #008080; font-weight: bold\">10545</span>-may-<span style=\"color: #008080; text-decoration-color: #008080; font-weight: bold\">15</span>-<span style=\"color: #008080; text-decoration-color: #008080; font-weight: bold\">2013</span>\n",
       "</pre>\n"
      ],
      "text/plain": [
       "Added ra-\u001b[1;36m10545\u001b[0m-may-\u001b[1;36m15\u001b[0m-\u001b[1;36m2013\u001b[0m\n"
      ]
     },
     "metadata": {},
     "output_type": "display_data"
    },
    {
     "data": {
      "text/html": [
       "<pre style=\"white-space:pre;overflow-x:auto;line-height:normal;font-family:Menlo,'DejaVu Sans Mono',consolas,'Courier New',monospace\">Added <span style=\"color: #008080; text-decoration-color: #008080; font-weight: bold\">1.1</span>.\n",
       "</pre>\n"
      ],
      "text/plain": [
       "Added \u001b[1;36m1.1\u001b[0m.\n"
      ]
     },
     "metadata": {},
     "output_type": "display_data"
    },
    {
     "data": {
      "text/html": [
       "<pre style=\"white-space:pre;overflow-x:auto;line-height:normal;font-family:Menlo,'DejaVu Sans Mono',consolas,'Courier New',monospace\">Added ra-<span style=\"color: #008080; text-decoration-color: #008080; font-weight: bold\">10571</span>-may-<span style=\"color: #008080; text-decoration-color: #008080; font-weight: bold\">22</span>-<span style=\"color: #008080; text-decoration-color: #008080; font-weight: bold\">2013</span>\n",
       "</pre>\n"
      ],
      "text/plain": [
       "Added ra-\u001b[1;36m10571\u001b[0m-may-\u001b[1;36m22\u001b[0m-\u001b[1;36m2013\u001b[0m\n"
      ]
     },
     "metadata": {},
     "output_type": "display_data"
    },
    {
     "data": {
      "text/html": [
       "<pre style=\"white-space:pre;overflow-x:auto;line-height:normal;font-family:Menlo,'DejaVu Sans Mono',consolas,'Courier New',monospace\">Added <span style=\"color: #008080; text-decoration-color: #008080; font-weight: bold\">1.1</span>.\n",
       "</pre>\n"
      ],
      "text/plain": [
       "Added \u001b[1;36m1.1\u001b[0m.\n"
      ]
     },
     "metadata": {},
     "output_type": "display_data"
    },
    {
     "data": {
      "text/html": [
       "<pre style=\"white-space:pre;overflow-x:auto;line-height:normal;font-family:Menlo,'DejaVu Sans Mono',consolas,'Courier New',monospace\">Added ra-<span style=\"color: #008080; text-decoration-color: #008080; font-weight: bold\">10579</span>-may-<span style=\"color: #008080; text-decoration-color: #008080; font-weight: bold\">24</span>-<span style=\"color: #008080; text-decoration-color: #008080; font-weight: bold\">2013</span>\n",
       "</pre>\n"
      ],
      "text/plain": [
       "Added ra-\u001b[1;36m10579\u001b[0m-may-\u001b[1;36m24\u001b[0m-\u001b[1;36m2013\u001b[0m\n"
      ]
     },
     "metadata": {},
     "output_type": "display_data"
    },
    {
     "data": {
      "text/html": [
       "<pre style=\"white-space:pre;overflow-x:auto;line-height:normal;font-family:Menlo,'DejaVu Sans Mono',consolas,'Courier New',monospace\">Added <span style=\"color: #008080; text-decoration-color: #008080; font-weight: bold\">1.1</span>.\n",
       "</pre>\n"
      ],
      "text/plain": [
       "Added \u001b[1;36m1.1\u001b[0m.\n"
      ]
     },
     "metadata": {},
     "output_type": "display_data"
    },
    {
     "data": {
      "text/html": [
       "<pre style=\"white-space:pre;overflow-x:auto;line-height:normal;font-family:Menlo,'DejaVu Sans Mono',consolas,'Courier New',monospace\">Added ra-<span style=\"color: #008080; text-decoration-color: #008080; font-weight: bold\">10703</span>-november-<span style=\"color: #008080; text-decoration-color: #008080; font-weight: bold\">20</span>-<span style=\"color: #008080; text-decoration-color: #008080; font-weight: bold\">2015</span>\n",
       "</pre>\n"
      ],
      "text/plain": [
       "Added ra-\u001b[1;36m10703\u001b[0m-november-\u001b[1;36m20\u001b[0m-\u001b[1;36m2015\u001b[0m\n"
      ]
     },
     "metadata": {},
     "output_type": "display_data"
    },
    {
     "data": {
      "text/html": [
       "<pre style=\"white-space:pre;overflow-x:auto;line-height:normal;font-family:Menlo,'DejaVu Sans Mono',consolas,'Courier New',monospace\">Added <span style=\"color: #008080; text-decoration-color: #008080; font-weight: bold\">1.1</span>.\n",
       "</pre>\n"
      ],
      "text/plain": [
       "Added \u001b[1;36m1.1\u001b[0m.\n"
      ]
     },
     "metadata": {},
     "output_type": "display_data"
    },
    {
     "data": {
      "text/html": [
       "<pre style=\"white-space:pre;overflow-x:auto;line-height:normal;font-family:Menlo,'DejaVu Sans Mono',consolas,'Courier New',monospace\">Added ra-<span style=\"color: #008080; text-decoration-color: #008080; font-weight: bold\">10244</span>-november-<span style=\"color: #008080; text-decoration-color: #008080; font-weight: bold\">08</span>-<span style=\"color: #008080; text-decoration-color: #008080; font-weight: bold\">2012</span>\n",
       "</pre>\n"
      ],
      "text/plain": [
       "Added ra-\u001b[1;36m10244\u001b[0m-november-\u001b[1;36m08\u001b[0m-\u001b[1;36m2012\u001b[0m\n"
      ]
     },
     "metadata": {},
     "output_type": "display_data"
    },
    {
     "data": {
      "text/html": [
       "<pre style=\"white-space:pre;overflow-x:auto;line-height:normal;font-family:Menlo,'DejaVu Sans Mono',consolas,'Courier New',monospace\">Added <span style=\"color: #008080; text-decoration-color: #008080; font-weight: bold\">1.1</span>.\n",
       "</pre>\n"
      ],
      "text/plain": [
       "Added \u001b[1;36m1.1\u001b[0m.\n"
      ]
     },
     "metadata": {},
     "output_type": "display_data"
    },
    {
     "data": {
      "text/html": [
       "<pre style=\"white-space:pre;overflow-x:auto;line-height:normal;font-family:Menlo,'DejaVu Sans Mono',consolas,'Courier New',monospace\">Added ra-<span style=\"color: #008080; text-decoration-color: #008080; font-weight: bold\">10541</span>-may-<span style=\"color: #008080; text-decoration-color: #008080; font-weight: bold\">15</span>-<span style=\"color: #008080; text-decoration-color: #008080; font-weight: bold\">2013</span>\n",
       "</pre>\n"
      ],
      "text/plain": [
       "Added ra-\u001b[1;36m10541\u001b[0m-may-\u001b[1;36m15\u001b[0m-\u001b[1;36m2013\u001b[0m\n"
      ]
     },
     "metadata": {},
     "output_type": "display_data"
    },
    {
     "data": {
      "text/html": [
       "<pre style=\"white-space:pre;overflow-x:auto;line-height:normal;font-family:Menlo,'DejaVu Sans Mono',consolas,'Courier New',monospace\">Added <span style=\"color: #008080; text-decoration-color: #008080; font-weight: bold\">1.1</span>.\n",
       "</pre>\n"
      ],
      "text/plain": [
       "Added \u001b[1;36m1.1\u001b[0m.\n"
      ]
     },
     "metadata": {},
     "output_type": "display_data"
    },
    {
     "data": {
      "text/html": [
       "<pre style=\"white-space:pre;overflow-x:auto;line-height:normal;font-family:Menlo,'DejaVu Sans Mono',consolas,'Courier New',monospace\">Added ra-<span style=\"color: #008080; text-decoration-color: #008080; font-weight: bold\">10301</span>-november-<span style=\"color: #008080; text-decoration-color: #008080; font-weight: bold\">15</span>-<span style=\"color: #008080; text-decoration-color: #008080; font-weight: bold\">2012</span>\n",
       "</pre>\n"
      ],
      "text/plain": [
       "Added ra-\u001b[1;36m10301\u001b[0m-november-\u001b[1;36m15\u001b[0m-\u001b[1;36m2012\u001b[0m\n"
      ]
     },
     "metadata": {},
     "output_type": "display_data"
    },
    {
     "data": {
      "text/html": [
       "<pre style=\"white-space:pre;overflow-x:auto;line-height:normal;font-family:Menlo,'DejaVu Sans Mono',consolas,'Courier New',monospace\">Added <span style=\"color: #008080; text-decoration-color: #008080; font-weight: bold\">1.1</span>.\n",
       "</pre>\n"
      ],
      "text/plain": [
       "Added \u001b[1;36m1.1\u001b[0m.\n"
      ]
     },
     "metadata": {},
     "output_type": "display_data"
    },
    {
     "data": {
      "text/html": [
       "<pre style=\"white-space:pre;overflow-x:auto;line-height:normal;font-family:Menlo,'DejaVu Sans Mono',consolas,'Courier New',monospace\">Added ra-<span style=\"color: #008080; text-decoration-color: #008080; font-weight: bold\">10577</span>-may-<span style=\"color: #008080; text-decoration-color: #008080; font-weight: bold\">24</span>-<span style=\"color: #008080; text-decoration-color: #008080; font-weight: bold\">2013</span>\n",
       "</pre>\n"
      ],
      "text/plain": [
       "Added ra-\u001b[1;36m10577\u001b[0m-may-\u001b[1;36m24\u001b[0m-\u001b[1;36m2013\u001b[0m\n"
      ]
     },
     "metadata": {},
     "output_type": "display_data"
    },
    {
     "data": {
      "text/html": [
       "<pre style=\"white-space:pre;overflow-x:auto;line-height:normal;font-family:Menlo,'DejaVu Sans Mono',consolas,'Courier New',monospace\">Added <span style=\"color: #008080; text-decoration-color: #008080; font-weight: bold\">1.1</span>.\n",
       "</pre>\n"
      ],
      "text/plain": [
       "Added \u001b[1;36m1.1\u001b[0m.\n"
      ]
     },
     "metadata": {},
     "output_type": "display_data"
    },
    {
     "data": {
      "text/html": [
       "<pre style=\"white-space:pre;overflow-x:auto;line-height:normal;font-family:Menlo,'DejaVu Sans Mono',consolas,'Courier New',monospace\">Added ra-<span style=\"color: #008080; text-decoration-color: #008080; font-weight: bold\">11386</span>-august-<span style=\"color: #008080; text-decoration-color: #008080; font-weight: bold\">22</span>-<span style=\"color: #008080; text-decoration-color: #008080; font-weight: bold\">2019</span>\n",
       "</pre>\n"
      ],
      "text/plain": [
       "Added ra-\u001b[1;36m11386\u001b[0m-august-\u001b[1;36m22\u001b[0m-\u001b[1;36m2019\u001b[0m\n"
      ]
     },
     "metadata": {},
     "output_type": "display_data"
    },
    {
     "data": {
      "text/html": [
       "<pre style=\"white-space:pre;overflow-x:auto;line-height:normal;font-family:Menlo,'DejaVu Sans Mono',consolas,'Courier New',monospace\">Added <span style=\"color: #008080; text-decoration-color: #008080; font-weight: bold\">1.1</span>.\n",
       "</pre>\n"
      ],
      "text/plain": [
       "Added \u001b[1;36m1.1\u001b[0m.\n"
      ]
     },
     "metadata": {},
     "output_type": "display_data"
    },
    {
     "data": {
      "text/html": [
       "<pre style=\"white-space:pre;overflow-x:auto;line-height:normal;font-family:Menlo,'DejaVu Sans Mono',consolas,'Courier New',monospace\">Added ra-<span style=\"color: #008080; text-decoration-color: #008080; font-weight: bold\">11456</span>-august-<span style=\"color: #008080; text-decoration-color: #008080; font-weight: bold\">30</span>-<span style=\"color: #008080; text-decoration-color: #008080; font-weight: bold\">2019</span>\n",
       "</pre>\n"
      ],
      "text/plain": [
       "Added ra-\u001b[1;36m11456\u001b[0m-august-\u001b[1;36m30\u001b[0m-\u001b[1;36m2019\u001b[0m\n"
      ]
     },
     "metadata": {},
     "output_type": "display_data"
    },
    {
     "data": {
      "text/html": [
       "<pre style=\"white-space:pre;overflow-x:auto;line-height:normal;font-family:Menlo,'DejaVu Sans Mono',consolas,'Courier New',monospace\">Added <span style=\"color: #008080; text-decoration-color: #008080; font-weight: bold\">1.1</span>.\n",
       "</pre>\n"
      ],
      "text/plain": [
       "Added \u001b[1;36m1.1\u001b[0m.\n"
      ]
     },
     "metadata": {},
     "output_type": "display_data"
    },
    {
     "data": {
      "text/html": [
       "<pre style=\"white-space:pre;overflow-x:auto;line-height:normal;font-family:Menlo,'DejaVu Sans Mono',consolas,'Courier New',monospace\">Added ra-<span style=\"color: #008080; text-decoration-color: #008080; font-weight: bold\">10362</span>-january-<span style=\"color: #008080; text-decoration-color: #008080; font-weight: bold\">23</span>-<span style=\"color: #008080; text-decoration-color: #008080; font-weight: bold\">2013</span>\n",
       "</pre>\n"
      ],
      "text/plain": [
       "Added ra-\u001b[1;36m10362\u001b[0m-january-\u001b[1;36m23\u001b[0m-\u001b[1;36m2013\u001b[0m\n"
      ]
     },
     "metadata": {},
     "output_type": "display_data"
    },
    {
     "data": {
      "text/html": [
       "<pre style=\"white-space:pre;overflow-x:auto;line-height:normal;font-family:Menlo,'DejaVu Sans Mono',consolas,'Courier New',monospace\">Added <span style=\"color: #008080; text-decoration-color: #008080; font-weight: bold\">1.1</span>.\n",
       "</pre>\n"
      ],
      "text/plain": [
       "Added \u001b[1;36m1.1\u001b[0m.\n"
      ]
     },
     "metadata": {},
     "output_type": "display_data"
    },
    {
     "data": {
      "text/html": [
       "<pre style=\"white-space:pre;overflow-x:auto;line-height:normal;font-family:Menlo,'DejaVu Sans Mono',consolas,'Courier New',monospace\">Added ra-<span style=\"color: #008080; text-decoration-color: #008080; font-weight: bold\">10602</span>-june-<span style=\"color: #008080; text-decoration-color: #008080; font-weight: bold\">11</span>-<span style=\"color: #008080; text-decoration-color: #008080; font-weight: bold\">2013</span>\n",
       "</pre>\n"
      ],
      "text/plain": [
       "Added ra-\u001b[1;36m10602\u001b[0m-june-\u001b[1;36m11\u001b[0m-\u001b[1;36m2013\u001b[0m\n"
      ]
     },
     "metadata": {},
     "output_type": "display_data"
    },
    {
     "data": {
      "text/html": [
       "<pre style=\"white-space:pre;overflow-x:auto;line-height:normal;font-family:Menlo,'DejaVu Sans Mono',consolas,'Courier New',monospace\">Added <span style=\"color: #008080; text-decoration-color: #008080; font-weight: bold\">1.1</span>.\n",
       "</pre>\n"
      ],
      "text/plain": [
       "Added \u001b[1;36m1.1\u001b[0m.\n"
      ]
     },
     "metadata": {},
     "output_type": "display_data"
    },
    {
     "data": {
      "text/html": [
       "<pre style=\"white-space:pre;overflow-x:auto;line-height:normal;font-family:Menlo,'DejaVu Sans Mono',consolas,'Courier New',monospace\">Added ra-<span style=\"color: #008080; text-decoration-color: #008080; font-weight: bold\">10701</span>-november-<span style=\"color: #008080; text-decoration-color: #008080; font-weight: bold\">20</span>-<span style=\"color: #008080; text-decoration-color: #008080; font-weight: bold\">2015</span>\n",
       "</pre>\n"
      ],
      "text/plain": [
       "Added ra-\u001b[1;36m10701\u001b[0m-november-\u001b[1;36m20\u001b[0m-\u001b[1;36m2015\u001b[0m\n"
      ]
     },
     "metadata": {},
     "output_type": "display_data"
    },
    {
     "data": {
      "text/html": [
       "<pre style=\"white-space:pre;overflow-x:auto;line-height:normal;font-family:Menlo,'DejaVu Sans Mono',consolas,'Courier New',monospace\">Added <span style=\"color: #008080; text-decoration-color: #008080; font-weight: bold\">1.1</span>.\n",
       "</pre>\n"
      ],
      "text/plain": [
       "Added \u001b[1;36m1.1\u001b[0m.\n"
      ]
     },
     "metadata": {},
     "output_type": "display_data"
    },
    {
     "data": {
      "text/html": [
       "<pre style=\"white-space:pre;overflow-x:auto;line-height:normal;font-family:Menlo,'DejaVu Sans Mono',consolas,'Courier New',monospace\">Added ra-<span style=\"color: #008080; text-decoration-color: #008080; font-weight: bold\">10243</span>-november-<span style=\"color: #008080; text-decoration-color: #008080; font-weight: bold\">08</span>-<span style=\"color: #008080; text-decoration-color: #008080; font-weight: bold\">2012</span>\n",
       "</pre>\n"
      ],
      "text/plain": [
       "Added ra-\u001b[1;36m10243\u001b[0m-november-\u001b[1;36m08\u001b[0m-\u001b[1;36m2012\u001b[0m\n"
      ]
     },
     "metadata": {},
     "output_type": "display_data"
    },
    {
     "data": {
      "text/html": [
       "<pre style=\"white-space:pre;overflow-x:auto;line-height:normal;font-family:Menlo,'DejaVu Sans Mono',consolas,'Courier New',monospace\">Added <span style=\"color: #008080; text-decoration-color: #008080; font-weight: bold\">1.1</span>.\n",
       "</pre>\n"
      ],
      "text/plain": [
       "Added \u001b[1;36m1.1\u001b[0m.\n"
      ]
     },
     "metadata": {},
     "output_type": "display_data"
    },
    {
     "data": {
      "text/html": [
       "<pre style=\"white-space:pre;overflow-x:auto;line-height:normal;font-family:Menlo,'DejaVu Sans Mono',consolas,'Courier New',monospace\">Added ra-<span style=\"color: #008080; text-decoration-color: #008080; font-weight: bold\">10246</span>-november-<span style=\"color: #008080; text-decoration-color: #008080; font-weight: bold\">08</span>-<span style=\"color: #008080; text-decoration-color: #008080; font-weight: bold\">2012</span>\n",
       "</pre>\n"
      ],
      "text/plain": [
       "Added ra-\u001b[1;36m10246\u001b[0m-november-\u001b[1;36m08\u001b[0m-\u001b[1;36m2012\u001b[0m\n"
      ]
     },
     "metadata": {},
     "output_type": "display_data"
    },
    {
     "data": {
      "text/html": [
       "<pre style=\"white-space:pre;overflow-x:auto;line-height:normal;font-family:Menlo,'DejaVu Sans Mono',consolas,'Courier New',monospace\">Added <span style=\"color: #008080; text-decoration-color: #008080; font-weight: bold\">1.1</span>.\n",
       "</pre>\n"
      ],
      "text/plain": [
       "Added \u001b[1;36m1.1\u001b[0m.\n"
      ]
     },
     "metadata": {},
     "output_type": "display_data"
    },
    {
     "data": {
      "text/html": [
       "<pre style=\"white-space:pre;overflow-x:auto;line-height:normal;font-family:Menlo,'DejaVu Sans Mono',consolas,'Courier New',monospace\">Added ra-<span style=\"color: #008080; text-decoration-color: #008080; font-weight: bold\">10252</span>-november-<span style=\"color: #008080; text-decoration-color: #008080; font-weight: bold\">08</span>-<span style=\"color: #008080; text-decoration-color: #008080; font-weight: bold\">2012</span>\n",
       "</pre>\n"
      ],
      "text/plain": [
       "Added ra-\u001b[1;36m10252\u001b[0m-november-\u001b[1;36m08\u001b[0m-\u001b[1;36m2012\u001b[0m\n"
      ]
     },
     "metadata": {},
     "output_type": "display_data"
    },
    {
     "data": {
      "text/html": [
       "<pre style=\"white-space:pre;overflow-x:auto;line-height:normal;font-family:Menlo,'DejaVu Sans Mono',consolas,'Courier New',monospace\">Added <span style=\"color: #008080; text-decoration-color: #008080; font-weight: bold\">1.1</span>.\n",
       "</pre>\n"
      ],
      "text/plain": [
       "Added \u001b[1;36m1.1\u001b[0m.\n"
      ]
     },
     "metadata": {},
     "output_type": "display_data"
    },
    {
     "data": {
      "text/html": [
       "<pre style=\"white-space:pre;overflow-x:auto;line-height:normal;font-family:Menlo,'DejaVu Sans Mono',consolas,'Courier New',monospace\">Added ra-<span style=\"color: #008080; text-decoration-color: #008080; font-weight: bold\">10393</span>-march-<span style=\"color: #008080; text-decoration-color: #008080; font-weight: bold\">14</span>-<span style=\"color: #008080; text-decoration-color: #008080; font-weight: bold\">2013</span>\n",
       "</pre>\n"
      ],
      "text/plain": [
       "Added ra-\u001b[1;36m10393\u001b[0m-march-\u001b[1;36m14\u001b[0m-\u001b[1;36m2013\u001b[0m\n"
      ]
     },
     "metadata": {},
     "output_type": "display_data"
    },
    {
     "data": {
      "text/html": [
       "<pre style=\"white-space:pre;overflow-x:auto;line-height:normal;font-family:Menlo,'DejaVu Sans Mono',consolas,'Courier New',monospace\">Added <span style=\"color: #008080; text-decoration-color: #008080; font-weight: bold\">1.1</span>.\n",
       "</pre>\n"
      ],
      "text/plain": [
       "Added \u001b[1;36m1.1\u001b[0m.\n"
      ]
     },
     "metadata": {},
     "output_type": "display_data"
    },
    {
     "data": {
      "text/html": [
       "<pre style=\"white-space:pre;overflow-x:auto;line-height:normal;font-family:Menlo,'DejaVu Sans Mono',consolas,'Courier New',monospace\">Added ra-<span style=\"color: #008080; text-decoration-color: #008080; font-weight: bold\">10565</span>-may-<span style=\"color: #008080; text-decoration-color: #008080; font-weight: bold\">22</span>-<span style=\"color: #008080; text-decoration-color: #008080; font-weight: bold\">2013</span>\n",
       "</pre>\n"
      ],
      "text/plain": [
       "Added ra-\u001b[1;36m10565\u001b[0m-may-\u001b[1;36m22\u001b[0m-\u001b[1;36m2013\u001b[0m\n"
      ]
     },
     "metadata": {},
     "output_type": "display_data"
    },
    {
     "data": {
      "text/html": [
       "<pre style=\"white-space:pre;overflow-x:auto;line-height:normal;font-family:Menlo,'DejaVu Sans Mono',consolas,'Courier New',monospace\">Added <span style=\"color: #008080; text-decoration-color: #008080; font-weight: bold\">1.1</span>.\n",
       "</pre>\n"
      ],
      "text/plain": [
       "Added \u001b[1;36m1.1\u001b[0m.\n"
      ]
     },
     "metadata": {},
     "output_type": "display_data"
    },
    {
     "data": {
      "text/html": [
       "<pre style=\"white-space:pre;overflow-x:auto;line-height:normal;font-family:Menlo,'DejaVu Sans Mono',consolas,'Courier New',monospace\">Added ra-<span style=\"color: #008080; text-decoration-color: #008080; font-weight: bold\">10608</span>-august-<span style=\"color: #008080; text-decoration-color: #008080; font-weight: bold\">22</span>-<span style=\"color: #008080; text-decoration-color: #008080; font-weight: bold\">2013</span>\n",
       "</pre>\n"
      ],
      "text/plain": [
       "Added ra-\u001b[1;36m10608\u001b[0m-august-\u001b[1;36m22\u001b[0m-\u001b[1;36m2013\u001b[0m\n"
      ]
     },
     "metadata": {},
     "output_type": "display_data"
    },
    {
     "data": {
      "text/html": [
       "<pre style=\"white-space:pre;overflow-x:auto;line-height:normal;font-family:Menlo,'DejaVu Sans Mono',consolas,'Courier New',monospace\">Added <span style=\"color: #008080; text-decoration-color: #008080; font-weight: bold\">1.1</span>.\n",
       "</pre>\n"
      ],
      "text/plain": [
       "Added \u001b[1;36m1.1\u001b[0m.\n"
      ]
     },
     "metadata": {},
     "output_type": "display_data"
    },
    {
     "data": {
      "text/html": [
       "<pre style=\"white-space:pre;overflow-x:auto;line-height:normal;font-family:Menlo,'DejaVu Sans Mono',consolas,'Courier New',monospace\">Added ra-<span style=\"color: #008080; text-decoration-color: #008080; font-weight: bold\">10542</span>-may-<span style=\"color: #008080; text-decoration-color: #008080; font-weight: bold\">15</span>-<span style=\"color: #008080; text-decoration-color: #008080; font-weight: bold\">2013</span>\n",
       "</pre>\n"
      ],
      "text/plain": [
       "Added ra-\u001b[1;36m10542\u001b[0m-may-\u001b[1;36m15\u001b[0m-\u001b[1;36m2013\u001b[0m\n"
      ]
     },
     "metadata": {},
     "output_type": "display_data"
    },
    {
     "data": {
      "text/html": [
       "<pre style=\"white-space:pre;overflow-x:auto;line-height:normal;font-family:Menlo,'DejaVu Sans Mono',consolas,'Courier New',monospace\">Added <span style=\"color: #008080; text-decoration-color: #008080; font-weight: bold\">1.1</span>.\n",
       "</pre>\n"
      ],
      "text/plain": [
       "Added \u001b[1;36m1.1\u001b[0m.\n"
      ]
     },
     "metadata": {},
     "output_type": "display_data"
    },
    {
     "data": {
      "text/html": [
       "<pre style=\"white-space:pre;overflow-x:auto;line-height:normal;font-family:Menlo,'DejaVu Sans Mono',consolas,'Courier New',monospace\">Added ra-<span style=\"color: #008080; text-decoration-color: #008080; font-weight: bold\">10546</span>-may-<span style=\"color: #008080; text-decoration-color: #008080; font-weight: bold\">15</span>-<span style=\"color: #008080; text-decoration-color: #008080; font-weight: bold\">2013</span>\n",
       "</pre>\n"
      ],
      "text/plain": [
       "Added ra-\u001b[1;36m10546\u001b[0m-may-\u001b[1;36m15\u001b[0m-\u001b[1;36m2013\u001b[0m\n"
      ]
     },
     "metadata": {},
     "output_type": "display_data"
    },
    {
     "data": {
      "text/html": [
       "<pre style=\"white-space:pre;overflow-x:auto;line-height:normal;font-family:Menlo,'DejaVu Sans Mono',consolas,'Courier New',monospace\">Added <span style=\"color: #008080; text-decoration-color: #008080; font-weight: bold\">1.1</span>.\n",
       "</pre>\n"
      ],
      "text/plain": [
       "Added \u001b[1;36m1.1\u001b[0m.\n"
      ]
     },
     "metadata": {},
     "output_type": "display_data"
    },
    {
     "data": {
      "text/html": [
       "<pre style=\"white-space:pre;overflow-x:auto;line-height:normal;font-family:Menlo,'DejaVu Sans Mono',consolas,'Courier New',monospace\">Added ra-<span style=\"color: #008080; text-decoration-color: #008080; font-weight: bold\">10576</span>-may-<span style=\"color: #008080; text-decoration-color: #008080; font-weight: bold\">24</span>-<span style=\"color: #008080; text-decoration-color: #008080; font-weight: bold\">2013</span>\n",
       "</pre>\n"
      ],
      "text/plain": [
       "Added ra-\u001b[1;36m10576\u001b[0m-may-\u001b[1;36m24\u001b[0m-\u001b[1;36m2013\u001b[0m\n"
      ]
     },
     "metadata": {},
     "output_type": "display_data"
    },
    {
     "data": {
      "text/html": [
       "<pre style=\"white-space:pre;overflow-x:auto;line-height:normal;font-family:Menlo,'DejaVu Sans Mono',consolas,'Courier New',monospace\">Added <span style=\"color: #008080; text-decoration-color: #008080; font-weight: bold\">1.1</span>.\n",
       "</pre>\n"
      ],
      "text/plain": [
       "Added \u001b[1;36m1.1\u001b[0m.\n"
      ]
     },
     "metadata": {},
     "output_type": "display_data"
    },
    {
     "data": {
      "text/html": [
       "<pre style=\"white-space:pre;overflow-x:auto;line-height:normal;font-family:Menlo,'DejaVu Sans Mono',consolas,'Courier New',monospace\">Added ra-<span style=\"color: #008080; text-decoration-color: #008080; font-weight: bold\">11455</span>-august-<span style=\"color: #008080; text-decoration-color: #008080; font-weight: bold\">30</span>-<span style=\"color: #008080; text-decoration-color: #008080; font-weight: bold\">2019</span>\n",
       "</pre>\n"
      ],
      "text/plain": [
       "Added ra-\u001b[1;36m11455\u001b[0m-august-\u001b[1;36m30\u001b[0m-\u001b[1;36m2019\u001b[0m\n"
      ]
     },
     "metadata": {},
     "output_type": "display_data"
    },
    {
     "data": {
      "text/html": [
       "<pre style=\"white-space:pre;overflow-x:auto;line-height:normal;font-family:Menlo,'DejaVu Sans Mono',consolas,'Courier New',monospace\">Added <span style=\"color: #008080; text-decoration-color: #008080; font-weight: bold\">1.1</span>.\n",
       "</pre>\n"
      ],
      "text/plain": [
       "Added \u001b[1;36m1.1\u001b[0m.\n"
      ]
     },
     "metadata": {},
     "output_type": "display_data"
    },
    {
     "data": {
      "text/html": [
       "<pre style=\"white-space:pre;overflow-x:auto;line-height:normal;font-family:Menlo,'DejaVu Sans Mono',consolas,'Courier New',monospace\">Added ra-<span style=\"color: #008080; text-decoration-color: #008080; font-weight: bold\">9374</span>-march-<span style=\"color: #008080; text-decoration-color: #008080; font-weight: bold\">06</span>-<span style=\"color: #008080; text-decoration-color: #008080; font-weight: bold\">2007</span>\n",
       "</pre>\n"
      ],
      "text/plain": [
       "Added ra-\u001b[1;36m9374\u001b[0m-march-\u001b[1;36m06\u001b[0m-\u001b[1;36m2007\u001b[0m\n"
      ]
     },
     "metadata": {},
     "output_type": "display_data"
    },
    {
     "data": {
      "text/html": [
       "<pre style=\"white-space:pre;overflow-x:auto;line-height:normal;font-family:Menlo,'DejaVu Sans Mono',consolas,'Courier New',monospace\">Added <span style=\"color: #008080; text-decoration-color: #008080; font-weight: bold\">1.1</span>.\n",
       "</pre>\n"
      ],
      "text/plain": [
       "Added \u001b[1;36m1.1\u001b[0m.\n"
      ]
     },
     "metadata": {},
     "output_type": "display_data"
    },
    {
     "data": {
      "text/html": [
       "<pre style=\"white-space:pre;overflow-x:auto;line-height:normal;font-family:Menlo,'DejaVu Sans Mono',consolas,'Courier New',monospace\">Added ra-<span style=\"color: #008080; text-decoration-color: #008080; font-weight: bold\">9376</span>-march-<span style=\"color: #008080; text-decoration-color: #008080; font-weight: bold\">06</span>-<span style=\"color: #008080; text-decoration-color: #008080; font-weight: bold\">2007</span>\n",
       "</pre>\n"
      ],
      "text/plain": [
       "Added ra-\u001b[1;36m9376\u001b[0m-march-\u001b[1;36m06\u001b[0m-\u001b[1;36m2007\u001b[0m\n"
      ]
     },
     "metadata": {},
     "output_type": "display_data"
    },
    {
     "data": {
      "text/html": [
       "<pre style=\"white-space:pre;overflow-x:auto;line-height:normal;font-family:Menlo,'DejaVu Sans Mono',consolas,'Courier New',monospace\">Added <span style=\"color: #008080; text-decoration-color: #008080; font-weight: bold\">1.1</span>.\n",
       "</pre>\n"
      ],
      "text/plain": [
       "Added \u001b[1;36m1.1\u001b[0m.\n"
      ]
     },
     "metadata": {},
     "output_type": "display_data"
    },
    {
     "data": {
      "text/html": [
       "<pre style=\"white-space:pre;overflow-x:auto;line-height:normal;font-family:Menlo,'DejaVu Sans Mono',consolas,'Courier New',monospace\">Added ra-<span style=\"color: #008080; text-decoration-color: #008080; font-weight: bold\">9424</span>-april-<span style=\"color: #008080; text-decoration-color: #008080; font-weight: bold\">10</span>-<span style=\"color: #008080; text-decoration-color: #008080; font-weight: bold\">2007</span>\n",
       "</pre>\n"
      ],
      "text/plain": [
       "Added ra-\u001b[1;36m9424\u001b[0m-april-\u001b[1;36m10\u001b[0m-\u001b[1;36m2007\u001b[0m\n"
      ]
     },
     "metadata": {},
     "output_type": "display_data"
    },
    {
     "data": {
      "text/html": [
       "<pre style=\"white-space:pre;overflow-x:auto;line-height:normal;font-family:Menlo,'DejaVu Sans Mono',consolas,'Courier New',monospace\">Added <span style=\"color: #008080; text-decoration-color: #008080; font-weight: bold\">1.1</span>.\n",
       "</pre>\n"
      ],
      "text/plain": [
       "Added \u001b[1;36m1.1\u001b[0m.\n"
      ]
     },
     "metadata": {},
     "output_type": "display_data"
    },
    {
     "data": {
      "text/html": [
       "<pre style=\"white-space:pre;overflow-x:auto;line-height:normal;font-family:Menlo,'DejaVu Sans Mono',consolas,'Courier New',monospace\">Added ra-<span style=\"color: #008080; text-decoration-color: #008080; font-weight: bold\">10251</span>-november-<span style=\"color: #008080; text-decoration-color: #008080; font-weight: bold\">08</span>-<span style=\"color: #008080; text-decoration-color: #008080; font-weight: bold\">2012</span>\n",
       "</pre>\n"
      ],
      "text/plain": [
       "Added ra-\u001b[1;36m10251\u001b[0m-november-\u001b[1;36m08\u001b[0m-\u001b[1;36m2012\u001b[0m\n"
      ]
     },
     "metadata": {},
     "output_type": "display_data"
    },
    {
     "data": {
      "text/html": [
       "<pre style=\"white-space:pre;overflow-x:auto;line-height:normal;font-family:Menlo,'DejaVu Sans Mono',consolas,'Courier New',monospace\">Added <span style=\"color: #008080; text-decoration-color: #008080; font-weight: bold\">1.1</span>.\n",
       "</pre>\n"
      ],
      "text/plain": [
       "Added \u001b[1;36m1.1\u001b[0m.\n"
      ]
     },
     "metadata": {},
     "output_type": "display_data"
    },
    {
     "data": {
      "text/html": [
       "<pre style=\"white-space:pre;overflow-x:auto;line-height:normal;font-family:Menlo,'DejaVu Sans Mono',consolas,'Courier New',monospace\">Added ra-<span style=\"color: #008080; text-decoration-color: #008080; font-weight: bold\">10381</span>-march-<span style=\"color: #008080; text-decoration-color: #008080; font-weight: bold\">14</span>-<span style=\"color: #008080; text-decoration-color: #008080; font-weight: bold\">2013</span>\n",
       "</pre>\n"
      ],
      "text/plain": [
       "Added ra-\u001b[1;36m10381\u001b[0m-march-\u001b[1;36m14\u001b[0m-\u001b[1;36m2013\u001b[0m\n"
      ]
     },
     "metadata": {},
     "output_type": "display_data"
    },
    {
     "data": {
      "text/html": [
       "<pre style=\"white-space:pre;overflow-x:auto;line-height:normal;font-family:Menlo,'DejaVu Sans Mono',consolas,'Courier New',monospace\">Added <span style=\"color: #008080; text-decoration-color: #008080; font-weight: bold\">1.1</span>.\n",
       "</pre>\n"
      ],
      "text/plain": [
       "Added \u001b[1;36m1.1\u001b[0m.\n"
      ]
     },
     "metadata": {},
     "output_type": "display_data"
    },
    {
     "data": {
      "text/html": [
       "<pre style=\"white-space:pre;overflow-x:auto;line-height:normal;font-family:Menlo,'DejaVu Sans Mono',consolas,'Courier New',monospace\">Added ra-<span style=\"color: #008080; text-decoration-color: #008080; font-weight: bold\">10480</span>-april-<span style=\"color: #008080; text-decoration-color: #008080; font-weight: bold\">16</span>-<span style=\"color: #008080; text-decoration-color: #008080; font-weight: bold\">2013</span>\n",
       "</pre>\n"
      ],
      "text/plain": [
       "Added ra-\u001b[1;36m10480\u001b[0m-april-\u001b[1;36m16\u001b[0m-\u001b[1;36m2013\u001b[0m\n"
      ]
     },
     "metadata": {},
     "output_type": "display_data"
    },
    {
     "data": {
      "text/html": [
       "<pre style=\"white-space:pre;overflow-x:auto;line-height:normal;font-family:Menlo,'DejaVu Sans Mono',consolas,'Courier New',monospace\">Added <span style=\"color: #008080; text-decoration-color: #008080; font-weight: bold\">1.1</span>.\n",
       "</pre>\n"
      ],
      "text/plain": [
       "Added \u001b[1;36m1.1\u001b[0m.\n"
      ]
     },
     "metadata": {},
     "output_type": "display_data"
    },
    {
     "data": {
      "text/html": [
       "<pre style=\"white-space:pre;overflow-x:auto;line-height:normal;font-family:Menlo,'DejaVu Sans Mono',consolas,'Courier New',monospace\">Added ra-<span style=\"color: #008080; text-decoration-color: #008080; font-weight: bold\">10522</span>-april-<span style=\"color: #008080; text-decoration-color: #008080; font-weight: bold\">23</span>-<span style=\"color: #008080; text-decoration-color: #008080; font-weight: bold\">2013</span>\n",
       "</pre>\n"
      ],
      "text/plain": [
       "Added ra-\u001b[1;36m10522\u001b[0m-april-\u001b[1;36m23\u001b[0m-\u001b[1;36m2013\u001b[0m\n"
      ]
     },
     "metadata": {},
     "output_type": "display_data"
    },
    {
     "data": {
      "text/html": [
       "<pre style=\"white-space:pre;overflow-x:auto;line-height:normal;font-family:Menlo,'DejaVu Sans Mono',consolas,'Courier New',monospace\">Added <span style=\"color: #008080; text-decoration-color: #008080; font-weight: bold\">1.1</span>.\n",
       "</pre>\n"
      ],
      "text/plain": [
       "Added \u001b[1;36m1.1\u001b[0m.\n"
      ]
     },
     "metadata": {},
     "output_type": "display_data"
    },
    {
     "data": {
      "text/html": [
       "<pre style=\"white-space:pre;overflow-x:auto;line-height:normal;font-family:Menlo,'DejaVu Sans Mono',consolas,'Courier New',monospace\">Added ra-<span style=\"color: #008080; text-decoration-color: #008080; font-weight: bold\">10537</span>-may-<span style=\"color: #008080; text-decoration-color: #008080; font-weight: bold\">15</span>-<span style=\"color: #008080; text-decoration-color: #008080; font-weight: bold\">2013</span>\n",
       "</pre>\n"
      ],
      "text/plain": [
       "Added ra-\u001b[1;36m10537\u001b[0m-may-\u001b[1;36m15\u001b[0m-\u001b[1;36m2013\u001b[0m\n"
      ]
     },
     "metadata": {},
     "output_type": "display_data"
    },
    {
     "data": {
      "text/html": [
       "<pre style=\"white-space:pre;overflow-x:auto;line-height:normal;font-family:Menlo,'DejaVu Sans Mono',consolas,'Courier New',monospace\">Added <span style=\"color: #008080; text-decoration-color: #008080; font-weight: bold\">1.1</span>.\n",
       "</pre>\n"
      ],
      "text/plain": [
       "Added \u001b[1;36m1.1\u001b[0m.\n"
      ]
     },
     "metadata": {},
     "output_type": "display_data"
    },
    {
     "data": {
      "text/html": [
       "<pre style=\"white-space:pre;overflow-x:auto;line-height:normal;font-family:Menlo,'DejaVu Sans Mono',consolas,'Courier New',monospace\">Added ra-<span style=\"color: #008080; text-decoration-color: #008080; font-weight: bold\">10566</span>-may-<span style=\"color: #008080; text-decoration-color: #008080; font-weight: bold\">22</span>-<span style=\"color: #008080; text-decoration-color: #008080; font-weight: bold\">2013</span>\n",
       "</pre>\n"
      ],
      "text/plain": [
       "Added ra-\u001b[1;36m10566\u001b[0m-may-\u001b[1;36m22\u001b[0m-\u001b[1;36m2013\u001b[0m\n"
      ]
     },
     "metadata": {},
     "output_type": "display_data"
    },
    {
     "data": {
      "text/html": [
       "<pre style=\"white-space:pre;overflow-x:auto;line-height:normal;font-family:Menlo,'DejaVu Sans Mono',consolas,'Courier New',monospace\">Added <span style=\"color: #008080; text-decoration-color: #008080; font-weight: bold\">1.1</span>.\n",
       "</pre>\n"
      ],
      "text/plain": [
       "Added \u001b[1;36m1.1\u001b[0m.\n"
      ]
     },
     "metadata": {},
     "output_type": "display_data"
    },
    {
     "data": {
      "text/html": [
       "<pre style=\"white-space:pre;overflow-x:auto;line-height:normal;font-family:Menlo,'DejaVu Sans Mono',consolas,'Courier New',monospace\">Added ra-<span style=\"color: #008080; text-decoration-color: #008080; font-weight: bold\">9252</span>-february-<span style=\"color: #008080; text-decoration-color: #008080; font-weight: bold\">24</span>-<span style=\"color: #008080; text-decoration-color: #008080; font-weight: bold\">2004</span>\n",
       "</pre>\n"
      ],
      "text/plain": [
       "Added ra-\u001b[1;36m9252\u001b[0m-february-\u001b[1;36m24\u001b[0m-\u001b[1;36m2004\u001b[0m\n"
      ]
     },
     "metadata": {},
     "output_type": "display_data"
    },
    {
     "data": {
      "text/html": [
       "<pre style=\"white-space:pre;overflow-x:auto;line-height:normal;font-family:Menlo,'DejaVu Sans Mono',consolas,'Courier New',monospace\">Added <span style=\"color: #008080; text-decoration-color: #008080; font-weight: bold\">1.1</span>.<span style=\"color: #008080; text-decoration-color: #008080; font-weight: bold\">1</span>.\n",
       "</pre>\n"
      ],
      "text/plain": [
       "Added \u001b[1;36m1.1\u001b[0m.\u001b[1;36m1\u001b[0m.\n"
      ]
     },
     "metadata": {},
     "output_type": "display_data"
    },
    {
     "data": {
      "text/html": [
       "<pre style=\"white-space:pre;overflow-x:auto;line-height:normal;font-family:Menlo,'DejaVu Sans Mono',consolas,'Courier New',monospace\">Added ra-<span style=\"color: #008080; text-decoration-color: #008080; font-weight: bold\">9274</span>-march-<span style=\"color: #008080; text-decoration-color: #008080; font-weight: bold\">21</span>-<span style=\"color: #008080; text-decoration-color: #008080; font-weight: bold\">2004</span>\n",
       "</pre>\n"
      ],
      "text/plain": [
       "Added ra-\u001b[1;36m9274\u001b[0m-march-\u001b[1;36m21\u001b[0m-\u001b[1;36m2004\u001b[0m\n"
      ]
     },
     "metadata": {},
     "output_type": "display_data"
    },
    {
     "data": {
      "text/html": [
       "<pre style=\"white-space:pre;overflow-x:auto;line-height:normal;font-family:Menlo,'DejaVu Sans Mono',consolas,'Courier New',monospace\">Added <span style=\"color: #008080; text-decoration-color: #008080; font-weight: bold\">1.1</span>.<span style=\"color: #008080; text-decoration-color: #008080; font-weight: bold\">1</span>.\n",
       "</pre>\n"
      ],
      "text/plain": [
       "Added \u001b[1;36m1.1\u001b[0m.\u001b[1;36m1\u001b[0m.\n"
      ]
     },
     "metadata": {},
     "output_type": "display_data"
    },
    {
     "data": {
      "text/html": [
       "<pre style=\"white-space:pre;overflow-x:auto;line-height:normal;font-family:Menlo,'DejaVu Sans Mono',consolas,'Courier New',monospace\">Added ra-<span style=\"color: #008080; text-decoration-color: #008080; font-weight: bold\">9276</span>-march-<span style=\"color: #008080; text-decoration-color: #008080; font-weight: bold\">26</span>-<span style=\"color: #008080; text-decoration-color: #008080; font-weight: bold\">2004</span>\n",
       "</pre>\n"
      ],
      "text/plain": [
       "Added ra-\u001b[1;36m9276\u001b[0m-march-\u001b[1;36m26\u001b[0m-\u001b[1;36m2004\u001b[0m\n"
      ]
     },
     "metadata": {},
     "output_type": "display_data"
    },
    {
     "data": {
      "text/html": [
       "<pre style=\"white-space:pre;overflow-x:auto;line-height:normal;font-family:Menlo,'DejaVu Sans Mono',consolas,'Courier New',monospace\">Added <span style=\"color: #008080; text-decoration-color: #008080; font-weight: bold\">1.1</span>.<span style=\"color: #008080; text-decoration-color: #008080; font-weight: bold\">1</span>.\n",
       "</pre>\n"
      ],
      "text/plain": [
       "Added \u001b[1;36m1.1\u001b[0m.\u001b[1;36m1\u001b[0m.\n"
      ]
     },
     "metadata": {},
     "output_type": "display_data"
    },
    {
     "data": {
      "text/html": [
       "<pre style=\"white-space:pre;overflow-x:auto;line-height:normal;font-family:Menlo,'DejaVu Sans Mono',consolas,'Courier New',monospace\">Added ra-<span style=\"color: #008080; text-decoration-color: #008080; font-weight: bold\">9305</span>-august-<span style=\"color: #008080; text-decoration-color: #008080; font-weight: bold\">02</span>-<span style=\"color: #008080; text-decoration-color: #008080; font-weight: bold\">2004</span>\n",
       "</pre>\n"
      ],
      "text/plain": [
       "Added ra-\u001b[1;36m9305\u001b[0m-august-\u001b[1;36m02\u001b[0m-\u001b[1;36m2004\u001b[0m\n"
      ]
     },
     "metadata": {},
     "output_type": "display_data"
    },
    {
     "data": {
      "text/html": [
       "<pre style=\"white-space:pre;overflow-x:auto;line-height:normal;font-family:Menlo,'DejaVu Sans Mono',consolas,'Courier New',monospace\">Added <span style=\"color: #008080; text-decoration-color: #008080; font-weight: bold\">1.1</span>.<span style=\"color: #008080; text-decoration-color: #008080; font-weight: bold\">1</span>.\n",
       "</pre>\n"
      ],
      "text/plain": [
       "Added \u001b[1;36m1.1\u001b[0m.\u001b[1;36m1\u001b[0m.\n"
      ]
     },
     "metadata": {},
     "output_type": "display_data"
    },
    {
     "data": {
      "text/html": [
       "<pre style=\"white-space:pre;overflow-x:auto;line-height:normal;font-family:Menlo,'DejaVu Sans Mono',consolas,'Courier New',monospace\">Added ra-<span style=\"color: #008080; text-decoration-color: #008080; font-weight: bold\">9306</span>-august-<span style=\"color: #008080; text-decoration-color: #008080; font-weight: bold\">02</span>-<span style=\"color: #008080; text-decoration-color: #008080; font-weight: bold\">2004</span>\n",
       "</pre>\n"
      ],
      "text/plain": [
       "Added ra-\u001b[1;36m9306\u001b[0m-august-\u001b[1;36m02\u001b[0m-\u001b[1;36m2004\u001b[0m\n"
      ]
     },
     "metadata": {},
     "output_type": "display_data"
    },
    {
     "data": {
      "text/html": [
       "<pre style=\"white-space:pre;overflow-x:auto;line-height:normal;font-family:Menlo,'DejaVu Sans Mono',consolas,'Courier New',monospace\">Added <span style=\"color: #008080; text-decoration-color: #008080; font-weight: bold\">1.1</span>.<span style=\"color: #008080; text-decoration-color: #008080; font-weight: bold\">1</span>.\n",
       "</pre>\n"
      ],
      "text/plain": [
       "Added \u001b[1;36m1.1\u001b[0m.\u001b[1;36m1\u001b[0m.\n"
      ]
     },
     "metadata": {},
     "output_type": "display_data"
    },
    {
     "data": {
      "text/html": [
       "<pre style=\"white-space:pre;overflow-x:auto;line-height:normal;font-family:Menlo,'DejaVu Sans Mono',consolas,'Courier New',monospace\">Added ra-<span style=\"color: #008080; text-decoration-color: #008080; font-weight: bold\">9308</span>-august-<span style=\"color: #008080; text-decoration-color: #008080; font-weight: bold\">02</span>-<span style=\"color: #008080; text-decoration-color: #008080; font-weight: bold\">2004</span>\n",
       "</pre>\n"
      ],
      "text/plain": [
       "Added ra-\u001b[1;36m9308\u001b[0m-august-\u001b[1;36m02\u001b[0m-\u001b[1;36m2004\u001b[0m\n"
      ]
     },
     "metadata": {},
     "output_type": "display_data"
    },
    {
     "data": {
      "text/html": [
       "<pre style=\"white-space:pre;overflow-x:auto;line-height:normal;font-family:Menlo,'DejaVu Sans Mono',consolas,'Courier New',monospace\">Added <span style=\"color: #008080; text-decoration-color: #008080; font-weight: bold\">1.1</span>.<span style=\"color: #008080; text-decoration-color: #008080; font-weight: bold\">1</span>.\n",
       "</pre>\n"
      ],
      "text/plain": [
       "Added \u001b[1;36m1.1\u001b[0m.\u001b[1;36m1\u001b[0m.\n"
      ]
     },
     "metadata": {},
     "output_type": "display_data"
    },
    {
     "data": {
      "text/html": [
       "<pre style=\"white-space:pre;overflow-x:auto;line-height:normal;font-family:Menlo,'DejaVu Sans Mono',consolas,'Courier New',monospace\">Added ra-<span style=\"color: #008080; text-decoration-color: #008080; font-weight: bold\">9309</span>-august-<span style=\"color: #008080; text-decoration-color: #008080; font-weight: bold\">02</span>-<span style=\"color: #008080; text-decoration-color: #008080; font-weight: bold\">2004</span>\n",
       "</pre>\n"
      ],
      "text/plain": [
       "Added ra-\u001b[1;36m9309\u001b[0m-august-\u001b[1;36m02\u001b[0m-\u001b[1;36m2004\u001b[0m\n"
      ]
     },
     "metadata": {},
     "output_type": "display_data"
    },
    {
     "data": {
      "text/html": [
       "<pre style=\"white-space:pre;overflow-x:auto;line-height:normal;font-family:Menlo,'DejaVu Sans Mono',consolas,'Courier New',monospace\">Missing statute_mp in <span style=\"color: #808000; text-decoration-color: #808000\">h</span>=<span style=\"font-weight: bold\">{</span><span style=\"color: #008000; text-decoration-color: #008000\">'statute_category'</span>: <span style=\"color: #008000; text-decoration-color: #008000\">'ra'</span>, <span style=\"color: #008000; text-decoration-color: #008000\">'statute_serial_id'</span>: <span style=\"color: #008000; text-decoration-color: #008000\">'9309'</span>, <span style=\"color: #008000; text-decoration-color: #008000\">'locator'</span>: <span style=\"color: #008000; text-decoration-color: #008000\">'Section 29'</span>, <span style=\"color: #008000; text-decoration-color: #008000\">'statute'</span>:\n",
       "<span style=\"color: #008000; text-decoration-color: #008000\">'Republic Act No. 9309'</span>, <span style=\"color: #008000; text-decoration-color: #008000\">'action'</span>: <span style=\"color: #008000; text-decoration-color: #008000\">'Amended'</span>, <span style=\"color: #008000; text-decoration-color: #008000\">'statute_id'</span>: <span style=\"color: #008000; text-decoration-color: #008000\">'ra-9309-august-02-2004'</span><span style=\"font-weight: bold\">}</span>\n",
       "</pre>\n"
      ],
      "text/plain": [
       "Missing statute_mp in \u001b[33mh\u001b[0m=\u001b[1m{\u001b[0m\u001b[32m'statute_category'\u001b[0m: \u001b[32m'ra'\u001b[0m, \u001b[32m'statute_serial_id'\u001b[0m: \u001b[32m'9309'\u001b[0m, \u001b[32m'locator'\u001b[0m: \u001b[32m'Section 29'\u001b[0m, \u001b[32m'statute'\u001b[0m:\n",
       "\u001b[32m'Republic Act No. 9309'\u001b[0m, \u001b[32m'action'\u001b[0m: \u001b[32m'Amended'\u001b[0m, \u001b[32m'statute_id'\u001b[0m: \u001b[32m'ra-9309-august-02-2004'\u001b[0m\u001b[1m}\u001b[0m\n"
      ]
     },
     "metadata": {},
     "output_type": "display_data"
    },
    {
     "data": {
      "text/html": [
       "<pre style=\"white-space:pre;overflow-x:auto;line-height:normal;font-family:Menlo,'DejaVu Sans Mono',consolas,'Courier New',monospace\">Added ra-<span style=\"color: #008080; text-decoration-color: #008080; font-weight: bold\">9310</span>-august-<span style=\"color: #008080; text-decoration-color: #008080; font-weight: bold\">04</span>-<span style=\"color: #008080; text-decoration-color: #008080; font-weight: bold\">2004</span>\n",
       "</pre>\n"
      ],
      "text/plain": [
       "Added ra-\u001b[1;36m9310\u001b[0m-august-\u001b[1;36m04\u001b[0m-\u001b[1;36m2004\u001b[0m\n"
      ]
     },
     "metadata": {},
     "output_type": "display_data"
    },
    {
     "data": {
      "text/html": [
       "<pre style=\"white-space:pre;overflow-x:auto;line-height:normal;font-family:Menlo,'DejaVu Sans Mono',consolas,'Courier New',monospace\">Missing statute_mp in <span style=\"color: #808000; text-decoration-color: #808000\">h</span>=<span style=\"font-weight: bold\">{</span><span style=\"color: #008000; text-decoration-color: #008000\">'statute_category'</span>: <span style=\"color: #008000; text-decoration-color: #008000\">'ra'</span>, <span style=\"color: #008000; text-decoration-color: #008000\">'statute_serial_id'</span>: <span style=\"color: #008000; text-decoration-color: #008000\">'9310'</span>, <span style=\"color: #008000; text-decoration-color: #008000\">'locator'</span>: <span style=\"color: #008000; text-decoration-color: #008000\">'Section 29'</span>, <span style=\"color: #008000; text-decoration-color: #008000\">'statute'</span>:\n",
       "<span style=\"color: #008000; text-decoration-color: #008000\">'Republic Act No. 9310'</span>, <span style=\"color: #008000; text-decoration-color: #008000\">'action'</span>: <span style=\"color: #008000; text-decoration-color: #008000\">'Amended'</span>, <span style=\"color: #008000; text-decoration-color: #008000\">'statute_id'</span>: <span style=\"color: #008000; text-decoration-color: #008000\">'ra-9310-august-04-2004'</span><span style=\"font-weight: bold\">}</span>\n",
       "</pre>\n"
      ],
      "text/plain": [
       "Missing statute_mp in \u001b[33mh\u001b[0m=\u001b[1m{\u001b[0m\u001b[32m'statute_category'\u001b[0m: \u001b[32m'ra'\u001b[0m, \u001b[32m'statute_serial_id'\u001b[0m: \u001b[32m'9310'\u001b[0m, \u001b[32m'locator'\u001b[0m: \u001b[32m'Section 29'\u001b[0m, \u001b[32m'statute'\u001b[0m:\n",
       "\u001b[32m'Republic Act No. 9310'\u001b[0m, \u001b[32m'action'\u001b[0m: \u001b[32m'Amended'\u001b[0m, \u001b[32m'statute_id'\u001b[0m: \u001b[32m'ra-9310-august-04-2004'\u001b[0m\u001b[1m}\u001b[0m\n"
      ]
     },
     "metadata": {},
     "output_type": "display_data"
    },
    {
     "data": {
      "text/html": [
       "<pre style=\"white-space:pre;overflow-x:auto;line-height:normal;font-family:Menlo,'DejaVu Sans Mono',consolas,'Courier New',monospace\">Added ra-<span style=\"color: #008080; text-decoration-color: #008080; font-weight: bold\">9375</span>-march-<span style=\"color: #008080; text-decoration-color: #008080; font-weight: bold\">06</span>-<span style=\"color: #008080; text-decoration-color: #008080; font-weight: bold\">2007</span>\n",
       "</pre>\n"
      ],
      "text/plain": [
       "Added ra-\u001b[1;36m9375\u001b[0m-march-\u001b[1;36m06\u001b[0m-\u001b[1;36m2007\u001b[0m\n"
      ]
     },
     "metadata": {},
     "output_type": "display_data"
    },
    {
     "data": {
      "text/html": [
       "<pre style=\"white-space:pre;overflow-x:auto;line-height:normal;font-family:Menlo,'DejaVu Sans Mono',consolas,'Courier New',monospace\">Added <span style=\"color: #008080; text-decoration-color: #008080; font-weight: bold\">1.2</span>.<span style=\"color: #008080; text-decoration-color: #008080; font-weight: bold\">1</span>.\n",
       "</pre>\n"
      ],
      "text/plain": [
       "Added \u001b[1;36m1.2\u001b[0m.\u001b[1;36m1\u001b[0m.\n"
      ]
     },
     "metadata": {},
     "output_type": "display_data"
    },
    {
     "data": {
      "text/html": [
       "<pre style=\"white-space:pre;overflow-x:auto;line-height:normal;font-family:Menlo,'DejaVu Sans Mono',consolas,'Courier New',monospace\">Added ra-<span style=\"color: #008080; text-decoration-color: #008080; font-weight: bold\">9377</span>-march-<span style=\"color: #008080; text-decoration-color: #008080; font-weight: bold\">06</span>-<span style=\"color: #008080; text-decoration-color: #008080; font-weight: bold\">2007</span>\n",
       "</pre>\n"
      ],
      "text/plain": [
       "Added ra-\u001b[1;36m9377\u001b[0m-march-\u001b[1;36m06\u001b[0m-\u001b[1;36m2007\u001b[0m\n"
      ]
     },
     "metadata": {},
     "output_type": "display_data"
    },
    {
     "data": {
      "text/html": [
       "<pre style=\"white-space:pre;overflow-x:auto;line-height:normal;font-family:Menlo,'DejaVu Sans Mono',consolas,'Courier New',monospace\">Added <span style=\"color: #008080; text-decoration-color: #008080; font-weight: bold\">1.2</span>.<span style=\"color: #008080; text-decoration-color: #008080; font-weight: bold\">1</span>.\n",
       "</pre>\n"
      ],
      "text/plain": [
       "Added \u001b[1;36m1.2\u001b[0m.\u001b[1;36m1\u001b[0m.\n"
      ]
     },
     "metadata": {},
     "output_type": "display_data"
    },
    {
     "data": {
      "text/html": [
       "<pre style=\"white-space:pre;overflow-x:auto;line-height:normal;font-family:Menlo,'DejaVu Sans Mono',consolas,'Courier New',monospace\">Added ra-<span style=\"color: #008080; text-decoration-color: #008080; font-weight: bold\">9450</span>-may-<span style=\"color: #008080; text-decoration-color: #008080; font-weight: bold\">15</span>-<span style=\"color: #008080; text-decoration-color: #008080; font-weight: bold\">2007</span>\n",
       "</pre>\n"
      ],
      "text/plain": [
       "Added ra-\u001b[1;36m9450\u001b[0m-may-\u001b[1;36m15\u001b[0m-\u001b[1;36m2007\u001b[0m\n"
      ]
     },
     "metadata": {},
     "output_type": "display_data"
    },
    {
     "data": {
      "text/html": [
       "<pre style=\"white-space:pre;overflow-x:auto;line-height:normal;font-family:Menlo,'DejaVu Sans Mono',consolas,'Courier New',monospace\">Added <span style=\"color: #008080; text-decoration-color: #008080; font-weight: bold\">1.1</span>.<span style=\"color: #008080; text-decoration-color: #008080; font-weight: bold\">1</span>.\n",
       "</pre>\n"
      ],
      "text/plain": [
       "Added \u001b[1;36m1.1\u001b[0m.\u001b[1;36m1\u001b[0m.\n"
      ]
     },
     "metadata": {},
     "output_type": "display_data"
    },
    {
     "data": {
      "text/html": [
       "<pre style=\"white-space:pre;overflow-x:auto;line-height:normal;font-family:Menlo,'DejaVu Sans Mono',consolas,'Courier New',monospace\">Added ra-<span style=\"color: #008080; text-decoration-color: #008080; font-weight: bold\">10253</span>-november-<span style=\"color: #008080; text-decoration-color: #008080; font-weight: bold\">08</span>-<span style=\"color: #008080; text-decoration-color: #008080; font-weight: bold\">2012</span>\n",
       "</pre>\n"
      ],
      "text/plain": [
       "Added ra-\u001b[1;36m10253\u001b[0m-november-\u001b[1;36m08\u001b[0m-\u001b[1;36m2012\u001b[0m\n"
      ]
     },
     "metadata": {},
     "output_type": "display_data"
    },
    {
     "data": {
      "text/html": [
       "<pre style=\"white-space:pre;overflow-x:auto;line-height:normal;font-family:Menlo,'DejaVu Sans Mono',consolas,'Courier New',monospace\">Added <span style=\"color: #008080; text-decoration-color: #008080; font-weight: bold\">1.1</span>.\n",
       "</pre>\n"
      ],
      "text/plain": [
       "Added \u001b[1;36m1.1\u001b[0m.\n"
      ]
     },
     "metadata": {},
     "output_type": "display_data"
    },
    {
     "data": {
      "text/html": [
       "<pre style=\"white-space:pre;overflow-x:auto;line-height:normal;font-family:Menlo,'DejaVu Sans Mono',consolas,'Courier New',monospace\">Added ra-<span style=\"color: #008080; text-decoration-color: #008080; font-weight: bold\">10254</span>-november-<span style=\"color: #008080; text-decoration-color: #008080; font-weight: bold\">08</span>-<span style=\"color: #008080; text-decoration-color: #008080; font-weight: bold\">2012</span>\n",
       "</pre>\n"
      ],
      "text/plain": [
       "Added ra-\u001b[1;36m10254\u001b[0m-november-\u001b[1;36m08\u001b[0m-\u001b[1;36m2012\u001b[0m\n"
      ]
     },
     "metadata": {},
     "output_type": "display_data"
    },
    {
     "data": {
      "text/html": [
       "<pre style=\"white-space:pre;overflow-x:auto;line-height:normal;font-family:Menlo,'DejaVu Sans Mono',consolas,'Courier New',monospace\">Added <span style=\"color: #008080; text-decoration-color: #008080; font-weight: bold\">1.1</span>.\n",
       "</pre>\n"
      ],
      "text/plain": [
       "Added \u001b[1;36m1.1\u001b[0m.\n"
      ]
     },
     "metadata": {},
     "output_type": "display_data"
    },
    {
     "data": {
      "text/html": [
       "<pre style=\"white-space:pre;overflow-x:auto;line-height:normal;font-family:Menlo,'DejaVu Sans Mono',consolas,'Courier New',monospace\">Added ra-<span style=\"color: #008080; text-decoration-color: #008080; font-weight: bold\">11389</span>-august-<span style=\"color: #008080; text-decoration-color: #008080; font-weight: bold\">22</span>-<span style=\"color: #008080; text-decoration-color: #008080; font-weight: bold\">2019</span>\n",
       "</pre>\n"
      ],
      "text/plain": [
       "Added ra-\u001b[1;36m11389\u001b[0m-august-\u001b[1;36m22\u001b[0m-\u001b[1;36m2019\u001b[0m\n"
      ]
     },
     "metadata": {},
     "output_type": "display_data"
    },
    {
     "data": {
      "text/html": [
       "<pre style=\"white-space:pre;overflow-x:auto;line-height:normal;font-family:Menlo,'DejaVu Sans Mono',consolas,'Courier New',monospace\">Added <span style=\"color: #008080; text-decoration-color: #008080; font-weight: bold\">1.1</span>.\n",
       "</pre>\n"
      ],
      "text/plain": [
       "Added \u001b[1;36m1.1\u001b[0m.\n"
      ]
     },
     "metadata": {},
     "output_type": "display_data"
    },
    {
     "data": {
      "text/html": [
       "<pre style=\"white-space:pre;overflow-x:auto;line-height:normal;font-family:Menlo,'DejaVu Sans Mono',consolas,'Courier New',monospace\">Added ra-<span style=\"color: #008080; text-decoration-color: #008080; font-weight: bold\">9449</span>-may-<span style=\"color: #008080; text-decoration-color: #008080; font-weight: bold\">15</span>-<span style=\"color: #008080; text-decoration-color: #008080; font-weight: bold\">2007</span>\n",
       "</pre>\n"
      ],
      "text/plain": [
       "Added ra-\u001b[1;36m9449\u001b[0m-may-\u001b[1;36m15\u001b[0m-\u001b[1;36m2007\u001b[0m\n"
      ]
     },
     "metadata": {},
     "output_type": "display_data"
    },
    {
     "data": {
      "text/html": [
       "<pre style=\"white-space:pre;overflow-x:auto;line-height:normal;font-family:Menlo,'DejaVu Sans Mono',consolas,'Courier New',monospace\">Missing statute_mp in <span style=\"color: #808000; text-decoration-color: #808000\">h</span>=<span style=\"font-weight: bold\">{</span><span style=\"color: #008000; text-decoration-color: #008000\">'statute_category'</span>: <span style=\"color: #008000; text-decoration-color: #008000\">'ra'</span>, <span style=\"color: #008000; text-decoration-color: #008000\">'statute_serial_id'</span>: <span style=\"color: #008000; text-decoration-color: #008000\">'9449'</span>, <span style=\"color: #008000; text-decoration-color: #008000\">'locator'</span>: <span style=\"color: #008000; text-decoration-color: #008000\">'Section 30'</span>, <span style=\"color: #008000; text-decoration-color: #008000\">'statute'</span>:\n",
       "<span style=\"color: #008000; text-decoration-color: #008000\">'Republic Act No. 9449'</span>, <span style=\"color: #008000; text-decoration-color: #008000\">'action'</span>: <span style=\"color: #008000; text-decoration-color: #008000\">'Amended'</span>, <span style=\"color: #008000; text-decoration-color: #008000\">'statute_id'</span>: <span style=\"color: #008000; text-decoration-color: #008000\">'ra-9449-may-15-2007'</span><span style=\"font-weight: bold\">}</span>\n",
       "</pre>\n"
      ],
      "text/plain": [
       "Missing statute_mp in \u001b[33mh\u001b[0m=\u001b[1m{\u001b[0m\u001b[32m'statute_category'\u001b[0m: \u001b[32m'ra'\u001b[0m, \u001b[32m'statute_serial_id'\u001b[0m: \u001b[32m'9449'\u001b[0m, \u001b[32m'locator'\u001b[0m: \u001b[32m'Section 30'\u001b[0m, \u001b[32m'statute'\u001b[0m:\n",
       "\u001b[32m'Republic Act No. 9449'\u001b[0m, \u001b[32m'action'\u001b[0m: \u001b[32m'Amended'\u001b[0m, \u001b[32m'statute_id'\u001b[0m: \u001b[32m'ra-9449-may-15-2007'\u001b[0m\u001b[1m}\u001b[0m\n"
      ]
     },
     "metadata": {},
     "output_type": "display_data"
    }
   ],
   "source": [
    "from corpus_x.statutes import StatuteRow, StatuteTitleRow\n",
    "from corpus_x.codifications import CodeStatuteEvent\n",
    "from rich import print\n",
    "def set_histories(nodes: list[dict]):\n",
    "    tbl = c.db[CodeStatuteEvent.__tablename__]\n",
    "    for node in nodes:\n",
    "        if histories := node.get(\"history\", None):\n",
    "            for h in histories:\n",
    "                loc, cap, cont = h.get(\"locator\"), h.get(\"caption\"), h.get(\"content\")\n",
    "                stat, dt, vt = h.get(\"statute\"), h.get(\"date\"), h.get(\"variant\")\n",
    "                rows = []\n",
    "                mps = []\n",
    "                \n",
    "                if all([stat, dt, vt]):\n",
    "                    q = \"statute = ? and date = ? and variant = ?\"\n",
    "                    rows = list(tbl.rows_where(q, (stat.strip(), dt.strip(), vt.strip()), select=\"affector_statute_id\"))\n",
    "                elif all([stat, dt]):\n",
    "                    q = \"statute = ? and date = ?\"\n",
    "                    rows = list(tbl.rows_where(q, (stat.strip(), dt.strip()), select=\"affector_statute_id\"))\n",
    "                elif all([stat, vt]):\n",
    "                    q = \"statute = ? and variant = ?\"\n",
    "                    rows = list(tbl.rows_where(q, (stat.strip(), vt.strip()), select=\"affector_statute_id\"))\n",
    "                else:\n",
    "                    q = \"statute = ?\"\n",
    "                    rows = list(tbl.rows_where(q, (stat.strip(),), select=\"affector_statute_id\"))\n",
    "                if len(rows) == 1:\n",
    "                    if stat_id := rows[0]['affector_statute_id']:\n",
    "                        print(f\"Added {stat_id}\")\n",
    "                        h[\"statute_id\"] = stat_id\n",
    "                    else:\n",
    "                        print(f\"Missing statute_id in {h=}\")\n",
    "                    \n",
    "                    if all([loc, cap, cont, stat_id]):\n",
    "                        q = \"locator = ? and caption = ? and content = ? and affector_statute_id = ?\"\n",
    "                        mps = list(tbl.rows_where(q, (loc.strip(), cap.strip(), cont.strip(), stat_id), select=\"affector_material_path\"))\n",
    "                    elif all([loc, cap, stat_id]):\n",
    "                        q = \"locator = ? and caption = ? and affector_statute_id = ?\"\n",
    "                        mps = list(tbl.rows_where(q, (loc.strip(), cap.strip(), stat_id), select=\"affector_material_path\"))\n",
    "                    elif all([loc, cont, stat_id]):\n",
    "                        q = \"locator = ? and content = ? and affector_statute_id = ?\"\n",
    "                        mps = list(tbl.rows_where(q, (loc.strip(), cont.strip(), stat_id), select=\"affector_material_path\"))\n",
    "                    elif all([loc, stat_id]):\n",
    "                        q = \"locator = ? and affector_statute_id = ?\"\n",
    "                        mps = list(tbl.rows_where(q, (loc.strip(), stat_id), select=\"affector_material_path\"))\n",
    "                    if len(mps) == 1:\n",
    "                        if stat_mp := mps[0]['affector_material_path']:\n",
    "                            print(f\"Added {stat_mp}\")\n",
    "                            h[\"statute_mp\"] = stat_mp\n",
    "                        else:\n",
    "                            print(f\"Missing statute_mp in {h=}\")\n",
    "                    \n",
    "                    \n",
    "        if node.get(\"units\"):\n",
    "            set_histories(node[\"units\"])\n",
    "\n",
    "set_histories(xx['units'])"
   ]
  },
  {
   "cell_type": "code",
   "execution_count": 5,
   "metadata": {},
   "outputs": [
    {
     "data": {
      "text/html": [
       "<pre style=\"white-space:pre;overflow-x:auto;line-height:normal;font-family:Menlo,'DejaVu Sans Mono',consolas,'Courier New',monospace\">\n",
       "<span style=\"font-weight: bold\">[</span>\n",
       "    <span style=\"font-weight: bold\">[</span>\n",
       "        <span style=\"font-weight: bold\">{</span>\n",
       "            <span style=\"color: #008000; text-decoration-color: #008000\">'statute_category'</span>: <span style=\"color: #008000; text-decoration-color: #008000\">'bp'</span>,\n",
       "            <span style=\"color: #008000; text-decoration-color: #008000\">'statute_serial_id'</span>: <span style=\"color: #008000; text-decoration-color: #008000\">'129'</span>,\n",
       "            <span style=\"color: #008000; text-decoration-color: #008000\">'locator'</span>: <span style=\"color: #008000; text-decoration-color: #008000\">'Section 42'</span>,\n",
       "            <span style=\"color: #008000; text-decoration-color: #008000\">'statute'</span>: <span style=\"color: #008000; text-decoration-color: #008000\">'Batas Pambansa Blg. 129'</span>,\n",
       "            <span style=\"color: #008000; text-decoration-color: #008000\">'action'</span>: <span style=\"color: #008000; text-decoration-color: #008000\">'Originated'</span>\n",
       "        <span style=\"font-weight: bold\">}</span>,\n",
       "        <span style=\"font-weight: bold\">{</span>\n",
       "            <span style=\"color: #008000; text-decoration-color: #008000\">'statute_category'</span>: <span style=\"color: #008000; text-decoration-color: #008000\">'ra'</span>,\n",
       "            <span style=\"color: #008000; text-decoration-color: #008000\">'statute_serial_id'</span>: <span style=\"color: #008000; text-decoration-color: #008000\">'11459'</span>,\n",
       "            <span style=\"color: #008000; text-decoration-color: #008000\">'locator'</span>: <span style=\"color: #008000; text-decoration-color: #008000\">'Section 42'</span>,\n",
       "            <span style=\"color: #008000; text-decoration-color: #008000\">'statute'</span>: <span style=\"color: #008000; text-decoration-color: #008000\">'Republic Act No. 11459'</span>,\n",
       "            <span style=\"color: #008000; text-decoration-color: #008000\">'action'</span>: <span style=\"color: #008000; text-decoration-color: #008000\">'Amended'</span>\n",
       "        <span style=\"font-weight: bold\">}</span>\n",
       "    <span style=\"font-weight: bold\">]</span>,\n",
       "    <span style=\"font-weight: bold\">[</span>\n",
       "        <span style=\"font-weight: bold\">{</span>\n",
       "            <span style=\"color: #008000; text-decoration-color: #008000\">'statute_category'</span>: <span style=\"color: #008000; text-decoration-color: #008000\">'bp'</span>,\n",
       "            <span style=\"color: #008000; text-decoration-color: #008000\">'statute_serial_id'</span>: <span style=\"color: #008000; text-decoration-color: #008000\">'129'</span>,\n",
       "            <span style=\"color: #008000; text-decoration-color: #008000\">'locator'</span>: <span style=\"color: #008000; text-decoration-color: #008000\">'Section 41'</span>,\n",
       "            <span style=\"color: #008000; text-decoration-color: #008000\">'statute'</span>: <span style=\"color: #008000; text-decoration-color: #008000\">'Batas Pambansa Blg. 129'</span>,\n",
       "            <span style=\"color: #008000; text-decoration-color: #008000\">'action'</span>: <span style=\"color: #008000; text-decoration-color: #008000\">'Originated'</span>\n",
       "        <span style=\"font-weight: bold\">}</span>,\n",
       "        <span style=\"font-weight: bold\">{</span>\n",
       "            <span style=\"color: #008000; text-decoration-color: #008000\">'statute_category'</span>: <span style=\"color: #008000; text-decoration-color: #008000\">'ra'</span>,\n",
       "            <span style=\"color: #008000; text-decoration-color: #008000\">'statute_serial_id'</span>: <span style=\"color: #008000; text-decoration-color: #008000\">'11459'</span>,\n",
       "            <span style=\"color: #008000; text-decoration-color: #008000\">'locator'</span>: <span style=\"color: #008000; text-decoration-color: #008000\">'Section 41'</span>,\n",
       "            <span style=\"color: #008000; text-decoration-color: #008000\">'statute'</span>: <span style=\"color: #008000; text-decoration-color: #008000\">'Republic Act No. 11459'</span>,\n",
       "            <span style=\"color: #008000; text-decoration-color: #008000\">'action'</span>: <span style=\"color: #008000; text-decoration-color: #008000\">'Amended'</span>\n",
       "        <span style=\"font-weight: bold\">}</span>\n",
       "    <span style=\"font-weight: bold\">]</span>,\n",
       "    <span style=\"font-weight: bold\">[</span>\n",
       "        <span style=\"font-weight: bold\">{</span>\n",
       "            <span style=\"color: #008000; text-decoration-color: #008000\">'statute_category'</span>: <span style=\"color: #008000; text-decoration-color: #008000\">'bp'</span>,\n",
       "            <span style=\"color: #008000; text-decoration-color: #008000\">'statute_serial_id'</span>: <span style=\"color: #008000; text-decoration-color: #008000\">'129'</span>,\n",
       "            <span style=\"color: #008000; text-decoration-color: #008000\">'locator'</span>: <span style=\"color: #008000; text-decoration-color: #008000\">'Section 37'</span>,\n",
       "            <span style=\"color: #008000; text-decoration-color: #008000\">'statute'</span>: <span style=\"color: #008000; text-decoration-color: #008000\">'Batas Pambansa Blg. 129'</span>,\n",
       "            <span style=\"color: #008000; text-decoration-color: #008000\">'action'</span>: <span style=\"color: #008000; text-decoration-color: #008000\">'Originated'</span>\n",
       "        <span style=\"font-weight: bold\">}</span>,\n",
       "        <span style=\"font-weight: bold\">{</span>\n",
       "            <span style=\"color: #008000; text-decoration-color: #008000\">'statute_category'</span>: <span style=\"color: #008000; text-decoration-color: #008000\">'rule_am'</span>,\n",
       "            <span style=\"color: #008000; text-decoration-color: #008000\">'statute_serial_id'</span>: <span style=\"color: #008000; text-decoration-color: #008000\">'05-8-26-sc'</span>,\n",
       "            <span style=\"color: #008000; text-decoration-color: #008000\">'locator'</span>: <span style=\"color: #008000; text-decoration-color: #008000\">'Container 1'</span>,\n",
       "            <span style=\"color: #008000; text-decoration-color: #008000\">'caption'</span>: <span style=\"color: #008000; text-decoration-color: #008000\">'Transitory Provisions'</span>,\n",
       "            <span style=\"color: #008000; text-decoration-color: #008000\">'statute'</span>: <span style=\"color: #008000; text-decoration-color: #008000\">'Administrative Matter No. 05-8-26-SC'</span>,\n",
       "            <span style=\"color: #008000; text-decoration-color: #008000\">'action'</span>: <span style=\"color: #008000; text-decoration-color: #008000\">'Modified'</span>\n",
       "        <span style=\"font-weight: bold\">}</span>\n",
       "    <span style=\"font-weight: bold\">]</span>,\n",
       "    <span style=\"font-weight: bold\">[</span>\n",
       "        <span style=\"font-weight: bold\">{</span>\n",
       "            <span style=\"color: #008000; text-decoration-color: #008000\">'statute_category'</span>: <span style=\"color: #008000; text-decoration-color: #008000\">'bp'</span>,\n",
       "            <span style=\"color: #008000; text-decoration-color: #008000\">'statute_serial_id'</span>: <span style=\"color: #008000; text-decoration-color: #008000\">'129'</span>,\n",
       "            <span style=\"color: #008000; text-decoration-color: #008000\">'locator'</span>: <span style=\"color: #008000; text-decoration-color: #008000\">'Section 34'</span>,\n",
       "            <span style=\"color: #008000; text-decoration-color: #008000\">'statute'</span>: <span style=\"color: #008000; text-decoration-color: #008000\">'Batas Pambansa Blg. 129'</span>,\n",
       "            <span style=\"color: #008000; text-decoration-color: #008000\">'action'</span>: <span style=\"color: #008000; text-decoration-color: #008000\">'Originated'</span>\n",
       "        <span style=\"font-weight: bold\">}</span>,\n",
       "        <span style=\"font-weight: bold\">{</span>\n",
       "            <span style=\"color: #008000; text-decoration-color: #008000\">'statute_category'</span>: <span style=\"color: #008000; text-decoration-color: #008000\">'ra'</span>,\n",
       "            <span style=\"color: #008000; text-decoration-color: #008000\">'statute_serial_id'</span>: <span style=\"color: #008000; text-decoration-color: #008000\">'7691'</span>,\n",
       "            <span style=\"color: #008000; text-decoration-color: #008000\">'locator'</span>: <span style=\"color: #008000; text-decoration-color: #008000\">'Section 34'</span>,\n",
       "            <span style=\"color: #008000; text-decoration-color: #008000\">'statute'</span>: <span style=\"color: #008000; text-decoration-color: #008000\">'Republic Act No. 7691'</span>,\n",
       "            <span style=\"color: #008000; text-decoration-color: #008000\">'action'</span>: <span style=\"color: #008000; text-decoration-color: #008000\">'Amended'</span>\n",
       "        <span style=\"font-weight: bold\">}</span>\n",
       "    <span style=\"font-weight: bold\">]</span>,\n",
       "    <span style=\"font-weight: bold\">[</span>\n",
       "        <span style=\"font-weight: bold\">{</span>\n",
       "            <span style=\"color: #008000; text-decoration-color: #008000\">'statute_category'</span>: <span style=\"color: #008000; text-decoration-color: #008000\">'bp'</span>,\n",
       "            <span style=\"color: #008000; text-decoration-color: #008000\">'statute_serial_id'</span>: <span style=\"color: #008000; text-decoration-color: #008000\">'129'</span>,\n",
       "            <span style=\"color: #008000; text-decoration-color: #008000\">'locator'</span>: <span style=\"color: #008000; text-decoration-color: #008000\">'Section 33'</span>,\n",
       "            <span style=\"color: #008000; text-decoration-color: #008000\">'statute'</span>: <span style=\"color: #008000; text-decoration-color: #008000\">'Batas Pambansa Blg. 129'</span>,\n",
       "            <span style=\"color: #008000; text-decoration-color: #008000\">'action'</span>: <span style=\"color: #008000; text-decoration-color: #008000\">'Originated'</span>\n",
       "        <span style=\"font-weight: bold\">}</span>,\n",
       "        <span style=\"font-weight: bold\">{</span>\n",
       "            <span style=\"color: #008000; text-decoration-color: #008000\">'statute_category'</span>: <span style=\"color: #008000; text-decoration-color: #008000\">'ra'</span>,\n",
       "            <span style=\"color: #008000; text-decoration-color: #008000\">'statute_serial_id'</span>: <span style=\"color: #008000; text-decoration-color: #008000\">'7691'</span>,\n",
       "            <span style=\"color: #008000; text-decoration-color: #008000\">'locator'</span>: <span style=\"color: #008000; text-decoration-color: #008000\">'Section 33'</span>,\n",
       "            <span style=\"color: #008000; text-decoration-color: #008000\">'statute'</span>: <span style=\"color: #008000; text-decoration-color: #008000\">'Republic Act No. 7691'</span>,\n",
       "            <span style=\"color: #008000; text-decoration-color: #008000\">'action'</span>: <span style=\"color: #008000; text-decoration-color: #008000\">'Amended'</span>\n",
       "        <span style=\"font-weight: bold\">}</span>,\n",
       "        <span style=\"font-weight: bold\">{</span>\n",
       "            <span style=\"color: #008000; text-decoration-color: #008000\">'statute_category'</span>: <span style=\"color: #008000; text-decoration-color: #008000\">'ra'</span>,\n",
       "            <span style=\"color: #008000; text-decoration-color: #008000\">'statute_serial_id'</span>: <span style=\"color: #008000; text-decoration-color: #008000\">'11576'</span>,\n",
       "            <span style=\"color: #008000; text-decoration-color: #008000\">'locator'</span>: <span style=\"color: #008000; text-decoration-color: #008000\">'Section 33'</span>,\n",
       "            <span style=\"color: #008000; text-decoration-color: #008000\">'statute'</span>: <span style=\"color: #008000; text-decoration-color: #008000\">'Republic Act No. 11576'</span>,\n",
       "            <span style=\"color: #008000; text-decoration-color: #008000\">'action'</span>: <span style=\"color: #008000; text-decoration-color: #008000\">'Amended'</span>\n",
       "        <span style=\"font-weight: bold\">}</span>\n",
       "    <span style=\"font-weight: bold\">]</span>,\n",
       "    <span style=\"font-weight: bold\">[</span>\n",
       "        <span style=\"font-weight: bold\">{</span>\n",
       "            <span style=\"color: #008000; text-decoration-color: #008000\">'statute_category'</span>: <span style=\"color: #008000; text-decoration-color: #008000\">'bp'</span>,\n",
       "            <span style=\"color: #008000; text-decoration-color: #008000\">'statute_serial_id'</span>: <span style=\"color: #008000; text-decoration-color: #008000\">'129'</span>,\n",
       "            <span style=\"color: #008000; text-decoration-color: #008000\">'locator'</span>: <span style=\"color: #008000; text-decoration-color: #008000\">'Section 32'</span>,\n",
       "            <span style=\"color: #008000; text-decoration-color: #008000\">'statute'</span>: <span style=\"color: #008000; text-decoration-color: #008000\">'Batas Pambansa Blg. 129'</span>,\n",
       "            <span style=\"color: #008000; text-decoration-color: #008000\">'action'</span>: <span style=\"color: #008000; text-decoration-color: #008000\">'Originated'</span>\n",
       "        <span style=\"font-weight: bold\">}</span>,\n",
       "        <span style=\"font-weight: bold\">{</span>\n",
       "            <span style=\"color: #008000; text-decoration-color: #008000\">'statute_category'</span>: <span style=\"color: #008000; text-decoration-color: #008000\">'ra'</span>,\n",
       "            <span style=\"color: #008000; text-decoration-color: #008000\">'statute_serial_id'</span>: <span style=\"color: #008000; text-decoration-color: #008000\">'7691'</span>,\n",
       "            <span style=\"color: #008000; text-decoration-color: #008000\">'locator'</span>: <span style=\"color: #008000; text-decoration-color: #008000\">'Section 32'</span>,\n",
       "            <span style=\"color: #008000; text-decoration-color: #008000\">'statute'</span>: <span style=\"color: #008000; text-decoration-color: #008000\">'Republic Act No. 7691'</span>,\n",
       "            <span style=\"color: #008000; text-decoration-color: #008000\">'action'</span>: <span style=\"color: #008000; text-decoration-color: #008000\">'Amended'</span>\n",
       "        <span style=\"font-weight: bold\">}</span>\n",
       "    <span style=\"font-weight: bold\">]</span>,\n",
       "    <span style=\"font-weight: bold\">[</span>\n",
       "        <span style=\"font-weight: bold\">{</span>\n",
       "            <span style=\"color: #008000; text-decoration-color: #008000\">'statute_category'</span>: <span style=\"color: #008000; text-decoration-color: #008000\">'bp'</span>,\n",
       "            <span style=\"color: #008000; text-decoration-color: #008000\">'statute_serial_id'</span>: <span style=\"color: #008000; text-decoration-color: #008000\">'129'</span>,\n",
       "            <span style=\"color: #008000; text-decoration-color: #008000\">'locator'</span>: <span style=\"color: #008000; text-decoration-color: #008000\">'Section 30'</span>,\n",
       "            <span style=\"color: #008000; text-decoration-color: #008000\">'statute'</span>: <span style=\"color: #008000; text-decoration-color: #008000\">'Batas Pambansa Blg. 129'</span>,\n",
       "            <span style=\"color: #008000; text-decoration-color: #008000\">'action'</span>: <span style=\"color: #008000; text-decoration-color: #008000\">'Originated'</span>\n",
       "        <span style=\"font-weight: bold\">}</span>,\n",
       "        <span style=\"font-weight: bold\">{</span>\n",
       "            <span style=\"color: #008000; text-decoration-color: #008000\">'statute_category'</span>: <span style=\"color: #008000; text-decoration-color: #008000\">'ra'</span>,\n",
       "            <span style=\"color: #008000; text-decoration-color: #008000\">'statute_serial_id'</span>: <span style=\"color: #008000; text-decoration-color: #008000\">'9449'</span>,\n",
       "            <span style=\"color: #008000; text-decoration-color: #008000\">'locator'</span>: <span style=\"color: #008000; text-decoration-color: #008000\">'Section 30'</span>,\n",
       "            <span style=\"color: #008000; text-decoration-color: #008000\">'statute'</span>: <span style=\"color: #008000; text-decoration-color: #008000\">'Republic Act No. 9449'</span>,\n",
       "            <span style=\"color: #008000; text-decoration-color: #008000\">'action'</span>: <span style=\"color: #008000; text-decoration-color: #008000\">'Amended'</span>,\n",
       "            <span style=\"color: #008000; text-decoration-color: #008000\">'statute_id'</span>: <span style=\"color: #008000; text-decoration-color: #008000\">'ra-9449-may-15-2007'</span>\n",
       "        <span style=\"font-weight: bold\">}</span>,\n",
       "        <span style=\"font-weight: bold\">{</span>\n",
       "            <span style=\"color: #008000; text-decoration-color: #008000\">'statute_category'</span>: <span style=\"color: #008000; text-decoration-color: #008000\">'ra'</span>,\n",
       "            <span style=\"color: #008000; text-decoration-color: #008000\">'statute_serial_id'</span>: <span style=\"color: #008000; text-decoration-color: #008000\">'10454'</span>,\n",
       "            <span style=\"color: #008000; text-decoration-color: #008000\">'locator'</span>: <span style=\"color: #008000; text-decoration-color: #008000\">'Section 2'</span>,\n",
       "            <span style=\"color: #008000; text-decoration-color: #008000\">'statute'</span>: <span style=\"color: #008000; text-decoration-color: #008000\">'Republic Act No. 10454'</span>,\n",
       "            <span style=\"color: #008000; text-decoration-color: #008000\">'action'</span>: <span style=\"color: #008000; text-decoration-color: #008000\">'Modified'</span>\n",
       "        <span style=\"font-weight: bold\">}</span>,\n",
       "        <span style=\"font-weight: bold\">{</span>\n",
       "            <span style=\"color: #008000; text-decoration-color: #008000\">'statute_category'</span>: <span style=\"color: #008000; text-decoration-color: #008000\">'ra'</span>,\n",
       "            <span style=\"color: #008000; text-decoration-color: #008000\">'statute_serial_id'</span>: <span style=\"color: #008000; text-decoration-color: #008000\">'10694'</span>,\n",
       "            <span style=\"color: #008000; text-decoration-color: #008000\">'locator'</span>: <span style=\"color: #008000; text-decoration-color: #008000\">'Section 1'</span>,\n",
       "            <span style=\"color: #008000; text-decoration-color: #008000\">'statute'</span>: <span style=\"color: #008000; text-decoration-color: #008000\">'Republic Act No. 10694'</span>,\n",
       "            <span style=\"color: #008000; text-decoration-color: #008000\">'action'</span>: <span style=\"color: #008000; text-decoration-color: #008000\">'Modified'</span>\n",
       "        <span style=\"font-weight: bold\">}</span>,\n",
       "        <span style=\"font-weight: bold\">{</span>\n",
       "            <span style=\"color: #008000; text-decoration-color: #008000\">'statute_category'</span>: <span style=\"color: #008000; text-decoration-color: #008000\">'ra'</span>,\n",
       "            <span style=\"color: #008000; text-decoration-color: #008000\">'statute_serial_id'</span>: <span style=\"color: #008000; text-decoration-color: #008000\">'11385'</span>,\n",
       "            <span style=\"color: #008000; text-decoration-color: #008000\">'locator'</span>: <span style=\"color: #008000; text-decoration-color: #008000\">'Section 1'</span>,\n",
       "            <span style=\"color: #008000; text-decoration-color: #008000\">'statute'</span>: <span style=\"color: #008000; text-decoration-color: #008000\">'Republic Act No. 11385'</span>,\n",
       "            <span style=\"color: #008000; text-decoration-color: #008000\">'action'</span>: <span style=\"color: #008000; text-decoration-color: #008000\">'Modified'</span>\n",
       "        <span style=\"font-weight: bold\">}</span>\n",
       "    <span style=\"font-weight: bold\">]</span>,\n",
       "    <span style=\"font-weight: bold\">[</span>\n",
       "        <span style=\"font-weight: bold\">{</span>\n",
       "            <span style=\"color: #008000; text-decoration-color: #008000\">'statute_category'</span>: <span style=\"color: #008000; text-decoration-color: #008000\">'bp'</span>,\n",
       "            <span style=\"color: #008000; text-decoration-color: #008000\">'statute_serial_id'</span>: <span style=\"color: #008000; text-decoration-color: #008000\">'129'</span>,\n",
       "            <span style=\"color: #008000; text-decoration-color: #008000\">'locator'</span>: <span style=\"color: #008000; text-decoration-color: #008000\">'Section 29'</span>,\n",
       "            <span style=\"color: #008000; text-decoration-color: #008000\">'statute'</span>: <span style=\"color: #008000; text-decoration-color: #008000\">'Batas Pambansa Blg. 129'</span>,\n",
       "            <span style=\"color: #008000; text-decoration-color: #008000\">'action'</span>: <span style=\"color: #008000; text-decoration-color: #008000\">'Originated'</span>\n",
       "        <span style=\"font-weight: bold\">}</span>,\n",
       "        <span style=\"font-weight: bold\">{</span>\n",
       "            <span style=\"color: #008000; text-decoration-color: #008000\">'statute_category'</span>: <span style=\"color: #008000; text-decoration-color: #008000\">'ra'</span>,\n",
       "            <span style=\"color: #008000; text-decoration-color: #008000\">'statute_serial_id'</span>: <span style=\"color: #008000; text-decoration-color: #008000\">'9252'</span>,\n",
       "            <span style=\"color: #008000; text-decoration-color: #008000\">'locator'</span>: <span style=\"color: #008000; text-decoration-color: #008000\">'Section 29'</span>,\n",
       "            <span style=\"color: #008000; text-decoration-color: #008000\">'statute'</span>: <span style=\"color: #008000; text-decoration-color: #008000\">'Republic Act No. 9252'</span>,\n",
       "            <span style=\"color: #008000; text-decoration-color: #008000\">'action'</span>: <span style=\"color: #008000; text-decoration-color: #008000\">'Amended'</span>,\n",
       "            <span style=\"color: #008000; text-decoration-color: #008000\">'statute_id'</span>: <span style=\"color: #008000; text-decoration-color: #008000\">'ra-9252-february-24-2004'</span>,\n",
       "            <span style=\"color: #008000; text-decoration-color: #008000\">'statute_mp'</span>: <span style=\"color: #008000; text-decoration-color: #008000\">'1.1.1.'</span>\n",
       "        <span style=\"font-weight: bold\">}</span>,\n",
       "        <span style=\"font-weight: bold\">{</span>\n",
       "            <span style=\"color: #008000; text-decoration-color: #008000\">'statute_category'</span>: <span style=\"color: #008000; text-decoration-color: #008000\">'ra'</span>,\n",
       "            <span style=\"color: #008000; text-decoration-color: #008000\">'statute_serial_id'</span>: <span style=\"color: #008000; text-decoration-color: #008000\">'9274'</span>,\n",
       "            <span style=\"color: #008000; text-decoration-color: #008000\">'locator'</span>: <span style=\"color: #008000; text-decoration-color: #008000\">'Section 29'</span>,\n",
       "            <span style=\"color: #008000; text-decoration-color: #008000\">'statute'</span>: <span style=\"color: #008000; text-decoration-color: #008000\">'Republic Act No. 9274'</span>,\n",
       "            <span style=\"color: #008000; text-decoration-color: #008000\">'action'</span>: <span style=\"color: #008000; text-decoration-color: #008000\">'Amended'</span>,\n",
       "            <span style=\"color: #008000; text-decoration-color: #008000\">'statute_id'</span>: <span style=\"color: #008000; text-decoration-color: #008000\">'ra-9274-march-21-2004'</span>,\n",
       "            <span style=\"color: #008000; text-decoration-color: #008000\">'statute_mp'</span>: <span style=\"color: #008000; text-decoration-color: #008000\">'1.1.1.'</span>\n",
       "        <span style=\"font-weight: bold\">}</span>,\n",
       "        <span style=\"font-weight: bold\">{</span>\n",
       "            <span style=\"color: #008000; text-decoration-color: #008000\">'statute_category'</span>: <span style=\"color: #008000; text-decoration-color: #008000\">'ra'</span>,\n",
       "            <span style=\"color: #008000; text-decoration-color: #008000\">'statute_serial_id'</span>: <span style=\"color: #008000; text-decoration-color: #008000\">'9276'</span>,\n",
       "            <span style=\"color: #008000; text-decoration-color: #008000\">'locator'</span>: <span style=\"color: #008000; text-decoration-color: #008000\">'Section 29'</span>,\n",
       "            <span style=\"color: #008000; text-decoration-color: #008000\">'statute'</span>: <span style=\"color: #008000; text-decoration-color: #008000\">'Republic Act No. 9276'</span>,\n",
       "            <span style=\"color: #008000; text-decoration-color: #008000\">'action'</span>: <span style=\"color: #008000; text-decoration-color: #008000\">'Amended'</span>,\n",
       "            <span style=\"color: #008000; text-decoration-color: #008000\">'statute_id'</span>: <span style=\"color: #008000; text-decoration-color: #008000\">'ra-9276-march-26-2004'</span>,\n",
       "            <span style=\"color: #008000; text-decoration-color: #008000\">'statute_mp'</span>: <span style=\"color: #008000; text-decoration-color: #008000\">'1.1.1.'</span>\n",
       "        <span style=\"font-weight: bold\">}</span>,\n",
       "        <span style=\"font-weight: bold\">{</span>\n",
       "            <span style=\"color: #008000; text-decoration-color: #008000\">'statute_category'</span>: <span style=\"color: #008000; text-decoration-color: #008000\">'ra'</span>,\n",
       "            <span style=\"color: #008000; text-decoration-color: #008000\">'statute_serial_id'</span>: <span style=\"color: #008000; text-decoration-color: #008000\">'9305'</span>,\n",
       "            <span style=\"color: #008000; text-decoration-color: #008000\">'locator'</span>: <span style=\"color: #008000; text-decoration-color: #008000\">'Section 29'</span>,\n",
       "            <span style=\"color: #008000; text-decoration-color: #008000\">'statute'</span>: <span style=\"color: #008000; text-decoration-color: #008000\">'Republic Act No. 9305'</span>,\n",
       "            <span style=\"color: #008000; text-decoration-color: #008000\">'action'</span>: <span style=\"color: #008000; text-decoration-color: #008000\">'Amended'</span>,\n",
       "            <span style=\"color: #008000; text-decoration-color: #008000\">'statute_id'</span>: <span style=\"color: #008000; text-decoration-color: #008000\">'ra-9305-august-02-2004'</span>,\n",
       "            <span style=\"color: #008000; text-decoration-color: #008000\">'statute_mp'</span>: <span style=\"color: #008000; text-decoration-color: #008000\">'1.1.1.'</span>\n",
       "        <span style=\"font-weight: bold\">}</span>,\n",
       "        <span style=\"font-weight: bold\">{</span>\n",
       "            <span style=\"color: #008000; text-decoration-color: #008000\">'statute_category'</span>: <span style=\"color: #008000; text-decoration-color: #008000\">'ra'</span>,\n",
       "            <span style=\"color: #008000; text-decoration-color: #008000\">'statute_serial_id'</span>: <span style=\"color: #008000; text-decoration-color: #008000\">'9306'</span>,\n",
       "            <span style=\"color: #008000; text-decoration-color: #008000\">'locator'</span>: <span style=\"color: #008000; text-decoration-color: #008000\">'Section 29'</span>,\n",
       "            <span style=\"color: #008000; text-decoration-color: #008000\">'statute'</span>: <span style=\"color: #008000; text-decoration-color: #008000\">'Republic Act No. 9306'</span>,\n",
       "            <span style=\"color: #008000; text-decoration-color: #008000\">'action'</span>: <span style=\"color: #008000; text-decoration-color: #008000\">'Amended'</span>,\n",
       "            <span style=\"color: #008000; text-decoration-color: #008000\">'statute_id'</span>: <span style=\"color: #008000; text-decoration-color: #008000\">'ra-9306-august-02-2004'</span>,\n",
       "            <span style=\"color: #008000; text-decoration-color: #008000\">'statute_mp'</span>: <span style=\"color: #008000; text-decoration-color: #008000\">'1.1.1.'</span>\n",
       "        <span style=\"font-weight: bold\">}</span>,\n",
       "        <span style=\"font-weight: bold\">{</span>\n",
       "            <span style=\"color: #008000; text-decoration-color: #008000\">'statute_category'</span>: <span style=\"color: #008000; text-decoration-color: #008000\">'ra'</span>,\n",
       "            <span style=\"color: #008000; text-decoration-color: #008000\">'statute_serial_id'</span>: <span style=\"color: #008000; text-decoration-color: #008000\">'9308'</span>,\n",
       "            <span style=\"color: #008000; text-decoration-color: #008000\">'locator'</span>: <span style=\"color: #008000; text-decoration-color: #008000\">'Section 29'</span>,\n",
       "            <span style=\"color: #008000; text-decoration-color: #008000\">'statute'</span>: <span style=\"color: #008000; text-decoration-color: #008000\">'Republic Act No. 9308'</span>,\n",
       "            <span style=\"color: #008000; text-decoration-color: #008000\">'action'</span>: <span style=\"color: #008000; text-decoration-color: #008000\">'Amended'</span>,\n",
       "            <span style=\"color: #008000; text-decoration-color: #008000\">'statute_id'</span>: <span style=\"color: #008000; text-decoration-color: #008000\">'ra-9308-august-02-2004'</span>,\n",
       "            <span style=\"color: #008000; text-decoration-color: #008000\">'statute_mp'</span>: <span style=\"color: #008000; text-decoration-color: #008000\">'1.1.1.'</span>\n",
       "        <span style=\"font-weight: bold\">}</span>,\n",
       "        <span style=\"font-weight: bold\">{</span>\n",
       "            <span style=\"color: #008000; text-decoration-color: #008000\">'statute_category'</span>: <span style=\"color: #008000; text-decoration-color: #008000\">'ra'</span>,\n",
       "            <span style=\"color: #008000; text-decoration-color: #008000\">'statute_serial_id'</span>: <span style=\"color: #008000; text-decoration-color: #008000\">'9309'</span>,\n",
       "            <span style=\"color: #008000; text-decoration-color: #008000\">'locator'</span>: <span style=\"color: #008000; text-decoration-color: #008000\">'Section 29'</span>,\n",
       "            <span style=\"color: #008000; text-decoration-color: #008000\">'statute'</span>: <span style=\"color: #008000; text-decoration-color: #008000\">'Republic Act No. 9309'</span>,\n",
       "            <span style=\"color: #008000; text-decoration-color: #008000\">'action'</span>: <span style=\"color: #008000; text-decoration-color: #008000\">'Amended'</span>,\n",
       "            <span style=\"color: #008000; text-decoration-color: #008000\">'statute_id'</span>: <span style=\"color: #008000; text-decoration-color: #008000\">'ra-9309-august-02-2004'</span>\n",
       "        <span style=\"font-weight: bold\">}</span>,\n",
       "        <span style=\"font-weight: bold\">{</span>\n",
       "            <span style=\"color: #008000; text-decoration-color: #008000\">'statute_category'</span>: <span style=\"color: #008000; text-decoration-color: #008000\">'ra'</span>,\n",
       "            <span style=\"color: #008000; text-decoration-color: #008000\">'statute_serial_id'</span>: <span style=\"color: #008000; text-decoration-color: #008000\">'9310'</span>,\n",
       "            <span style=\"color: #008000; text-decoration-color: #008000\">'locator'</span>: <span style=\"color: #008000; text-decoration-color: #008000\">'Section 29'</span>,\n",
       "            <span style=\"color: #008000; text-decoration-color: #008000\">'statute'</span>: <span style=\"color: #008000; text-decoration-color: #008000\">'Republic Act No. 9310'</span>,\n",
       "            <span style=\"color: #008000; text-decoration-color: #008000\">'action'</span>: <span style=\"color: #008000; text-decoration-color: #008000\">'Amended'</span>,\n",
       "            <span style=\"color: #008000; text-decoration-color: #008000\">'statute_id'</span>: <span style=\"color: #008000; text-decoration-color: #008000\">'ra-9310-august-04-2004'</span>\n",
       "        <span style=\"font-weight: bold\">}</span>,\n",
       "        <span style=\"font-weight: bold\">{</span>\n",
       "            <span style=\"color: #008000; text-decoration-color: #008000\">'statute_category'</span>: <span style=\"color: #008000; text-decoration-color: #008000\">'ra'</span>,\n",
       "            <span style=\"color: #008000; text-decoration-color: #008000\">'statute_serial_id'</span>: <span style=\"color: #008000; text-decoration-color: #008000\">'9375'</span>,\n",
       "            <span style=\"color: #008000; text-decoration-color: #008000\">'locator'</span>: <span style=\"color: #008000; text-decoration-color: #008000\">'Section 29'</span>,\n",
       "            <span style=\"color: #008000; text-decoration-color: #008000\">'statute'</span>: <span style=\"color: #008000; text-decoration-color: #008000\">'Republic Act No. 9375'</span>,\n",
       "            <span style=\"color: #008000; text-decoration-color: #008000\">'action'</span>: <span style=\"color: #008000; text-decoration-color: #008000\">'Amended'</span>,\n",
       "            <span style=\"color: #008000; text-decoration-color: #008000\">'statute_id'</span>: <span style=\"color: #008000; text-decoration-color: #008000\">'ra-9375-march-06-2007'</span>,\n",
       "            <span style=\"color: #008000; text-decoration-color: #008000\">'statute_mp'</span>: <span style=\"color: #008000; text-decoration-color: #008000\">'1.2.1.'</span>\n",
       "        <span style=\"font-weight: bold\">}</span>,\n",
       "        <span style=\"font-weight: bold\">{</span>\n",
       "            <span style=\"color: #008000; text-decoration-color: #008000\">'statute_category'</span>: <span style=\"color: #008000; text-decoration-color: #008000\">'ra'</span>,\n",
       "            <span style=\"color: #008000; text-decoration-color: #008000\">'statute_serial_id'</span>: <span style=\"color: #008000; text-decoration-color: #008000\">'9377'</span>,\n",
       "            <span style=\"color: #008000; text-decoration-color: #008000\">'locator'</span>: <span style=\"color: #008000; text-decoration-color: #008000\">'Section 29'</span>,\n",
       "            <span style=\"color: #008000; text-decoration-color: #008000\">'statute'</span>: <span style=\"color: #008000; text-decoration-color: #008000\">'Republic Act No. 9377'</span>,\n",
       "            <span style=\"color: #008000; text-decoration-color: #008000\">'action'</span>: <span style=\"color: #008000; text-decoration-color: #008000\">'Amended'</span>,\n",
       "            <span style=\"color: #008000; text-decoration-color: #008000\">'statute_id'</span>: <span style=\"color: #008000; text-decoration-color: #008000\">'ra-9377-march-06-2007'</span>,\n",
       "            <span style=\"color: #008000; text-decoration-color: #008000\">'statute_mp'</span>: <span style=\"color: #008000; text-decoration-color: #008000\">'1.2.1.'</span>\n",
       "        <span style=\"font-weight: bold\">}</span>,\n",
       "        <span style=\"font-weight: bold\">{</span>\n",
       "            <span style=\"color: #008000; text-decoration-color: #008000\">'statute_category'</span>: <span style=\"color: #008000; text-decoration-color: #008000\">'ra'</span>,\n",
       "            <span style=\"color: #008000; text-decoration-color: #008000\">'statute_serial_id'</span>: <span style=\"color: #008000; text-decoration-color: #008000\">'9450'</span>,\n",
       "            <span style=\"color: #008000; text-decoration-color: #008000\">'locator'</span>: <span style=\"color: #008000; text-decoration-color: #008000\">'Section 29'</span>,\n",
       "            <span style=\"color: #008000; text-decoration-color: #008000\">'statute'</span>: <span style=\"color: #008000; text-decoration-color: #008000\">'Republic Act No. 9450'</span>,\n",
       "            <span style=\"color: #008000; text-decoration-color: #008000\">'action'</span>: <span style=\"color: #008000; text-decoration-color: #008000\">'Amended'</span>,\n",
       "            <span style=\"color: #008000; text-decoration-color: #008000\">'statute_id'</span>: <span style=\"color: #008000; text-decoration-color: #008000\">'ra-9450-may-15-2007'</span>,\n",
       "            <span style=\"color: #008000; text-decoration-color: #008000\">'statute_mp'</span>: <span style=\"color: #008000; text-decoration-color: #008000\">'1.1.1.'</span>\n",
       "        <span style=\"font-weight: bold\">}</span>,\n",
       "        <span style=\"font-weight: bold\">{</span>\n",
       "            <span style=\"color: #008000; text-decoration-color: #008000\">'statute_category'</span>: <span style=\"color: #008000; text-decoration-color: #008000\">'ra'</span>,\n",
       "            <span style=\"color: #008000; text-decoration-color: #008000\">'statute_serial_id'</span>: <span style=\"color: #008000; text-decoration-color: #008000\">'10253'</span>,\n",
       "            <span style=\"color: #008000; text-decoration-color: #008000\">'locator'</span>: <span style=\"color: #008000; text-decoration-color: #008000\">'Section 1'</span>,\n",
       "            <span style=\"color: #008000; text-decoration-color: #008000\">'statute'</span>: <span style=\"color: #008000; text-decoration-color: #008000\">'Republic Act No. 10253'</span>,\n",
       "            <span style=\"color: #008000; text-decoration-color: #008000\">'action'</span>: <span style=\"color: #008000; text-decoration-color: #008000\">'Modified'</span>,\n",
       "            <span style=\"color: #008000; text-decoration-color: #008000\">'statute_id'</span>: <span style=\"color: #008000; text-decoration-color: #008000\">'ra-10253-november-08-2012'</span>,\n",
       "            <span style=\"color: #008000; text-decoration-color: #008000\">'statute_mp'</span>: <span style=\"color: #008000; text-decoration-color: #008000\">'1.1.'</span>\n",
       "        <span style=\"font-weight: bold\">}</span>,\n",
       "        <span style=\"font-weight: bold\">{</span>\n",
       "            <span style=\"color: #008000; text-decoration-color: #008000\">'statute_category'</span>: <span style=\"color: #008000; text-decoration-color: #008000\">'ra'</span>,\n",
       "            <span style=\"color: #008000; text-decoration-color: #008000\">'statute_serial_id'</span>: <span style=\"color: #008000; text-decoration-color: #008000\">'10254'</span>,\n",
       "            <span style=\"color: #008000; text-decoration-color: #008000\">'locator'</span>: <span style=\"color: #008000; text-decoration-color: #008000\">'Section 1'</span>,\n",
       "            <span style=\"color: #008000; text-decoration-color: #008000\">'statute'</span>: <span style=\"color: #008000; text-decoration-color: #008000\">'Republic Act No. 10254'</span>,\n",
       "            <span style=\"color: #008000; text-decoration-color: #008000\">'action'</span>: <span style=\"color: #008000; text-decoration-color: #008000\">'Modified'</span>,\n",
       "            <span style=\"color: #008000; text-decoration-color: #008000\">'statute_id'</span>: <span style=\"color: #008000; text-decoration-color: #008000\">'ra-10254-november-08-2012'</span>,\n",
       "            <span style=\"color: #008000; text-decoration-color: #008000\">'statute_mp'</span>: <span style=\"color: #008000; text-decoration-color: #008000\">'1.1.'</span>\n",
       "        <span style=\"font-weight: bold\">}</span>,\n",
       "        <span style=\"font-weight: bold\">{</span>\n",
       "            <span style=\"color: #008000; text-decoration-color: #008000\">'statute_category'</span>: <span style=\"color: #008000; text-decoration-color: #008000\">'ra'</span>,\n",
       "            <span style=\"color: #008000; text-decoration-color: #008000\">'statute_serial_id'</span>: <span style=\"color: #008000; text-decoration-color: #008000\">'10568'</span>,\n",
       "            <span style=\"color: #008000; text-decoration-color: #008000\">'locator'</span>: <span style=\"color: #008000; text-decoration-color: #008000\">'Section 1'</span>,\n",
       "            <span style=\"color: #008000; text-decoration-color: #008000\">'statute'</span>: <span style=\"color: #008000; text-decoration-color: #008000\">'Republic Act No. 10568'</span>,\n",
       "            <span style=\"color: #008000; text-decoration-color: #008000\">'action'</span>: <span style=\"color: #008000; text-decoration-color: #008000\">'Modified'</span>\n",
       "        <span style=\"font-weight: bold\">}</span>,\n",
       "        <span style=\"font-weight: bold\">{</span>\n",
       "            <span style=\"color: #008000; text-decoration-color: #008000\">'statute_category'</span>: <span style=\"color: #008000; text-decoration-color: #008000\">'ra'</span>,\n",
       "            <span style=\"color: #008000; text-decoration-color: #008000\">'statute_serial_id'</span>: <span style=\"color: #008000; text-decoration-color: #008000\">'10570'</span>,\n",
       "            <span style=\"color: #008000; text-decoration-color: #008000\">'locator'</span>: <span style=\"color: #008000; text-decoration-color: #008000\">'Section 1'</span>,\n",
       "            <span style=\"color: #008000; text-decoration-color: #008000\">'statute'</span>: <span style=\"color: #008000; text-decoration-color: #008000\">'Republic Act No. 10570'</span>,\n",
       "            <span style=\"color: #008000; text-decoration-color: #008000\">'action'</span>: <span style=\"color: #008000; text-decoration-color: #008000\">'Modified'</span>\n",
       "        <span style=\"font-weight: bold\">}</span>,\n",
       "        <span style=\"font-weight: bold\">{</span>\n",
       "            <span style=\"color: #008000; text-decoration-color: #008000\">'statute_category'</span>: <span style=\"color: #008000; text-decoration-color: #008000\">'ra'</span>,\n",
       "            <span style=\"color: #008000; text-decoration-color: #008000\">'statute_serial_id'</span>: <span style=\"color: #008000; text-decoration-color: #008000\">'10578'</span>,\n",
       "            <span style=\"color: #008000; text-decoration-color: #008000\">'locator'</span>: <span style=\"color: #008000; text-decoration-color: #008000\">'Section 1'</span>,\n",
       "            <span style=\"color: #008000; text-decoration-color: #008000\">'statute'</span>: <span style=\"color: #008000; text-decoration-color: #008000\">'Republic Act No. 10578'</span>,\n",
       "            <span style=\"color: #008000; text-decoration-color: #008000\">'action'</span>: <span style=\"color: #008000; text-decoration-color: #008000\">'Modified'</span>\n",
       "        <span style=\"font-weight: bold\">}</span>,\n",
       "        <span style=\"font-weight: bold\">{</span>\n",
       "            <span style=\"color: #008000; text-decoration-color: #008000\">'statute_category'</span>: <span style=\"color: #008000; text-decoration-color: #008000\">'ra'</span>,\n",
       "            <span style=\"color: #008000; text-decoration-color: #008000\">'statute_serial_id'</span>: <span style=\"color: #008000; text-decoration-color: #008000\">'10694'</span>,\n",
       "            <span style=\"color: #008000; text-decoration-color: #008000\">'locator'</span>: <span style=\"color: #008000; text-decoration-color: #008000\">'Section 1'</span>,\n",
       "            <span style=\"color: #008000; text-decoration-color: #008000\">'statute'</span>: <span style=\"color: #008000; text-decoration-color: #008000\">'Republic Act No. 10694'</span>,\n",
       "            <span style=\"color: #008000; text-decoration-color: #008000\">'action'</span>: <span style=\"color: #008000; text-decoration-color: #008000\">'Modified'</span>\n",
       "        <span style=\"font-weight: bold\">}</span>,\n",
       "        <span style=\"font-weight: bold\">{</span>\n",
       "            <span style=\"color: #008000; text-decoration-color: #008000\">'statute_category'</span>: <span style=\"color: #008000; text-decoration-color: #008000\">'ra'</span>,\n",
       "            <span style=\"color: #008000; text-decoration-color: #008000\">'statute_serial_id'</span>: <span style=\"color: #008000; text-decoration-color: #008000\">'10696'</span>,\n",
       "            <span style=\"color: #008000; text-decoration-color: #008000\">'locator'</span>: <span style=\"color: #008000; text-decoration-color: #008000\">'Section 1'</span>,\n",
       "            <span style=\"color: #008000; text-decoration-color: #008000\">'statute'</span>: <span style=\"color: #008000; text-decoration-color: #008000\">'Republic Act No. 10696'</span>,\n",
       "            <span style=\"color: #008000; text-decoration-color: #008000\">'action'</span>: <span style=\"color: #008000; text-decoration-color: #008000\">'Modified'</span>\n",
       "        <span style=\"font-weight: bold\">}</span>,\n",
       "        <span style=\"font-weight: bold\">{</span>\n",
       "            <span style=\"color: #008000; text-decoration-color: #008000\">'statute_category'</span>: <span style=\"color: #008000; text-decoration-color: #008000\">'ra'</span>,\n",
       "            <span style=\"color: #008000; text-decoration-color: #008000\">'statute_serial_id'</span>: <span style=\"color: #008000; text-decoration-color: #008000\">'11388'</span>,\n",
       "            <span style=\"color: #008000; text-decoration-color: #008000\">'locator'</span>: <span style=\"color: #008000; text-decoration-color: #008000\">'Section 1'</span>,\n",
       "            <span style=\"color: #008000; text-decoration-color: #008000\">'statute'</span>: <span style=\"color: #008000; text-decoration-color: #008000\">'Republic Act No. 11388'</span>,\n",
       "            <span style=\"color: #008000; text-decoration-color: #008000\">'action'</span>: <span style=\"color: #008000; text-decoration-color: #008000\">'Modified'</span>\n",
       "        <span style=\"font-weight: bold\">}</span>,\n",
       "        <span style=\"font-weight: bold\">{</span>\n",
       "            <span style=\"color: #008000; text-decoration-color: #008000\">'statute_category'</span>: <span style=\"color: #008000; text-decoration-color: #008000\">'ra'</span>,\n",
       "            <span style=\"color: #008000; text-decoration-color: #008000\">'statute_serial_id'</span>: <span style=\"color: #008000; text-decoration-color: #008000\">'11389'</span>,\n",
       "            <span style=\"color: #008000; text-decoration-color: #008000\">'locator'</span>: <span style=\"color: #008000; text-decoration-color: #008000\">'Section 1'</span>,\n",
       "            <span style=\"color: #008000; text-decoration-color: #008000\">'statute'</span>: <span style=\"color: #008000; text-decoration-color: #008000\">'Republic Act No. 11389'</span>,\n",
       "            <span style=\"color: #008000; text-decoration-color: #008000\">'action'</span>: <span style=\"color: #008000; text-decoration-color: #008000\">'Modified'</span>,\n",
       "            <span style=\"color: #008000; text-decoration-color: #008000\">'statute_id'</span>: <span style=\"color: #008000; text-decoration-color: #008000\">'ra-11389-august-22-2019'</span>,\n",
       "            <span style=\"color: #008000; text-decoration-color: #008000\">'statute_mp'</span>: <span style=\"color: #008000; text-decoration-color: #008000\">'1.1.'</span>\n",
       "        <span style=\"font-weight: bold\">}</span>\n",
       "    <span style=\"font-weight: bold\">]</span>,\n",
       "    <span style=\"font-weight: bold\">[</span>\n",
       "        <span style=\"font-weight: bold\">{</span>\n",
       "            <span style=\"color: #008000; text-decoration-color: #008000\">'statute_category'</span>: <span style=\"color: #008000; text-decoration-color: #008000\">'bp'</span>,\n",
       "            <span style=\"color: #008000; text-decoration-color: #008000\">'statute_serial_id'</span>: <span style=\"color: #008000; text-decoration-color: #008000\">'129'</span>,\n",
       "            <span style=\"color: #008000; text-decoration-color: #008000\">'locator'</span>: <span style=\"color: #008000; text-decoration-color: #008000\">'Section 27'</span>,\n",
       "            <span style=\"color: #008000; text-decoration-color: #008000\">'statute'</span>: <span style=\"color: #008000; text-decoration-color: #008000\">'Batas Pambansa Blg. 129'</span>,\n",
       "            <span style=\"color: #008000; text-decoration-color: #008000\">'action'</span>: <span style=\"color: #008000; text-decoration-color: #008000\">'Originated'</span>\n",
       "        <span style=\"font-weight: bold\">}</span>,\n",
       "        <span style=\"font-weight: bold\">{</span>\n",
       "            <span style=\"color: #008000; text-decoration-color: #008000\">'statute_category'</span>: <span style=\"color: #008000; text-decoration-color: #008000\">'ra'</span>,\n",
       "            <span style=\"color: #008000; text-decoration-color: #008000\">'statute_serial_id'</span>: <span style=\"color: #008000; text-decoration-color: #008000\">'9374'</span>,\n",
       "            <span style=\"color: #008000; text-decoration-color: #008000\">'locator'</span>: <span style=\"color: #008000; text-decoration-color: #008000\">'Section 1'</span>,\n",
       "            <span style=\"color: #008000; text-decoration-color: #008000\">'statute'</span>: <span style=\"color: #008000; text-decoration-color: #008000\">'Republic Act No. 9374'</span>,\n",
       "            <span style=\"color: #008000; text-decoration-color: #008000\">'action'</span>: <span style=\"color: #008000; text-decoration-color: #008000\">'Amended'</span>,\n",
       "            <span style=\"color: #008000; text-decoration-color: #008000\">'statute_id'</span>: <span style=\"color: #008000; text-decoration-color: #008000\">'ra-9374-march-06-2007'</span>,\n",
       "            <span style=\"color: #008000; text-decoration-color: #008000\">'statute_mp'</span>: <span style=\"color: #008000; text-decoration-color: #008000\">'1.1.'</span>\n",
       "        <span style=\"font-weight: bold\">}</span>,\n",
       "        <span style=\"font-weight: bold\">{</span>\n",
       "            <span style=\"color: #008000; text-decoration-color: #008000\">'statute_category'</span>: <span style=\"color: #008000; text-decoration-color: #008000\">'ra'</span>,\n",
       "            <span style=\"color: #008000; text-decoration-color: #008000\">'statute_serial_id'</span>: <span style=\"color: #008000; text-decoration-color: #008000\">'9376'</span>,\n",
       "            <span style=\"color: #008000; text-decoration-color: #008000\">'locator'</span>: <span style=\"color: #008000; text-decoration-color: #008000\">'Section 1'</span>,\n",
       "            <span style=\"color: #008000; text-decoration-color: #008000\">'statute'</span>: <span style=\"color: #008000; text-decoration-color: #008000\">'Republic Act No. 9376'</span>,\n",
       "            <span style=\"color: #008000; text-decoration-color: #008000\">'action'</span>: <span style=\"color: #008000; text-decoration-color: #008000\">'Amended'</span>,\n",
       "            <span style=\"color: #008000; text-decoration-color: #008000\">'statute_id'</span>: <span style=\"color: #008000; text-decoration-color: #008000\">'ra-9376-march-06-2007'</span>,\n",
       "            <span style=\"color: #008000; text-decoration-color: #008000\">'statute_mp'</span>: <span style=\"color: #008000; text-decoration-color: #008000\">'1.1.'</span>\n",
       "        <span style=\"font-weight: bold\">}</span>,\n",
       "        <span style=\"font-weight: bold\">{</span>\n",
       "            <span style=\"color: #008000; text-decoration-color: #008000\">'statute_category'</span>: <span style=\"color: #008000; text-decoration-color: #008000\">'ra'</span>,\n",
       "            <span style=\"color: #008000; text-decoration-color: #008000\">'statute_serial_id'</span>: <span style=\"color: #008000; text-decoration-color: #008000\">'9424'</span>,\n",
       "            <span style=\"color: #008000; text-decoration-color: #008000\">'locator'</span>: <span style=\"color: #008000; text-decoration-color: #008000\">'Section 1'</span>,\n",
       "            <span style=\"color: #008000; text-decoration-color: #008000\">'statute'</span>: <span style=\"color: #008000; text-decoration-color: #008000\">'Republic Act No. 9424'</span>,\n",
       "            <span style=\"color: #008000; text-decoration-color: #008000\">'action'</span>: <span style=\"color: #008000; text-decoration-color: #008000\">'Amended'</span>,\n",
       "            <span style=\"color: #008000; text-decoration-color: #008000\">'statute_id'</span>: <span style=\"color: #008000; text-decoration-color: #008000\">'ra-9424-april-10-2007'</span>,\n",
       "            <span style=\"color: #008000; text-decoration-color: #008000\">'statute_mp'</span>: <span style=\"color: #008000; text-decoration-color: #008000\">'1.1.'</span>\n",
       "        <span style=\"font-weight: bold\">}</span>,\n",
       "        <span style=\"font-weight: bold\">{</span>\n",
       "            <span style=\"color: #008000; text-decoration-color: #008000\">'statute_category'</span>: <span style=\"color: #008000; text-decoration-color: #008000\">'ra'</span>,\n",
       "            <span style=\"color: #008000; text-decoration-color: #008000\">'statute_serial_id'</span>: <span style=\"color: #008000; text-decoration-color: #008000\">'9848'</span>,\n",
       "            <span style=\"color: #008000; text-decoration-color: #008000\">'locator'</span>: <span style=\"color: #008000; text-decoration-color: #008000\">'Section 1'</span>,\n",
       "            <span style=\"color: #008000; text-decoration-color: #008000\">'statute'</span>: <span style=\"color: #008000; text-decoration-color: #008000\">'Republic Act No. 9848'</span>,\n",
       "            <span style=\"color: #008000; text-decoration-color: #008000\">'action'</span>: <span style=\"color: #008000; text-decoration-color: #008000\">'Modified'</span>\n",
       "        <span style=\"font-weight: bold\">}</span>,\n",
       "        <span style=\"font-weight: bold\">{</span>\n",
       "            <span style=\"color: #008000; text-decoration-color: #008000\">'statute_category'</span>: <span style=\"color: #008000; text-decoration-color: #008000\">'ra'</span>,\n",
       "            <span style=\"color: #008000; text-decoration-color: #008000\">'statute_serial_id'</span>: <span style=\"color: #008000; text-decoration-color: #008000\">'10251'</span>,\n",
       "            <span style=\"color: #008000; text-decoration-color: #008000\">'locator'</span>: <span style=\"color: #008000; text-decoration-color: #008000\">'Section 1'</span>,\n",
       "            <span style=\"color: #008000; text-decoration-color: #008000\">'statute'</span>: <span style=\"color: #008000; text-decoration-color: #008000\">'Republic Act No. 10251'</span>,\n",
       "            <span style=\"color: #008000; text-decoration-color: #008000\">'action'</span>: <span style=\"color: #008000; text-decoration-color: #008000\">'Modified'</span>,\n",
       "            <span style=\"color: #008000; text-decoration-color: #008000\">'statute_id'</span>: <span style=\"color: #008000; text-decoration-color: #008000\">'ra-10251-november-08-2012'</span>,\n",
       "            <span style=\"color: #008000; text-decoration-color: #008000\">'statute_mp'</span>: <span style=\"color: #008000; text-decoration-color: #008000\">'1.1.'</span>\n",
       "        <span style=\"font-weight: bold\">}</span>,\n",
       "        <span style=\"font-weight: bold\">{</span>\n",
       "            <span style=\"color: #008000; text-decoration-color: #008000\">'statute_category'</span>: <span style=\"color: #008000; text-decoration-color: #008000\">'ra'</span>,\n",
       "            <span style=\"color: #008000; text-decoration-color: #008000\">'statute_serial_id'</span>: <span style=\"color: #008000; text-decoration-color: #008000\">'10299'</span>,\n",
       "            <span style=\"color: #008000; text-decoration-color: #008000\">'locator'</span>: <span style=\"color: #008000; text-decoration-color: #008000\">'Section 1'</span>,\n",
       "            <span style=\"color: #008000; text-decoration-color: #008000\">'statute'</span>: <span style=\"color: #008000; text-decoration-color: #008000\">'Republic Act No. 10299'</span>,\n",
       "            <span style=\"color: #008000; text-decoration-color: #008000\">'action'</span>: <span style=\"color: #008000; text-decoration-color: #008000\">'Modified'</span>\n",
       "        <span style=\"font-weight: bold\">}</span>,\n",
       "        <span style=\"font-weight: bold\">{</span>\n",
       "            <span style=\"color: #008000; text-decoration-color: #008000\">'statute_category'</span>: <span style=\"color: #008000; text-decoration-color: #008000\">'ra'</span>,\n",
       "            <span style=\"color: #008000; text-decoration-color: #008000\">'statute_serial_id'</span>: <span style=\"color: #008000; text-decoration-color: #008000\">'10341'</span>,\n",
       "            <span style=\"color: #008000; text-decoration-color: #008000\">'locator'</span>: <span style=\"color: #008000; text-decoration-color: #008000\">'Section 1'</span>,\n",
       "            <span style=\"color: #008000; text-decoration-color: #008000\">'statute'</span>: <span style=\"color: #008000; text-decoration-color: #008000\">'Republic Act No. 10341'</span>,\n",
       "            <span style=\"color: #008000; text-decoration-color: #008000\">'action'</span>: <span style=\"color: #008000; text-decoration-color: #008000\">'Modified'</span>\n",
       "        <span style=\"font-weight: bold\">}</span>,\n",
       "        <span style=\"font-weight: bold\">{</span>\n",
       "            <span style=\"color: #008000; text-decoration-color: #008000\">'statute_category'</span>: <span style=\"color: #008000; text-decoration-color: #008000\">'ra'</span>,\n",
       "            <span style=\"color: #008000; text-decoration-color: #008000\">'statute_serial_id'</span>: <span style=\"color: #008000; text-decoration-color: #008000\">'10381'</span>,\n",
       "            <span style=\"color: #008000; text-decoration-color: #008000\">'locator'</span>: <span style=\"color: #008000; text-decoration-color: #008000\">'Section 1'</span>,\n",
       "            <span style=\"color: #008000; text-decoration-color: #008000\">'statute'</span>: <span style=\"color: #008000; text-decoration-color: #008000\">'Republic Act No. 10381'</span>,\n",
       "            <span style=\"color: #008000; text-decoration-color: #008000\">'action'</span>: <span style=\"color: #008000; text-decoration-color: #008000\">'Modified'</span>,\n",
       "            <span style=\"color: #008000; text-decoration-color: #008000\">'statute_id'</span>: <span style=\"color: #008000; text-decoration-color: #008000\">'ra-10381-march-14-2013'</span>,\n",
       "            <span style=\"color: #008000; text-decoration-color: #008000\">'statute_mp'</span>: <span style=\"color: #008000; text-decoration-color: #008000\">'1.1.'</span>\n",
       "        <span style=\"font-weight: bold\">}</span>,\n",
       "        <span style=\"font-weight: bold\">{</span>\n",
       "            <span style=\"color: #008000; text-decoration-color: #008000\">'statute_category'</span>: <span style=\"color: #008000; text-decoration-color: #008000\">'ra'</span>,\n",
       "            <span style=\"color: #008000; text-decoration-color: #008000\">'statute_serial_id'</span>: <span style=\"color: #008000; text-decoration-color: #008000\">'10480'</span>,\n",
       "            <span style=\"color: #008000; text-decoration-color: #008000\">'locator'</span>: <span style=\"color: #008000; text-decoration-color: #008000\">'Section 1'</span>,\n",
       "            <span style=\"color: #008000; text-decoration-color: #008000\">'statute'</span>: <span style=\"color: #008000; text-decoration-color: #008000\">'Republic Act No. 10480'</span>,\n",
       "            <span style=\"color: #008000; text-decoration-color: #008000\">'action'</span>: <span style=\"color: #008000; text-decoration-color: #008000\">'Modified'</span>,\n",
       "            <span style=\"color: #008000; text-decoration-color: #008000\">'statute_id'</span>: <span style=\"color: #008000; text-decoration-color: #008000\">'ra-10480-april-16-2013'</span>,\n",
       "            <span style=\"color: #008000; text-decoration-color: #008000\">'statute_mp'</span>: <span style=\"color: #008000; text-decoration-color: #008000\">'1.1.'</span>\n",
       "        <span style=\"font-weight: bold\">}</span>,\n",
       "        <span style=\"font-weight: bold\">{</span>\n",
       "            <span style=\"color: #008000; text-decoration-color: #008000\">'statute_category'</span>: <span style=\"color: #008000; text-decoration-color: #008000\">'ra'</span>,\n",
       "            <span style=\"color: #008000; text-decoration-color: #008000\">'statute_serial_id'</span>: <span style=\"color: #008000; text-decoration-color: #008000\">'10520'</span>,\n",
       "            <span style=\"color: #008000; text-decoration-color: #008000\">'locator'</span>: <span style=\"color: #008000; text-decoration-color: #008000\">'Section 1'</span>,\n",
       "            <span style=\"color: #008000; text-decoration-color: #008000\">'statute'</span>: <span style=\"color: #008000; text-decoration-color: #008000\">'Republic Act No. 10520'</span>,\n",
       "            <span style=\"color: #008000; text-decoration-color: #008000\">'action'</span>: <span style=\"color: #008000; text-decoration-color: #008000\">'Modified'</span>\n",
       "        <span style=\"font-weight: bold\">}</span>,\n",
       "        <span style=\"font-weight: bold\">{</span>\n",
       "            <span style=\"color: #008000; text-decoration-color: #008000\">'statute_category'</span>: <span style=\"color: #008000; text-decoration-color: #008000\">'ra'</span>,\n",
       "            <span style=\"color: #008000; text-decoration-color: #008000\">'statute_serial_id'</span>: <span style=\"color: #008000; text-decoration-color: #008000\">'10522'</span>,\n",
       "            <span style=\"color: #008000; text-decoration-color: #008000\">'locator'</span>: <span style=\"color: #008000; text-decoration-color: #008000\">'Section 1'</span>,\n",
       "            <span style=\"color: #008000; text-decoration-color: #008000\">'statute'</span>: <span style=\"color: #008000; text-decoration-color: #008000\">'Republic Act No. 10522'</span>,\n",
       "            <span style=\"color: #008000; text-decoration-color: #008000\">'action'</span>: <span style=\"color: #008000; text-decoration-color: #008000\">'Modified'</span>,\n",
       "            <span style=\"color: #008000; text-decoration-color: #008000\">'statute_id'</span>: <span style=\"color: #008000; text-decoration-color: #008000\">'ra-10522-april-23-2013'</span>,\n",
       "            <span style=\"color: #008000; text-decoration-color: #008000\">'statute_mp'</span>: <span style=\"color: #008000; text-decoration-color: #008000\">'1.1.'</span>\n",
       "        <span style=\"font-weight: bold\">}</span>,\n",
       "        <span style=\"font-weight: bold\">{</span>\n",
       "            <span style=\"color: #008000; text-decoration-color: #008000\">'statute_category'</span>: <span style=\"color: #008000; text-decoration-color: #008000\">'ra'</span>,\n",
       "            <span style=\"color: #008000; text-decoration-color: #008000\">'statute_serial_id'</span>: <span style=\"color: #008000; text-decoration-color: #008000\">'10537'</span>,\n",
       "            <span style=\"color: #008000; text-decoration-color: #008000\">'locator'</span>: <span style=\"color: #008000; text-decoration-color: #008000\">'Section 1'</span>,\n",
       "            <span style=\"color: #008000; text-decoration-color: #008000\">'statute'</span>: <span style=\"color: #008000; text-decoration-color: #008000\">'Republic Act No. 10537'</span>,\n",
       "            <span style=\"color: #008000; text-decoration-color: #008000\">'action'</span>: <span style=\"color: #008000; text-decoration-color: #008000\">'Modified'</span>,\n",
       "            <span style=\"color: #008000; text-decoration-color: #008000\">'statute_id'</span>: <span style=\"color: #008000; text-decoration-color: #008000\">'ra-10537-may-15-2013'</span>,\n",
       "            <span style=\"color: #008000; text-decoration-color: #008000\">'statute_mp'</span>: <span style=\"color: #008000; text-decoration-color: #008000\">'1.1.'</span>\n",
       "        <span style=\"font-weight: bold\">}</span>,\n",
       "        <span style=\"font-weight: bold\">{</span>\n",
       "            <span style=\"color: #008000; text-decoration-color: #008000\">'statute_category'</span>: <span style=\"color: #008000; text-decoration-color: #008000\">'ra'</span>,\n",
       "            <span style=\"color: #008000; text-decoration-color: #008000\">'statute_serial_id'</span>: <span style=\"color: #008000; text-decoration-color: #008000\">'10566'</span>,\n",
       "            <span style=\"color: #008000; text-decoration-color: #008000\">'locator'</span>: <span style=\"color: #008000; text-decoration-color: #008000\">'Section 1'</span>,\n",
       "            <span style=\"color: #008000; text-decoration-color: #008000\">'statute'</span>: <span style=\"color: #008000; text-decoration-color: #008000\">'Republic Act No. 10566'</span>,\n",
       "            <span style=\"color: #008000; text-decoration-color: #008000\">'action'</span>: <span style=\"color: #008000; text-decoration-color: #008000\">'Modified'</span>,\n",
       "            <span style=\"color: #008000; text-decoration-color: #008000\">'statute_id'</span>: <span style=\"color: #008000; text-decoration-color: #008000\">'ra-10566-may-22-2013'</span>,\n",
       "            <span style=\"color: #008000; text-decoration-color: #008000\">'statute_mp'</span>: <span style=\"color: #008000; text-decoration-color: #008000\">'1.1.'</span>\n",
       "        <span style=\"font-weight: bold\">}</span>,\n",
       "        <span style=\"font-weight: bold\">{</span>\n",
       "            <span style=\"color: #008000; text-decoration-color: #008000\">'statute_category'</span>: <span style=\"color: #008000; text-decoration-color: #008000\">'ra'</span>,\n",
       "            <span style=\"color: #008000; text-decoration-color: #008000\">'statute_serial_id'</span>: <span style=\"color: #008000; text-decoration-color: #008000\">'10711'</span>,\n",
       "            <span style=\"color: #008000; text-decoration-color: #008000\">'locator'</span>: <span style=\"color: #008000; text-decoration-color: #008000\">'Section 1'</span>,\n",
       "            <span style=\"color: #008000; text-decoration-color: #008000\">'statute'</span>: <span style=\"color: #008000; text-decoration-color: #008000\">'Republic Act No. 10711'</span>,\n",
       "            <span style=\"color: #008000; text-decoration-color: #008000\">'action'</span>: <span style=\"color: #008000; text-decoration-color: #008000\">'Modified'</span>\n",
       "        <span style=\"font-weight: bold\">}</span>\n",
       "    <span style=\"font-weight: bold\">]</span>,\n",
       "    <span style=\"font-weight: bold\">[</span>\n",
       "        <span style=\"font-weight: bold\">{</span>\n",
       "            <span style=\"color: #008000; text-decoration-color: #008000\">'statute_category'</span>: <span style=\"color: #008000; text-decoration-color: #008000\">'bp'</span>,\n",
       "            <span style=\"color: #008000; text-decoration-color: #008000\">'statute_serial_id'</span>: <span style=\"color: #008000; text-decoration-color: #008000\">'129'</span>,\n",
       "            <span style=\"color: #008000; text-decoration-color: #008000\">'locator'</span>: <span style=\"color: #008000; text-decoration-color: #008000\">'Section 26'</span>,\n",
       "            <span style=\"color: #008000; text-decoration-color: #008000\">'statute'</span>: <span style=\"color: #008000; text-decoration-color: #008000\">'Batas Pambansa Blg. 129'</span>,\n",
       "            <span style=\"color: #008000; text-decoration-color: #008000\">'action'</span>: <span style=\"color: #008000; text-decoration-color: #008000\">'Originated'</span>\n",
       "        <span style=\"font-weight: bold\">}</span>,\n",
       "        <span style=\"font-weight: bold\">{</span>\n",
       "            <span style=\"color: #008000; text-decoration-color: #008000\">'statute_category'</span>: <span style=\"color: #008000; text-decoration-color: #008000\">'ra'</span>,\n",
       "            <span style=\"color: #008000; text-decoration-color: #008000\">'statute_serial_id'</span>: <span style=\"color: #008000; text-decoration-color: #008000\">'11459'</span>,\n",
       "            <span style=\"color: #008000; text-decoration-color: #008000\">'locator'</span>: <span style=\"color: #008000; text-decoration-color: #008000\">'Section 26'</span>,\n",
       "            <span style=\"color: #008000; text-decoration-color: #008000\">'statute'</span>: <span style=\"color: #008000; text-decoration-color: #008000\">'Republic Act No. 11459'</span>,\n",
       "            <span style=\"color: #008000; text-decoration-color: #008000\">'action'</span>: <span style=\"color: #008000; text-decoration-color: #008000\">'Amended'</span>\n",
       "        <span style=\"font-weight: bold\">}</span>\n",
       "    <span style=\"font-weight: bold\">]</span>,\n",
       "    <span style=\"font-weight: bold\">[</span>\n",
       "        <span style=\"font-weight: bold\">{</span>\n",
       "            <span style=\"color: #008000; text-decoration-color: #008000\">'statute_category'</span>: <span style=\"color: #008000; text-decoration-color: #008000\">'ra'</span>,\n",
       "            <span style=\"color: #008000; text-decoration-color: #008000\">'statute_serial_id'</span>: <span style=\"color: #008000; text-decoration-color: #008000\">'11459'</span>,\n",
       "            <span style=\"color: #008000; text-decoration-color: #008000\">'locator'</span>: <span style=\"color: #008000; text-decoration-color: #008000\">'Section 25-A'</span>,\n",
       "            <span style=\"color: #008000; text-decoration-color: #008000\">'statute'</span>: <span style=\"color: #008000; text-decoration-color: #008000\">'Republic Act No. 11459'</span>,\n",
       "            <span style=\"color: #008000; text-decoration-color: #008000\">'action'</span>: <span style=\"color: #008000; text-decoration-color: #008000\">'Originated'</span>\n",
       "        <span style=\"font-weight: bold\">}</span>\n",
       "    <span style=\"font-weight: bold\">]</span>,\n",
       "    <span style=\"font-weight: bold\">[</span>\n",
       "        <span style=\"font-weight: bold\">{</span>\n",
       "            <span style=\"color: #008000; text-decoration-color: #008000\">'statute_category'</span>: <span style=\"color: #008000; text-decoration-color: #008000\">'bp'</span>,\n",
       "            <span style=\"color: #008000; text-decoration-color: #008000\">'statute_serial_id'</span>: <span style=\"color: #008000; text-decoration-color: #008000\">'129'</span>,\n",
       "            <span style=\"color: #008000; text-decoration-color: #008000\">'locator'</span>: <span style=\"color: #008000; text-decoration-color: #008000\">'Section 19'</span>,\n",
       "            <span style=\"color: #008000; text-decoration-color: #008000\">'statute'</span>: <span style=\"color: #008000; text-decoration-color: #008000\">'Batas Pambansa Blg. 129'</span>,\n",
       "            <span style=\"color: #008000; text-decoration-color: #008000\">'action'</span>: <span style=\"color: #008000; text-decoration-color: #008000\">'Originated'</span>\n",
       "        <span style=\"font-weight: bold\">}</span>,\n",
       "        <span style=\"font-weight: bold\">{</span>\n",
       "            <span style=\"color: #008000; text-decoration-color: #008000\">'statute_category'</span>: <span style=\"color: #008000; text-decoration-color: #008000\">'ra'</span>,\n",
       "            <span style=\"color: #008000; text-decoration-color: #008000\">'statute_serial_id'</span>: <span style=\"color: #008000; text-decoration-color: #008000\">'7691'</span>,\n",
       "            <span style=\"color: #008000; text-decoration-color: #008000\">'locator'</span>: <span style=\"color: #008000; text-decoration-color: #008000\">'Section 19'</span>,\n",
       "            <span style=\"color: #008000; text-decoration-color: #008000\">'statute'</span>: <span style=\"color: #008000; text-decoration-color: #008000\">'Republic Act No. 7691'</span>,\n",
       "            <span style=\"color: #008000; text-decoration-color: #008000\">'action'</span>: <span style=\"color: #008000; text-decoration-color: #008000\">'Amended'</span>\n",
       "        <span style=\"font-weight: bold\">}</span>,\n",
       "        <span style=\"font-weight: bold\">{</span>\n",
       "            <span style=\"color: #008000; text-decoration-color: #008000\">'statute_category'</span>: <span style=\"color: #008000; text-decoration-color: #008000\">'ra'</span>,\n",
       "            <span style=\"color: #008000; text-decoration-color: #008000\">'statute_serial_id'</span>: <span style=\"color: #008000; text-decoration-color: #008000\">'11576'</span>,\n",
       "            <span style=\"color: #008000; text-decoration-color: #008000\">'locator'</span>: <span style=\"color: #008000; text-decoration-color: #008000\">'Section 19'</span>,\n",
       "            <span style=\"color: #008000; text-decoration-color: #008000\">'statute'</span>: <span style=\"color: #008000; text-decoration-color: #008000\">'Republic Act No. 11576'</span>,\n",
       "            <span style=\"color: #008000; text-decoration-color: #008000\">'action'</span>: <span style=\"color: #008000; text-decoration-color: #008000\">'Amended'</span>\n",
       "        <span style=\"font-weight: bold\">}</span>\n",
       "    <span style=\"font-weight: bold\">]</span>,\n",
       "    <span style=\"font-weight: bold\">[</span>\n",
       "        <span style=\"font-weight: bold\">{</span>\n",
       "            <span style=\"color: #008000; text-decoration-color: #008000\">'statute_category'</span>: <span style=\"color: #008000; text-decoration-color: #008000\">'bp'</span>,\n",
       "            <span style=\"color: #008000; text-decoration-color: #008000\">'statute_serial_id'</span>: <span style=\"color: #008000; text-decoration-color: #008000\">'129'</span>,\n",
       "            <span style=\"color: #008000; text-decoration-color: #008000\">'locator'</span>: <span style=\"color: #008000; text-decoration-color: #008000\">'Section 15'</span>,\n",
       "            <span style=\"color: #008000; text-decoration-color: #008000\">'statute'</span>: <span style=\"color: #008000; text-decoration-color: #008000\">'Batas Pambansa Blg. 129'</span>,\n",
       "            <span style=\"color: #008000; text-decoration-color: #008000\">'action'</span>: <span style=\"color: #008000; text-decoration-color: #008000\">'Originated'</span>\n",
       "        <span style=\"font-weight: bold\">}</span>,\n",
       "        <span style=\"font-weight: bold\">{</span>\n",
       "            <span style=\"color: #008000; text-decoration-color: #008000\">'statute_category'</span>: <span style=\"color: #008000; text-decoration-color: #008000\">'ra'</span>,\n",
       "            <span style=\"color: #008000; text-decoration-color: #008000\">'statute_serial_id'</span>: <span style=\"color: #008000; text-decoration-color: #008000\">'8369'</span>,\n",
       "            <span style=\"color: #008000; text-decoration-color: #008000\">'locator'</span>: <span style=\"color: #008000; text-decoration-color: #008000\">'Section 15'</span>,\n",
       "            <span style=\"color: #008000; text-decoration-color: #008000\">'statute'</span>: <span style=\"color: #008000; text-decoration-color: #008000\">'Republic Act No. 8369'</span>,\n",
       "            <span style=\"color: #008000; text-decoration-color: #008000\">'action'</span>: <span style=\"color: #008000; text-decoration-color: #008000\">'Amended'</span>\n",
       "        <span style=\"font-weight: bold\">}</span>,\n",
       "        <span style=\"font-weight: bold\">{</span>\n",
       "            <span style=\"color: #008000; text-decoration-color: #008000\">'statute_category'</span>: <span style=\"color: #008000; text-decoration-color: #008000\">'ra'</span>,\n",
       "            <span style=\"color: #008000; text-decoration-color: #008000\">'statute_serial_id'</span>: <span style=\"color: #008000; text-decoration-color: #008000\">'11459'</span>,\n",
       "            <span style=\"color: #008000; text-decoration-color: #008000\">'locator'</span>: <span style=\"color: #008000; text-decoration-color: #008000\">'Section 15'</span>,\n",
       "            <span style=\"color: #008000; text-decoration-color: #008000\">'statute'</span>: <span style=\"color: #008000; text-decoration-color: #008000\">'Republic Act No. 11459'</span>,\n",
       "            <span style=\"color: #008000; text-decoration-color: #008000\">'action'</span>: <span style=\"color: #008000; text-decoration-color: #008000\">'Amended'</span>\n",
       "        <span style=\"font-weight: bold\">}</span>\n",
       "    <span style=\"font-weight: bold\">]</span>,\n",
       "    <span style=\"font-weight: bold\">[</span>\n",
       "        <span style=\"font-weight: bold\">{</span>\n",
       "            <span style=\"color: #008000; text-decoration-color: #008000\">'statute_category'</span>: <span style=\"color: #008000; text-decoration-color: #008000\">'ra'</span>,\n",
       "            <span style=\"color: #008000; text-decoration-color: #008000\">'statute_serial_id'</span>: <span style=\"color: #008000; text-decoration-color: #008000\">'11459'</span>,\n",
       "            <span style=\"color: #008000; text-decoration-color: #008000\">'locator'</span>: <span style=\"color: #008000; text-decoration-color: #008000\">'n'</span>,\n",
       "            <span style=\"color: #008000; text-decoration-color: #008000\">'statute'</span>: <span style=\"color: #008000; text-decoration-color: #008000\">'Republic Act No. 11459'</span>,\n",
       "            <span style=\"color: #008000; text-decoration-color: #008000\">'action'</span>: <span style=\"color: #008000; text-decoration-color: #008000\">'Inserted'</span>\n",
       "        <span style=\"font-weight: bold\">}</span>\n",
       "    <span style=\"font-weight: bold\">]</span>,\n",
       "    <span style=\"font-weight: bold\">[</span>\n",
       "        <span style=\"font-weight: bold\">{</span>\n",
       "            <span style=\"color: #008000; text-decoration-color: #008000\">'statute_category'</span>: <span style=\"color: #008000; text-decoration-color: #008000\">'bp'</span>,\n",
       "            <span style=\"color: #008000; text-decoration-color: #008000\">'statute_serial_id'</span>: <span style=\"color: #008000; text-decoration-color: #008000\">'129'</span>,\n",
       "            <span style=\"color: #008000; text-decoration-color: #008000\">'locator'</span>: <span style=\"color: #008000; text-decoration-color: #008000\">'m'</span>,\n",
       "            <span style=\"color: #008000; text-decoration-color: #008000\">'content'</span>: <span style=\"color: #008000; text-decoration-color: #008000\">'Twenty Regional Trial Judges'</span>,\n",
       "            <span style=\"color: #008000; text-decoration-color: #008000\">'statute'</span>: <span style=\"color: #008000; text-decoration-color: #008000\">'Batas Pambansa Blg. 129'</span>,\n",
       "            <span style=\"color: #008000; text-decoration-color: #008000\">'action'</span>: <span style=\"color: #008000; text-decoration-color: #008000\">'Originated'</span>\n",
       "        <span style=\"font-weight: bold\">}</span>,\n",
       "        <span style=\"font-weight: bold\">{</span>\n",
       "            <span style=\"color: #008000; text-decoration-color: #008000\">'statute_category'</span>: <span style=\"color: #008000; text-decoration-color: #008000\">'ra'</span>,\n",
       "            <span style=\"color: #008000; text-decoration-color: #008000\">'statute_serial_id'</span>: <span style=\"color: #008000; text-decoration-color: #008000\">'7154'</span>,\n",
       "            <span style=\"color: #008000; text-decoration-color: #008000\">'locator'</span>: <span style=\"color: #008000; text-decoration-color: #008000\">'m'</span>,\n",
       "            <span style=\"color: #008000; text-decoration-color: #008000\">'content'</span>: <span style=\"color: #008000; text-decoration-color: #008000\">'Twenty-five Regional Trial Judges'</span>,\n",
       "            <span style=\"color: #008000; text-decoration-color: #008000\">'statute'</span>: <span style=\"color: #008000; text-decoration-color: #008000\">'Republic Act No. 7154'</span>,\n",
       "            <span style=\"color: #008000; text-decoration-color: #008000\">'action'</span>: <span style=\"color: #008000; text-decoration-color: #008000\">'Amended'</span>\n",
       "        <span style=\"font-weight: bold\">}</span>,\n",
       "        <span style=\"font-weight: bold\">{</span>\n",
       "            <span style=\"color: #008000; text-decoration-color: #008000\">'statute_category'</span>: <span style=\"color: #008000; text-decoration-color: #008000\">'ra'</span>,\n",
       "            <span style=\"color: #008000; text-decoration-color: #008000\">'statute_serial_id'</span>: <span style=\"color: #008000; text-decoration-color: #008000\">'10542'</span>,\n",
       "            <span style=\"color: #008000; text-decoration-color: #008000\">'locator'</span>: <span style=\"color: #008000; text-decoration-color: #008000\">'Section 1'</span>,\n",
       "            <span style=\"color: #008000; text-decoration-color: #008000\">'statute'</span>: <span style=\"color: #008000; text-decoration-color: #008000\">'Republic Act No. 10542'</span>,\n",
       "            <span style=\"color: #008000; text-decoration-color: #008000\">'action'</span>: <span style=\"color: #008000; text-decoration-color: #008000\">'Modified'</span>,\n",
       "            <span style=\"color: #008000; text-decoration-color: #008000\">'statute_id'</span>: <span style=\"color: #008000; text-decoration-color: #008000\">'ra-10542-may-15-2013'</span>,\n",
       "            <span style=\"color: #008000; text-decoration-color: #008000\">'statute_mp'</span>: <span style=\"color: #008000; text-decoration-color: #008000\">'1.1.'</span>\n",
       "        <span style=\"font-weight: bold\">}</span>,\n",
       "        <span style=\"font-weight: bold\">{</span>\n",
       "            <span style=\"color: #008000; text-decoration-color: #008000\">'statute_category'</span>: <span style=\"color: #008000; text-decoration-color: #008000\">'ra'</span>,\n",
       "            <span style=\"color: #008000; text-decoration-color: #008000\">'statute_serial_id'</span>: <span style=\"color: #008000; text-decoration-color: #008000\">'10546'</span>,\n",
       "            <span style=\"color: #008000; text-decoration-color: #008000\">'locator'</span>: <span style=\"color: #008000; text-decoration-color: #008000\">'Section 1'</span>,\n",
       "            <span style=\"color: #008000; text-decoration-color: #008000\">'statute'</span>: <span style=\"color: #008000; text-decoration-color: #008000\">'Republic Act No. 10546'</span>,\n",
       "            <span style=\"color: #008000; text-decoration-color: #008000\">'action'</span>: <span style=\"color: #008000; text-decoration-color: #008000\">'Modified'</span>,\n",
       "            <span style=\"color: #008000; text-decoration-color: #008000\">'statute_id'</span>: <span style=\"color: #008000; text-decoration-color: #008000\">'ra-10546-may-15-2013'</span>,\n",
       "            <span style=\"color: #008000; text-decoration-color: #008000\">'statute_mp'</span>: <span style=\"color: #008000; text-decoration-color: #008000\">'1.1.'</span>\n",
       "        <span style=\"font-weight: bold\">}</span>,\n",
       "        <span style=\"font-weight: bold\">{</span>\n",
       "            <span style=\"color: #008000; text-decoration-color: #008000\">'statute_category'</span>: <span style=\"color: #008000; text-decoration-color: #008000\">'ra'</span>,\n",
       "            <span style=\"color: #008000; text-decoration-color: #008000\">'statute_serial_id'</span>: <span style=\"color: #008000; text-decoration-color: #008000\">'10576'</span>,\n",
       "            <span style=\"color: #008000; text-decoration-color: #008000\">'locator'</span>: <span style=\"color: #008000; text-decoration-color: #008000\">'Section 1'</span>,\n",
       "            <span style=\"color: #008000; text-decoration-color: #008000\">'statute'</span>: <span style=\"color: #008000; text-decoration-color: #008000\">'Republic Act No. 10576'</span>,\n",
       "            <span style=\"color: #008000; text-decoration-color: #008000\">'action'</span>: <span style=\"color: #008000; text-decoration-color: #008000\">'Modified'</span>,\n",
       "            <span style=\"color: #008000; text-decoration-color: #008000\">'statute_id'</span>: <span style=\"color: #008000; text-decoration-color: #008000\">'ra-10576-may-24-2013'</span>,\n",
       "            <span style=\"color: #008000; text-decoration-color: #008000\">'statute_mp'</span>: <span style=\"color: #008000; text-decoration-color: #008000\">'1.1.'</span>\n",
       "        <span style=\"font-weight: bold\">}</span>,\n",
       "        <span style=\"font-weight: bold\">{</span>\n",
       "            <span style=\"color: #008000; text-decoration-color: #008000\">'statute_category'</span>: <span style=\"color: #008000; text-decoration-color: #008000\">'ra'</span>,\n",
       "            <span style=\"color: #008000; text-decoration-color: #008000\">'statute_serial_id'</span>: <span style=\"color: #008000; text-decoration-color: #008000\">'11455'</span>,\n",
       "            <span style=\"color: #008000; text-decoration-color: #008000\">'locator'</span>: <span style=\"color: #008000; text-decoration-color: #008000\">'Section 1'</span>,\n",
       "            <span style=\"color: #008000; text-decoration-color: #008000\">'statute'</span>: <span style=\"color: #008000; text-decoration-color: #008000\">'Republic Act No. 11455'</span>,\n",
       "            <span style=\"color: #008000; text-decoration-color: #008000\">'action'</span>: <span style=\"color: #008000; text-decoration-color: #008000\">'Modified'</span>,\n",
       "            <span style=\"color: #008000; text-decoration-color: #008000\">'statute_id'</span>: <span style=\"color: #008000; text-decoration-color: #008000\">'ra-11455-august-30-2019'</span>,\n",
       "            <span style=\"color: #008000; text-decoration-color: #008000\">'statute_mp'</span>: <span style=\"color: #008000; text-decoration-color: #008000\">'1.1.'</span>\n",
       "        <span style=\"font-weight: bold\">}</span>\n",
       "    <span style=\"font-weight: bold\">]</span>,\n",
       "    <span style=\"font-weight: bold\">[</span>\n",
       "        <span style=\"font-weight: bold\">{</span>\n",
       "            <span style=\"color: #008000; text-decoration-color: #008000\">'statute_category'</span>: <span style=\"color: #008000; text-decoration-color: #008000\">'bp'</span>,\n",
       "            <span style=\"color: #008000; text-decoration-color: #008000\">'statute_serial_id'</span>: <span style=\"color: #008000; text-decoration-color: #008000\">'129'</span>,\n",
       "            <span style=\"color: #008000; text-decoration-color: #008000\">'locator'</span>: <span style=\"color: #008000; text-decoration-color: #008000\">'l'</span>,\n",
       "            <span style=\"color: #008000; text-decoration-color: #008000\">'content'</span>: <span style=\"color: #008000; text-decoration-color: #008000\">'Twenty-nine Regional Trial Judges'</span>,\n",
       "            <span style=\"color: #008000; text-decoration-color: #008000\">'statute'</span>: <span style=\"color: #008000; text-decoration-color: #008000\">'Batas Pambansa Blg. 129'</span>,\n",
       "            <span style=\"color: #008000; text-decoration-color: #008000\">'action'</span>: <span style=\"color: #008000; text-decoration-color: #008000\">'Originated'</span>\n",
       "        <span style=\"font-weight: bold\">}</span>,\n",
       "        <span style=\"font-weight: bold\">{</span>\n",
       "            <span style=\"color: #008000; text-decoration-color: #008000\">'statute_category'</span>: <span style=\"color: #008000; text-decoration-color: #008000\">'ra'</span>,\n",
       "            <span style=\"color: #008000; text-decoration-color: #008000\">'statute_serial_id'</span>: <span style=\"color: #008000; text-decoration-color: #008000\">'7154'</span>,\n",
       "            <span style=\"color: #008000; text-decoration-color: #008000\">'locator'</span>: <span style=\"color: #008000; text-decoration-color: #008000\">'l'</span>,\n",
       "            <span style=\"color: #008000; text-decoration-color: #008000\">'content'</span>: <span style=\"color: #008000; text-decoration-color: #008000\">'Forty-one Regional Trial Judges'</span>,\n",
       "            <span style=\"color: #008000; text-decoration-color: #008000\">'statute'</span>: <span style=\"color: #008000; text-decoration-color: #008000\">'Republic Act No. 7154'</span>,\n",
       "            <span style=\"color: #008000; text-decoration-color: #008000\">'action'</span>: <span style=\"color: #008000; text-decoration-color: #008000\">'Amended'</span>\n",
       "        <span style=\"font-weight: bold\">}</span>,\n",
       "        <span style=\"font-weight: bold\">{</span>\n",
       "            <span style=\"color: #008000; text-decoration-color: #008000\">'statute_category'</span>: <span style=\"color: #008000; text-decoration-color: #008000\">'ra'</span>,\n",
       "            <span style=\"color: #008000; text-decoration-color: #008000\">'statute_serial_id'</span>: <span style=\"color: #008000; text-decoration-color: #008000\">'10243'</span>,\n",
       "            <span style=\"color: #008000; text-decoration-color: #008000\">'locator'</span>: <span style=\"color: #008000; text-decoration-color: #008000\">'Section 1'</span>,\n",
       "            <span style=\"color: #008000; text-decoration-color: #008000\">'statute'</span>: <span style=\"color: #008000; text-decoration-color: #008000\">'Republic Act No. 10243'</span>,\n",
       "            <span style=\"color: #008000; text-decoration-color: #008000\">'action'</span>: <span style=\"color: #008000; text-decoration-color: #008000\">'Modified'</span>,\n",
       "            <span style=\"color: #008000; text-decoration-color: #008000\">'statute_id'</span>: <span style=\"color: #008000; text-decoration-color: #008000\">'ra-10243-november-08-2012'</span>,\n",
       "            <span style=\"color: #008000; text-decoration-color: #008000\">'statute_mp'</span>: <span style=\"color: #008000; text-decoration-color: #008000\">'1.1.'</span>\n",
       "        <span style=\"font-weight: bold\">}</span>,\n",
       "        <span style=\"font-weight: bold\">{</span>\n",
       "            <span style=\"color: #008000; text-decoration-color: #008000\">'statute_category'</span>: <span style=\"color: #008000; text-decoration-color: #008000\">'ra'</span>,\n",
       "            <span style=\"color: #008000; text-decoration-color: #008000\">'statute_serial_id'</span>: <span style=\"color: #008000; text-decoration-color: #008000\">'10246'</span>,\n",
       "            <span style=\"color: #008000; text-decoration-color: #008000\">'locator'</span>: <span style=\"color: #008000; text-decoration-color: #008000\">'Section 1'</span>,\n",
       "            <span style=\"color: #008000; text-decoration-color: #008000\">'statute'</span>: <span style=\"color: #008000; text-decoration-color: #008000\">'Republic Act No. 10246'</span>,\n",
       "            <span style=\"color: #008000; text-decoration-color: #008000\">'action'</span>: <span style=\"color: #008000; text-decoration-color: #008000\">'Modified'</span>,\n",
       "            <span style=\"color: #008000; text-decoration-color: #008000\">'statute_id'</span>: <span style=\"color: #008000; text-decoration-color: #008000\">'ra-10246-november-08-2012'</span>,\n",
       "            <span style=\"color: #008000; text-decoration-color: #008000\">'statute_mp'</span>: <span style=\"color: #008000; text-decoration-color: #008000\">'1.1.'</span>\n",
       "        <span style=\"font-weight: bold\">}</span>,\n",
       "        <span style=\"font-weight: bold\">{</span>\n",
       "            <span style=\"color: #008000; text-decoration-color: #008000\">'statute_category'</span>: <span style=\"color: #008000; text-decoration-color: #008000\">'ra'</span>,\n",
       "            <span style=\"color: #008000; text-decoration-color: #008000\">'statute_serial_id'</span>: <span style=\"color: #008000; text-decoration-color: #008000\">'10252'</span>,\n",
       "            <span style=\"color: #008000; text-decoration-color: #008000\">'locator'</span>: <span style=\"color: #008000; text-decoration-color: #008000\">'Section 1'</span>,\n",
       "            <span style=\"color: #008000; text-decoration-color: #008000\">'statute'</span>: <span style=\"color: #008000; text-decoration-color: #008000\">'Republic Act No. 10252'</span>,\n",
       "            <span style=\"color: #008000; text-decoration-color: #008000\">'action'</span>: <span style=\"color: #008000; text-decoration-color: #008000\">'Modified'</span>,\n",
       "            <span style=\"color: #008000; text-decoration-color: #008000\">'statute_id'</span>: <span style=\"color: #008000; text-decoration-color: #008000\">'ra-10252-november-08-2012'</span>,\n",
       "            <span style=\"color: #008000; text-decoration-color: #008000\">'statute_mp'</span>: <span style=\"color: #008000; text-decoration-color: #008000\">'1.1.'</span>\n",
       "        <span style=\"font-weight: bold\">}</span>,\n",
       "        <span style=\"font-weight: bold\">{</span>\n",
       "            <span style=\"color: #008000; text-decoration-color: #008000\">'statute_category'</span>: <span style=\"color: #008000; text-decoration-color: #008000\">'ra'</span>,\n",
       "            <span style=\"color: #008000; text-decoration-color: #008000\">'statute_serial_id'</span>: <span style=\"color: #008000; text-decoration-color: #008000\">'10393'</span>,\n",
       "            <span style=\"color: #008000; text-decoration-color: #008000\">'locator'</span>: <span style=\"color: #008000; text-decoration-color: #008000\">'Section 1'</span>,\n",
       "            <span style=\"color: #008000; text-decoration-color: #008000\">'statute'</span>: <span style=\"color: #008000; text-decoration-color: #008000\">'Republic Act No. 10393'</span>,\n",
       "            <span style=\"color: #008000; text-decoration-color: #008000\">'action'</span>: <span style=\"color: #008000; text-decoration-color: #008000\">'Modified'</span>,\n",
       "            <span style=\"color: #008000; text-decoration-color: #008000\">'statute_id'</span>: <span style=\"color: #008000; text-decoration-color: #008000\">'ra-10393-march-14-2013'</span>,\n",
       "            <span style=\"color: #008000; text-decoration-color: #008000\">'statute_mp'</span>: <span style=\"color: #008000; text-decoration-color: #008000\">'1.1.'</span>\n",
       "        <span style=\"font-weight: bold\">}</span>,\n",
       "        <span style=\"font-weight: bold\">{</span>\n",
       "            <span style=\"color: #008000; text-decoration-color: #008000\">'statute_category'</span>: <span style=\"color: #008000; text-decoration-color: #008000\">'ra'</span>,\n",
       "            <span style=\"color: #008000; text-decoration-color: #008000\">'statute_serial_id'</span>: <span style=\"color: #008000; text-decoration-color: #008000\">'10565'</span>,\n",
       "            <span style=\"color: #008000; text-decoration-color: #008000\">'locator'</span>: <span style=\"color: #008000; text-decoration-color: #008000\">'Section 1'</span>,\n",
       "            <span style=\"color: #008000; text-decoration-color: #008000\">'statute'</span>: <span style=\"color: #008000; text-decoration-color: #008000\">'Republic Act No. 10565'</span>,\n",
       "            <span style=\"color: #008000; text-decoration-color: #008000\">'action'</span>: <span style=\"color: #008000; text-decoration-color: #008000\">'Modified'</span>,\n",
       "            <span style=\"color: #008000; text-decoration-color: #008000\">'statute_id'</span>: <span style=\"color: #008000; text-decoration-color: #008000\">'ra-10565-may-22-2013'</span>,\n",
       "            <span style=\"color: #008000; text-decoration-color: #008000\">'statute_mp'</span>: <span style=\"color: #008000; text-decoration-color: #008000\">'1.1.'</span>\n",
       "        <span style=\"font-weight: bold\">}</span>,\n",
       "        <span style=\"font-weight: bold\">{</span>\n",
       "            <span style=\"color: #008000; text-decoration-color: #008000\">'statute_category'</span>: <span style=\"color: #008000; text-decoration-color: #008000\">'ra'</span>,\n",
       "            <span style=\"color: #008000; text-decoration-color: #008000\">'statute_serial_id'</span>: <span style=\"color: #008000; text-decoration-color: #008000\">'10608'</span>,\n",
       "            <span style=\"color: #008000; text-decoration-color: #008000\">'locator'</span>: <span style=\"color: #008000; text-decoration-color: #008000\">'Section 1'</span>,\n",
       "            <span style=\"color: #008000; text-decoration-color: #008000\">'statute'</span>: <span style=\"color: #008000; text-decoration-color: #008000\">'Republic Act No. 10608'</span>,\n",
       "            <span style=\"color: #008000; text-decoration-color: #008000\">'action'</span>: <span style=\"color: #008000; text-decoration-color: #008000\">'Modified'</span>,\n",
       "            <span style=\"color: #008000; text-decoration-color: #008000\">'statute_id'</span>: <span style=\"color: #008000; text-decoration-color: #008000\">'ra-10608-august-22-2013'</span>,\n",
       "            <span style=\"color: #008000; text-decoration-color: #008000\">'statute_mp'</span>: <span style=\"color: #008000; text-decoration-color: #008000\">'1.1.'</span>\n",
       "        <span style=\"font-weight: bold\">}</span>\n",
       "    <span style=\"font-weight: bold\">]</span>,\n",
       "    <span style=\"font-weight: bold\">[</span>\n",
       "        <span style=\"font-weight: bold\">{</span>\n",
       "            <span style=\"color: #008000; text-decoration-color: #008000\">'statute_category'</span>: <span style=\"color: #008000; text-decoration-color: #008000\">'bp'</span>,\n",
       "            <span style=\"color: #008000; text-decoration-color: #008000\">'statute_serial_id'</span>: <span style=\"color: #008000; text-decoration-color: #008000\">'129'</span>,\n",
       "            <span style=\"color: #008000; text-decoration-color: #008000\">'locator'</span>: <span style=\"color: #008000; text-decoration-color: #008000\">'k'</span>,\n",
       "            <span style=\"color: #008000; text-decoration-color: #008000\">'content'</span>: <span style=\"color: #008000; text-decoration-color: #008000\">'Thirty-two Regional Trial Judge'</span>,\n",
       "            <span style=\"color: #008000; text-decoration-color: #008000\">'statute'</span>: <span style=\"color: #008000; text-decoration-color: #008000\">'Batas Pambansa Blg. 129'</span>,\n",
       "            <span style=\"color: #008000; text-decoration-color: #008000\">'action'</span>: <span style=\"color: #008000; text-decoration-color: #008000\">'Originated'</span>\n",
       "        <span style=\"font-weight: bold\">}</span>,\n",
       "        <span style=\"font-weight: bold\">{</span>\n",
       "            <span style=\"color: #008000; text-decoration-color: #008000\">'statute_category'</span>: <span style=\"color: #008000; text-decoration-color: #008000\">'ra'</span>,\n",
       "            <span style=\"color: #008000; text-decoration-color: #008000\">'statute_serial_id'</span>: <span style=\"color: #008000; text-decoration-color: #008000\">'7154'</span>,\n",
       "            <span style=\"color: #008000; text-decoration-color: #008000\">'locator'</span>: <span style=\"color: #008000; text-decoration-color: #008000\">'k'</span>,\n",
       "            <span style=\"color: #008000; text-decoration-color: #008000\">'content'</span>: <span style=\"color: #008000; text-decoration-color: #008000\">'Forty-four Regional Trial Judges'</span>,\n",
       "            <span style=\"color: #008000; text-decoration-color: #008000\">'statute'</span>: <span style=\"color: #008000; text-decoration-color: #008000\">'Republic Act No. 7154'</span>,\n",
       "            <span style=\"color: #008000; text-decoration-color: #008000\">'action'</span>: <span style=\"color: #008000; text-decoration-color: #008000\">'Amended'</span>\n",
       "        <span style=\"font-weight: bold\">}</span>,\n",
       "        <span style=\"font-weight: bold\">{</span>\n",
       "            <span style=\"color: #008000; text-decoration-color: #008000\">'statute_category'</span>: <span style=\"color: #008000; text-decoration-color: #008000\">'ra'</span>,\n",
       "            <span style=\"color: #008000; text-decoration-color: #008000\">'statute_serial_id'</span>: <span style=\"color: #008000; text-decoration-color: #008000\">'10362'</span>,\n",
       "            <span style=\"color: #008000; text-decoration-color: #008000\">'locator'</span>: <span style=\"color: #008000; text-decoration-color: #008000\">'Section 1'</span>,\n",
       "            <span style=\"color: #008000; text-decoration-color: #008000\">'statute'</span>: <span style=\"color: #008000; text-decoration-color: #008000\">'Republic Act No. 10362'</span>,\n",
       "            <span style=\"color: #008000; text-decoration-color: #008000\">'action'</span>: <span style=\"color: #008000; text-decoration-color: #008000\">'Modified'</span>,\n",
       "            <span style=\"color: #008000; text-decoration-color: #008000\">'statute_id'</span>: <span style=\"color: #008000; text-decoration-color: #008000\">'ra-10362-january-23-2013'</span>,\n",
       "            <span style=\"color: #008000; text-decoration-color: #008000\">'statute_mp'</span>: <span style=\"color: #008000; text-decoration-color: #008000\">'1.1.'</span>\n",
       "        <span style=\"font-weight: bold\">}</span>,\n",
       "        <span style=\"font-weight: bold\">{</span>\n",
       "            <span style=\"color: #008000; text-decoration-color: #008000\">'statute_category'</span>: <span style=\"color: #008000; text-decoration-color: #008000\">'ra'</span>,\n",
       "            <span style=\"color: #008000; text-decoration-color: #008000\">'statute_serial_id'</span>: <span style=\"color: #008000; text-decoration-color: #008000\">'10602'</span>,\n",
       "            <span style=\"color: #008000; text-decoration-color: #008000\">'locator'</span>: <span style=\"color: #008000; text-decoration-color: #008000\">'Section 1'</span>,\n",
       "            <span style=\"color: #008000; text-decoration-color: #008000\">'statute'</span>: <span style=\"color: #008000; text-decoration-color: #008000\">'Republic Act No. 10602'</span>,\n",
       "            <span style=\"color: #008000; text-decoration-color: #008000\">'action'</span>: <span style=\"color: #008000; text-decoration-color: #008000\">'Modified'</span>,\n",
       "            <span style=\"color: #008000; text-decoration-color: #008000\">'statute_id'</span>: <span style=\"color: #008000; text-decoration-color: #008000\">'ra-10602-june-11-2013'</span>,\n",
       "            <span style=\"color: #008000; text-decoration-color: #008000\">'statute_mp'</span>: <span style=\"color: #008000; text-decoration-color: #008000\">'1.1.'</span>\n",
       "        <span style=\"font-weight: bold\">}</span>,\n",
       "        <span style=\"font-weight: bold\">{</span>\n",
       "            <span style=\"color: #008000; text-decoration-color: #008000\">'statute_category'</span>: <span style=\"color: #008000; text-decoration-color: #008000\">'ra'</span>,\n",
       "            <span style=\"color: #008000; text-decoration-color: #008000\">'statute_serial_id'</span>: <span style=\"color: #008000; text-decoration-color: #008000\">'10701'</span>,\n",
       "            <span style=\"color: #008000; text-decoration-color: #008000\">'locator'</span>: <span style=\"color: #008000; text-decoration-color: #008000\">'Section 1'</span>,\n",
       "            <span style=\"color: #008000; text-decoration-color: #008000\">'statute'</span>: <span style=\"color: #008000; text-decoration-color: #008000\">'Republic Act No. 10701'</span>,\n",
       "            <span style=\"color: #008000; text-decoration-color: #008000\">'action'</span>: <span style=\"color: #008000; text-decoration-color: #008000\">'Modified'</span>,\n",
       "            <span style=\"color: #008000; text-decoration-color: #008000\">'statute_id'</span>: <span style=\"color: #008000; text-decoration-color: #008000\">'ra-10701-november-20-2015'</span>,\n",
       "            <span style=\"color: #008000; text-decoration-color: #008000\">'statute_mp'</span>: <span style=\"color: #008000; text-decoration-color: #008000\">'1.1.'</span>\n",
       "        <span style=\"font-weight: bold\">}</span>\n",
       "    <span style=\"font-weight: bold\">]</span>,\n",
       "    <span style=\"font-weight: bold\">[</span>\n",
       "        <span style=\"font-weight: bold\">{</span>\n",
       "            <span style=\"color: #008000; text-decoration-color: #008000\">'statute_category'</span>: <span style=\"color: #008000; text-decoration-color: #008000\">'bp'</span>,\n",
       "            <span style=\"color: #008000; text-decoration-color: #008000\">'statute_serial_id'</span>: <span style=\"color: #008000; text-decoration-color: #008000\">'129'</span>,\n",
       "            <span style=\"color: #008000; text-decoration-color: #008000\">'locator'</span>: <span style=\"color: #008000; text-decoration-color: #008000\">'j'</span>,\n",
       "            <span style=\"color: #008000; text-decoration-color: #008000\">'content'</span>: <span style=\"color: #008000; text-decoration-color: #008000\">'Twenty-four Regional Trial Judges'</span>,\n",
       "            <span style=\"color: #008000; text-decoration-color: #008000\">'statute'</span>: <span style=\"color: #008000; text-decoration-color: #008000\">'Batas Pambansa Blg. 129'</span>,\n",
       "            <span style=\"color: #008000; text-decoration-color: #008000\">'action'</span>: <span style=\"color: #008000; text-decoration-color: #008000\">'Originated'</span>\n",
       "        <span style=\"font-weight: bold\">}</span>,\n",
       "        <span style=\"font-weight: bold\">{</span>\n",
       "            <span style=\"color: #008000; text-decoration-color: #008000\">'statute_category'</span>: <span style=\"color: #008000; text-decoration-color: #008000\">'ra'</span>,\n",
       "            <span style=\"color: #008000; text-decoration-color: #008000\">'statute_serial_id'</span>: <span style=\"color: #008000; text-decoration-color: #008000\">'7154'</span>,\n",
       "            <span style=\"color: #008000; text-decoration-color: #008000\">'locator'</span>: <span style=\"color: #008000; text-decoration-color: #008000\">'j'</span>,\n",
       "            <span style=\"color: #008000; text-decoration-color: #008000\">'content'</span>: <span style=\"color: #008000; text-decoration-color: #008000\">'Thirty Regional Trial Judges'</span>,\n",
       "            <span style=\"color: #008000; text-decoration-color: #008000\">'statute'</span>: <span style=\"color: #008000; text-decoration-color: #008000\">'Republic Act No. 7154'</span>,\n",
       "            <span style=\"color: #008000; text-decoration-color: #008000\">'action'</span>: <span style=\"color: #008000; text-decoration-color: #008000\">'Amended'</span>\n",
       "        <span style=\"font-weight: bold\">}</span>,\n",
       "        <span style=\"font-weight: bold\">{</span>\n",
       "            <span style=\"color: #008000; text-decoration-color: #008000\">'statute_category'</span>: <span style=\"color: #008000; text-decoration-color: #008000\">'ra'</span>,\n",
       "            <span style=\"color: #008000; text-decoration-color: #008000\">'statute_serial_id'</span>: <span style=\"color: #008000; text-decoration-color: #008000\">'10301'</span>,\n",
       "            <span style=\"color: #008000; text-decoration-color: #008000\">'locator'</span>: <span style=\"color: #008000; text-decoration-color: #008000\">'Section 1'</span>,\n",
       "            <span style=\"color: #008000; text-decoration-color: #008000\">'statute'</span>: <span style=\"color: #008000; text-decoration-color: #008000\">'Republic Act No. 10301'</span>,\n",
       "            <span style=\"color: #008000; text-decoration-color: #008000\">'action'</span>: <span style=\"color: #008000; text-decoration-color: #008000\">'Modified'</span>,\n",
       "            <span style=\"color: #008000; text-decoration-color: #008000\">'statute_id'</span>: <span style=\"color: #008000; text-decoration-color: #008000\">'ra-10301-november-15-2012'</span>,\n",
       "            <span style=\"color: #008000; text-decoration-color: #008000\">'statute_mp'</span>: <span style=\"color: #008000; text-decoration-color: #008000\">'1.1.'</span>\n",
       "        <span style=\"font-weight: bold\">}</span>,\n",
       "        <span style=\"font-weight: bold\">{</span>\n",
       "            <span style=\"color: #008000; text-decoration-color: #008000\">'statute_category'</span>: <span style=\"color: #008000; text-decoration-color: #008000\">'ra'</span>,\n",
       "            <span style=\"color: #008000; text-decoration-color: #008000\">'statute_serial_id'</span>: <span style=\"color: #008000; text-decoration-color: #008000\">'10577'</span>,\n",
       "            <span style=\"color: #008000; text-decoration-color: #008000\">'locator'</span>: <span style=\"color: #008000; text-decoration-color: #008000\">'Section 1'</span>,\n",
       "            <span style=\"color: #008000; text-decoration-color: #008000\">'statute'</span>: <span style=\"color: #008000; text-decoration-color: #008000\">'Republic Act No. 10577'</span>,\n",
       "            <span style=\"color: #008000; text-decoration-color: #008000\">'action'</span>: <span style=\"color: #008000; text-decoration-color: #008000\">'Modified'</span>,\n",
       "            <span style=\"color: #008000; text-decoration-color: #008000\">'statute_id'</span>: <span style=\"color: #008000; text-decoration-color: #008000\">'ra-10577-may-24-2013'</span>,\n",
       "            <span style=\"color: #008000; text-decoration-color: #008000\">'statute_mp'</span>: <span style=\"color: #008000; text-decoration-color: #008000\">'1.1.'</span>\n",
       "        <span style=\"font-weight: bold\">}</span>,\n",
       "        <span style=\"font-weight: bold\">{</span>\n",
       "            <span style=\"color: #008000; text-decoration-color: #008000\">'statute_category'</span>: <span style=\"color: #008000; text-decoration-color: #008000\">'ra'</span>,\n",
       "            <span style=\"color: #008000; text-decoration-color: #008000\">'statute_serial_id'</span>: <span style=\"color: #008000; text-decoration-color: #008000\">'11386'</span>,\n",
       "            <span style=\"color: #008000; text-decoration-color: #008000\">'locator'</span>: <span style=\"color: #008000; text-decoration-color: #008000\">'Section 1'</span>,\n",
       "            <span style=\"color: #008000; text-decoration-color: #008000\">'statute'</span>: <span style=\"color: #008000; text-decoration-color: #008000\">'Republic Act No. 11386'</span>,\n",
       "            <span style=\"color: #008000; text-decoration-color: #008000\">'action'</span>: <span style=\"color: #008000; text-decoration-color: #008000\">'Modified'</span>,\n",
       "            <span style=\"color: #008000; text-decoration-color: #008000\">'statute_id'</span>: <span style=\"color: #008000; text-decoration-color: #008000\">'ra-11386-august-22-2019'</span>,\n",
       "            <span style=\"color: #008000; text-decoration-color: #008000\">'statute_mp'</span>: <span style=\"color: #008000; text-decoration-color: #008000\">'1.1.'</span>\n",
       "        <span style=\"font-weight: bold\">}</span>,\n",
       "        <span style=\"font-weight: bold\">{</span>\n",
       "            <span style=\"color: #008000; text-decoration-color: #008000\">'statute_category'</span>: <span style=\"color: #008000; text-decoration-color: #008000\">'ra'</span>,\n",
       "            <span style=\"color: #008000; text-decoration-color: #008000\">'statute_serial_id'</span>: <span style=\"color: #008000; text-decoration-color: #008000\">'11456'</span>,\n",
       "            <span style=\"color: #008000; text-decoration-color: #008000\">'locator'</span>: <span style=\"color: #008000; text-decoration-color: #008000\">'Section 1'</span>,\n",
       "            <span style=\"color: #008000; text-decoration-color: #008000\">'statute'</span>: <span style=\"color: #008000; text-decoration-color: #008000\">'Republic Act No. 11456'</span>,\n",
       "            <span style=\"color: #008000; text-decoration-color: #008000\">'action'</span>: <span style=\"color: #008000; text-decoration-color: #008000\">'Modified'</span>,\n",
       "            <span style=\"color: #008000; text-decoration-color: #008000\">'statute_id'</span>: <span style=\"color: #008000; text-decoration-color: #008000\">'ra-11456-august-30-2019'</span>,\n",
       "            <span style=\"color: #008000; text-decoration-color: #008000\">'statute_mp'</span>: <span style=\"color: #008000; text-decoration-color: #008000\">'1.1.'</span>\n",
       "        <span style=\"font-weight: bold\">}</span>\n",
       "    <span style=\"font-weight: bold\">]</span>,\n",
       "    <span style=\"font-weight: bold\">[</span>\n",
       "        <span style=\"font-weight: bold\">{</span>\n",
       "            <span style=\"color: #008000; text-decoration-color: #008000\">'statute_category'</span>: <span style=\"color: #008000; text-decoration-color: #008000\">'bp'</span>,\n",
       "            <span style=\"color: #008000; text-decoration-color: #008000\">'statute_serial_id'</span>: <span style=\"color: #008000; text-decoration-color: #008000\">'129'</span>,\n",
       "            <span style=\"color: #008000; text-decoration-color: #008000\">'locator'</span>: <span style=\"color: #008000; text-decoration-color: #008000\">'i'</span>,\n",
       "            <span style=\"color: #008000; text-decoration-color: #008000\">'content'</span>: <span style=\"color: #008000; text-decoration-color: #008000\">'Thirty-three Regional Trial Judges'</span>,\n",
       "            <span style=\"color: #008000; text-decoration-color: #008000\">'statute'</span>: <span style=\"color: #008000; text-decoration-color: #008000\">'Batas Pambansa Blg. 129'</span>,\n",
       "            <span style=\"color: #008000; text-decoration-color: #008000\">'action'</span>: <span style=\"color: #008000; text-decoration-color: #008000\">'Originated'</span>\n",
       "        <span style=\"font-weight: bold\">}</span>,\n",
       "        <span style=\"font-weight: bold\">{</span>\n",
       "            <span style=\"color: #008000; text-decoration-color: #008000\">'statute_category'</span>: <span style=\"color: #008000; text-decoration-color: #008000\">'ra'</span>,\n",
       "            <span style=\"color: #008000; text-decoration-color: #008000\">'statute_serial_id'</span>: <span style=\"color: #008000; text-decoration-color: #008000\">'7154'</span>,\n",
       "            <span style=\"color: #008000; text-decoration-color: #008000\">'locator'</span>: <span style=\"color: #008000; text-decoration-color: #008000\">'i'</span>,\n",
       "            <span style=\"color: #008000; text-decoration-color: #008000\">'content'</span>: <span style=\"color: #008000; text-decoration-color: #008000\">'Forty-one Regional Trial Judges'</span>,\n",
       "            <span style=\"color: #008000; text-decoration-color: #008000\">'statute'</span>: <span style=\"color: #008000; text-decoration-color: #008000\">'Republic Act No. 7154'</span>,\n",
       "            <span style=\"color: #008000; text-decoration-color: #008000\">'action'</span>: <span style=\"color: #008000; text-decoration-color: #008000\">'Amended'</span>\n",
       "        <span style=\"font-weight: bold\">}</span>,\n",
       "        <span style=\"font-weight: bold\">{</span>\n",
       "            <span style=\"color: #008000; text-decoration-color: #008000\">'statute_category'</span>: <span style=\"color: #008000; text-decoration-color: #008000\">'ra'</span>,\n",
       "            <span style=\"color: #008000; text-decoration-color: #008000\">'statute_serial_id'</span>: <span style=\"color: #008000; text-decoration-color: #008000\">'10244'</span>,\n",
       "            <span style=\"color: #008000; text-decoration-color: #008000\">'locator'</span>: <span style=\"color: #008000; text-decoration-color: #008000\">'Section 1'</span>,\n",
       "            <span style=\"color: #008000; text-decoration-color: #008000\">'statute'</span>: <span style=\"color: #008000; text-decoration-color: #008000\">'Republic Act No. 10244'</span>,\n",
       "            <span style=\"color: #008000; text-decoration-color: #008000\">'action'</span>: <span style=\"color: #008000; text-decoration-color: #008000\">'Modified'</span>,\n",
       "            <span style=\"color: #008000; text-decoration-color: #008000\">'statute_id'</span>: <span style=\"color: #008000; text-decoration-color: #008000\">'ra-10244-november-08-2012'</span>,\n",
       "            <span style=\"color: #008000; text-decoration-color: #008000\">'statute_mp'</span>: <span style=\"color: #008000; text-decoration-color: #008000\">'1.1.'</span>\n",
       "        <span style=\"font-weight: bold\">}</span>,\n",
       "        <span style=\"font-weight: bold\">{</span>\n",
       "            <span style=\"color: #008000; text-decoration-color: #008000\">'statute_category'</span>: <span style=\"color: #008000; text-decoration-color: #008000\">'ra'</span>,\n",
       "            <span style=\"color: #008000; text-decoration-color: #008000\">'statute_serial_id'</span>: <span style=\"color: #008000; text-decoration-color: #008000\">'10541'</span>,\n",
       "            <span style=\"color: #008000; text-decoration-color: #008000\">'locator'</span>: <span style=\"color: #008000; text-decoration-color: #008000\">'Section 1'</span>,\n",
       "            <span style=\"color: #008000; text-decoration-color: #008000\">'statute'</span>: <span style=\"color: #008000; text-decoration-color: #008000\">'Republic Act No. 10541'</span>,\n",
       "            <span style=\"color: #008000; text-decoration-color: #008000\">'action'</span>: <span style=\"color: #008000; text-decoration-color: #008000\">'Modified'</span>,\n",
       "            <span style=\"color: #008000; text-decoration-color: #008000\">'statute_id'</span>: <span style=\"color: #008000; text-decoration-color: #008000\">'ra-10541-may-15-2013'</span>,\n",
       "            <span style=\"color: #008000; text-decoration-color: #008000\">'statute_mp'</span>: <span style=\"color: #008000; text-decoration-color: #008000\">'1.1.'</span>\n",
       "        <span style=\"font-weight: bold\">}</span>\n",
       "    <span style=\"font-weight: bold\">]</span>,\n",
       "    <span style=\"font-weight: bold\">[</span>\n",
       "        <span style=\"font-weight: bold\">{</span>\n",
       "            <span style=\"color: #008000; text-decoration-color: #008000\">'statute_category'</span>: <span style=\"color: #008000; text-decoration-color: #008000\">'bp'</span>,\n",
       "            <span style=\"color: #008000; text-decoration-color: #008000\">'statute_serial_id'</span>: <span style=\"color: #008000; text-decoration-color: #008000\">'129'</span>,\n",
       "            <span style=\"color: #008000; text-decoration-color: #008000\">'locator'</span>: <span style=\"color: #008000; text-decoration-color: #008000\">'h'</span>,\n",
       "            <span style=\"color: #008000; text-decoration-color: #008000\">'content'</span>: <span style=\"color: #008000; text-decoration-color: #008000\">'Forty-six Regional Trial Judges'</span>,\n",
       "            <span style=\"color: #008000; text-decoration-color: #008000\">'statute'</span>: <span style=\"color: #008000; text-decoration-color: #008000\">'Batas Pambansa Blg. 129'</span>,\n",
       "            <span style=\"color: #008000; text-decoration-color: #008000\">'action'</span>: <span style=\"color: #008000; text-decoration-color: #008000\">'Originated'</span>\n",
       "        <span style=\"font-weight: bold\">}</span>,\n",
       "        <span style=\"font-weight: bold\">{</span>\n",
       "            <span style=\"color: #008000; text-decoration-color: #008000\">'statute_category'</span>: <span style=\"color: #008000; text-decoration-color: #008000\">'ra'</span>,\n",
       "            <span style=\"color: #008000; text-decoration-color: #008000\">'statute_serial_id'</span>: <span style=\"color: #008000; text-decoration-color: #008000\">'7154'</span>,\n",
       "            <span style=\"color: #008000; text-decoration-color: #008000\">'locator'</span>: <span style=\"color: #008000; text-decoration-color: #008000\">'h'</span>,\n",
       "            <span style=\"color: #008000; text-decoration-color: #008000\">'content'</span>: <span style=\"color: #008000; text-decoration-color: #008000\">'Sixty-four Regional Trial Judges'</span>,\n",
       "            <span style=\"color: #008000; text-decoration-color: #008000\">'statute'</span>: <span style=\"color: #008000; text-decoration-color: #008000\">'Republic Act No. 7154'</span>,\n",
       "            <span style=\"color: #008000; text-decoration-color: #008000\">'action'</span>: <span style=\"color: #008000; text-decoration-color: #008000\">'Amended'</span>\n",
       "        <span style=\"font-weight: bold\">}</span>,\n",
       "        <span style=\"font-weight: bold\">{</span>\n",
       "            <span style=\"color: #008000; text-decoration-color: #008000\">'statute_category'</span>: <span style=\"color: #008000; text-decoration-color: #008000\">'ra'</span>,\n",
       "            <span style=\"color: #008000; text-decoration-color: #008000\">'statute_serial_id'</span>: <span style=\"color: #008000; text-decoration-color: #008000\">'10340'</span>,\n",
       "            <span style=\"color: #008000; text-decoration-color: #008000\">'locator'</span>: <span style=\"color: #008000; text-decoration-color: #008000\">'Section 1'</span>,\n",
       "            <span style=\"color: #008000; text-decoration-color: #008000\">'statute'</span>: <span style=\"color: #008000; text-decoration-color: #008000\">'Republic Act No. 10340'</span>,\n",
       "            <span style=\"color: #008000; text-decoration-color: #008000\">'action'</span>: <span style=\"color: #008000; text-decoration-color: #008000\">'Modified'</span>,\n",
       "            <span style=\"color: #008000; text-decoration-color: #008000\">'statute_id'</span>: <span style=\"color: #008000; text-decoration-color: #008000\">'ra-10340-november-21-2012'</span>,\n",
       "            <span style=\"color: #008000; text-decoration-color: #008000\">'statute_mp'</span>: <span style=\"color: #008000; text-decoration-color: #008000\">'1.1.'</span>\n",
       "        <span style=\"font-weight: bold\">}</span>,\n",
       "        <span style=\"font-weight: bold\">{</span>\n",
       "            <span style=\"color: #008000; text-decoration-color: #008000\">'statute_category'</span>: <span style=\"color: #008000; text-decoration-color: #008000\">'ra'</span>,\n",
       "            <span style=\"color: #008000; text-decoration-color: #008000\">'statute_serial_id'</span>: <span style=\"color: #008000; text-decoration-color: #008000\">'10348'</span>,\n",
       "            <span style=\"color: #008000; text-decoration-color: #008000\">'locator'</span>: <span style=\"color: #008000; text-decoration-color: #008000\">'Section 1'</span>,\n",
       "            <span style=\"color: #008000; text-decoration-color: #008000\">'statute'</span>: <span style=\"color: #008000; text-decoration-color: #008000\">'Republic Act No. 10348'</span>,\n",
       "            <span style=\"color: #008000; text-decoration-color: #008000\">'action'</span>: <span style=\"color: #008000; text-decoration-color: #008000\">'Modified'</span>,\n",
       "            <span style=\"color: #008000; text-decoration-color: #008000\">'statute_id'</span>: <span style=\"color: #008000; text-decoration-color: #008000\">'ra-10348-december-06-2012'</span>,\n",
       "            <span style=\"color: #008000; text-decoration-color: #008000\">'statute_mp'</span>: <span style=\"color: #008000; text-decoration-color: #008000\">'1.1.'</span>\n",
       "        <span style=\"font-weight: bold\">}</span>,\n",
       "        <span style=\"font-weight: bold\">{</span>\n",
       "            <span style=\"color: #008000; text-decoration-color: #008000\">'statute_category'</span>: <span style=\"color: #008000; text-decoration-color: #008000\">'ra'</span>,\n",
       "            <span style=\"color: #008000; text-decoration-color: #008000\">'statute_serial_id'</span>: <span style=\"color: #008000; text-decoration-color: #008000\">'10363'</span>,\n",
       "            <span style=\"color: #008000; text-decoration-color: #008000\">'locator'</span>: <span style=\"color: #008000; text-decoration-color: #008000\">'Section 1'</span>,\n",
       "            <span style=\"color: #008000; text-decoration-color: #008000\">'statute'</span>: <span style=\"color: #008000; text-decoration-color: #008000\">'Republic Act No. 10363'</span>,\n",
       "            <span style=\"color: #008000; text-decoration-color: #008000\">'action'</span>: <span style=\"color: #008000; text-decoration-color: #008000\">'Modified'</span>,\n",
       "            <span style=\"color: #008000; text-decoration-color: #008000\">'statute_id'</span>: <span style=\"color: #008000; text-decoration-color: #008000\">'ra-10363-january-28-2013'</span>,\n",
       "            <span style=\"color: #008000; text-decoration-color: #008000\">'statute_mp'</span>: <span style=\"color: #008000; text-decoration-color: #008000\">'1.1.'</span>\n",
       "        <span style=\"font-weight: bold\">}</span>,\n",
       "        <span style=\"font-weight: bold\">{</span>\n",
       "            <span style=\"color: #008000; text-decoration-color: #008000\">'statute_category'</span>: <span style=\"color: #008000; text-decoration-color: #008000\">'ra'</span>,\n",
       "            <span style=\"color: #008000; text-decoration-color: #008000\">'statute_serial_id'</span>: <span style=\"color: #008000; text-decoration-color: #008000\">'10519'</span>,\n",
       "            <span style=\"color: #008000; text-decoration-color: #008000\">'locator'</span>: <span style=\"color: #008000; text-decoration-color: #008000\">'Section 1'</span>,\n",
       "            <span style=\"color: #008000; text-decoration-color: #008000\">'statute'</span>: <span style=\"color: #008000; text-decoration-color: #008000\">'Republic Act No. 10519'</span>,\n",
       "            <span style=\"color: #008000; text-decoration-color: #008000\">'action'</span>: <span style=\"color: #008000; text-decoration-color: #008000\">'Modified'</span>,\n",
       "            <span style=\"color: #008000; text-decoration-color: #008000\">'statute_id'</span>: <span style=\"color: #008000; text-decoration-color: #008000\">'ra-10519-april-23-2013'</span>,\n",
       "            <span style=\"color: #008000; text-decoration-color: #008000\">'statute_mp'</span>: <span style=\"color: #008000; text-decoration-color: #008000\">'1.1.'</span>\n",
       "        <span style=\"font-weight: bold\">}</span>,\n",
       "        <span style=\"font-weight: bold\">{</span>\n",
       "            <span style=\"color: #008000; text-decoration-color: #008000\">'statute_category'</span>: <span style=\"color: #008000; text-decoration-color: #008000\">'ra'</span>,\n",
       "            <span style=\"color: #008000; text-decoration-color: #008000\">'statute_serial_id'</span>: <span style=\"color: #008000; text-decoration-color: #008000\">'10540'</span>,\n",
       "            <span style=\"color: #008000; text-decoration-color: #008000\">'locator'</span>: <span style=\"color: #008000; text-decoration-color: #008000\">'Section 1'</span>,\n",
       "            <span style=\"color: #008000; text-decoration-color: #008000\">'statute'</span>: <span style=\"color: #008000; text-decoration-color: #008000\">'Republic Act No. 10540'</span>,\n",
       "            <span style=\"color: #008000; text-decoration-color: #008000\">'action'</span>: <span style=\"color: #008000; text-decoration-color: #008000\">'Modified'</span>,\n",
       "            <span style=\"color: #008000; text-decoration-color: #008000\">'statute_id'</span>: <span style=\"color: #008000; text-decoration-color: #008000\">'ra-10540-may-15-2013'</span>,\n",
       "            <span style=\"color: #008000; text-decoration-color: #008000\">'statute_mp'</span>: <span style=\"color: #008000; text-decoration-color: #008000\">'1.1.'</span>\n",
       "        <span style=\"font-weight: bold\">}</span>,\n",
       "        <span style=\"font-weight: bold\">{</span>\n",
       "            <span style=\"color: #008000; text-decoration-color: #008000\">'statute_category'</span>: <span style=\"color: #008000; text-decoration-color: #008000\">'ra'</span>,\n",
       "            <span style=\"color: #008000; text-decoration-color: #008000\">'statute_serial_id'</span>: <span style=\"color: #008000; text-decoration-color: #008000\">'10544'</span>,\n",
       "            <span style=\"color: #008000; text-decoration-color: #008000\">'locator'</span>: <span style=\"color: #008000; text-decoration-color: #008000\">'Section 1'</span>,\n",
       "            <span style=\"color: #008000; text-decoration-color: #008000\">'statute'</span>: <span style=\"color: #008000; text-decoration-color: #008000\">'Republic Act No. 10544'</span>,\n",
       "            <span style=\"color: #008000; text-decoration-color: #008000\">'action'</span>: <span style=\"color: #008000; text-decoration-color: #008000\">'Modified'</span>,\n",
       "            <span style=\"color: #008000; text-decoration-color: #008000\">'statute_id'</span>: <span style=\"color: #008000; text-decoration-color: #008000\">'ra-10544-may-15-2013'</span>,\n",
       "            <span style=\"color: #008000; text-decoration-color: #008000\">'statute_mp'</span>: <span style=\"color: #008000; text-decoration-color: #008000\">'1.1.'</span>\n",
       "        <span style=\"font-weight: bold\">}</span>,\n",
       "        <span style=\"font-weight: bold\">{</span>\n",
       "            <span style=\"color: #008000; text-decoration-color: #008000\">'statute_category'</span>: <span style=\"color: #008000; text-decoration-color: #008000\">'ra'</span>,\n",
       "            <span style=\"color: #008000; text-decoration-color: #008000\">'statute_serial_id'</span>: <span style=\"color: #008000; text-decoration-color: #008000\">'10545'</span>,\n",
       "            <span style=\"color: #008000; text-decoration-color: #008000\">'locator'</span>: <span style=\"color: #008000; text-decoration-color: #008000\">'Section 1'</span>,\n",
       "            <span style=\"color: #008000; text-decoration-color: #008000\">'statute'</span>: <span style=\"color: #008000; text-decoration-color: #008000\">'Republic Act No. 10545'</span>,\n",
       "            <span style=\"color: #008000; text-decoration-color: #008000\">'action'</span>: <span style=\"color: #008000; text-decoration-color: #008000\">'Modified'</span>,\n",
       "            <span style=\"color: #008000; text-decoration-color: #008000\">'statute_id'</span>: <span style=\"color: #008000; text-decoration-color: #008000\">'ra-10545-may-15-2013'</span>,\n",
       "            <span style=\"color: #008000; text-decoration-color: #008000\">'statute_mp'</span>: <span style=\"color: #008000; text-decoration-color: #008000\">'1.1.'</span>\n",
       "        <span style=\"font-weight: bold\">}</span>,\n",
       "        <span style=\"font-weight: bold\">{</span>\n",
       "            <span style=\"color: #008000; text-decoration-color: #008000\">'statute_category'</span>: <span style=\"color: #008000; text-decoration-color: #008000\">'ra'</span>,\n",
       "            <span style=\"color: #008000; text-decoration-color: #008000\">'statute_serial_id'</span>: <span style=\"color: #008000; text-decoration-color: #008000\">'10570'</span>,\n",
       "            <span style=\"color: #008000; text-decoration-color: #008000\">'locator'</span>: <span style=\"color: #008000; text-decoration-color: #008000\">'Section 1'</span>,\n",
       "            <span style=\"color: #008000; text-decoration-color: #008000\">'statute'</span>: <span style=\"color: #008000; text-decoration-color: #008000\">'Republic Act No. 10570'</span>,\n",
       "            <span style=\"color: #008000; text-decoration-color: #008000\">'action'</span>: <span style=\"color: #008000; text-decoration-color: #008000\">'Modified'</span>\n",
       "        <span style=\"font-weight: bold\">}</span>,\n",
       "        <span style=\"font-weight: bold\">{</span>\n",
       "            <span style=\"color: #008000; text-decoration-color: #008000\">'statute_category'</span>: <span style=\"color: #008000; text-decoration-color: #008000\">'ra'</span>,\n",
       "            <span style=\"color: #008000; text-decoration-color: #008000\">'statute_serial_id'</span>: <span style=\"color: #008000; text-decoration-color: #008000\">'10571'</span>,\n",
       "            <span style=\"color: #008000; text-decoration-color: #008000\">'locator'</span>: <span style=\"color: #008000; text-decoration-color: #008000\">'Section 1'</span>,\n",
       "            <span style=\"color: #008000; text-decoration-color: #008000\">'statute'</span>: <span style=\"color: #008000; text-decoration-color: #008000\">'Republic Act No. 10571'</span>,\n",
       "            <span style=\"color: #008000; text-decoration-color: #008000\">'action'</span>: <span style=\"color: #008000; text-decoration-color: #008000\">'Modified'</span>,\n",
       "            <span style=\"color: #008000; text-decoration-color: #008000\">'statute_id'</span>: <span style=\"color: #008000; text-decoration-color: #008000\">'ra-10571-may-22-2013'</span>,\n",
       "            <span style=\"color: #008000; text-decoration-color: #008000\">'statute_mp'</span>: <span style=\"color: #008000; text-decoration-color: #008000\">'1.1.'</span>\n",
       "        <span style=\"font-weight: bold\">}</span>,\n",
       "        <span style=\"font-weight: bold\">{</span>\n",
       "            <span style=\"color: #008000; text-decoration-color: #008000\">'statute_category'</span>: <span style=\"color: #008000; text-decoration-color: #008000\">'ra'</span>,\n",
       "            <span style=\"color: #008000; text-decoration-color: #008000\">'statute_serial_id'</span>: <span style=\"color: #008000; text-decoration-color: #008000\">'10578'</span>,\n",
       "            <span style=\"color: #008000; text-decoration-color: #008000\">'locator'</span>: <span style=\"color: #008000; text-decoration-color: #008000\">'Section 1'</span>,\n",
       "            <span style=\"color: #008000; text-decoration-color: #008000\">'statute'</span>: <span style=\"color: #008000; text-decoration-color: #008000\">'Republic Act No. 10578'</span>,\n",
       "            <span style=\"color: #008000; text-decoration-color: #008000\">'action'</span>: <span style=\"color: #008000; text-decoration-color: #008000\">'Modified'</span>\n",
       "        <span style=\"font-weight: bold\">}</span>,\n",
       "        <span style=\"font-weight: bold\">{</span>\n",
       "            <span style=\"color: #008000; text-decoration-color: #008000\">'statute_category'</span>: <span style=\"color: #008000; text-decoration-color: #008000\">'ra'</span>,\n",
       "            <span style=\"color: #008000; text-decoration-color: #008000\">'statute_serial_id'</span>: <span style=\"color: #008000; text-decoration-color: #008000\">'10579'</span>,\n",
       "            <span style=\"color: #008000; text-decoration-color: #008000\">'locator'</span>: <span style=\"color: #008000; text-decoration-color: #008000\">'Section 1'</span>,\n",
       "            <span style=\"color: #008000; text-decoration-color: #008000\">'statute'</span>: <span style=\"color: #008000; text-decoration-color: #008000\">'Republic Act No. 10579'</span>,\n",
       "            <span style=\"color: #008000; text-decoration-color: #008000\">'action'</span>: <span style=\"color: #008000; text-decoration-color: #008000\">'Modified'</span>,\n",
       "            <span style=\"color: #008000; text-decoration-color: #008000\">'statute_id'</span>: <span style=\"color: #008000; text-decoration-color: #008000\">'ra-10579-may-24-2013'</span>,\n",
       "            <span style=\"color: #008000; text-decoration-color: #008000\">'statute_mp'</span>: <span style=\"color: #008000; text-decoration-color: #008000\">'1.1.'</span>\n",
       "        <span style=\"font-weight: bold\">}</span>,\n",
       "        <span style=\"font-weight: bold\">{</span>\n",
       "            <span style=\"color: #008000; text-decoration-color: #008000\">'statute_category'</span>: <span style=\"color: #008000; text-decoration-color: #008000\">'ra'</span>,\n",
       "            <span style=\"color: #008000; text-decoration-color: #008000\">'statute_serial_id'</span>: <span style=\"color: #008000; text-decoration-color: #008000\">'10703'</span>,\n",
       "            <span style=\"color: #008000; text-decoration-color: #008000\">'locator'</span>: <span style=\"color: #008000; text-decoration-color: #008000\">'Section 1'</span>,\n",
       "            <span style=\"color: #008000; text-decoration-color: #008000\">'statute'</span>: <span style=\"color: #008000; text-decoration-color: #008000\">'Republic Act No. 10703'</span>,\n",
       "            <span style=\"color: #008000; text-decoration-color: #008000\">'action'</span>: <span style=\"color: #008000; text-decoration-color: #008000\">'Modified'</span>,\n",
       "            <span style=\"color: #008000; text-decoration-color: #008000\">'statute_id'</span>: <span style=\"color: #008000; text-decoration-color: #008000\">'ra-10703-november-20-2015'</span>,\n",
       "            <span style=\"color: #008000; text-decoration-color: #008000\">'statute_mp'</span>: <span style=\"color: #008000; text-decoration-color: #008000\">'1.1.'</span>\n",
       "        <span style=\"font-weight: bold\">}</span>\n",
       "    <span style=\"font-weight: bold\">]</span>,\n",
       "    <span style=\"font-weight: bold\">[</span>\n",
       "        <span style=\"font-weight: bold\">{</span>\n",
       "            <span style=\"color: #008000; text-decoration-color: #008000\">'statute_category'</span>: <span style=\"color: #008000; text-decoration-color: #008000\">'bp'</span>,\n",
       "            <span style=\"color: #008000; text-decoration-color: #008000\">'statute_serial_id'</span>: <span style=\"color: #008000; text-decoration-color: #008000\">'129'</span>,\n",
       "            <span style=\"color: #008000; text-decoration-color: #008000\">'locator'</span>: <span style=\"color: #008000; text-decoration-color: #008000\">'g'</span>,\n",
       "            <span style=\"color: #008000; text-decoration-color: #008000\">'content'</span>: <span style=\"color: #008000; text-decoration-color: #008000\">'Sixty-three Regional Trial Judges'</span>,\n",
       "            <span style=\"color: #008000; text-decoration-color: #008000\">'statute'</span>: <span style=\"color: #008000; text-decoration-color: #008000\">'Batas Pambansa Blg. 129'</span>,\n",
       "            <span style=\"color: #008000; text-decoration-color: #008000\">'action'</span>: <span style=\"color: #008000; text-decoration-color: #008000\">'Originated'</span>\n",
       "        <span style=\"font-weight: bold\">}</span>,\n",
       "        <span style=\"font-weight: bold\">{</span>\n",
       "            <span style=\"color: #008000; text-decoration-color: #008000\">'statute_category'</span>: <span style=\"color: #008000; text-decoration-color: #008000\">'ra'</span>,\n",
       "            <span style=\"color: #008000; text-decoration-color: #008000\">'statute_serial_id'</span>: <span style=\"color: #008000; text-decoration-color: #008000\">'7154'</span>,\n",
       "            <span style=\"color: #008000; text-decoration-color: #008000\">'locator'</span>: <span style=\"color: #008000; text-decoration-color: #008000\">'g'</span>,\n",
       "            <span style=\"color: #008000; text-decoration-color: #008000\">'content'</span>: <span style=\"color: #008000; text-decoration-color: #008000\">'Sixty-nine Regional Trial Judges'</span>,\n",
       "            <span style=\"color: #008000; text-decoration-color: #008000\">'statute'</span>: <span style=\"color: #008000; text-decoration-color: #008000\">'Republic Act No. 7154'</span>,\n",
       "            <span style=\"color: #008000; text-decoration-color: #008000\">'action'</span>: <span style=\"color: #008000; text-decoration-color: #008000\">'Amended'</span>\n",
       "        <span style=\"font-weight: bold\">}</span>,\n",
       "        <span style=\"font-weight: bold\">{</span>\n",
       "            <span style=\"color: #008000; text-decoration-color: #008000\">'statute_category'</span>: <span style=\"color: #008000; text-decoration-color: #008000\">'ra'</span>,\n",
       "            <span style=\"color: #008000; text-decoration-color: #008000\">'statute_serial_id'</span>: <span style=\"color: #008000; text-decoration-color: #008000\">'10245'</span>,\n",
       "            <span style=\"color: #008000; text-decoration-color: #008000\">'locator'</span>: <span style=\"color: #008000; text-decoration-color: #008000\">'Section 1'</span>,\n",
       "            <span style=\"color: #008000; text-decoration-color: #008000\">'statute'</span>: <span style=\"color: #008000; text-decoration-color: #008000\">'Republic Act No. 10245'</span>,\n",
       "            <span style=\"color: #008000; text-decoration-color: #008000\">'action'</span>: <span style=\"color: #008000; text-decoration-color: #008000\">'Modified'</span>,\n",
       "            <span style=\"color: #008000; text-decoration-color: #008000\">'statute_id'</span>: <span style=\"color: #008000; text-decoration-color: #008000\">'ra-10245-november-08-2012'</span>,\n",
       "            <span style=\"color: #008000; text-decoration-color: #008000\">'statute_mp'</span>: <span style=\"color: #008000; text-decoration-color: #008000\">'1.1.'</span>\n",
       "        <span style=\"font-weight: bold\">}</span>,\n",
       "        <span style=\"font-weight: bold\">{</span>\n",
       "            <span style=\"color: #008000; text-decoration-color: #008000\">'statute_category'</span>: <span style=\"color: #008000; text-decoration-color: #008000\">'ra'</span>,\n",
       "            <span style=\"color: #008000; text-decoration-color: #008000\">'statute_serial_id'</span>: <span style=\"color: #008000; text-decoration-color: #008000\">'10247'</span>,\n",
       "            <span style=\"color: #008000; text-decoration-color: #008000\">'locator'</span>: <span style=\"color: #008000; text-decoration-color: #008000\">'Section 1'</span>,\n",
       "            <span style=\"color: #008000; text-decoration-color: #008000\">'statute'</span>: <span style=\"color: #008000; text-decoration-color: #008000\">'Republic Act No. 10247'</span>,\n",
       "            <span style=\"color: #008000; text-decoration-color: #008000\">'action'</span>: <span style=\"color: #008000; text-decoration-color: #008000\">'Modified'</span>,\n",
       "            <span style=\"color: #008000; text-decoration-color: #008000\">'statute_id'</span>: <span style=\"color: #008000; text-decoration-color: #008000\">'ra-10247-november-08-2012'</span>,\n",
       "            <span style=\"color: #008000; text-decoration-color: #008000\">'statute_mp'</span>: <span style=\"color: #008000; text-decoration-color: #008000\">'1.1.'</span>\n",
       "        <span style=\"font-weight: bold\">}</span>,\n",
       "        <span style=\"font-weight: bold\">{</span>\n",
       "            <span style=\"color: #008000; text-decoration-color: #008000\">'statute_category'</span>: <span style=\"color: #008000; text-decoration-color: #008000\">'ra'</span>,\n",
       "            <span style=\"color: #008000; text-decoration-color: #008000\">'statute_serial_id'</span>: <span style=\"color: #008000; text-decoration-color: #008000\">'10248'</span>,\n",
       "            <span style=\"color: #008000; text-decoration-color: #008000\">'locator'</span>: <span style=\"color: #008000; text-decoration-color: #008000\">'Section 1'</span>,\n",
       "            <span style=\"color: #008000; text-decoration-color: #008000\">'statute'</span>: <span style=\"color: #008000; text-decoration-color: #008000\">'Republic Act No. 10248'</span>,\n",
       "            <span style=\"color: #008000; text-decoration-color: #008000\">'action'</span>: <span style=\"color: #008000; text-decoration-color: #008000\">'Modified'</span>,\n",
       "            <span style=\"color: #008000; text-decoration-color: #008000\">'statute_id'</span>: <span style=\"color: #008000; text-decoration-color: #008000\">'ra-10248-november-08-2012'</span>,\n",
       "            <span style=\"color: #008000; text-decoration-color: #008000\">'statute_mp'</span>: <span style=\"color: #008000; text-decoration-color: #008000\">'1.1.'</span>\n",
       "        <span style=\"font-weight: bold\">}</span>,\n",
       "        <span style=\"font-weight: bold\">{</span>\n",
       "            <span style=\"color: #008000; text-decoration-color: #008000\">'statute_category'</span>: <span style=\"color: #008000; text-decoration-color: #008000\">'ra'</span>,\n",
       "            <span style=\"color: #008000; text-decoration-color: #008000\">'statute_serial_id'</span>: <span style=\"color: #008000; text-decoration-color: #008000\">'10250'</span>,\n",
       "            <span style=\"color: #008000; text-decoration-color: #008000\">'locator'</span>: <span style=\"color: #008000; text-decoration-color: #008000\">'Section 1'</span>,\n",
       "            <span style=\"color: #008000; text-decoration-color: #008000\">'statute'</span>: <span style=\"color: #008000; text-decoration-color: #008000\">'Republic Act No. 10250'</span>,\n",
       "            <span style=\"color: #008000; text-decoration-color: #008000\">'action'</span>: <span style=\"color: #008000; text-decoration-color: #008000\">'Modified'</span>,\n",
       "            <span style=\"color: #008000; text-decoration-color: #008000\">'statute_id'</span>: <span style=\"color: #008000; text-decoration-color: #008000\">'ra-10250-november-08-2012'</span>,\n",
       "            <span style=\"color: #008000; text-decoration-color: #008000\">'statute_mp'</span>: <span style=\"color: #008000; text-decoration-color: #008000\">'1.1.'</span>\n",
       "        <span style=\"font-weight: bold\">}</span>,\n",
       "        <span style=\"font-weight: bold\">{</span>\n",
       "            <span style=\"color: #008000; text-decoration-color: #008000\">'statute_category'</span>: <span style=\"color: #008000; text-decoration-color: #008000\">'ra'</span>,\n",
       "            <span style=\"color: #008000; text-decoration-color: #008000\">'statute_serial_id'</span>: <span style=\"color: #008000; text-decoration-color: #008000\">'10371'</span>,\n",
       "            <span style=\"color: #008000; text-decoration-color: #008000\">'locator'</span>: <span style=\"color: #008000; text-decoration-color: #008000\">'Section 1'</span>,\n",
       "            <span style=\"color: #008000; text-decoration-color: #008000\">'statute'</span>: <span style=\"color: #008000; text-decoration-color: #008000\">'Republic Act No. 10371'</span>,\n",
       "            <span style=\"color: #008000; text-decoration-color: #008000\">'action'</span>: <span style=\"color: #008000; text-decoration-color: #008000\">'Modified'</span>,\n",
       "            <span style=\"color: #008000; text-decoration-color: #008000\">'statute_id'</span>: <span style=\"color: #008000; text-decoration-color: #008000\">'ra-10371-february-28-2013'</span>,\n",
       "            <span style=\"color: #008000; text-decoration-color: #008000\">'statute_mp'</span>: <span style=\"color: #008000; text-decoration-color: #008000\">'1.1.'</span>\n",
       "        <span style=\"font-weight: bold\">}</span>,\n",
       "        <span style=\"font-weight: bold\">{</span>\n",
       "            <span style=\"color: #008000; text-decoration-color: #008000\">'statute_category'</span>: <span style=\"color: #008000; text-decoration-color: #008000\">'ra'</span>,\n",
       "            <span style=\"color: #008000; text-decoration-color: #008000\">'statute_serial_id'</span>: <span style=\"color: #008000; text-decoration-color: #008000\">'10392'</span>,\n",
       "            <span style=\"color: #008000; text-decoration-color: #008000\">'locator'</span>: <span style=\"color: #008000; text-decoration-color: #008000\">'Section 1'</span>,\n",
       "            <span style=\"color: #008000; text-decoration-color: #008000\">'statute'</span>: <span style=\"color: #008000; text-decoration-color: #008000\">'Republic Act No. 10392'</span>,\n",
       "            <span style=\"color: #008000; text-decoration-color: #008000\">'action'</span>: <span style=\"color: #008000; text-decoration-color: #008000\">'Modified'</span>,\n",
       "            <span style=\"color: #008000; text-decoration-color: #008000\">'statute_id'</span>: <span style=\"color: #008000; text-decoration-color: #008000\">'ra-10392-march-14-2013'</span>,\n",
       "            <span style=\"color: #008000; text-decoration-color: #008000\">'statute_mp'</span>: <span style=\"color: #008000; text-decoration-color: #008000\">'1.1.'</span>\n",
       "        <span style=\"font-weight: bold\">}</span>,\n",
       "        <span style=\"font-weight: bold\">{</span>\n",
       "            <span style=\"color: #008000; text-decoration-color: #008000\">'statute_category'</span>: <span style=\"color: #008000; text-decoration-color: #008000\">'ra'</span>,\n",
       "            <span style=\"color: #008000; text-decoration-color: #008000\">'statute_serial_id'</span>: <span style=\"color: #008000; text-decoration-color: #008000\">'10715'</span>,\n",
       "            <span style=\"color: #008000; text-decoration-color: #008000\">'locator'</span>: <span style=\"color: #008000; text-decoration-color: #008000\">'Section 1'</span>,\n",
       "            <span style=\"color: #008000; text-decoration-color: #008000\">'statute'</span>: <span style=\"color: #008000; text-decoration-color: #008000\">'Republic Act No. 10715'</span>,\n",
       "            <span style=\"color: #008000; text-decoration-color: #008000\">'action'</span>: <span style=\"color: #008000; text-decoration-color: #008000\">'Modified'</span>,\n",
       "            <span style=\"color: #008000; text-decoration-color: #008000\">'statute_id'</span>: <span style=\"color: #008000; text-decoration-color: #008000\">'ra-10715-december-09-2015'</span>,\n",
       "            <span style=\"color: #008000; text-decoration-color: #008000\">'statute_mp'</span>: <span style=\"color: #008000; text-decoration-color: #008000\">'1.1.'</span>\n",
       "        <span style=\"font-weight: bold\">}</span>\n",
       "    <span style=\"font-weight: bold\">]</span>,\n",
       "    <span style=\"font-weight: bold\">[</span>\n",
       "        <span style=\"font-weight: bold\">{</span>\n",
       "            <span style=\"color: #008000; text-decoration-color: #008000\">'statute_category'</span>: <span style=\"color: #008000; text-decoration-color: #008000\">'bp'</span>,\n",
       "            <span style=\"color: #008000; text-decoration-color: #008000\">'statute_serial_id'</span>: <span style=\"color: #008000; text-decoration-color: #008000\">'129'</span>,\n",
       "            <span style=\"color: #008000; text-decoration-color: #008000\">'locator'</span>: <span style=\"color: #008000; text-decoration-color: #008000\">'f'</span>,\n",
       "            <span style=\"color: #008000; text-decoration-color: #008000\">'content'</span>: <span style=\"color: #008000; text-decoration-color: #008000\">'Fifty-five Regional Trial Judges'</span>,\n",
       "            <span style=\"color: #008000; text-decoration-color: #008000\">'statute'</span>: <span style=\"color: #008000; text-decoration-color: #008000\">'Batas Pambansa Blg. 129'</span>,\n",
       "            <span style=\"color: #008000; text-decoration-color: #008000\">'action'</span>: <span style=\"color: #008000; text-decoration-color: #008000\">'Originated'</span>\n",
       "        <span style=\"font-weight: bold\">}</span>,\n",
       "        <span style=\"font-weight: bold\">{</span>\n",
       "            <span style=\"color: #008000; text-decoration-color: #008000\">'statute_category'</span>: <span style=\"color: #008000; text-decoration-color: #008000\">'ra'</span>,\n",
       "            <span style=\"color: #008000; text-decoration-color: #008000\">'statute_serial_id'</span>: <span style=\"color: #008000; text-decoration-color: #008000\">'7154'</span>,\n",
       "            <span style=\"color: #008000; text-decoration-color: #008000\">'locator'</span>: <span style=\"color: #008000; text-decoration-color: #008000\">'f'</span>,\n",
       "            <span style=\"color: #008000; text-decoration-color: #008000\">'content'</span>: <span style=\"color: #008000; text-decoration-color: #008000\">'Sixty-five Regional Trial Judges'</span>,\n",
       "            <span style=\"color: #008000; text-decoration-color: #008000\">'statute'</span>: <span style=\"color: #008000; text-decoration-color: #008000\">'Republic Act No. 7154'</span>,\n",
       "            <span style=\"color: #008000; text-decoration-color: #008000\">'action'</span>: <span style=\"color: #008000; text-decoration-color: #008000\">'Amended'</span>\n",
       "        <span style=\"font-weight: bold\">}</span>,\n",
       "        <span style=\"font-weight: bold\">{</span>\n",
       "            <span style=\"color: #008000; text-decoration-color: #008000\">'statute_category'</span>: <span style=\"color: #008000; text-decoration-color: #008000\">'ra'</span>,\n",
       "            <span style=\"color: #008000; text-decoration-color: #008000\">'statute_serial_id'</span>: <span style=\"color: #008000; text-decoration-color: #008000\">'10712'</span>,\n",
       "            <span style=\"color: #008000; text-decoration-color: #008000\">'locator'</span>: <span style=\"color: #008000; text-decoration-color: #008000\">'Section 1'</span>,\n",
       "            <span style=\"color: #008000; text-decoration-color: #008000\">'statute'</span>: <span style=\"color: #008000; text-decoration-color: #008000\">'Republic Act No. 10712'</span>,\n",
       "            <span style=\"color: #008000; text-decoration-color: #008000\">'action'</span>: <span style=\"color: #008000; text-decoration-color: #008000\">'Modified'</span>,\n",
       "            <span style=\"color: #008000; text-decoration-color: #008000\">'statute_id'</span>: <span style=\"color: #008000; text-decoration-color: #008000\">'ra-10712-december-09-2015'</span>,\n",
       "            <span style=\"color: #008000; text-decoration-color: #008000\">'statute_mp'</span>: <span style=\"color: #008000; text-decoration-color: #008000\">'1.1.'</span>\n",
       "        <span style=\"font-weight: bold\">}</span>\n",
       "    <span style=\"font-weight: bold\">]</span>,\n",
       "    <span style=\"font-weight: bold\">[</span>\n",
       "        <span style=\"font-weight: bold\">{</span>\n",
       "            <span style=\"color: #008000; text-decoration-color: #008000\">'statute_category'</span>: <span style=\"color: #008000; text-decoration-color: #008000\">'bp'</span>,\n",
       "            <span style=\"color: #008000; text-decoration-color: #008000\">'statute_serial_id'</span>: <span style=\"color: #008000; text-decoration-color: #008000\">'129'</span>,\n",
       "            <span style=\"color: #008000; text-decoration-color: #008000\">'locator'</span>: <span style=\"color: #008000; text-decoration-color: #008000\">'e'</span>,\n",
       "            <span style=\"color: #008000; text-decoration-color: #008000\">'content'</span>: <span style=\"color: #008000; text-decoration-color: #008000\">'Eighty-two Regional Trial Judges'</span>,\n",
       "            <span style=\"color: #008000; text-decoration-color: #008000\">'statute'</span>: <span style=\"color: #008000; text-decoration-color: #008000\">'Batas Pambansa Blg. 129'</span>,\n",
       "            <span style=\"color: #008000; text-decoration-color: #008000\">'action'</span>: <span style=\"color: #008000; text-decoration-color: #008000\">'Originated'</span>\n",
       "        <span style=\"font-weight: bold\">}</span>,\n",
       "        <span style=\"font-weight: bold\">{</span>\n",
       "            <span style=\"color: #008000; text-decoration-color: #008000\">'statute_category'</span>: <span style=\"color: #008000; text-decoration-color: #008000\">'ra'</span>,\n",
       "            <span style=\"color: #008000; text-decoration-color: #008000\">'statute_serial_id'</span>: <span style=\"color: #008000; text-decoration-color: #008000\">'7154'</span>,\n",
       "            <span style=\"color: #008000; text-decoration-color: #008000\">'locator'</span>: <span style=\"color: #008000; text-decoration-color: #008000\">'e'</span>,\n",
       "            <span style=\"color: #008000; text-decoration-color: #008000\">'content'</span>: <span style=\"color: #008000; text-decoration-color: #008000\">'Ninety-six Regional Trial Judges'</span>,\n",
       "            <span style=\"color: #008000; text-decoration-color: #008000\">'statute'</span>: <span style=\"color: #008000; text-decoration-color: #008000\">'Republic Act No. 7154'</span>,\n",
       "            <span style=\"color: #008000; text-decoration-color: #008000\">'action'</span>: <span style=\"color: #008000; text-decoration-color: #008000\">'Amended'</span>\n",
       "        <span style=\"font-weight: bold\">}</span>,\n",
       "        <span style=\"font-weight: bold\">{</span>\n",
       "            <span style=\"color: #008000; text-decoration-color: #008000\">'statute_category'</span>: <span style=\"color: #008000; text-decoration-color: #008000\">'ra'</span>,\n",
       "            <span style=\"color: #008000; text-decoration-color: #008000\">'statute_serial_id'</span>: <span style=\"color: #008000; text-decoration-color: #008000\">'10162'</span>,\n",
       "            <span style=\"color: #008000; text-decoration-color: #008000\">'locator'</span>: <span style=\"color: #008000; text-decoration-color: #008000\">'Section 1'</span>,\n",
       "            <span style=\"color: #008000; text-decoration-color: #008000\">'statute'</span>: <span style=\"color: #008000; text-decoration-color: #008000\">'Republic Act No. 10162'</span>,\n",
       "            <span style=\"color: #008000; text-decoration-color: #008000\">'action'</span>: <span style=\"color: #008000; text-decoration-color: #008000\">'Modified'</span>,\n",
       "            <span style=\"color: #008000; text-decoration-color: #008000\">'statute_id'</span>: <span style=\"color: #008000; text-decoration-color: #008000\">'ra-10162-april-17-2012'</span>,\n",
       "            <span style=\"color: #008000; text-decoration-color: #008000\">'statute_mp'</span>: <span style=\"color: #008000; text-decoration-color: #008000\">'1.1.'</span>\n",
       "        <span style=\"font-weight: bold\">}</span>,\n",
       "        <span style=\"font-weight: bold\">{</span>\n",
       "            <span style=\"color: #008000; text-decoration-color: #008000\">'statute_category'</span>: <span style=\"color: #008000; text-decoration-color: #008000\">'ra'</span>,\n",
       "            <span style=\"color: #008000; text-decoration-color: #008000\">'statute_serial_id'</span>: <span style=\"color: #008000; text-decoration-color: #008000\">'10249'</span>,\n",
       "            <span style=\"color: #008000; text-decoration-color: #008000\">'locator'</span>: <span style=\"color: #008000; text-decoration-color: #008000\">'Section 1'</span>,\n",
       "            <span style=\"color: #008000; text-decoration-color: #008000\">'statute'</span>: <span style=\"color: #008000; text-decoration-color: #008000\">'Republic Act No. 10249'</span>,\n",
       "            <span style=\"color: #008000; text-decoration-color: #008000\">'action'</span>: <span style=\"color: #008000; text-decoration-color: #008000\">'Modified'</span>,\n",
       "            <span style=\"color: #008000; text-decoration-color: #008000\">'statute_id'</span>: <span style=\"color: #008000; text-decoration-color: #008000\">'ra-10249-november-08-2012'</span>,\n",
       "            <span style=\"color: #008000; text-decoration-color: #008000\">'statute_mp'</span>: <span style=\"color: #008000; text-decoration-color: #008000\">'1.1.'</span>\n",
       "        <span style=\"font-weight: bold\">}</span>,\n",
       "        <span style=\"font-weight: bold\">{</span>\n",
       "            <span style=\"color: #008000; text-decoration-color: #008000\">'statute_category'</span>: <span style=\"color: #008000; text-decoration-color: #008000\">'ra'</span>,\n",
       "            <span style=\"color: #008000; text-decoration-color: #008000\">'statute_serial_id'</span>: <span style=\"color: #008000; text-decoration-color: #008000\">'10300'</span>,\n",
       "            <span style=\"color: #008000; text-decoration-color: #008000\">'locator'</span>: <span style=\"color: #008000; text-decoration-color: #008000\">'Section 1'</span>,\n",
       "            <span style=\"color: #008000; text-decoration-color: #008000\">'statute'</span>: <span style=\"color: #008000; text-decoration-color: #008000\">'Republic Act No. 10300'</span>,\n",
       "            <span style=\"color: #008000; text-decoration-color: #008000\">'action'</span>: <span style=\"color: #008000; text-decoration-color: #008000\">'Modified'</span>,\n",
       "            <span style=\"color: #008000; text-decoration-color: #008000\">'statute_id'</span>: <span style=\"color: #008000; text-decoration-color: #008000\">'ra-10300-november-15-2012'</span>,\n",
       "            <span style=\"color: #008000; text-decoration-color: #008000\">'statute_mp'</span>: <span style=\"color: #008000; text-decoration-color: #008000\">'1.1.'</span>\n",
       "        <span style=\"font-weight: bold\">}</span>,\n",
       "        <span style=\"font-weight: bold\">{</span>\n",
       "            <span style=\"color: #008000; text-decoration-color: #008000\">'statute_category'</span>: <span style=\"color: #008000; text-decoration-color: #008000\">'ra'</span>,\n",
       "            <span style=\"color: #008000; text-decoration-color: #008000\">'statute_serial_id'</span>: <span style=\"color: #008000; text-decoration-color: #008000\">'10302'</span>,\n",
       "            <span style=\"color: #008000; text-decoration-color: #008000\">'locator'</span>: <span style=\"color: #008000; text-decoration-color: #008000\">'Section 1'</span>,\n",
       "            <span style=\"color: #008000; text-decoration-color: #008000\">'statute'</span>: <span style=\"color: #008000; text-decoration-color: #008000\">'Republic Act No. 10302'</span>,\n",
       "            <span style=\"color: #008000; text-decoration-color: #008000\">'action'</span>: <span style=\"color: #008000; text-decoration-color: #008000\">'Modified'</span>,\n",
       "            <span style=\"color: #008000; text-decoration-color: #008000\">'statute_id'</span>: <span style=\"color: #008000; text-decoration-color: #008000\">'ra-10302-november-15-2012'</span>,\n",
       "            <span style=\"color: #008000; text-decoration-color: #008000\">'statute_mp'</span>: <span style=\"color: #008000; text-decoration-color: #008000\">'1.1.'</span>\n",
       "        <span style=\"font-weight: bold\">}</span>,\n",
       "        <span style=\"font-weight: bold\">{</span>\n",
       "            <span style=\"color: #008000; text-decoration-color: #008000\">'statute_category'</span>: <span style=\"color: #008000; text-decoration-color: #008000\">'ra'</span>,\n",
       "            <span style=\"color: #008000; text-decoration-color: #008000\">'statute_serial_id'</span>: <span style=\"color: #008000; text-decoration-color: #008000\">'10339'</span>,\n",
       "            <span style=\"color: #008000; text-decoration-color: #008000\">'locator'</span>: <span style=\"color: #008000; text-decoration-color: #008000\">'Section 1'</span>,\n",
       "            <span style=\"color: #008000; text-decoration-color: #008000\">'statute'</span>: <span style=\"color: #008000; text-decoration-color: #008000\">'Republic Act No. 10339'</span>,\n",
       "            <span style=\"color: #008000; text-decoration-color: #008000\">'action'</span>: <span style=\"color: #008000; text-decoration-color: #008000\">'Modified'</span>,\n",
       "            <span style=\"color: #008000; text-decoration-color: #008000\">'statute_id'</span>: <span style=\"color: #008000; text-decoration-color: #008000\">'ra-10339-november-21-2012'</span>,\n",
       "            <span style=\"color: #008000; text-decoration-color: #008000\">'statute_mp'</span>: <span style=\"color: #008000; text-decoration-color: #008000\">'1.1.'</span>\n",
       "        <span style=\"font-weight: bold\">}</span>,\n",
       "        <span style=\"font-weight: bold\">{</span>\n",
       "            <span style=\"color: #008000; text-decoration-color: #008000\">'statute_category'</span>: <span style=\"color: #008000; text-decoration-color: #008000\">'ra'</span>,\n",
       "            <span style=\"color: #008000; text-decoration-color: #008000\">'statute_serial_id'</span>: <span style=\"color: #008000; text-decoration-color: #008000\">'10454'</span>,\n",
       "            <span style=\"color: #008000; text-decoration-color: #008000\">'locator'</span>: <span style=\"color: #008000; text-decoration-color: #008000\">'Section 1'</span>,\n",
       "            <span style=\"color: #008000; text-decoration-color: #008000\">'statute'</span>: <span style=\"color: #008000; text-decoration-color: #008000\">'Republic Act No. 10454'</span>,\n",
       "            <span style=\"color: #008000; text-decoration-color: #008000\">'action'</span>: <span style=\"color: #008000; text-decoration-color: #008000\">'Modified'</span>\n",
       "        <span style=\"font-weight: bold\">}</span>,\n",
       "        <span style=\"font-weight: bold\">{</span>\n",
       "            <span style=\"color: #008000; text-decoration-color: #008000\">'statute_category'</span>: <span style=\"color: #008000; text-decoration-color: #008000\">'ra'</span>,\n",
       "            <span style=\"color: #008000; text-decoration-color: #008000\">'statute_serial_id'</span>: <span style=\"color: #008000; text-decoration-color: #008000\">'10517'</span>,\n",
       "            <span style=\"color: #008000; text-decoration-color: #008000\">'locator'</span>: <span style=\"color: #008000; text-decoration-color: #008000\">'Section 1'</span>,\n",
       "            <span style=\"color: #008000; text-decoration-color: #008000\">'statute'</span>: <span style=\"color: #008000; text-decoration-color: #008000\">'Republic Act No. 10517'</span>,\n",
       "            <span style=\"color: #008000; text-decoration-color: #008000\">'action'</span>: <span style=\"color: #008000; text-decoration-color: #008000\">'Modified'</span>,\n",
       "            <span style=\"color: #008000; text-decoration-color: #008000\">'statute_id'</span>: <span style=\"color: #008000; text-decoration-color: #008000\">'ra-10517-april-23-2013'</span>,\n",
       "            <span style=\"color: #008000; text-decoration-color: #008000\">'statute_mp'</span>: <span style=\"color: #008000; text-decoration-color: #008000\">'1.1.'</span>\n",
       "        <span style=\"font-weight: bold\">}</span>,\n",
       "        <span style=\"font-weight: bold\">{</span>\n",
       "            <span style=\"color: #008000; text-decoration-color: #008000\">'statute_category'</span>: <span style=\"color: #008000; text-decoration-color: #008000\">'ra'</span>,\n",
       "            <span style=\"color: #008000; text-decoration-color: #008000\">'statute_serial_id'</span>: <span style=\"color: #008000; text-decoration-color: #008000\">'10518'</span>,\n",
       "            <span style=\"color: #008000; text-decoration-color: #008000\">'locator'</span>: <span style=\"color: #008000; text-decoration-color: #008000\">'Section 1'</span>,\n",
       "            <span style=\"color: #008000; text-decoration-color: #008000\">'statute'</span>: <span style=\"color: #008000; text-decoration-color: #008000\">'Republic Act No. 10518'</span>,\n",
       "            <span style=\"color: #008000; text-decoration-color: #008000\">'action'</span>: <span style=\"color: #008000; text-decoration-color: #008000\">'Modified'</span>,\n",
       "            <span style=\"color: #008000; text-decoration-color: #008000\">'statute_id'</span>: <span style=\"color: #008000; text-decoration-color: #008000\">'ra-10518-april-23-2013'</span>,\n",
       "            <span style=\"color: #008000; text-decoration-color: #008000\">'statute_mp'</span>: <span style=\"color: #008000; text-decoration-color: #008000\">'1.1.'</span>\n",
       "        <span style=\"font-weight: bold\">}</span>,\n",
       "        <span style=\"font-weight: bold\">{</span>\n",
       "            <span style=\"color: #008000; text-decoration-color: #008000\">'statute_category'</span>: <span style=\"color: #008000; text-decoration-color: #008000\">'ra'</span>,\n",
       "            <span style=\"color: #008000; text-decoration-color: #008000\">'statute_serial_id'</span>: <span style=\"color: #008000; text-decoration-color: #008000\">'10523'</span>,\n",
       "            <span style=\"color: #008000; text-decoration-color: #008000\">'locator'</span>: <span style=\"color: #008000; text-decoration-color: #008000\">'Section 1'</span>,\n",
       "            <span style=\"color: #008000; text-decoration-color: #008000\">'statute'</span>: <span style=\"color: #008000; text-decoration-color: #008000\">'Republic Act No. 10523'</span>,\n",
       "            <span style=\"color: #008000; text-decoration-color: #008000\">'action'</span>: <span style=\"color: #008000; text-decoration-color: #008000\">'Modified'</span>,\n",
       "            <span style=\"color: #008000; text-decoration-color: #008000\">'statute_id'</span>: <span style=\"color: #008000; text-decoration-color: #008000\">'ra-10523-april-23-2013'</span>,\n",
       "            <span style=\"color: #008000; text-decoration-color: #008000\">'statute_mp'</span>: <span style=\"color: #008000; text-decoration-color: #008000\">'1.1.'</span>\n",
       "        <span style=\"font-weight: bold\">}</span>,\n",
       "        <span style=\"font-weight: bold\">{</span>\n",
       "            <span style=\"color: #008000; text-decoration-color: #008000\">'statute_category'</span>: <span style=\"color: #008000; text-decoration-color: #008000\">'ra'</span>,\n",
       "            <span style=\"color: #008000; text-decoration-color: #008000\">'statute_serial_id'</span>: <span style=\"color: #008000; text-decoration-color: #008000\">'10539'</span>,\n",
       "            <span style=\"color: #008000; text-decoration-color: #008000\">'locator'</span>: <span style=\"color: #008000; text-decoration-color: #008000\">'Section 1'</span>,\n",
       "            <span style=\"color: #008000; text-decoration-color: #008000\">'statute'</span>: <span style=\"color: #008000; text-decoration-color: #008000\">'Republic Act No. 10539'</span>,\n",
       "            <span style=\"color: #008000; text-decoration-color: #008000\">'action'</span>: <span style=\"color: #008000; text-decoration-color: #008000\">'Modified'</span>,\n",
       "            <span style=\"color: #008000; text-decoration-color: #008000\">'statute_id'</span>: <span style=\"color: #008000; text-decoration-color: #008000\">'ra-10539-may-15-2013'</span>,\n",
       "            <span style=\"color: #008000; text-decoration-color: #008000\">'statute_mp'</span>: <span style=\"color: #008000; text-decoration-color: #008000\">'1.1.'</span>\n",
       "        <span style=\"font-weight: bold\">}</span>,\n",
       "        <span style=\"font-weight: bold\">{</span>\n",
       "            <span style=\"color: #008000; text-decoration-color: #008000\">'statute_category'</span>: <span style=\"color: #008000; text-decoration-color: #008000\">'ra'</span>,\n",
       "            <span style=\"color: #008000; text-decoration-color: #008000\">'statute_serial_id'</span>: <span style=\"color: #008000; text-decoration-color: #008000\">'10543'</span>,\n",
       "            <span style=\"color: #008000; text-decoration-color: #008000\">'locator'</span>: <span style=\"color: #008000; text-decoration-color: #008000\">'Section 1'</span>,\n",
       "            <span style=\"color: #008000; text-decoration-color: #008000\">'statute'</span>: <span style=\"color: #008000; text-decoration-color: #008000\">'Republic Act No. 10543'</span>,\n",
       "            <span style=\"color: #008000; text-decoration-color: #008000\">'action'</span>: <span style=\"color: #008000; text-decoration-color: #008000\">'Modified'</span>,\n",
       "            <span style=\"color: #008000; text-decoration-color: #008000\">'statute_id'</span>: <span style=\"color: #008000; text-decoration-color: #008000\">'ra-10543-may-15-2013'</span>,\n",
       "            <span style=\"color: #008000; text-decoration-color: #008000\">'statute_mp'</span>: <span style=\"color: #008000; text-decoration-color: #008000\">'1.1.'</span>\n",
       "        <span style=\"font-weight: bold\">}</span>,\n",
       "        <span style=\"font-weight: bold\">{</span>\n",
       "            <span style=\"color: #008000; text-decoration-color: #008000\">'statute_category'</span>: <span style=\"color: #008000; text-decoration-color: #008000\">'ra'</span>,\n",
       "            <span style=\"color: #008000; text-decoration-color: #008000\">'statute_serial_id'</span>: <span style=\"color: #008000; text-decoration-color: #008000\">'10547'</span>,\n",
       "            <span style=\"color: #008000; text-decoration-color: #008000\">'locator'</span>: <span style=\"color: #008000; text-decoration-color: #008000\">'Section 1'</span>,\n",
       "            <span style=\"color: #008000; text-decoration-color: #008000\">'statute'</span>: <span style=\"color: #008000; text-decoration-color: #008000\">'Republic Act No. 10547'</span>,\n",
       "            <span style=\"color: #008000; text-decoration-color: #008000\">'action'</span>: <span style=\"color: #008000; text-decoration-color: #008000\">'Modified'</span>,\n",
       "            <span style=\"color: #008000; text-decoration-color: #008000\">'statute_id'</span>: <span style=\"color: #008000; text-decoration-color: #008000\">'ra-10547-may-15-2013'</span>,\n",
       "            <span style=\"color: #008000; text-decoration-color: #008000\">'statute_mp'</span>: <span style=\"color: #008000; text-decoration-color: #008000\">'1.1.'</span>\n",
       "        <span style=\"font-weight: bold\">}</span>,\n",
       "        <span style=\"font-weight: bold\">{</span>\n",
       "            <span style=\"color: #008000; text-decoration-color: #008000\">'statute_category'</span>: <span style=\"color: #008000; text-decoration-color: #008000\">'ra'</span>,\n",
       "            <span style=\"color: #008000; text-decoration-color: #008000\">'statute_serial_id'</span>: <span style=\"color: #008000; text-decoration-color: #008000\">'10568'</span>,\n",
       "            <span style=\"color: #008000; text-decoration-color: #008000\">'locator'</span>: <span style=\"color: #008000; text-decoration-color: #008000\">'Section 1'</span>,\n",
       "            <span style=\"color: #008000; text-decoration-color: #008000\">'statute'</span>: <span style=\"color: #008000; text-decoration-color: #008000\">'Republic Act No. 10568'</span>,\n",
       "            <span style=\"color: #008000; text-decoration-color: #008000\">'action'</span>: <span style=\"color: #008000; text-decoration-color: #008000\">'Modified'</span>\n",
       "        <span style=\"font-weight: bold\">}</span>,\n",
       "        <span style=\"font-weight: bold\">{</span>\n",
       "            <span style=\"color: #008000; text-decoration-color: #008000\">'statute_category'</span>: <span style=\"color: #008000; text-decoration-color: #008000\">'ra'</span>,\n",
       "            <span style=\"color: #008000; text-decoration-color: #008000\">'statute_serial_id'</span>: <span style=\"color: #008000; text-decoration-color: #008000\">'10569'</span>,\n",
       "            <span style=\"color: #008000; text-decoration-color: #008000\">'locator'</span>: <span style=\"color: #008000; text-decoration-color: #008000\">'Section 1'</span>,\n",
       "            <span style=\"color: #008000; text-decoration-color: #008000\">'statute'</span>: <span style=\"color: #008000; text-decoration-color: #008000\">'Republic Act No. 10569'</span>,\n",
       "            <span style=\"color: #008000; text-decoration-color: #008000\">'action'</span>: <span style=\"color: #008000; text-decoration-color: #008000\">'Modified'</span>,\n",
       "            <span style=\"color: #008000; text-decoration-color: #008000\">'statute_id'</span>: <span style=\"color: #008000; text-decoration-color: #008000\">'ra-10569-may-22-2013'</span>,\n",
       "            <span style=\"color: #008000; text-decoration-color: #008000\">'statute_mp'</span>: <span style=\"color: #008000; text-decoration-color: #008000\">'1.1.'</span>\n",
       "        <span style=\"font-weight: bold\">}</span>,\n",
       "        <span style=\"font-weight: bold\">{</span>\n",
       "            <span style=\"color: #008000; text-decoration-color: #008000\">'statute_category'</span>: <span style=\"color: #008000; text-decoration-color: #008000\">'ra'</span>,\n",
       "            <span style=\"color: #008000; text-decoration-color: #008000\">'statute_serial_id'</span>: <span style=\"color: #008000; text-decoration-color: #008000\">'10580'</span>,\n",
       "            <span style=\"color: #008000; text-decoration-color: #008000\">'locator'</span>: <span style=\"color: #008000; text-decoration-color: #008000\">'Section 1'</span>,\n",
       "            <span style=\"color: #008000; text-decoration-color: #008000\">'statute'</span>: <span style=\"color: #008000; text-decoration-color: #008000\">'Republic Act No. 10580'</span>,\n",
       "            <span style=\"color: #008000; text-decoration-color: #008000\">'action'</span>: <span style=\"color: #008000; text-decoration-color: #008000\">'Modified'</span>,\n",
       "            <span style=\"color: #008000; text-decoration-color: #008000\">'statute_id'</span>: <span style=\"color: #008000; text-decoration-color: #008000\">'ra-10580-may-24-2013'</span>,\n",
       "            <span style=\"color: #008000; text-decoration-color: #008000\">'statute_mp'</span>: <span style=\"color: #008000; text-decoration-color: #008000\">'1.1.'</span>\n",
       "        <span style=\"font-weight: bold\">}</span>,\n",
       "        <span style=\"font-weight: bold\">{</span>\n",
       "            <span style=\"color: #008000; text-decoration-color: #008000\">'statute_category'</span>: <span style=\"color: #008000; text-decoration-color: #008000\">'ra'</span>,\n",
       "            <span style=\"color: #008000; text-decoration-color: #008000\">'statute_serial_id'</span>: <span style=\"color: #008000; text-decoration-color: #008000\">'10603'</span>,\n",
       "            <span style=\"color: #008000; text-decoration-color: #008000\">'locator'</span>: <span style=\"color: #008000; text-decoration-color: #008000\">'Section 1'</span>,\n",
       "            <span style=\"color: #008000; text-decoration-color: #008000\">'statute'</span>: <span style=\"color: #008000; text-decoration-color: #008000\">'Republic Act No. 10603'</span>,\n",
       "            <span style=\"color: #008000; text-decoration-color: #008000\">'action'</span>: <span style=\"color: #008000; text-decoration-color: #008000\">'Modified'</span>,\n",
       "            <span style=\"color: #008000; text-decoration-color: #008000\">'statute_id'</span>: <span style=\"color: #008000; text-decoration-color: #008000\">'ra-10603-june-11-2013'</span>,\n",
       "            <span style=\"color: #008000; text-decoration-color: #008000\">'statute_mp'</span>: <span style=\"color: #008000; text-decoration-color: #008000\">'1.1.'</span>\n",
       "        <span style=\"font-weight: bold\">}</span>,\n",
       "        <span style=\"font-weight: bold\">{</span>\n",
       "            <span style=\"color: #008000; text-decoration-color: #008000\">'statute_category'</span>: <span style=\"color: #008000; text-decoration-color: #008000\">'ra'</span>,\n",
       "            <span style=\"color: #008000; text-decoration-color: #008000\">'statute_serial_id'</span>: <span style=\"color: #008000; text-decoration-color: #008000\">'10880'</span>,\n",
       "            <span style=\"color: #008000; text-decoration-color: #008000\">'locator'</span>: <span style=\"color: #008000; text-decoration-color: #008000\">'Section 1'</span>,\n",
       "            <span style=\"color: #008000; text-decoration-color: #008000\">'statute'</span>: <span style=\"color: #008000; text-decoration-color: #008000\">'Republic Act No. 10880'</span>,\n",
       "            <span style=\"color: #008000; text-decoration-color: #008000\">'action'</span>: <span style=\"color: #008000; text-decoration-color: #008000\">'Modified'</span>,\n",
       "            <span style=\"color: #008000; text-decoration-color: #008000\">'statute_id'</span>: <span style=\"color: #008000; text-decoration-color: #008000\">'ra-10880-july-17-2016'</span>,\n",
       "            <span style=\"color: #008000; text-decoration-color: #008000\">'statute_mp'</span>: <span style=\"color: #008000; text-decoration-color: #008000\">'1.1.'</span>\n",
       "        <span style=\"font-weight: bold\">}</span>,\n",
       "        <span style=\"font-weight: bold\">{</span>\n",
       "            <span style=\"color: #008000; text-decoration-color: #008000\">'statute_category'</span>: <span style=\"color: #008000; text-decoration-color: #008000\">'ra'</span>,\n",
       "            <span style=\"color: #008000; text-decoration-color: #008000\">'statute_serial_id'</span>: <span style=\"color: #008000; text-decoration-color: #008000\">'11383'</span>,\n",
       "            <span style=\"color: #008000; text-decoration-color: #008000\">'locator'</span>: <span style=\"color: #008000; text-decoration-color: #008000\">'Section 1'</span>,\n",
       "            <span style=\"color: #008000; text-decoration-color: #008000\">'statute'</span>: <span style=\"color: #008000; text-decoration-color: #008000\">'Republic Act No. 11383'</span>,\n",
       "            <span style=\"color: #008000; text-decoration-color: #008000\">'action'</span>: <span style=\"color: #008000; text-decoration-color: #008000\">'Modified'</span>,\n",
       "            <span style=\"color: #008000; text-decoration-color: #008000\">'statute_id'</span>: <span style=\"color: #008000; text-decoration-color: #008000\">'ra-11383-august-22-2019'</span>,\n",
       "            <span style=\"color: #008000; text-decoration-color: #008000\">'statute_mp'</span>: <span style=\"color: #008000; text-decoration-color: #008000\">'1.1.'</span>\n",
       "        <span style=\"font-weight: bold\">}</span>,\n",
       "        <span style=\"font-weight: bold\">{</span>\n",
       "            <span style=\"color: #008000; text-decoration-color: #008000\">'statute_category'</span>: <span style=\"color: #008000; text-decoration-color: #008000\">'ra'</span>,\n",
       "            <span style=\"color: #008000; text-decoration-color: #008000\">'statute_serial_id'</span>: <span style=\"color: #008000; text-decoration-color: #008000\">'11385'</span>,\n",
       "            <span style=\"color: #008000; text-decoration-color: #008000\">'locator'</span>: <span style=\"color: #008000; text-decoration-color: #008000\">'Section 1'</span>,\n",
       "            <span style=\"color: #008000; text-decoration-color: #008000\">'statute'</span>: <span style=\"color: #008000; text-decoration-color: #008000\">'Republic Act No. 11385'</span>,\n",
       "            <span style=\"color: #008000; text-decoration-color: #008000\">'action'</span>: <span style=\"color: #008000; text-decoration-color: #008000\">'Modified'</span>\n",
       "        <span style=\"font-weight: bold\">}</span>,\n",
       "        <span style=\"font-weight: bold\">{</span>\n",
       "            <span style=\"color: #008000; text-decoration-color: #008000\">'statute_category'</span>: <span style=\"color: #008000; text-decoration-color: #008000\">'ra'</span>,\n",
       "            <span style=\"color: #008000; text-decoration-color: #008000\">'statute_serial_id'</span>: <span style=\"color: #008000; text-decoration-color: #008000\">'11387'</span>,\n",
       "            <span style=\"color: #008000; text-decoration-color: #008000\">'locator'</span>: <span style=\"color: #008000; text-decoration-color: #008000\">'Section 1'</span>,\n",
       "            <span style=\"color: #008000; text-decoration-color: #008000\">'statute'</span>: <span style=\"color: #008000; text-decoration-color: #008000\">'Republic Act No. 11387'</span>,\n",
       "            <span style=\"color: #008000; text-decoration-color: #008000\">'action'</span>: <span style=\"color: #008000; text-decoration-color: #008000\">'Modified'</span>,\n",
       "            <span style=\"color: #008000; text-decoration-color: #008000\">'statute_id'</span>: <span style=\"color: #008000; text-decoration-color: #008000\">'ra-11387-august-22-2019'</span>,\n",
       "            <span style=\"color: #008000; text-decoration-color: #008000\">'statute_mp'</span>: <span style=\"color: #008000; text-decoration-color: #008000\">'1.1.'</span>\n",
       "        <span style=\"font-weight: bold\">}</span>,\n",
       "        <span style=\"font-weight: bold\">{</span>\n",
       "            <span style=\"color: #008000; text-decoration-color: #008000\">'statute_category'</span>: <span style=\"color: #008000; text-decoration-color: #008000\">'ra'</span>,\n",
       "            <span style=\"color: #008000; text-decoration-color: #008000\">'statute_serial_id'</span>: <span style=\"color: #008000; text-decoration-color: #008000\">'11388'</span>,\n",
       "            <span style=\"color: #008000; text-decoration-color: #008000\">'locator'</span>: <span style=\"color: #008000; text-decoration-color: #008000\">'Section 1'</span>,\n",
       "            <span style=\"color: #008000; text-decoration-color: #008000\">'statute'</span>: <span style=\"color: #008000; text-decoration-color: #008000\">'Republic Act No. 11388'</span>,\n",
       "            <span style=\"color: #008000; text-decoration-color: #008000\">'action'</span>: <span style=\"color: #008000; text-decoration-color: #008000\">'Modified'</span>\n",
       "        <span style=\"font-weight: bold\">}</span>\n",
       "    <span style=\"font-weight: bold\">]</span>,\n",
       "    <span style=\"font-weight: bold\">[</span>\n",
       "        <span style=\"font-weight: bold\">{</span>\n",
       "            <span style=\"color: #008000; text-decoration-color: #008000\">'statute_category'</span>: <span style=\"color: #008000; text-decoration-color: #008000\">'bp'</span>,\n",
       "            <span style=\"color: #008000; text-decoration-color: #008000\">'statute_serial_id'</span>: <span style=\"color: #008000; text-decoration-color: #008000\">'129'</span>,\n",
       "            <span style=\"color: #008000; text-decoration-color: #008000\">'locator'</span>: <span style=\"color: #008000; text-decoration-color: #008000\">'d'</span>,\n",
       "            <span style=\"color: #008000; text-decoration-color: #008000\">'content'</span>: <span style=\"color: #008000; text-decoration-color: #008000\">'Seventy-five Regional Trial Judges'</span>,\n",
       "            <span style=\"color: #008000; text-decoration-color: #008000\">'statute'</span>: <span style=\"color: #008000; text-decoration-color: #008000\">'Batas Pambansa Blg. 129'</span>,\n",
       "            <span style=\"color: #008000; text-decoration-color: #008000\">'action'</span>: <span style=\"color: #008000; text-decoration-color: #008000\">'Originated'</span>\n",
       "        <span style=\"font-weight: bold\">}</span>,\n",
       "        <span style=\"font-weight: bold\">{</span>\n",
       "            <span style=\"color: #008000; text-decoration-color: #008000\">'statute_category'</span>: <span style=\"color: #008000; text-decoration-color: #008000\">'ra'</span>,\n",
       "            <span style=\"color: #008000; text-decoration-color: #008000\">'statute_serial_id'</span>: <span style=\"color: #008000; text-decoration-color: #008000\">'7154'</span>,\n",
       "            <span style=\"color: #008000; text-decoration-color: #008000\">'locator'</span>: <span style=\"color: #008000; text-decoration-color: #008000\">'d'</span>,\n",
       "            <span style=\"color: #008000; text-decoration-color: #008000\">'content'</span>: <span style=\"color: #008000; text-decoration-color: #008000\">'Two hundred seventy-six Regional Trial Judges'</span>,\n",
       "            <span style=\"color: #008000; text-decoration-color: #008000\">'statute'</span>: <span style=\"color: #008000; text-decoration-color: #008000\">'Republic Act No. 7154'</span>,\n",
       "            <span style=\"color: #008000; text-decoration-color: #008000\">'action'</span>: <span style=\"color: #008000; text-decoration-color: #008000\">'Amended'</span>\n",
       "        <span style=\"font-weight: bold\">}</span>,\n",
       "        <span style=\"font-weight: bold\">{</span>\n",
       "            <span style=\"color: #008000; text-decoration-color: #008000\">'statute_category'</span>: <span style=\"color: #008000; text-decoration-color: #008000\">'ra'</span>,\n",
       "            <span style=\"color: #008000; text-decoration-color: #008000\">'statute_serial_id'</span>: <span style=\"color: #008000; text-decoration-color: #008000\">'9848'</span>,\n",
       "            <span style=\"color: #008000; text-decoration-color: #008000\">'locator'</span>: <span style=\"color: #008000; text-decoration-color: #008000\">'Section 1'</span>,\n",
       "            <span style=\"color: #008000; text-decoration-color: #008000\">'statute'</span>: <span style=\"color: #008000; text-decoration-color: #008000\">'Republic Act No. 9848'</span>,\n",
       "            <span style=\"color: #008000; text-decoration-color: #008000\">'action'</span>: <span style=\"color: #008000; text-decoration-color: #008000\">'Modified'</span>\n",
       "        <span style=\"font-weight: bold\">}</span>,\n",
       "        <span style=\"font-weight: bold\">{</span>\n",
       "            <span style=\"color: #008000; text-decoration-color: #008000\">'statute_category'</span>: <span style=\"color: #008000; text-decoration-color: #008000\">'ra'</span>,\n",
       "            <span style=\"color: #008000; text-decoration-color: #008000\">'statute_serial_id'</span>: <span style=\"color: #008000; text-decoration-color: #008000\">'10299'</span>,\n",
       "            <span style=\"color: #008000; text-decoration-color: #008000\">'locator'</span>: <span style=\"color: #008000; text-decoration-color: #008000\">'Section 1'</span>,\n",
       "            <span style=\"color: #008000; text-decoration-color: #008000\">'statute'</span>: <span style=\"color: #008000; text-decoration-color: #008000\">'Republic Act No. 10299'</span>,\n",
       "            <span style=\"color: #008000; text-decoration-color: #008000\">'action'</span>: <span style=\"color: #008000; text-decoration-color: #008000\">'Modified'</span>\n",
       "        <span style=\"font-weight: bold\">}</span>,\n",
       "        <span style=\"font-weight: bold\">{</span>\n",
       "            <span style=\"color: #008000; text-decoration-color: #008000\">'statute_category'</span>: <span style=\"color: #008000; text-decoration-color: #008000\">'ra'</span>,\n",
       "            <span style=\"color: #008000; text-decoration-color: #008000\">'statute_serial_id'</span>: <span style=\"color: #008000; text-decoration-color: #008000\">'10394'</span>,\n",
       "            <span style=\"color: #008000; text-decoration-color: #008000\">'locator'</span>: <span style=\"color: #008000; text-decoration-color: #008000\">'Section 1'</span>,\n",
       "            <span style=\"color: #008000; text-decoration-color: #008000\">'statute'</span>: <span style=\"color: #008000; text-decoration-color: #008000\">'Republic Act No. 10394'</span>,\n",
       "            <span style=\"color: #008000; text-decoration-color: #008000\">'action'</span>: <span style=\"color: #008000; text-decoration-color: #008000\">'Modified'</span>,\n",
       "            <span style=\"color: #008000; text-decoration-color: #008000\">'statute_id'</span>: <span style=\"color: #008000; text-decoration-color: #008000\">'ra-10394-march-14-2013'</span>,\n",
       "            <span style=\"color: #008000; text-decoration-color: #008000\">'statute_mp'</span>: <span style=\"color: #008000; text-decoration-color: #008000\">'1.1.'</span>\n",
       "        <span style=\"font-weight: bold\">}</span>,\n",
       "        <span style=\"font-weight: bold\">{</span>\n",
       "            <span style=\"color: #008000; text-decoration-color: #008000\">'statute_category'</span>: <span style=\"color: #008000; text-decoration-color: #008000\">'ra'</span>,\n",
       "            <span style=\"color: #008000; text-decoration-color: #008000\">'statute_serial_id'</span>: <span style=\"color: #008000; text-decoration-color: #008000\">'10341'</span>,\n",
       "            <span style=\"color: #008000; text-decoration-color: #008000\">'locator'</span>: <span style=\"color: #008000; text-decoration-color: #008000\">'Section 1'</span>,\n",
       "            <span style=\"color: #008000; text-decoration-color: #008000\">'statute'</span>: <span style=\"color: #008000; text-decoration-color: #008000\">'Republic Act No. 10341'</span>,\n",
       "            <span style=\"color: #008000; text-decoration-color: #008000\">'action'</span>: <span style=\"color: #008000; text-decoration-color: #008000\">'Modified'</span>\n",
       "        <span style=\"font-weight: bold\">}</span>,\n",
       "        <span style=\"font-weight: bold\">{</span>\n",
       "            <span style=\"color: #008000; text-decoration-color: #008000\">'statute_category'</span>: <span style=\"color: #008000; text-decoration-color: #008000\">'ra'</span>,\n",
       "            <span style=\"color: #008000; text-decoration-color: #008000\">'statute_serial_id'</span>: <span style=\"color: #008000; text-decoration-color: #008000\">'10520'</span>,\n",
       "            <span style=\"color: #008000; text-decoration-color: #008000\">'locator'</span>: <span style=\"color: #008000; text-decoration-color: #008000\">'Section 1'</span>,\n",
       "            <span style=\"color: #008000; text-decoration-color: #008000\">'statute'</span>: <span style=\"color: #008000; text-decoration-color: #008000\">'Republic Act No. 10520'</span>,\n",
       "            <span style=\"color: #008000; text-decoration-color: #008000\">'action'</span>: <span style=\"color: #008000; text-decoration-color: #008000\">'Modified'</span>\n",
       "        <span style=\"font-weight: bold\">}</span>,\n",
       "        <span style=\"font-weight: bold\">{</span>\n",
       "            <span style=\"color: #008000; text-decoration-color: #008000\">'statute_category'</span>: <span style=\"color: #008000; text-decoration-color: #008000\">'ra'</span>,\n",
       "            <span style=\"color: #008000; text-decoration-color: #008000\">'statute_serial_id'</span>: <span style=\"color: #008000; text-decoration-color: #008000\">'10704'</span>,\n",
       "            <span style=\"color: #008000; text-decoration-color: #008000\">'locator'</span>: <span style=\"color: #008000; text-decoration-color: #008000\">'Section 1'</span>,\n",
       "            <span style=\"color: #008000; text-decoration-color: #008000\">'statute'</span>: <span style=\"color: #008000; text-decoration-color: #008000\">'Republic Act No. 10704'</span>,\n",
       "            <span style=\"color: #008000; text-decoration-color: #008000\">'action'</span>: <span style=\"color: #008000; text-decoration-color: #008000\">'Modified'</span>,\n",
       "            <span style=\"color: #008000; text-decoration-color: #008000\">'statute_id'</span>: <span style=\"color: #008000; text-decoration-color: #008000\">'ra-10704-november-20-2015'</span>,\n",
       "            <span style=\"color: #008000; text-decoration-color: #008000\">'statute_mp'</span>: <span style=\"color: #008000; text-decoration-color: #008000\">'1.1.'</span>\n",
       "        <span style=\"font-weight: bold\">}</span>,\n",
       "        <span style=\"font-weight: bold\">{</span>\n",
       "            <span style=\"color: #008000; text-decoration-color: #008000\">'statute_category'</span>: <span style=\"color: #008000; text-decoration-color: #008000\">'ra'</span>,\n",
       "            <span style=\"color: #008000; text-decoration-color: #008000\">'statute_serial_id'</span>: <span style=\"color: #008000; text-decoration-color: #008000\">'10711'</span>,\n",
       "            <span style=\"color: #008000; text-decoration-color: #008000\">'locator'</span>: <span style=\"color: #008000; text-decoration-color: #008000\">'Section 1'</span>,\n",
       "            <span style=\"color: #008000; text-decoration-color: #008000\">'statute'</span>: <span style=\"color: #008000; text-decoration-color: #008000\">'Republic Act No. 10711'</span>,\n",
       "            <span style=\"color: #008000; text-decoration-color: #008000\">'action'</span>: <span style=\"color: #008000; text-decoration-color: #008000\">'Modified'</span>\n",
       "        <span style=\"font-weight: bold\">}</span>,\n",
       "        <span style=\"font-weight: bold\">{</span>\n",
       "            <span style=\"color: #008000; text-decoration-color: #008000\">'statute_category'</span>: <span style=\"color: #008000; text-decoration-color: #008000\">'ra'</span>,\n",
       "            <span style=\"color: #008000; text-decoration-color: #008000\">'statute_serial_id'</span>: <span style=\"color: #008000; text-decoration-color: #008000\">'10713'</span>,\n",
       "            <span style=\"color: #008000; text-decoration-color: #008000\">'locator'</span>: <span style=\"color: #008000; text-decoration-color: #008000\">'Section 1'</span>,\n",
       "            <span style=\"color: #008000; text-decoration-color: #008000\">'statute'</span>: <span style=\"color: #008000; text-decoration-color: #008000\">'Republic Act No. 10713'</span>,\n",
       "            <span style=\"color: #008000; text-decoration-color: #008000\">'action'</span>: <span style=\"color: #008000; text-decoration-color: #008000\">'Modified'</span>,\n",
       "            <span style=\"color: #008000; text-decoration-color: #008000\">'statute_id'</span>: <span style=\"color: #008000; text-decoration-color: #008000\">'ra-10713-december-09-2015'</span>,\n",
       "            <span style=\"color: #008000; text-decoration-color: #008000\">'statute_mp'</span>: <span style=\"color: #008000; text-decoration-color: #008000\">'1.1.'</span>\n",
       "        <span style=\"font-weight: bold\">}</span>\n",
       "    <span style=\"font-weight: bold\">]</span>,\n",
       "    <span style=\"font-weight: bold\">[</span>\n",
       "        <span style=\"font-weight: bold\">{</span>\n",
       "            <span style=\"color: #008000; text-decoration-color: #008000\">'statute_category'</span>: <span style=\"color: #008000; text-decoration-color: #008000\">'bp'</span>,\n",
       "            <span style=\"color: #008000; text-decoration-color: #008000\">'statute_serial_id'</span>: <span style=\"color: #008000; text-decoration-color: #008000\">'129'</span>,\n",
       "            <span style=\"color: #008000; text-decoration-color: #008000\">'locator'</span>: <span style=\"color: #008000; text-decoration-color: #008000\">'c'</span>,\n",
       "            <span style=\"color: #008000; text-decoration-color: #008000\">'content'</span>: <span style=\"color: #008000; text-decoration-color: #008000\">'Seventy-five Regional Trial Judges'</span>,\n",
       "            <span style=\"color: #008000; text-decoration-color: #008000\">'statute'</span>: <span style=\"color: #008000; text-decoration-color: #008000\">'Batas Pambansa Blg. 129'</span>,\n",
       "            <span style=\"color: #008000; text-decoration-color: #008000\">'action'</span>: <span style=\"color: #008000; text-decoration-color: #008000\">'Originated'</span>\n",
       "        <span style=\"font-weight: bold\">}</span>,\n",
       "        <span style=\"font-weight: bold\">{</span>\n",
       "            <span style=\"color: #008000; text-decoration-color: #008000\">'statute_category'</span>: <span style=\"color: #008000; text-decoration-color: #008000\">'ra'</span>,\n",
       "            <span style=\"color: #008000; text-decoration-color: #008000\">'statute_serial_id'</span>: <span style=\"color: #008000; text-decoration-color: #008000\">'9680'</span>,\n",
       "            <span style=\"color: #008000; text-decoration-color: #008000\">'locator'</span>: <span style=\"color: #008000; text-decoration-color: #008000\">'Section 14'</span>,\n",
       "            <span style=\"color: #008000; text-decoration-color: #008000\">'caption'</span>: <span style=\"color: #008000; text-decoration-color: #008000\">'Regional Trial Courts.'</span>,\n",
       "            <span style=\"color: #008000; text-decoration-color: #008000\">'statute'</span>: <span style=\"color: #008000; text-decoration-color: #008000\">'Republic Act No. 9680'</span>,\n",
       "            <span style=\"color: #008000; text-decoration-color: #008000\">'action'</span>: <span style=\"color: #008000; text-decoration-color: #008000\">'Amended'</span>,\n",
       "            <span style=\"color: #008000; text-decoration-color: #008000\">'statute_id'</span>: <span style=\"color: #008000; text-decoration-color: #008000\">'ra-9680-july-29-2009'</span>,\n",
       "            <span style=\"color: #008000; text-decoration-color: #008000\">'statute_mp'</span>: <span style=\"color: #008000; text-decoration-color: #008000\">'1.1.1.'</span>\n",
       "        <span style=\"font-weight: bold\">}</span>,\n",
       "        <span style=\"font-weight: bold\">{</span>\n",
       "            <span style=\"color: #008000; text-decoration-color: #008000\">'statute_category'</span>: <span style=\"color: #008000; text-decoration-color: #008000\">'ra'</span>,\n",
       "            <span style=\"color: #008000; text-decoration-color: #008000\">'statute_serial_id'</span>: <span style=\"color: #008000; text-decoration-color: #008000\">'10303'</span>,\n",
       "            <span style=\"color: #008000; text-decoration-color: #008000\">'locator'</span>: <span style=\"color: #008000; text-decoration-color: #008000\">'Section 1'</span>,\n",
       "            <span style=\"color: #008000; text-decoration-color: #008000\">'statute'</span>: <span style=\"color: #008000; text-decoration-color: #008000\">'Republic Act No. 10303'</span>,\n",
       "            <span style=\"color: #008000; text-decoration-color: #008000\">'action'</span>: <span style=\"color: #008000; text-decoration-color: #008000\">'Modified'</span>,\n",
       "            <span style=\"color: #008000; text-decoration-color: #008000\">'statute_id'</span>: <span style=\"color: #008000; text-decoration-color: #008000\">'ra-10303-november-15-2012'</span>,\n",
       "            <span style=\"color: #008000; text-decoration-color: #008000\">'statute_mp'</span>: <span style=\"color: #008000; text-decoration-color: #008000\">'1.1.'</span>\n",
       "        <span style=\"font-weight: bold\">}</span>,\n",
       "        <span style=\"font-weight: bold\">{</span>\n",
       "            <span style=\"color: #008000; text-decoration-color: #008000\">'statute_category'</span>: <span style=\"color: #008000; text-decoration-color: #008000\">'ra'</span>,\n",
       "            <span style=\"color: #008000; text-decoration-color: #008000\">'statute_serial_id'</span>: <span style=\"color: #008000; text-decoration-color: #008000\">'10521'</span>,\n",
       "            <span style=\"color: #008000; text-decoration-color: #008000\">'locator'</span>: <span style=\"color: #008000; text-decoration-color: #008000\">'Section 1'</span>,\n",
       "            <span style=\"color: #008000; text-decoration-color: #008000\">'statute'</span>: <span style=\"color: #008000; text-decoration-color: #008000\">'Republic Act No. 10521'</span>,\n",
       "            <span style=\"color: #008000; text-decoration-color: #008000\">'action'</span>: <span style=\"color: #008000; text-decoration-color: #008000\">'Modified'</span>,\n",
       "            <span style=\"color: #008000; text-decoration-color: #008000\">'statute_id'</span>: <span style=\"color: #008000; text-decoration-color: #008000\">'ra-10521-april-23-2013'</span>,\n",
       "            <span style=\"color: #008000; text-decoration-color: #008000\">'statute_mp'</span>: <span style=\"color: #008000; text-decoration-color: #008000\">'1.1.'</span>\n",
       "        <span style=\"font-weight: bold\">}</span>,\n",
       "        <span style=\"font-weight: bold\">{</span>\n",
       "            <span style=\"color: #008000; text-decoration-color: #008000\">'statute_category'</span>: <span style=\"color: #008000; text-decoration-color: #008000\">'ra'</span>,\n",
       "            <span style=\"color: #008000; text-decoration-color: #008000\">'statute_serial_id'</span>: <span style=\"color: #008000; text-decoration-color: #008000\">'10562'</span>,\n",
       "            <span style=\"color: #008000; text-decoration-color: #008000\">'locator'</span>: <span style=\"color: #008000; text-decoration-color: #008000\">'Section 1'</span>,\n",
       "            <span style=\"color: #008000; text-decoration-color: #008000\">'statute'</span>: <span style=\"color: #008000; text-decoration-color: #008000\">'Republic Act No. 10562'</span>,\n",
       "            <span style=\"color: #008000; text-decoration-color: #008000\">'action'</span>: <span style=\"color: #008000; text-decoration-color: #008000\">'Modified'</span>,\n",
       "            <span style=\"color: #008000; text-decoration-color: #008000\">'statute_id'</span>: <span style=\"color: #008000; text-decoration-color: #008000\">'ra-10562-may-17-2013'</span>,\n",
       "            <span style=\"color: #008000; text-decoration-color: #008000\">'statute_mp'</span>: <span style=\"color: #008000; text-decoration-color: #008000\">'1.1.'</span>\n",
       "        <span style=\"font-weight: bold\">}</span>,\n",
       "        <span style=\"font-weight: bold\">{</span>\n",
       "            <span style=\"color: #008000; text-decoration-color: #008000\">'statute_category'</span>: <span style=\"color: #008000; text-decoration-color: #008000\">'ra'</span>,\n",
       "            <span style=\"color: #008000; text-decoration-color: #008000\">'statute_serial_id'</span>: <span style=\"color: #008000; text-decoration-color: #008000\">'10563'</span>,\n",
       "            <span style=\"color: #008000; text-decoration-color: #008000\">'locator'</span>: <span style=\"color: #008000; text-decoration-color: #008000\">'Section 1'</span>,\n",
       "            <span style=\"color: #008000; text-decoration-color: #008000\">'statute'</span>: <span style=\"color: #008000; text-decoration-color: #008000\">'Republic Act No. 10563'</span>,\n",
       "            <span style=\"color: #008000; text-decoration-color: #008000\">'action'</span>: <span style=\"color: #008000; text-decoration-color: #008000\">'Modified'</span>,\n",
       "            <span style=\"color: #008000; text-decoration-color: #008000\">'statute_id'</span>: <span style=\"color: #008000; text-decoration-color: #008000\">'ra-10563-may-15-2013'</span>,\n",
       "            <span style=\"color: #008000; text-decoration-color: #008000\">'statute_mp'</span>: <span style=\"color: #008000; text-decoration-color: #008000\">'1.1.'</span>\n",
       "        <span style=\"font-weight: bold\">}</span>,\n",
       "        <span style=\"font-weight: bold\">{</span>\n",
       "            <span style=\"color: #008000; text-decoration-color: #008000\">'statute_category'</span>: <span style=\"color: #008000; text-decoration-color: #008000\">'ra'</span>,\n",
       "            <span style=\"color: #008000; text-decoration-color: #008000\">'statute_serial_id'</span>: <span style=\"color: #008000; text-decoration-color: #008000\">'10564'</span>,\n",
       "            <span style=\"color: #008000; text-decoration-color: #008000\">'locator'</span>: <span style=\"color: #008000; text-decoration-color: #008000\">'Section 1'</span>,\n",
       "            <span style=\"color: #008000; text-decoration-color: #008000\">'statute'</span>: <span style=\"color: #008000; text-decoration-color: #008000\">'Republic Act No. 10564'</span>,\n",
       "            <span style=\"color: #008000; text-decoration-color: #008000\">'action'</span>: <span style=\"color: #008000; text-decoration-color: #008000\">'Modified'</span>,\n",
       "            <span style=\"color: #008000; text-decoration-color: #008000\">'statute_id'</span>: <span style=\"color: #008000; text-decoration-color: #008000\">'ra-10564-may-15-2013'</span>,\n",
       "            <span style=\"color: #008000; text-decoration-color: #008000\">'statute_mp'</span>: <span style=\"color: #008000; text-decoration-color: #008000\">'1.1.'</span>\n",
       "        <span style=\"font-weight: bold\">}</span>,\n",
       "        <span style=\"font-weight: bold\">{</span>\n",
       "            <span style=\"color: #008000; text-decoration-color: #008000\">'statute_category'</span>: <span style=\"color: #008000; text-decoration-color: #008000\">'ra'</span>,\n",
       "            <span style=\"color: #008000; text-decoration-color: #008000\">'statute_serial_id'</span>: <span style=\"color: #008000; text-decoration-color: #008000\">'10581'</span>,\n",
       "            <span style=\"color: #008000; text-decoration-color: #008000\">'locator'</span>: <span style=\"color: #008000; text-decoration-color: #008000\">'Section 1'</span>,\n",
       "            <span style=\"color: #008000; text-decoration-color: #008000\">'statute'</span>: <span style=\"color: #008000; text-decoration-color: #008000\">'Republic Act No. 10581'</span>,\n",
       "            <span style=\"color: #008000; text-decoration-color: #008000\">'action'</span>: <span style=\"color: #008000; text-decoration-color: #008000\">'Modified'</span>,\n",
       "            <span style=\"color: #008000; text-decoration-color: #008000\">'statute_id'</span>: <span style=\"color: #008000; text-decoration-color: #008000\">'ra-10581-may-24-2013'</span>,\n",
       "            <span style=\"color: #008000; text-decoration-color: #008000\">'statute_mp'</span>: <span style=\"color: #008000; text-decoration-color: #008000\">'1.1.'</span>\n",
       "        <span style=\"font-weight: bold\">}</span>,\n",
       "        <span style=\"font-weight: bold\">{</span>\n",
       "            <span style=\"color: #008000; text-decoration-color: #008000\">'statute_category'</span>: <span style=\"color: #008000; text-decoration-color: #008000\">'ra'</span>,\n",
       "            <span style=\"color: #008000; text-decoration-color: #008000\">'statute_serial_id'</span>: <span style=\"color: #008000; text-decoration-color: #008000\">'10582'</span>,\n",
       "            <span style=\"color: #008000; text-decoration-color: #008000\">'locator'</span>: <span style=\"color: #008000; text-decoration-color: #008000\">'Section 1'</span>,\n",
       "            <span style=\"color: #008000; text-decoration-color: #008000\">'statute'</span>: <span style=\"color: #008000; text-decoration-color: #008000\">'Republic Act No. 10582'</span>,\n",
       "            <span style=\"color: #008000; text-decoration-color: #008000\">'action'</span>: <span style=\"color: #008000; text-decoration-color: #008000\">'Modified'</span>,\n",
       "            <span style=\"color: #008000; text-decoration-color: #008000\">'statute_id'</span>: <span style=\"color: #008000; text-decoration-color: #008000\">'ra-10582-may-24-2013'</span>,\n",
       "            <span style=\"color: #008000; text-decoration-color: #008000\">'statute_mp'</span>: <span style=\"color: #008000; text-decoration-color: #008000\">'1.1.'</span>\n",
       "        <span style=\"font-weight: bold\">}</span>,\n",
       "        <span style=\"font-weight: bold\">{</span>\n",
       "            <span style=\"color: #008000; text-decoration-color: #008000\">'statute_category'</span>: <span style=\"color: #008000; text-decoration-color: #008000\">'ra'</span>,\n",
       "            <span style=\"color: #008000; text-decoration-color: #008000\">'statute_serial_id'</span>: <span style=\"color: #008000; text-decoration-color: #008000\">'10695'</span>,\n",
       "            <span style=\"color: #008000; text-decoration-color: #008000\">'locator'</span>: <span style=\"color: #008000; text-decoration-color: #008000\">'Section 1'</span>,\n",
       "            <span style=\"color: #008000; text-decoration-color: #008000\">'statute'</span>: <span style=\"color: #008000; text-decoration-color: #008000\">'Republic Act No. 10695'</span>,\n",
       "            <span style=\"color: #008000; text-decoration-color: #008000\">'action'</span>: <span style=\"color: #008000; text-decoration-color: #008000\">'Modified'</span>,\n",
       "            <span style=\"color: #008000; text-decoration-color: #008000\">'statute_id'</span>: <span style=\"color: #008000; text-decoration-color: #008000\">'ra-10695-november-11-2015'</span>,\n",
       "            <span style=\"color: #008000; text-decoration-color: #008000\">'statute_mp'</span>: <span style=\"color: #008000; text-decoration-color: #008000\">'1.1.'</span>\n",
       "        <span style=\"font-weight: bold\">}</span>,\n",
       "        <span style=\"font-weight: bold\">{</span>\n",
       "            <span style=\"color: #008000; text-decoration-color: #008000\">'statute_category'</span>: <span style=\"color: #008000; text-decoration-color: #008000\">'ra'</span>,\n",
       "            <span style=\"color: #008000; text-decoration-color: #008000\">'statute_serial_id'</span>: <span style=\"color: #008000; text-decoration-color: #008000\">'10700'</span>,\n",
       "            <span style=\"color: #008000; text-decoration-color: #008000\">'locator'</span>: <span style=\"color: #008000; text-decoration-color: #008000\">'Section 1'</span>,\n",
       "            <span style=\"color: #008000; text-decoration-color: #008000\">'statute'</span>: <span style=\"color: #008000; text-decoration-color: #008000\">'Republic Act No. 10700'</span>,\n",
       "            <span style=\"color: #008000; text-decoration-color: #008000\">'action'</span>: <span style=\"color: #008000; text-decoration-color: #008000\">'Modified'</span>,\n",
       "            <span style=\"color: #008000; text-decoration-color: #008000\">'statute_id'</span>: <span style=\"color: #008000; text-decoration-color: #008000\">'ra-10700-november-20-2015'</span>,\n",
       "            <span style=\"color: #008000; text-decoration-color: #008000\">'statute_mp'</span>: <span style=\"color: #008000; text-decoration-color: #008000\">'1.1.'</span>\n",
       "        <span style=\"font-weight: bold\">}</span>,\n",
       "        <span style=\"font-weight: bold\">{</span>\n",
       "            <span style=\"color: #008000; text-decoration-color: #008000\">'statute_category'</span>: <span style=\"color: #008000; text-decoration-color: #008000\">'ra'</span>,\n",
       "            <span style=\"color: #008000; text-decoration-color: #008000\">'statute_serial_id'</span>: <span style=\"color: #008000; text-decoration-color: #008000\">'10702'</span>,\n",
       "            <span style=\"color: #008000; text-decoration-color: #008000\">'locator'</span>: <span style=\"color: #008000; text-decoration-color: #008000\">'Section 1'</span>,\n",
       "            <span style=\"color: #008000; text-decoration-color: #008000\">'statute'</span>: <span style=\"color: #008000; text-decoration-color: #008000\">'Republic Act No. 10702'</span>,\n",
       "            <span style=\"color: #008000; text-decoration-color: #008000\">'action'</span>: <span style=\"color: #008000; text-decoration-color: #008000\">'Modified'</span>,\n",
       "            <span style=\"color: #008000; text-decoration-color: #008000\">'statute_id'</span>: <span style=\"color: #008000; text-decoration-color: #008000\">'ra-10702-november-20-2015'</span>,\n",
       "            <span style=\"color: #008000; text-decoration-color: #008000\">'statute_mp'</span>: <span style=\"color: #008000; text-decoration-color: #008000\">'1.1.'</span>\n",
       "        <span style=\"font-weight: bold\">}</span>,\n",
       "        <span style=\"font-weight: bold\">{</span>\n",
       "            <span style=\"color: #008000; text-decoration-color: #008000\">'statute_category'</span>: <span style=\"color: #008000; text-decoration-color: #008000\">'ra'</span>,\n",
       "            <span style=\"color: #008000; text-decoration-color: #008000\">'statute_serial_id'</span>: <span style=\"color: #008000; text-decoration-color: #008000\">'10739'</span>,\n",
       "            <span style=\"color: #008000; text-decoration-color: #008000\">'locator'</span>: <span style=\"color: #008000; text-decoration-color: #008000\">'Section 1'</span>,\n",
       "            <span style=\"color: #008000; text-decoration-color: #008000\">'statute'</span>: <span style=\"color: #008000; text-decoration-color: #008000\">'Republic Act No. 10739'</span>,\n",
       "            <span style=\"color: #008000; text-decoration-color: #008000\">'action'</span>: <span style=\"color: #008000; text-decoration-color: #008000\">'Modified'</span>,\n",
       "            <span style=\"color: #008000; text-decoration-color: #008000\">'statute_id'</span>: <span style=\"color: #008000; text-decoration-color: #008000\">'ra-10739-december-29-2015'</span>,\n",
       "            <span style=\"color: #008000; text-decoration-color: #008000\">'statute_mp'</span>: <span style=\"color: #008000; text-decoration-color: #008000\">'1.1.'</span>\n",
       "        <span style=\"font-weight: bold\">}</span>,\n",
       "        <span style=\"font-weight: bold\">{</span>\n",
       "            <span style=\"color: #008000; text-decoration-color: #008000\">'statute_category'</span>: <span style=\"color: #008000; text-decoration-color: #008000\">'ra'</span>,\n",
       "            <span style=\"color: #008000; text-decoration-color: #008000\">'statute_serial_id'</span>: <span style=\"color: #008000; text-decoration-color: #008000\">'11349'</span>,\n",
       "            <span style=\"color: #008000; text-decoration-color: #008000\">'locator'</span>: <span style=\"color: #008000; text-decoration-color: #008000\">'Section 1'</span>,\n",
       "            <span style=\"color: #008000; text-decoration-color: #008000\">'statute'</span>: <span style=\"color: #008000; text-decoration-color: #008000\">'Republic Act No. 11349'</span>,\n",
       "            <span style=\"color: #008000; text-decoration-color: #008000\">'action'</span>: <span style=\"color: #008000; text-decoration-color: #008000\">'Modified'</span>,\n",
       "            <span style=\"color: #008000; text-decoration-color: #008000\">'statute_id'</span>: <span style=\"color: #008000; text-decoration-color: #008000\">'ra-11349-july-25-2019'</span>,\n",
       "            <span style=\"color: #008000; text-decoration-color: #008000\">'statute_mp'</span>: <span style=\"color: #008000; text-decoration-color: #008000\">'1.1.'</span>\n",
       "        <span style=\"font-weight: bold\">}</span>\n",
       "    <span style=\"font-weight: bold\">]</span>,\n",
       "    <span style=\"font-weight: bold\">[</span>\n",
       "        <span style=\"font-weight: bold\">{</span>\n",
       "            <span style=\"color: #008000; text-decoration-color: #008000\">'statute_category'</span>: <span style=\"color: #008000; text-decoration-color: #008000\">'bp'</span>,\n",
       "            <span style=\"color: #008000; text-decoration-color: #008000\">'statute_serial_id'</span>: <span style=\"color: #008000; text-decoration-color: #008000\">'129'</span>,\n",
       "            <span style=\"color: #008000; text-decoration-color: #008000\">'locator'</span>: <span style=\"color: #008000; text-decoration-color: #008000\">'b'</span>,\n",
       "            <span style=\"color: #008000; text-decoration-color: #008000\">'content'</span>: <span style=\"color: #008000; text-decoration-color: #008000\">'Thirty-two Regional Trial Judges'</span>,\n",
       "            <span style=\"color: #008000; text-decoration-color: #008000\">'statute'</span>: <span style=\"color: #008000; text-decoration-color: #008000\">'Batas Pambansa Blg. 129'</span>,\n",
       "            <span style=\"color: #008000; text-decoration-color: #008000\">'action'</span>: <span style=\"color: #008000; text-decoration-color: #008000\">'Originated'</span>\n",
       "        <span style=\"font-weight: bold\">}</span>,\n",
       "        <span style=\"font-weight: bold\">{</span>\n",
       "            <span style=\"color: #008000; text-decoration-color: #008000\">'statute_category'</span>: <span style=\"color: #008000; text-decoration-color: #008000\">'ra'</span>,\n",
       "            <span style=\"color: #008000; text-decoration-color: #008000\">'statute_serial_id'</span>: <span style=\"color: #008000; text-decoration-color: #008000\">'7154'</span>,\n",
       "            <span style=\"color: #008000; text-decoration-color: #008000\">'locator'</span>: <span style=\"color: #008000; text-decoration-color: #008000\">'b'</span>,\n",
       "            <span style=\"color: #008000; text-decoration-color: #008000\">'content'</span>: <span style=\"color: #008000; text-decoration-color: #008000\">'Thirty-eight Regional Trial Judges'</span>,\n",
       "            <span style=\"color: #008000; text-decoration-color: #008000\">'statute'</span>: <span style=\"color: #008000; text-decoration-color: #008000\">'Republic Act No. 7154'</span>,\n",
       "            <span style=\"color: #008000; text-decoration-color: #008000\">'action'</span>: <span style=\"color: #008000; text-decoration-color: #008000\">'Amended'</span>\n",
       "        <span style=\"font-weight: bold\">}</span>,\n",
       "        <span style=\"font-weight: bold\">{</span>\n",
       "            <span style=\"color: #008000; text-decoration-color: #008000\">'statute_category'</span>: <span style=\"color: #008000; text-decoration-color: #008000\">'ra'</span>,\n",
       "            <span style=\"color: #008000; text-decoration-color: #008000\">'statute_serial_id'</span>: <span style=\"color: #008000; text-decoration-color: #008000\">'10298'</span>,\n",
       "            <span style=\"color: #008000; text-decoration-color: #008000\">'locator'</span>: <span style=\"color: #008000; text-decoration-color: #008000\">'Section 1'</span>,\n",
       "            <span style=\"color: #008000; text-decoration-color: #008000\">'statute'</span>: <span style=\"color: #008000; text-decoration-color: #008000\">'Republic Act No. 10298'</span>,\n",
       "            <span style=\"color: #008000; text-decoration-color: #008000\">'action'</span>: <span style=\"color: #008000; text-decoration-color: #008000\">'Modified'</span>,\n",
       "            <span style=\"color: #008000; text-decoration-color: #008000\">'statute_id'</span>: <span style=\"color: #008000; text-decoration-color: #008000\">'ra-10298-november-15-2012'</span>,\n",
       "            <span style=\"color: #008000; text-decoration-color: #008000\">'statute_mp'</span>: <span style=\"color: #008000; text-decoration-color: #008000\">'1.1.'</span>\n",
       "        <span style=\"font-weight: bold\">}</span>,\n",
       "        <span style=\"font-weight: bold\">{</span>\n",
       "            <span style=\"color: #008000; text-decoration-color: #008000\">'statute_category'</span>: <span style=\"color: #008000; text-decoration-color: #008000\">'ra'</span>,\n",
       "            <span style=\"color: #008000; text-decoration-color: #008000\">'statute_serial_id'</span>: <span style=\"color: #008000; text-decoration-color: #008000\">'10538'</span>,\n",
       "            <span style=\"color: #008000; text-decoration-color: #008000\">'locator'</span>: <span style=\"color: #008000; text-decoration-color: #008000\">'Section 1'</span>,\n",
       "            <span style=\"color: #008000; text-decoration-color: #008000\">'statute'</span>: <span style=\"color: #008000; text-decoration-color: #008000\">'Republic Act No. 10538'</span>,\n",
       "            <span style=\"color: #008000; text-decoration-color: #008000\">'action'</span>: <span style=\"color: #008000; text-decoration-color: #008000\">'Modified'</span>,\n",
       "            <span style=\"color: #008000; text-decoration-color: #008000\">'statute_id'</span>: <span style=\"color: #008000; text-decoration-color: #008000\">'ra-10538-may-15-2013'</span>,\n",
       "            <span style=\"color: #008000; text-decoration-color: #008000\">'statute_mp'</span>: <span style=\"color: #008000; text-decoration-color: #008000\">'1.1.'</span>\n",
       "        <span style=\"font-weight: bold\">}</span>\n",
       "    <span style=\"font-weight: bold\">]</span>,\n",
       "    <span style=\"font-weight: bold\">[</span>\n",
       "        <span style=\"font-weight: bold\">{</span>\n",
       "            <span style=\"color: #008000; text-decoration-color: #008000\">'statute_category'</span>: <span style=\"color: #008000; text-decoration-color: #008000\">'bp'</span>,\n",
       "            <span style=\"color: #008000; text-decoration-color: #008000\">'statute_serial_id'</span>: <span style=\"color: #008000; text-decoration-color: #008000\">'129'</span>,\n",
       "            <span style=\"color: #008000; text-decoration-color: #008000\">'locator'</span>: <span style=\"color: #008000; text-decoration-color: #008000\">'a'</span>,\n",
       "            <span style=\"color: #008000; text-decoration-color: #008000\">'content'</span>: <span style=\"color: #008000; text-decoration-color: #008000\">'Fifty-seven Regional Trial Judges'</span>,\n",
       "            <span style=\"color: #008000; text-decoration-color: #008000\">'statute'</span>: <span style=\"color: #008000; text-decoration-color: #008000\">'Batas Pambansa Blg. 129'</span>,\n",
       "            <span style=\"color: #008000; text-decoration-color: #008000\">'action'</span>: <span style=\"color: #008000; text-decoration-color: #008000\">'Originated'</span>\n",
       "        <span style=\"font-weight: bold\">}</span>,\n",
       "        <span style=\"font-weight: bold\">{</span>\n",
       "            <span style=\"color: #008000; text-decoration-color: #008000\">'statute_category'</span>: <span style=\"color: #008000; text-decoration-color: #008000\">'ra'</span>,\n",
       "            <span style=\"color: #008000; text-decoration-color: #008000\">'statute_serial_id'</span>: <span style=\"color: #008000; text-decoration-color: #008000\">'7154'</span>,\n",
       "            <span style=\"color: #008000; text-decoration-color: #008000\">'locator'</span>: <span style=\"color: #008000; text-decoration-color: #008000\">'a'</span>,\n",
       "            <span style=\"color: #008000; text-decoration-color: #008000\">'content'</span>: <span style=\"color: #008000; text-decoration-color: #008000\">'Seventy Regional Trial Judges'</span>,\n",
       "            <span style=\"color: #008000; text-decoration-color: #008000\">'statute'</span>: <span style=\"color: #008000; text-decoration-color: #008000\">'Republic Act No. 7154'</span>,\n",
       "            <span style=\"color: #008000; text-decoration-color: #008000\">'action'</span>: <span style=\"color: #008000; text-decoration-color: #008000\">'Amended'</span>\n",
       "        <span style=\"font-weight: bold\">}</span>,\n",
       "        <span style=\"font-weight: bold\">{</span>\n",
       "            <span style=\"color: #008000; text-decoration-color: #008000\">'statute_category'</span>: <span style=\"color: #008000; text-decoration-color: #008000\">'ra'</span>,\n",
       "            <span style=\"color: #008000; text-decoration-color: #008000\">'statute_serial_id'</span>: <span style=\"color: #008000; text-decoration-color: #008000\">'7472'</span>,\n",
       "            <span style=\"color: #008000; text-decoration-color: #008000\">'locator'</span>: <span style=\"color: #008000; text-decoration-color: #008000\">'a'</span>,\n",
       "            <span style=\"color: #008000; text-decoration-color: #008000\">'content'</span>: <span style=\"color: #008000; text-decoration-color: #008000\">'Seventy-two Regional Trial Judges'</span>,\n",
       "            <span style=\"color: #008000; text-decoration-color: #008000\">'statute'</span>: <span style=\"color: #008000; text-decoration-color: #008000\">'Republic Act No. 7472'</span>,\n",
       "            <span style=\"color: #008000; text-decoration-color: #008000\">'action'</span>: <span style=\"color: #008000; text-decoration-color: #008000\">'Amended'</span>,\n",
       "            <span style=\"color: #008000; text-decoration-color: #008000\">'statute_id'</span>: <span style=\"color: #008000; text-decoration-color: #008000\">'ra-7472-may-05-1992'</span>,\n",
       "            <span style=\"color: #008000; text-decoration-color: #008000\">'statute_mp'</span>: <span style=\"color: #008000; text-decoration-color: #008000\">'1.1.1.'</span>\n",
       "        <span style=\"font-weight: bold\">}</span>,\n",
       "        <span style=\"font-weight: bold\">{</span>\n",
       "            <span style=\"color: #008000; text-decoration-color: #008000\">'statute_category'</span>: <span style=\"color: #008000; text-decoration-color: #008000\">'ra'</span>,\n",
       "            <span style=\"color: #008000; text-decoration-color: #008000\">'statute_serial_id'</span>: <span style=\"color: #008000; text-decoration-color: #008000\">'10567'</span>,\n",
       "            <span style=\"color: #008000; text-decoration-color: #008000\">'locator'</span>: <span style=\"color: #008000; text-decoration-color: #008000\">'Section 1'</span>,\n",
       "            <span style=\"color: #008000; text-decoration-color: #008000\">'statute'</span>: <span style=\"color: #008000; text-decoration-color: #008000\">'Republic Act No. 10567'</span>,\n",
       "            <span style=\"color: #008000; text-decoration-color: #008000\">'action'</span>: <span style=\"color: #008000; text-decoration-color: #008000\">'Modified'</span>,\n",
       "            <span style=\"color: #008000; text-decoration-color: #008000\">'statute_id'</span>: <span style=\"color: #008000; text-decoration-color: #008000\">'ra-10567-may-22-2013'</span>,\n",
       "            <span style=\"color: #008000; text-decoration-color: #008000\">'statute_mp'</span>: <span style=\"color: #008000; text-decoration-color: #008000\">'1.1.'</span>\n",
       "        <span style=\"font-weight: bold\">}</span>,\n",
       "        <span style=\"font-weight: bold\">{</span>\n",
       "            <span style=\"color: #008000; text-decoration-color: #008000\">'statute_category'</span>: <span style=\"color: #008000; text-decoration-color: #008000\">'ra'</span>,\n",
       "            <span style=\"color: #008000; text-decoration-color: #008000\">'statute_serial_id'</span>: <span style=\"color: #008000; text-decoration-color: #008000\">'10696'</span>,\n",
       "            <span style=\"color: #008000; text-decoration-color: #008000\">'locator'</span>: <span style=\"color: #008000; text-decoration-color: #008000\">'Section 1'</span>,\n",
       "            <span style=\"color: #008000; text-decoration-color: #008000\">'statute'</span>: <span style=\"color: #008000; text-decoration-color: #008000\">'Republic Act No. 10696'</span>,\n",
       "            <span style=\"color: #008000; text-decoration-color: #008000\">'action'</span>: <span style=\"color: #008000; text-decoration-color: #008000\">'Modified'</span>\n",
       "        <span style=\"font-weight: bold\">}</span>,\n",
       "        <span style=\"font-weight: bold\">{</span>\n",
       "            <span style=\"color: #008000; text-decoration-color: #008000\">'statute_category'</span>: <span style=\"color: #008000; text-decoration-color: #008000\">'ra'</span>,\n",
       "            <span style=\"color: #008000; text-decoration-color: #008000\">'statute_serial_id'</span>: <span style=\"color: #008000; text-decoration-color: #008000\">'10710'</span>,\n",
       "            <span style=\"color: #008000; text-decoration-color: #008000\">'locator'</span>: <span style=\"color: #008000; text-decoration-color: #008000\">'Section 1'</span>,\n",
       "            <span style=\"color: #008000; text-decoration-color: #008000\">'statute'</span>: <span style=\"color: #008000; text-decoration-color: #008000\">'Republic Act No. 10710'</span>,\n",
       "            <span style=\"color: #008000; text-decoration-color: #008000\">'action'</span>: <span style=\"color: #008000; text-decoration-color: #008000\">'Modified'</span>,\n",
       "            <span style=\"color: #008000; text-decoration-color: #008000\">'statute_id'</span>: <span style=\"color: #008000; text-decoration-color: #008000\">'ra-10710-december-09-2015'</span>,\n",
       "            <span style=\"color: #008000; text-decoration-color: #008000\">'statute_mp'</span>: <span style=\"color: #008000; text-decoration-color: #008000\">'1.1.'</span>\n",
       "        <span style=\"font-weight: bold\">}</span>,\n",
       "        <span style=\"font-weight: bold\">{</span>\n",
       "            <span style=\"color: #008000; text-decoration-color: #008000\">'statute_category'</span>: <span style=\"color: #008000; text-decoration-color: #008000\">'ra'</span>,\n",
       "            <span style=\"color: #008000; text-decoration-color: #008000\">'statute_serial_id'</span>: <span style=\"color: #008000; text-decoration-color: #008000\">'10714'</span>,\n",
       "            <span style=\"color: #008000; text-decoration-color: #008000\">'locator'</span>: <span style=\"color: #008000; text-decoration-color: #008000\">'Section 1'</span>,\n",
       "            <span style=\"color: #008000; text-decoration-color: #008000\">'statute'</span>: <span style=\"color: #008000; text-decoration-color: #008000\">'Republic Act No. 10714'</span>,\n",
       "            <span style=\"color: #008000; text-decoration-color: #008000\">'action'</span>: <span style=\"color: #008000; text-decoration-color: #008000\">'Modified'</span>,\n",
       "            <span style=\"color: #008000; text-decoration-color: #008000\">'statute_id'</span>: <span style=\"color: #008000; text-decoration-color: #008000\">'ra-10714-december-09-2015'</span>,\n",
       "            <span style=\"color: #008000; text-decoration-color: #008000\">'statute_mp'</span>: <span style=\"color: #008000; text-decoration-color: #008000\">'1.1.'</span>\n",
       "        <span style=\"font-weight: bold\">}</span>,\n",
       "        <span style=\"font-weight: bold\">{</span>\n",
       "            <span style=\"color: #008000; text-decoration-color: #008000\">'statute_category'</span>: <span style=\"color: #008000; text-decoration-color: #008000\">'ra'</span>,\n",
       "            <span style=\"color: #008000; text-decoration-color: #008000\">'statute_serial_id'</span>: <span style=\"color: #008000; text-decoration-color: #008000\">'11381'</span>,\n",
       "            <span style=\"color: #008000; text-decoration-color: #008000\">'locator'</span>: <span style=\"color: #008000; text-decoration-color: #008000\">'Section 1'</span>,\n",
       "            <span style=\"color: #008000; text-decoration-color: #008000\">'statute'</span>: <span style=\"color: #008000; text-decoration-color: #008000\">'Republic Act No. 11381'</span>,\n",
       "            <span style=\"color: #008000; text-decoration-color: #008000\">'action'</span>: <span style=\"color: #008000; text-decoration-color: #008000\">'Modified'</span>,\n",
       "            <span style=\"color: #008000; text-decoration-color: #008000\">'statute_id'</span>: <span style=\"color: #008000; text-decoration-color: #008000\">'ra-11381-august-22-2019'</span>,\n",
       "            <span style=\"color: #008000; text-decoration-color: #008000\">'statute_mp'</span>: <span style=\"color: #008000; text-decoration-color: #008000\">'1.1.'</span>\n",
       "        <span style=\"font-weight: bold\">}</span>,\n",
       "        <span style=\"font-weight: bold\">{</span>\n",
       "            <span style=\"color: #008000; text-decoration-color: #008000\">'statute_category'</span>: <span style=\"color: #008000; text-decoration-color: #008000\">'ra'</span>,\n",
       "            <span style=\"color: #008000; text-decoration-color: #008000\">'statute_serial_id'</span>: <span style=\"color: #008000; text-decoration-color: #008000\">'11384'</span>,\n",
       "            <span style=\"color: #008000; text-decoration-color: #008000\">'locator'</span>: <span style=\"color: #008000; text-decoration-color: #008000\">'Section 1'</span>,\n",
       "            <span style=\"color: #008000; text-decoration-color: #008000\">'statute'</span>: <span style=\"color: #008000; text-decoration-color: #008000\">'Republic Act No. 11384'</span>,\n",
       "            <span style=\"color: #008000; text-decoration-color: #008000\">'action'</span>: <span style=\"color: #008000; text-decoration-color: #008000\">'Modified'</span>,\n",
       "            <span style=\"color: #008000; text-decoration-color: #008000\">'statute_id'</span>: <span style=\"color: #008000; text-decoration-color: #008000\">'ra-11384-august-22-2019'</span>,\n",
       "            <span style=\"color: #008000; text-decoration-color: #008000\">'statute_mp'</span>: <span style=\"color: #008000; text-decoration-color: #008000\">'1.1.'</span>\n",
       "        <span style=\"font-weight: bold\">}</span>\n",
       "    <span style=\"font-weight: bold\">]</span>,\n",
       "    <span style=\"font-weight: bold\">[</span>\n",
       "        <span style=\"font-weight: bold\">{</span>\n",
       "            <span style=\"color: #008000; text-decoration-color: #008000\">'statute_category'</span>: <span style=\"color: #008000; text-decoration-color: #008000\">'bp'</span>,\n",
       "            <span style=\"color: #008000; text-decoration-color: #008000\">'statute_serial_id'</span>: <span style=\"color: #008000; text-decoration-color: #008000\">'129'</span>,\n",
       "            <span style=\"color: #008000; text-decoration-color: #008000\">'locator'</span>: <span style=\"color: #008000; text-decoration-color: #008000\">'Chapter I'</span>,\n",
       "            <span style=\"color: #008000; text-decoration-color: #008000\">'caption'</span>: <span style=\"color: #008000; text-decoration-color: #008000\">'Intermediate Appellate Court'</span>,\n",
       "            <span style=\"color: #008000; text-decoration-color: #008000\">'statute'</span>: <span style=\"color: #008000; text-decoration-color: #008000\">'Batas Pambansa Blg. 129'</span>,\n",
       "            <span style=\"color: #008000; text-decoration-color: #008000\">'action'</span>: <span style=\"color: #008000; text-decoration-color: #008000\">'Originated'</span>\n",
       "        <span style=\"font-weight: bold\">}</span>,\n",
       "        <span style=\"font-weight: bold\">{</span>\n",
       "            <span style=\"color: #008000; text-decoration-color: #008000\">'statute_category'</span>: <span style=\"color: #008000; text-decoration-color: #008000\">'eo'</span>,\n",
       "            <span style=\"color: #008000; text-decoration-color: #008000\">'statute_serial_id'</span>: <span style=\"color: #008000; text-decoration-color: #008000\">'33'</span>,\n",
       "            <span style=\"color: #008000; text-decoration-color: #008000\">'locator'</span>: <span style=\"color: #008000; text-decoration-color: #008000\">'Section 1'</span>,\n",
       "            <span style=\"color: #008000; text-decoration-color: #008000\">'content'</span>: <span style=\"color: #008000; text-decoration-color: #008000\">'The title of Chapter I'</span>,\n",
       "            <span style=\"color: #008000; text-decoration-color: #008000\">'statute'</span>: <span style=\"color: #008000; text-decoration-color: #008000\">'Executive Order No. 33'</span>,\n",
       "            <span style=\"color: #008000; text-decoration-color: #008000\">'date'</span>: <span style=\"color: #008000; text-decoration-color: #008000\">'1986-07-28'</span>,\n",
       "            <span style=\"color: #008000; text-decoration-color: #008000\">'action'</span>: <span style=\"color: #008000; text-decoration-color: #008000\">'Amended'</span>\n",
       "        <span style=\"font-weight: bold\">}</span>\n",
       "    <span style=\"font-weight: bold\">]</span>,\n",
       "    <span style=\"font-weight: bold\">[</span>\n",
       "        <span style=\"font-weight: bold\">{</span>\n",
       "            <span style=\"color: #008000; text-decoration-color: #008000\">'statute_category'</span>: <span style=\"color: #008000; text-decoration-color: #008000\">'bp'</span>,\n",
       "            <span style=\"color: #008000; text-decoration-color: #008000\">'statute_serial_id'</span>: <span style=\"color: #008000; text-decoration-color: #008000\">'129'</span>,\n",
       "            <span style=\"color: #008000; text-decoration-color: #008000\">'locator'</span>: <span style=\"color: #008000; text-decoration-color: #008000\">'Section 9'</span>,\n",
       "            <span style=\"color: #008000; text-decoration-color: #008000\">'caption'</span>: <span style=\"color: #008000; text-decoration-color: #008000\">'Quorum.'</span>,\n",
       "            <span style=\"color: #008000; text-decoration-color: #008000\">'statute'</span>: <span style=\"color: #008000; text-decoration-color: #008000\">'Batas Pambansa Blg. 129'</span>,\n",
       "            <span style=\"color: #008000; text-decoration-color: #008000\">'action'</span>: <span style=\"color: #008000; text-decoration-color: #008000\">'Originated'</span>\n",
       "        <span style=\"font-weight: bold\">}</span>,\n",
       "        <span style=\"font-weight: bold\">{</span>\n",
       "            <span style=\"color: #008000; text-decoration-color: #008000\">'statute_category'</span>: <span style=\"color: #008000; text-decoration-color: #008000\">'eo'</span>,\n",
       "            <span style=\"color: #008000; text-decoration-color: #008000\">'statute_serial_id'</span>: <span style=\"color: #008000; text-decoration-color: #008000\">'33'</span>,\n",
       "            <span style=\"color: #008000; text-decoration-color: #008000\">'locator'</span>: <span style=\"color: #008000; text-decoration-color: #008000\">'Section 11'</span>,\n",
       "            <span style=\"color: #008000; text-decoration-color: #008000\">'caption'</span>: <span style=\"color: #008000; text-decoration-color: #008000\">'Quorum.'</span>,\n",
       "            <span style=\"color: #008000; text-decoration-color: #008000\">'statute'</span>: <span style=\"color: #008000; text-decoration-color: #008000\">'Executive Order No. 33'</span>,\n",
       "            <span style=\"color: #008000; text-decoration-color: #008000\">'date'</span>: <span style=\"color: #008000; text-decoration-color: #008000\">'1986-07-28'</span>,\n",
       "            <span style=\"color: #008000; text-decoration-color: #008000\">'action'</span>: <span style=\"color: #008000; text-decoration-color: #008000\">'Amended'</span>\n",
       "        <span style=\"font-weight: bold\">}</span>\n",
       "    <span style=\"font-weight: bold\">]</span>,\n",
       "    <span style=\"font-weight: bold\">[</span>\n",
       "        <span style=\"font-weight: bold\">{</span>\n",
       "            <span style=\"color: #008000; text-decoration-color: #008000\">'statute_category'</span>: <span style=\"color: #008000; text-decoration-color: #008000\">'bp'</span>,\n",
       "            <span style=\"color: #008000; text-decoration-color: #008000\">'statute_serial_id'</span>: <span style=\"color: #008000; text-decoration-color: #008000\">'129'</span>,\n",
       "            <span style=\"color: #008000; text-decoration-color: #008000\">'locator'</span>: <span style=\"color: #008000; text-decoration-color: #008000\">'Section 9'</span>,\n",
       "            <span style=\"color: #008000; text-decoration-color: #008000\">'caption'</span>: <span style=\"color: #008000; text-decoration-color: #008000\">'Jurisdiction.'</span>,\n",
       "            <span style=\"color: #008000; text-decoration-color: #008000\">'statute'</span>: <span style=\"color: #008000; text-decoration-color: #008000\">'Batas Pambansa Blg. 129'</span>,\n",
       "            <span style=\"color: #008000; text-decoration-color: #008000\">'action'</span>: <span style=\"color: #008000; text-decoration-color: #008000\">'Originated'</span>\n",
       "        <span style=\"font-weight: bold\">}</span>,\n",
       "        <span style=\"font-weight: bold\">{</span>\n",
       "            <span style=\"color: #008000; text-decoration-color: #008000\">'statute_category'</span>: <span style=\"color: #008000; text-decoration-color: #008000\">'eo'</span>,\n",
       "            <span style=\"color: #008000; text-decoration-color: #008000\">'statute_serial_id'</span>: <span style=\"color: #008000; text-decoration-color: #008000\">'33'</span>,\n",
       "            <span style=\"color: #008000; text-decoration-color: #008000\">'locator'</span>: <span style=\"color: #008000; text-decoration-color: #008000\">'Paragraph 2'</span>,\n",
       "            <span style=\"color: #008000; text-decoration-color: #008000\">'content'</span>: <span style=\"color: #008000; text-decoration-color: #008000\">'The Court of Appeals shall have the power to receive evidence'</span>,\n",
       "            <span style=\"color: #008000; text-decoration-color: #008000\">'statute'</span>: <span style=\"color: #008000; text-decoration-color: #008000\">'Executive Order No. 33'</span>,\n",
       "            <span style=\"color: #008000; text-decoration-color: #008000\">'date'</span>: <span style=\"color: #008000; text-decoration-color: #008000\">'1986-07-28'</span>,\n",
       "            <span style=\"color: #008000; text-decoration-color: #008000\">'action'</span>: <span style=\"color: #008000; text-decoration-color: #008000\">'Amended'</span>\n",
       "        <span style=\"font-weight: bold\">}</span>,\n",
       "        <span style=\"font-weight: bold\">{</span>\n",
       "            <span style=\"color: #008000; text-decoration-color: #008000\">'statute_category'</span>: <span style=\"color: #008000; text-decoration-color: #008000\">'ra'</span>,\n",
       "            <span style=\"color: #008000; text-decoration-color: #008000\">'statute_serial_id'</span>: <span style=\"color: #008000; text-decoration-color: #008000\">'7902'</span>,\n",
       "            <span style=\"color: #008000; text-decoration-color: #008000\">'locator'</span>: <span style=\"color: #008000; text-decoration-color: #008000\">'Section 9'</span>,\n",
       "            <span style=\"color: #008000; text-decoration-color: #008000\">'caption'</span>: <span style=\"color: #008000; text-decoration-color: #008000\">'Jurisdiction.'</span>,\n",
       "            <span style=\"color: #008000; text-decoration-color: #008000\">'statute'</span>: <span style=\"color: #008000; text-decoration-color: #008000\">'Republic Act No. 7902'</span>,\n",
       "            <span style=\"color: #008000; text-decoration-color: #008000\">'action'</span>: <span style=\"color: #008000; text-decoration-color: #008000\">'Amended'</span>,\n",
       "            <span style=\"color: #008000; text-decoration-color: #008000\">'statute_id'</span>: <span style=\"color: #008000; text-decoration-color: #008000\">'ra-7902-february-23-1995'</span>,\n",
       "            <span style=\"color: #008000; text-decoration-color: #008000\">'statute_mp'</span>: <span style=\"color: #008000; text-decoration-color: #008000\">'1.1.1.'</span>\n",
       "        <span style=\"font-weight: bold\">}</span>\n",
       "    <span style=\"font-weight: bold\">]</span>,\n",
       "    <span style=\"font-weight: bold\">[</span>\n",
       "        <span style=\"font-weight: bold\">{</span>\n",
       "            <span style=\"color: #008000; text-decoration-color: #008000\">'statute_category'</span>: <span style=\"color: #008000; text-decoration-color: #008000\">'bp'</span>,\n",
       "            <span style=\"color: #008000; text-decoration-color: #008000\">'statute_serial_id'</span>: <span style=\"color: #008000; text-decoration-color: #008000\">'129'</span>,\n",
       "            <span style=\"color: #008000; text-decoration-color: #008000\">'locator'</span>: <span style=\"color: #008000; text-decoration-color: #008000\">'Section 8'</span>,\n",
       "            <span style=\"color: #008000; text-decoration-color: #008000\">'caption'</span>: <span style=\"color: #008000; text-decoration-color: #008000\">'Grouping of Divisions.'</span>,\n",
       "            <span style=\"color: #008000; text-decoration-color: #008000\">'statute'</span>: <span style=\"color: #008000; text-decoration-color: #008000\">'Batas Pambansa Blg. 129'</span>,\n",
       "            <span style=\"color: #008000; text-decoration-color: #008000\">'action'</span>: <span style=\"color: #008000; text-decoration-color: #008000\">'Originated'</span>\n",
       "        <span style=\"font-weight: bold\">}</span>,\n",
       "        <span style=\"font-weight: bold\">{</span>\n",
       "            <span style=\"color: #008000; text-decoration-color: #008000\">'statute_category'</span>: <span style=\"color: #008000; text-decoration-color: #008000\">'eo'</span>,\n",
       "            <span style=\"color: #008000; text-decoration-color: #008000\">'statute_serial_id'</span>: <span style=\"color: #008000; text-decoration-color: #008000\">'33'</span>,\n",
       "            <span style=\"color: #008000; text-decoration-color: #008000\">'locator'</span>: <span style=\"color: #008000; text-decoration-color: #008000\">'Section 4'</span>,\n",
       "            <span style=\"color: #008000; text-decoration-color: #008000\">'content'</span>: <span style=\"color: #008000; text-decoration-color: #008000\">'Section 8 of the same Act is hereby repealed.'</span>,\n",
       "            <span style=\"color: #008000; text-decoration-color: #008000\">'statute'</span>: <span style=\"color: #008000; text-decoration-color: #008000\">'Executive Order No. 33'</span>,\n",
       "            <span style=\"color: #008000; text-decoration-color: #008000\">'date'</span>: <span style=\"color: #008000; text-decoration-color: #008000\">'1986-07-28'</span>,\n",
       "            <span style=\"color: #008000; text-decoration-color: #008000\">'action'</span>: <span style=\"color: #008000; text-decoration-color: #008000\">'Repealed'</span>\n",
       "        <span style=\"font-weight: bold\">}</span>\n",
       "    <span style=\"font-weight: bold\">]</span>,\n",
       "    <span style=\"font-weight: bold\">[</span>\n",
       "        <span style=\"font-weight: bold\">{</span>\n",
       "            <span style=\"color: #008000; text-decoration-color: #008000\">'statute_category'</span>: <span style=\"color: #008000; text-decoration-color: #008000\">'bp'</span>,\n",
       "            <span style=\"color: #008000; text-decoration-color: #008000\">'statute_serial_id'</span>: <span style=\"color: #008000; text-decoration-color: #008000\">'129'</span>,\n",
       "            <span style=\"color: #008000; text-decoration-color: #008000\">'locator'</span>: <span style=\"color: #008000; text-decoration-color: #008000\">'Section 4'</span>,\n",
       "            <span style=\"color: #008000; text-decoration-color: #008000\">'caption'</span>: <span style=\"color: #008000; text-decoration-color: #008000\">'Exercise of Powers and Functions.'</span>,\n",
       "            <span style=\"color: #008000; text-decoration-color: #008000\">'statute'</span>: <span style=\"color: #008000; text-decoration-color: #008000\">'Batas Pambansa Blg. 129'</span>,\n",
       "            <span style=\"color: #008000; text-decoration-color: #008000\">'action'</span>: <span style=\"color: #008000; text-decoration-color: #008000\">'Originated'</span>\n",
       "        <span style=\"font-weight: bold\">}</span>,\n",
       "        <span style=\"font-weight: bold\">{</span>\n",
       "            <span style=\"color: #008000; text-decoration-color: #008000\">'statute_category'</span>: <span style=\"color: #008000; text-decoration-color: #008000\">'eo'</span>,\n",
       "            <span style=\"color: #008000; text-decoration-color: #008000\">'statute_serial_id'</span>: <span style=\"color: #008000; text-decoration-color: #008000\">'33'</span>,\n",
       "            <span style=\"color: #008000; text-decoration-color: #008000\">'locator'</span>: <span style=\"color: #008000; text-decoration-color: #008000\">'Section 4'</span>,\n",
       "            <span style=\"color: #008000; text-decoration-color: #008000\">'caption'</span>: <span style=\"color: #008000; text-decoration-color: #008000\">'Exercise of powers and functions.'</span>,\n",
       "            <span style=\"color: #008000; text-decoration-color: #008000\">'statute'</span>: <span style=\"color: #008000; text-decoration-color: #008000\">'Executive Order No. 33'</span>,\n",
       "            <span style=\"color: #008000; text-decoration-color: #008000\">'date'</span>: <span style=\"color: #008000; text-decoration-color: #008000\">'1986-07-28'</span>,\n",
       "            <span style=\"color: #008000; text-decoration-color: #008000\">'action'</span>: <span style=\"color: #008000; text-decoration-color: #008000\">'Amended'</span>\n",
       "        <span style=\"font-weight: bold\">}</span>,\n",
       "        <span style=\"font-weight: bold\">{</span>\n",
       "            <span style=\"color: #008000; text-decoration-color: #008000\">'statute_category'</span>: <span style=\"color: #008000; text-decoration-color: #008000\">'ra'</span>,\n",
       "            <span style=\"color: #008000; text-decoration-color: #008000\">'statute_serial_id'</span>: <span style=\"color: #008000; text-decoration-color: #008000\">'8246'</span>,\n",
       "            <span style=\"color: #008000; text-decoration-color: #008000\">'locator'</span>: <span style=\"color: #008000; text-decoration-color: #008000\">'Section 4'</span>,\n",
       "            <span style=\"color: #008000; text-decoration-color: #008000\">'caption'</span>: <span style=\"color: #008000; text-decoration-color: #008000\">'Exercise of Powers and Functions.'</span>,\n",
       "            <span style=\"color: #008000; text-decoration-color: #008000\">'statute'</span>: <span style=\"color: #008000; text-decoration-color: #008000\">'Republic Act No. 8246'</span>,\n",
       "            <span style=\"color: #008000; text-decoration-color: #008000\">'action'</span>: <span style=\"color: #008000; text-decoration-color: #008000\">'Originated'</span>\n",
       "        <span style=\"font-weight: bold\">}</span>\n",
       "    <span style=\"font-weight: bold\">]</span>,\n",
       "    <span style=\"font-weight: bold\">[</span>\n",
       "        <span style=\"font-weight: bold\">{</span>\n",
       "            <span style=\"color: #008000; text-decoration-color: #008000\">'statute_category'</span>: <span style=\"color: #008000; text-decoration-color: #008000\">'bp'</span>,\n",
       "            <span style=\"color: #008000; text-decoration-color: #008000\">'statute_serial_id'</span>: <span style=\"color: #008000; text-decoration-color: #008000\">'129'</span>,\n",
       "            <span style=\"color: #008000; text-decoration-color: #008000\">'locator'</span>: <span style=\"color: #008000; text-decoration-color: #008000\">'Section 3'</span>,\n",
       "            <span style=\"color: #008000; text-decoration-color: #008000\">'caption'</span>: <span style=\"color: #008000; text-decoration-color: #008000\">'Organization.'</span>,\n",
       "            <span style=\"color: #008000; text-decoration-color: #008000\">'statute'</span>: <span style=\"color: #008000; text-decoration-color: #008000\">'Batas Pambansa Blg. 129'</span>,\n",
       "            <span style=\"color: #008000; text-decoration-color: #008000\">'action'</span>: <span style=\"color: #008000; text-decoration-color: #008000\">'Originated'</span>\n",
       "        <span style=\"font-weight: bold\">}</span>,\n",
       "        <span style=\"font-weight: bold\">{</span>\n",
       "            <span style=\"color: #008000; text-decoration-color: #008000\">'statute_category'</span>: <span style=\"color: #008000; text-decoration-color: #008000\">'eo'</span>,\n",
       "            <span style=\"color: #008000; text-decoration-color: #008000\">'statute_serial_id'</span>: <span style=\"color: #008000; text-decoration-color: #008000\">'33'</span>,\n",
       "            <span style=\"color: #008000; text-decoration-color: #008000\">'locator'</span>: <span style=\"color: #008000; text-decoration-color: #008000\">'Section 3'</span>,\n",
       "            <span style=\"color: #008000; text-decoration-color: #008000\">'caption'</span>: <span style=\"color: #008000; text-decoration-color: #008000\">'Organization.'</span>,\n",
       "            <span style=\"color: #008000; text-decoration-color: #008000\">'statute'</span>: <span style=\"color: #008000; text-decoration-color: #008000\">'Executive Order No. 33'</span>,\n",
       "            <span style=\"color: #008000; text-decoration-color: #008000\">'date'</span>: <span style=\"color: #008000; text-decoration-color: #008000\">'1986-07-28'</span>,\n",
       "            <span style=\"color: #008000; text-decoration-color: #008000\">'action'</span>: <span style=\"color: #008000; text-decoration-color: #008000\">'Amended'</span>\n",
       "        <span style=\"font-weight: bold\">}</span>,\n",
       "        <span style=\"font-weight: bold\">{</span>\n",
       "            <span style=\"color: #008000; text-decoration-color: #008000\">'statute_category'</span>: <span style=\"color: #008000; text-decoration-color: #008000\">'ra'</span>,\n",
       "            <span style=\"color: #008000; text-decoration-color: #008000\">'statute_serial_id'</span>: <span style=\"color: #008000; text-decoration-color: #008000\">'8246'</span>,\n",
       "            <span style=\"color: #008000; text-decoration-color: #008000\">'locator'</span>: <span style=\"color: #008000; text-decoration-color: #008000\">'Section 3'</span>,\n",
       "            <span style=\"color: #008000; text-decoration-color: #008000\">'caption'</span>: <span style=\"color: #008000; text-decoration-color: #008000\">'Organization.'</span>,\n",
       "            <span style=\"color: #008000; text-decoration-color: #008000\">'statute'</span>: <span style=\"color: #008000; text-decoration-color: #008000\">'Republic Act No. 8246'</span>,\n",
       "            <span style=\"color: #008000; text-decoration-color: #008000\">'action'</span>: <span style=\"color: #008000; text-decoration-color: #008000\">'Amended'</span>\n",
       "        <span style=\"font-weight: bold\">}</span>\n",
       "    <span style=\"font-weight: bold\">]</span>\n",
       "<span style=\"font-weight: bold\">]</span>\n",
       "</pre>\n"
      ],
      "text/plain": [
       "\n",
       "\u001b[1m[\u001b[0m\n",
       "    \u001b[1m[\u001b[0m\n",
       "        \u001b[1m{\u001b[0m\n",
       "            \u001b[32m'statute_category'\u001b[0m: \u001b[32m'bp'\u001b[0m,\n",
       "            \u001b[32m'statute_serial_id'\u001b[0m: \u001b[32m'129'\u001b[0m,\n",
       "            \u001b[32m'locator'\u001b[0m: \u001b[32m'Section 42'\u001b[0m,\n",
       "            \u001b[32m'statute'\u001b[0m: \u001b[32m'Batas Pambansa Blg. 129'\u001b[0m,\n",
       "            \u001b[32m'action'\u001b[0m: \u001b[32m'Originated'\u001b[0m\n",
       "        \u001b[1m}\u001b[0m,\n",
       "        \u001b[1m{\u001b[0m\n",
       "            \u001b[32m'statute_category'\u001b[0m: \u001b[32m'ra'\u001b[0m,\n",
       "            \u001b[32m'statute_serial_id'\u001b[0m: \u001b[32m'11459'\u001b[0m,\n",
       "            \u001b[32m'locator'\u001b[0m: \u001b[32m'Section 42'\u001b[0m,\n",
       "            \u001b[32m'statute'\u001b[0m: \u001b[32m'Republic Act No. 11459'\u001b[0m,\n",
       "            \u001b[32m'action'\u001b[0m: \u001b[32m'Amended'\u001b[0m\n",
       "        \u001b[1m}\u001b[0m\n",
       "    \u001b[1m]\u001b[0m,\n",
       "    \u001b[1m[\u001b[0m\n",
       "        \u001b[1m{\u001b[0m\n",
       "            \u001b[32m'statute_category'\u001b[0m: \u001b[32m'bp'\u001b[0m,\n",
       "            \u001b[32m'statute_serial_id'\u001b[0m: \u001b[32m'129'\u001b[0m,\n",
       "            \u001b[32m'locator'\u001b[0m: \u001b[32m'Section 41'\u001b[0m,\n",
       "            \u001b[32m'statute'\u001b[0m: \u001b[32m'Batas Pambansa Blg. 129'\u001b[0m,\n",
       "            \u001b[32m'action'\u001b[0m: \u001b[32m'Originated'\u001b[0m\n",
       "        \u001b[1m}\u001b[0m,\n",
       "        \u001b[1m{\u001b[0m\n",
       "            \u001b[32m'statute_category'\u001b[0m: \u001b[32m'ra'\u001b[0m,\n",
       "            \u001b[32m'statute_serial_id'\u001b[0m: \u001b[32m'11459'\u001b[0m,\n",
       "            \u001b[32m'locator'\u001b[0m: \u001b[32m'Section 41'\u001b[0m,\n",
       "            \u001b[32m'statute'\u001b[0m: \u001b[32m'Republic Act No. 11459'\u001b[0m,\n",
       "            \u001b[32m'action'\u001b[0m: \u001b[32m'Amended'\u001b[0m\n",
       "        \u001b[1m}\u001b[0m\n",
       "    \u001b[1m]\u001b[0m,\n",
       "    \u001b[1m[\u001b[0m\n",
       "        \u001b[1m{\u001b[0m\n",
       "            \u001b[32m'statute_category'\u001b[0m: \u001b[32m'bp'\u001b[0m,\n",
       "            \u001b[32m'statute_serial_id'\u001b[0m: \u001b[32m'129'\u001b[0m,\n",
       "            \u001b[32m'locator'\u001b[0m: \u001b[32m'Section 37'\u001b[0m,\n",
       "            \u001b[32m'statute'\u001b[0m: \u001b[32m'Batas Pambansa Blg. 129'\u001b[0m,\n",
       "            \u001b[32m'action'\u001b[0m: \u001b[32m'Originated'\u001b[0m\n",
       "        \u001b[1m}\u001b[0m,\n",
       "        \u001b[1m{\u001b[0m\n",
       "            \u001b[32m'statute_category'\u001b[0m: \u001b[32m'rule_am'\u001b[0m,\n",
       "            \u001b[32m'statute_serial_id'\u001b[0m: \u001b[32m'05-8-26-sc'\u001b[0m,\n",
       "            \u001b[32m'locator'\u001b[0m: \u001b[32m'Container 1'\u001b[0m,\n",
       "            \u001b[32m'caption'\u001b[0m: \u001b[32m'Transitory Provisions'\u001b[0m,\n",
       "            \u001b[32m'statute'\u001b[0m: \u001b[32m'Administrative Matter No. 05-8-26-SC'\u001b[0m,\n",
       "            \u001b[32m'action'\u001b[0m: \u001b[32m'Modified'\u001b[0m\n",
       "        \u001b[1m}\u001b[0m\n",
       "    \u001b[1m]\u001b[0m,\n",
       "    \u001b[1m[\u001b[0m\n",
       "        \u001b[1m{\u001b[0m\n",
       "            \u001b[32m'statute_category'\u001b[0m: \u001b[32m'bp'\u001b[0m,\n",
       "            \u001b[32m'statute_serial_id'\u001b[0m: \u001b[32m'129'\u001b[0m,\n",
       "            \u001b[32m'locator'\u001b[0m: \u001b[32m'Section 34'\u001b[0m,\n",
       "            \u001b[32m'statute'\u001b[0m: \u001b[32m'Batas Pambansa Blg. 129'\u001b[0m,\n",
       "            \u001b[32m'action'\u001b[0m: \u001b[32m'Originated'\u001b[0m\n",
       "        \u001b[1m}\u001b[0m,\n",
       "        \u001b[1m{\u001b[0m\n",
       "            \u001b[32m'statute_category'\u001b[0m: \u001b[32m'ra'\u001b[0m,\n",
       "            \u001b[32m'statute_serial_id'\u001b[0m: \u001b[32m'7691'\u001b[0m,\n",
       "            \u001b[32m'locator'\u001b[0m: \u001b[32m'Section 34'\u001b[0m,\n",
       "            \u001b[32m'statute'\u001b[0m: \u001b[32m'Republic Act No. 7691'\u001b[0m,\n",
       "            \u001b[32m'action'\u001b[0m: \u001b[32m'Amended'\u001b[0m\n",
       "        \u001b[1m}\u001b[0m\n",
       "    \u001b[1m]\u001b[0m,\n",
       "    \u001b[1m[\u001b[0m\n",
       "        \u001b[1m{\u001b[0m\n",
       "            \u001b[32m'statute_category'\u001b[0m: \u001b[32m'bp'\u001b[0m,\n",
       "            \u001b[32m'statute_serial_id'\u001b[0m: \u001b[32m'129'\u001b[0m,\n",
       "            \u001b[32m'locator'\u001b[0m: \u001b[32m'Section 33'\u001b[0m,\n",
       "            \u001b[32m'statute'\u001b[0m: \u001b[32m'Batas Pambansa Blg. 129'\u001b[0m,\n",
       "            \u001b[32m'action'\u001b[0m: \u001b[32m'Originated'\u001b[0m\n",
       "        \u001b[1m}\u001b[0m,\n",
       "        \u001b[1m{\u001b[0m\n",
       "            \u001b[32m'statute_category'\u001b[0m: \u001b[32m'ra'\u001b[0m,\n",
       "            \u001b[32m'statute_serial_id'\u001b[0m: \u001b[32m'7691'\u001b[0m,\n",
       "            \u001b[32m'locator'\u001b[0m: \u001b[32m'Section 33'\u001b[0m,\n",
       "            \u001b[32m'statute'\u001b[0m: \u001b[32m'Republic Act No. 7691'\u001b[0m,\n",
       "            \u001b[32m'action'\u001b[0m: \u001b[32m'Amended'\u001b[0m\n",
       "        \u001b[1m}\u001b[0m,\n",
       "        \u001b[1m{\u001b[0m\n",
       "            \u001b[32m'statute_category'\u001b[0m: \u001b[32m'ra'\u001b[0m,\n",
       "            \u001b[32m'statute_serial_id'\u001b[0m: \u001b[32m'11576'\u001b[0m,\n",
       "            \u001b[32m'locator'\u001b[0m: \u001b[32m'Section 33'\u001b[0m,\n",
       "            \u001b[32m'statute'\u001b[0m: \u001b[32m'Republic Act No. 11576'\u001b[0m,\n",
       "            \u001b[32m'action'\u001b[0m: \u001b[32m'Amended'\u001b[0m\n",
       "        \u001b[1m}\u001b[0m\n",
       "    \u001b[1m]\u001b[0m,\n",
       "    \u001b[1m[\u001b[0m\n",
       "        \u001b[1m{\u001b[0m\n",
       "            \u001b[32m'statute_category'\u001b[0m: \u001b[32m'bp'\u001b[0m,\n",
       "            \u001b[32m'statute_serial_id'\u001b[0m: \u001b[32m'129'\u001b[0m,\n",
       "            \u001b[32m'locator'\u001b[0m: \u001b[32m'Section 32'\u001b[0m,\n",
       "            \u001b[32m'statute'\u001b[0m: \u001b[32m'Batas Pambansa Blg. 129'\u001b[0m,\n",
       "            \u001b[32m'action'\u001b[0m: \u001b[32m'Originated'\u001b[0m\n",
       "        \u001b[1m}\u001b[0m,\n",
       "        \u001b[1m{\u001b[0m\n",
       "            \u001b[32m'statute_category'\u001b[0m: \u001b[32m'ra'\u001b[0m,\n",
       "            \u001b[32m'statute_serial_id'\u001b[0m: \u001b[32m'7691'\u001b[0m,\n",
       "            \u001b[32m'locator'\u001b[0m: \u001b[32m'Section 32'\u001b[0m,\n",
       "            \u001b[32m'statute'\u001b[0m: \u001b[32m'Republic Act No. 7691'\u001b[0m,\n",
       "            \u001b[32m'action'\u001b[0m: \u001b[32m'Amended'\u001b[0m\n",
       "        \u001b[1m}\u001b[0m\n",
       "    \u001b[1m]\u001b[0m,\n",
       "    \u001b[1m[\u001b[0m\n",
       "        \u001b[1m{\u001b[0m\n",
       "            \u001b[32m'statute_category'\u001b[0m: \u001b[32m'bp'\u001b[0m,\n",
       "            \u001b[32m'statute_serial_id'\u001b[0m: \u001b[32m'129'\u001b[0m,\n",
       "            \u001b[32m'locator'\u001b[0m: \u001b[32m'Section 30'\u001b[0m,\n",
       "            \u001b[32m'statute'\u001b[0m: \u001b[32m'Batas Pambansa Blg. 129'\u001b[0m,\n",
       "            \u001b[32m'action'\u001b[0m: \u001b[32m'Originated'\u001b[0m\n",
       "        \u001b[1m}\u001b[0m,\n",
       "        \u001b[1m{\u001b[0m\n",
       "            \u001b[32m'statute_category'\u001b[0m: \u001b[32m'ra'\u001b[0m,\n",
       "            \u001b[32m'statute_serial_id'\u001b[0m: \u001b[32m'9449'\u001b[0m,\n",
       "            \u001b[32m'locator'\u001b[0m: \u001b[32m'Section 30'\u001b[0m,\n",
       "            \u001b[32m'statute'\u001b[0m: \u001b[32m'Republic Act No. 9449'\u001b[0m,\n",
       "            \u001b[32m'action'\u001b[0m: \u001b[32m'Amended'\u001b[0m,\n",
       "            \u001b[32m'statute_id'\u001b[0m: \u001b[32m'ra-9449-may-15-2007'\u001b[0m\n",
       "        \u001b[1m}\u001b[0m,\n",
       "        \u001b[1m{\u001b[0m\n",
       "            \u001b[32m'statute_category'\u001b[0m: \u001b[32m'ra'\u001b[0m,\n",
       "            \u001b[32m'statute_serial_id'\u001b[0m: \u001b[32m'10454'\u001b[0m,\n",
       "            \u001b[32m'locator'\u001b[0m: \u001b[32m'Section 2'\u001b[0m,\n",
       "            \u001b[32m'statute'\u001b[0m: \u001b[32m'Republic Act No. 10454'\u001b[0m,\n",
       "            \u001b[32m'action'\u001b[0m: \u001b[32m'Modified'\u001b[0m\n",
       "        \u001b[1m}\u001b[0m,\n",
       "        \u001b[1m{\u001b[0m\n",
       "            \u001b[32m'statute_category'\u001b[0m: \u001b[32m'ra'\u001b[0m,\n",
       "            \u001b[32m'statute_serial_id'\u001b[0m: \u001b[32m'10694'\u001b[0m,\n",
       "            \u001b[32m'locator'\u001b[0m: \u001b[32m'Section 1'\u001b[0m,\n",
       "            \u001b[32m'statute'\u001b[0m: \u001b[32m'Republic Act No. 10694'\u001b[0m,\n",
       "            \u001b[32m'action'\u001b[0m: \u001b[32m'Modified'\u001b[0m\n",
       "        \u001b[1m}\u001b[0m,\n",
       "        \u001b[1m{\u001b[0m\n",
       "            \u001b[32m'statute_category'\u001b[0m: \u001b[32m'ra'\u001b[0m,\n",
       "            \u001b[32m'statute_serial_id'\u001b[0m: \u001b[32m'11385'\u001b[0m,\n",
       "            \u001b[32m'locator'\u001b[0m: \u001b[32m'Section 1'\u001b[0m,\n",
       "            \u001b[32m'statute'\u001b[0m: \u001b[32m'Republic Act No. 11385'\u001b[0m,\n",
       "            \u001b[32m'action'\u001b[0m: \u001b[32m'Modified'\u001b[0m\n",
       "        \u001b[1m}\u001b[0m\n",
       "    \u001b[1m]\u001b[0m,\n",
       "    \u001b[1m[\u001b[0m\n",
       "        \u001b[1m{\u001b[0m\n",
       "            \u001b[32m'statute_category'\u001b[0m: \u001b[32m'bp'\u001b[0m,\n",
       "            \u001b[32m'statute_serial_id'\u001b[0m: \u001b[32m'129'\u001b[0m,\n",
       "            \u001b[32m'locator'\u001b[0m: \u001b[32m'Section 29'\u001b[0m,\n",
       "            \u001b[32m'statute'\u001b[0m: \u001b[32m'Batas Pambansa Blg. 129'\u001b[0m,\n",
       "            \u001b[32m'action'\u001b[0m: \u001b[32m'Originated'\u001b[0m\n",
       "        \u001b[1m}\u001b[0m,\n",
       "        \u001b[1m{\u001b[0m\n",
       "            \u001b[32m'statute_category'\u001b[0m: \u001b[32m'ra'\u001b[0m,\n",
       "            \u001b[32m'statute_serial_id'\u001b[0m: \u001b[32m'9252'\u001b[0m,\n",
       "            \u001b[32m'locator'\u001b[0m: \u001b[32m'Section 29'\u001b[0m,\n",
       "            \u001b[32m'statute'\u001b[0m: \u001b[32m'Republic Act No. 9252'\u001b[0m,\n",
       "            \u001b[32m'action'\u001b[0m: \u001b[32m'Amended'\u001b[0m,\n",
       "            \u001b[32m'statute_id'\u001b[0m: \u001b[32m'ra-9252-february-24-2004'\u001b[0m,\n",
       "            \u001b[32m'statute_mp'\u001b[0m: \u001b[32m'1.1.1.'\u001b[0m\n",
       "        \u001b[1m}\u001b[0m,\n",
       "        \u001b[1m{\u001b[0m\n",
       "            \u001b[32m'statute_category'\u001b[0m: \u001b[32m'ra'\u001b[0m,\n",
       "            \u001b[32m'statute_serial_id'\u001b[0m: \u001b[32m'9274'\u001b[0m,\n",
       "            \u001b[32m'locator'\u001b[0m: \u001b[32m'Section 29'\u001b[0m,\n",
       "            \u001b[32m'statute'\u001b[0m: \u001b[32m'Republic Act No. 9274'\u001b[0m,\n",
       "            \u001b[32m'action'\u001b[0m: \u001b[32m'Amended'\u001b[0m,\n",
       "            \u001b[32m'statute_id'\u001b[0m: \u001b[32m'ra-9274-march-21-2004'\u001b[0m,\n",
       "            \u001b[32m'statute_mp'\u001b[0m: \u001b[32m'1.1.1.'\u001b[0m\n",
       "        \u001b[1m}\u001b[0m,\n",
       "        \u001b[1m{\u001b[0m\n",
       "            \u001b[32m'statute_category'\u001b[0m: \u001b[32m'ra'\u001b[0m,\n",
       "            \u001b[32m'statute_serial_id'\u001b[0m: \u001b[32m'9276'\u001b[0m,\n",
       "            \u001b[32m'locator'\u001b[0m: \u001b[32m'Section 29'\u001b[0m,\n",
       "            \u001b[32m'statute'\u001b[0m: \u001b[32m'Republic Act No. 9276'\u001b[0m,\n",
       "            \u001b[32m'action'\u001b[0m: \u001b[32m'Amended'\u001b[0m,\n",
       "            \u001b[32m'statute_id'\u001b[0m: \u001b[32m'ra-9276-march-26-2004'\u001b[0m,\n",
       "            \u001b[32m'statute_mp'\u001b[0m: \u001b[32m'1.1.1.'\u001b[0m\n",
       "        \u001b[1m}\u001b[0m,\n",
       "        \u001b[1m{\u001b[0m\n",
       "            \u001b[32m'statute_category'\u001b[0m: \u001b[32m'ra'\u001b[0m,\n",
       "            \u001b[32m'statute_serial_id'\u001b[0m: \u001b[32m'9305'\u001b[0m,\n",
       "            \u001b[32m'locator'\u001b[0m: \u001b[32m'Section 29'\u001b[0m,\n",
       "            \u001b[32m'statute'\u001b[0m: \u001b[32m'Republic Act No. 9305'\u001b[0m,\n",
       "            \u001b[32m'action'\u001b[0m: \u001b[32m'Amended'\u001b[0m,\n",
       "            \u001b[32m'statute_id'\u001b[0m: \u001b[32m'ra-9305-august-02-2004'\u001b[0m,\n",
       "            \u001b[32m'statute_mp'\u001b[0m: \u001b[32m'1.1.1.'\u001b[0m\n",
       "        \u001b[1m}\u001b[0m,\n",
       "        \u001b[1m{\u001b[0m\n",
       "            \u001b[32m'statute_category'\u001b[0m: \u001b[32m'ra'\u001b[0m,\n",
       "            \u001b[32m'statute_serial_id'\u001b[0m: \u001b[32m'9306'\u001b[0m,\n",
       "            \u001b[32m'locator'\u001b[0m: \u001b[32m'Section 29'\u001b[0m,\n",
       "            \u001b[32m'statute'\u001b[0m: \u001b[32m'Republic Act No. 9306'\u001b[0m,\n",
       "            \u001b[32m'action'\u001b[0m: \u001b[32m'Amended'\u001b[0m,\n",
       "            \u001b[32m'statute_id'\u001b[0m: \u001b[32m'ra-9306-august-02-2004'\u001b[0m,\n",
       "            \u001b[32m'statute_mp'\u001b[0m: \u001b[32m'1.1.1.'\u001b[0m\n",
       "        \u001b[1m}\u001b[0m,\n",
       "        \u001b[1m{\u001b[0m\n",
       "            \u001b[32m'statute_category'\u001b[0m: \u001b[32m'ra'\u001b[0m,\n",
       "            \u001b[32m'statute_serial_id'\u001b[0m: \u001b[32m'9308'\u001b[0m,\n",
       "            \u001b[32m'locator'\u001b[0m: \u001b[32m'Section 29'\u001b[0m,\n",
       "            \u001b[32m'statute'\u001b[0m: \u001b[32m'Republic Act No. 9308'\u001b[0m,\n",
       "            \u001b[32m'action'\u001b[0m: \u001b[32m'Amended'\u001b[0m,\n",
       "            \u001b[32m'statute_id'\u001b[0m: \u001b[32m'ra-9308-august-02-2004'\u001b[0m,\n",
       "            \u001b[32m'statute_mp'\u001b[0m: \u001b[32m'1.1.1.'\u001b[0m\n",
       "        \u001b[1m}\u001b[0m,\n",
       "        \u001b[1m{\u001b[0m\n",
       "            \u001b[32m'statute_category'\u001b[0m: \u001b[32m'ra'\u001b[0m,\n",
       "            \u001b[32m'statute_serial_id'\u001b[0m: \u001b[32m'9309'\u001b[0m,\n",
       "            \u001b[32m'locator'\u001b[0m: \u001b[32m'Section 29'\u001b[0m,\n",
       "            \u001b[32m'statute'\u001b[0m: \u001b[32m'Republic Act No. 9309'\u001b[0m,\n",
       "            \u001b[32m'action'\u001b[0m: \u001b[32m'Amended'\u001b[0m,\n",
       "            \u001b[32m'statute_id'\u001b[0m: \u001b[32m'ra-9309-august-02-2004'\u001b[0m\n",
       "        \u001b[1m}\u001b[0m,\n",
       "        \u001b[1m{\u001b[0m\n",
       "            \u001b[32m'statute_category'\u001b[0m: \u001b[32m'ra'\u001b[0m,\n",
       "            \u001b[32m'statute_serial_id'\u001b[0m: \u001b[32m'9310'\u001b[0m,\n",
       "            \u001b[32m'locator'\u001b[0m: \u001b[32m'Section 29'\u001b[0m,\n",
       "            \u001b[32m'statute'\u001b[0m: \u001b[32m'Republic Act No. 9310'\u001b[0m,\n",
       "            \u001b[32m'action'\u001b[0m: \u001b[32m'Amended'\u001b[0m,\n",
       "            \u001b[32m'statute_id'\u001b[0m: \u001b[32m'ra-9310-august-04-2004'\u001b[0m\n",
       "        \u001b[1m}\u001b[0m,\n",
       "        \u001b[1m{\u001b[0m\n",
       "            \u001b[32m'statute_category'\u001b[0m: \u001b[32m'ra'\u001b[0m,\n",
       "            \u001b[32m'statute_serial_id'\u001b[0m: \u001b[32m'9375'\u001b[0m,\n",
       "            \u001b[32m'locator'\u001b[0m: \u001b[32m'Section 29'\u001b[0m,\n",
       "            \u001b[32m'statute'\u001b[0m: \u001b[32m'Republic Act No. 9375'\u001b[0m,\n",
       "            \u001b[32m'action'\u001b[0m: \u001b[32m'Amended'\u001b[0m,\n",
       "            \u001b[32m'statute_id'\u001b[0m: \u001b[32m'ra-9375-march-06-2007'\u001b[0m,\n",
       "            \u001b[32m'statute_mp'\u001b[0m: \u001b[32m'1.2.1.'\u001b[0m\n",
       "        \u001b[1m}\u001b[0m,\n",
       "        \u001b[1m{\u001b[0m\n",
       "            \u001b[32m'statute_category'\u001b[0m: \u001b[32m'ra'\u001b[0m,\n",
       "            \u001b[32m'statute_serial_id'\u001b[0m: \u001b[32m'9377'\u001b[0m,\n",
       "            \u001b[32m'locator'\u001b[0m: \u001b[32m'Section 29'\u001b[0m,\n",
       "            \u001b[32m'statute'\u001b[0m: \u001b[32m'Republic Act No. 9377'\u001b[0m,\n",
       "            \u001b[32m'action'\u001b[0m: \u001b[32m'Amended'\u001b[0m,\n",
       "            \u001b[32m'statute_id'\u001b[0m: \u001b[32m'ra-9377-march-06-2007'\u001b[0m,\n",
       "            \u001b[32m'statute_mp'\u001b[0m: \u001b[32m'1.2.1.'\u001b[0m\n",
       "        \u001b[1m}\u001b[0m,\n",
       "        \u001b[1m{\u001b[0m\n",
       "            \u001b[32m'statute_category'\u001b[0m: \u001b[32m'ra'\u001b[0m,\n",
       "            \u001b[32m'statute_serial_id'\u001b[0m: \u001b[32m'9450'\u001b[0m,\n",
       "            \u001b[32m'locator'\u001b[0m: \u001b[32m'Section 29'\u001b[0m,\n",
       "            \u001b[32m'statute'\u001b[0m: \u001b[32m'Republic Act No. 9450'\u001b[0m,\n",
       "            \u001b[32m'action'\u001b[0m: \u001b[32m'Amended'\u001b[0m,\n",
       "            \u001b[32m'statute_id'\u001b[0m: \u001b[32m'ra-9450-may-15-2007'\u001b[0m,\n",
       "            \u001b[32m'statute_mp'\u001b[0m: \u001b[32m'1.1.1.'\u001b[0m\n",
       "        \u001b[1m}\u001b[0m,\n",
       "        \u001b[1m{\u001b[0m\n",
       "            \u001b[32m'statute_category'\u001b[0m: \u001b[32m'ra'\u001b[0m,\n",
       "            \u001b[32m'statute_serial_id'\u001b[0m: \u001b[32m'10253'\u001b[0m,\n",
       "            \u001b[32m'locator'\u001b[0m: \u001b[32m'Section 1'\u001b[0m,\n",
       "            \u001b[32m'statute'\u001b[0m: \u001b[32m'Republic Act No. 10253'\u001b[0m,\n",
       "            \u001b[32m'action'\u001b[0m: \u001b[32m'Modified'\u001b[0m,\n",
       "            \u001b[32m'statute_id'\u001b[0m: \u001b[32m'ra-10253-november-08-2012'\u001b[0m,\n",
       "            \u001b[32m'statute_mp'\u001b[0m: \u001b[32m'1.1.'\u001b[0m\n",
       "        \u001b[1m}\u001b[0m,\n",
       "        \u001b[1m{\u001b[0m\n",
       "            \u001b[32m'statute_category'\u001b[0m: \u001b[32m'ra'\u001b[0m,\n",
       "            \u001b[32m'statute_serial_id'\u001b[0m: \u001b[32m'10254'\u001b[0m,\n",
       "            \u001b[32m'locator'\u001b[0m: \u001b[32m'Section 1'\u001b[0m,\n",
       "            \u001b[32m'statute'\u001b[0m: \u001b[32m'Republic Act No. 10254'\u001b[0m,\n",
       "            \u001b[32m'action'\u001b[0m: \u001b[32m'Modified'\u001b[0m,\n",
       "            \u001b[32m'statute_id'\u001b[0m: \u001b[32m'ra-10254-november-08-2012'\u001b[0m,\n",
       "            \u001b[32m'statute_mp'\u001b[0m: \u001b[32m'1.1.'\u001b[0m\n",
       "        \u001b[1m}\u001b[0m,\n",
       "        \u001b[1m{\u001b[0m\n",
       "            \u001b[32m'statute_category'\u001b[0m: \u001b[32m'ra'\u001b[0m,\n",
       "            \u001b[32m'statute_serial_id'\u001b[0m: \u001b[32m'10568'\u001b[0m,\n",
       "            \u001b[32m'locator'\u001b[0m: \u001b[32m'Section 1'\u001b[0m,\n",
       "            \u001b[32m'statute'\u001b[0m: \u001b[32m'Republic Act No. 10568'\u001b[0m,\n",
       "            \u001b[32m'action'\u001b[0m: \u001b[32m'Modified'\u001b[0m\n",
       "        \u001b[1m}\u001b[0m,\n",
       "        \u001b[1m{\u001b[0m\n",
       "            \u001b[32m'statute_category'\u001b[0m: \u001b[32m'ra'\u001b[0m,\n",
       "            \u001b[32m'statute_serial_id'\u001b[0m: \u001b[32m'10570'\u001b[0m,\n",
       "            \u001b[32m'locator'\u001b[0m: \u001b[32m'Section 1'\u001b[0m,\n",
       "            \u001b[32m'statute'\u001b[0m: \u001b[32m'Republic Act No. 10570'\u001b[0m,\n",
       "            \u001b[32m'action'\u001b[0m: \u001b[32m'Modified'\u001b[0m\n",
       "        \u001b[1m}\u001b[0m,\n",
       "        \u001b[1m{\u001b[0m\n",
       "            \u001b[32m'statute_category'\u001b[0m: \u001b[32m'ra'\u001b[0m,\n",
       "            \u001b[32m'statute_serial_id'\u001b[0m: \u001b[32m'10578'\u001b[0m,\n",
       "            \u001b[32m'locator'\u001b[0m: \u001b[32m'Section 1'\u001b[0m,\n",
       "            \u001b[32m'statute'\u001b[0m: \u001b[32m'Republic Act No. 10578'\u001b[0m,\n",
       "            \u001b[32m'action'\u001b[0m: \u001b[32m'Modified'\u001b[0m\n",
       "        \u001b[1m}\u001b[0m,\n",
       "        \u001b[1m{\u001b[0m\n",
       "            \u001b[32m'statute_category'\u001b[0m: \u001b[32m'ra'\u001b[0m,\n",
       "            \u001b[32m'statute_serial_id'\u001b[0m: \u001b[32m'10694'\u001b[0m,\n",
       "            \u001b[32m'locator'\u001b[0m: \u001b[32m'Section 1'\u001b[0m,\n",
       "            \u001b[32m'statute'\u001b[0m: \u001b[32m'Republic Act No. 10694'\u001b[0m,\n",
       "            \u001b[32m'action'\u001b[0m: \u001b[32m'Modified'\u001b[0m\n",
       "        \u001b[1m}\u001b[0m,\n",
       "        \u001b[1m{\u001b[0m\n",
       "            \u001b[32m'statute_category'\u001b[0m: \u001b[32m'ra'\u001b[0m,\n",
       "            \u001b[32m'statute_serial_id'\u001b[0m: \u001b[32m'10696'\u001b[0m,\n",
       "            \u001b[32m'locator'\u001b[0m: \u001b[32m'Section 1'\u001b[0m,\n",
       "            \u001b[32m'statute'\u001b[0m: \u001b[32m'Republic Act No. 10696'\u001b[0m,\n",
       "            \u001b[32m'action'\u001b[0m: \u001b[32m'Modified'\u001b[0m\n",
       "        \u001b[1m}\u001b[0m,\n",
       "        \u001b[1m{\u001b[0m\n",
       "            \u001b[32m'statute_category'\u001b[0m: \u001b[32m'ra'\u001b[0m,\n",
       "            \u001b[32m'statute_serial_id'\u001b[0m: \u001b[32m'11388'\u001b[0m,\n",
       "            \u001b[32m'locator'\u001b[0m: \u001b[32m'Section 1'\u001b[0m,\n",
       "            \u001b[32m'statute'\u001b[0m: \u001b[32m'Republic Act No. 11388'\u001b[0m,\n",
       "            \u001b[32m'action'\u001b[0m: \u001b[32m'Modified'\u001b[0m\n",
       "        \u001b[1m}\u001b[0m,\n",
       "        \u001b[1m{\u001b[0m\n",
       "            \u001b[32m'statute_category'\u001b[0m: \u001b[32m'ra'\u001b[0m,\n",
       "            \u001b[32m'statute_serial_id'\u001b[0m: \u001b[32m'11389'\u001b[0m,\n",
       "            \u001b[32m'locator'\u001b[0m: \u001b[32m'Section 1'\u001b[0m,\n",
       "            \u001b[32m'statute'\u001b[0m: \u001b[32m'Republic Act No. 11389'\u001b[0m,\n",
       "            \u001b[32m'action'\u001b[0m: \u001b[32m'Modified'\u001b[0m,\n",
       "            \u001b[32m'statute_id'\u001b[0m: \u001b[32m'ra-11389-august-22-2019'\u001b[0m,\n",
       "            \u001b[32m'statute_mp'\u001b[0m: \u001b[32m'1.1.'\u001b[0m\n",
       "        \u001b[1m}\u001b[0m\n",
       "    \u001b[1m]\u001b[0m,\n",
       "    \u001b[1m[\u001b[0m\n",
       "        \u001b[1m{\u001b[0m\n",
       "            \u001b[32m'statute_category'\u001b[0m: \u001b[32m'bp'\u001b[0m,\n",
       "            \u001b[32m'statute_serial_id'\u001b[0m: \u001b[32m'129'\u001b[0m,\n",
       "            \u001b[32m'locator'\u001b[0m: \u001b[32m'Section 27'\u001b[0m,\n",
       "            \u001b[32m'statute'\u001b[0m: \u001b[32m'Batas Pambansa Blg. 129'\u001b[0m,\n",
       "            \u001b[32m'action'\u001b[0m: \u001b[32m'Originated'\u001b[0m\n",
       "        \u001b[1m}\u001b[0m,\n",
       "        \u001b[1m{\u001b[0m\n",
       "            \u001b[32m'statute_category'\u001b[0m: \u001b[32m'ra'\u001b[0m,\n",
       "            \u001b[32m'statute_serial_id'\u001b[0m: \u001b[32m'9374'\u001b[0m,\n",
       "            \u001b[32m'locator'\u001b[0m: \u001b[32m'Section 1'\u001b[0m,\n",
       "            \u001b[32m'statute'\u001b[0m: \u001b[32m'Republic Act No. 9374'\u001b[0m,\n",
       "            \u001b[32m'action'\u001b[0m: \u001b[32m'Amended'\u001b[0m,\n",
       "            \u001b[32m'statute_id'\u001b[0m: \u001b[32m'ra-9374-march-06-2007'\u001b[0m,\n",
       "            \u001b[32m'statute_mp'\u001b[0m: \u001b[32m'1.1.'\u001b[0m\n",
       "        \u001b[1m}\u001b[0m,\n",
       "        \u001b[1m{\u001b[0m\n",
       "            \u001b[32m'statute_category'\u001b[0m: \u001b[32m'ra'\u001b[0m,\n",
       "            \u001b[32m'statute_serial_id'\u001b[0m: \u001b[32m'9376'\u001b[0m,\n",
       "            \u001b[32m'locator'\u001b[0m: \u001b[32m'Section 1'\u001b[0m,\n",
       "            \u001b[32m'statute'\u001b[0m: \u001b[32m'Republic Act No. 9376'\u001b[0m,\n",
       "            \u001b[32m'action'\u001b[0m: \u001b[32m'Amended'\u001b[0m,\n",
       "            \u001b[32m'statute_id'\u001b[0m: \u001b[32m'ra-9376-march-06-2007'\u001b[0m,\n",
       "            \u001b[32m'statute_mp'\u001b[0m: \u001b[32m'1.1.'\u001b[0m\n",
       "        \u001b[1m}\u001b[0m,\n",
       "        \u001b[1m{\u001b[0m\n",
       "            \u001b[32m'statute_category'\u001b[0m: \u001b[32m'ra'\u001b[0m,\n",
       "            \u001b[32m'statute_serial_id'\u001b[0m: \u001b[32m'9424'\u001b[0m,\n",
       "            \u001b[32m'locator'\u001b[0m: \u001b[32m'Section 1'\u001b[0m,\n",
       "            \u001b[32m'statute'\u001b[0m: \u001b[32m'Republic Act No. 9424'\u001b[0m,\n",
       "            \u001b[32m'action'\u001b[0m: \u001b[32m'Amended'\u001b[0m,\n",
       "            \u001b[32m'statute_id'\u001b[0m: \u001b[32m'ra-9424-april-10-2007'\u001b[0m,\n",
       "            \u001b[32m'statute_mp'\u001b[0m: \u001b[32m'1.1.'\u001b[0m\n",
       "        \u001b[1m}\u001b[0m,\n",
       "        \u001b[1m{\u001b[0m\n",
       "            \u001b[32m'statute_category'\u001b[0m: \u001b[32m'ra'\u001b[0m,\n",
       "            \u001b[32m'statute_serial_id'\u001b[0m: \u001b[32m'9848'\u001b[0m,\n",
       "            \u001b[32m'locator'\u001b[0m: \u001b[32m'Section 1'\u001b[0m,\n",
       "            \u001b[32m'statute'\u001b[0m: \u001b[32m'Republic Act No. 9848'\u001b[0m,\n",
       "            \u001b[32m'action'\u001b[0m: \u001b[32m'Modified'\u001b[0m\n",
       "        \u001b[1m}\u001b[0m,\n",
       "        \u001b[1m{\u001b[0m\n",
       "            \u001b[32m'statute_category'\u001b[0m: \u001b[32m'ra'\u001b[0m,\n",
       "            \u001b[32m'statute_serial_id'\u001b[0m: \u001b[32m'10251'\u001b[0m,\n",
       "            \u001b[32m'locator'\u001b[0m: \u001b[32m'Section 1'\u001b[0m,\n",
       "            \u001b[32m'statute'\u001b[0m: \u001b[32m'Republic Act No. 10251'\u001b[0m,\n",
       "            \u001b[32m'action'\u001b[0m: \u001b[32m'Modified'\u001b[0m,\n",
       "            \u001b[32m'statute_id'\u001b[0m: \u001b[32m'ra-10251-november-08-2012'\u001b[0m,\n",
       "            \u001b[32m'statute_mp'\u001b[0m: \u001b[32m'1.1.'\u001b[0m\n",
       "        \u001b[1m}\u001b[0m,\n",
       "        \u001b[1m{\u001b[0m\n",
       "            \u001b[32m'statute_category'\u001b[0m: \u001b[32m'ra'\u001b[0m,\n",
       "            \u001b[32m'statute_serial_id'\u001b[0m: \u001b[32m'10299'\u001b[0m,\n",
       "            \u001b[32m'locator'\u001b[0m: \u001b[32m'Section 1'\u001b[0m,\n",
       "            \u001b[32m'statute'\u001b[0m: \u001b[32m'Republic Act No. 10299'\u001b[0m,\n",
       "            \u001b[32m'action'\u001b[0m: \u001b[32m'Modified'\u001b[0m\n",
       "        \u001b[1m}\u001b[0m,\n",
       "        \u001b[1m{\u001b[0m\n",
       "            \u001b[32m'statute_category'\u001b[0m: \u001b[32m'ra'\u001b[0m,\n",
       "            \u001b[32m'statute_serial_id'\u001b[0m: \u001b[32m'10341'\u001b[0m,\n",
       "            \u001b[32m'locator'\u001b[0m: \u001b[32m'Section 1'\u001b[0m,\n",
       "            \u001b[32m'statute'\u001b[0m: \u001b[32m'Republic Act No. 10341'\u001b[0m,\n",
       "            \u001b[32m'action'\u001b[0m: \u001b[32m'Modified'\u001b[0m\n",
       "        \u001b[1m}\u001b[0m,\n",
       "        \u001b[1m{\u001b[0m\n",
       "            \u001b[32m'statute_category'\u001b[0m: \u001b[32m'ra'\u001b[0m,\n",
       "            \u001b[32m'statute_serial_id'\u001b[0m: \u001b[32m'10381'\u001b[0m,\n",
       "            \u001b[32m'locator'\u001b[0m: \u001b[32m'Section 1'\u001b[0m,\n",
       "            \u001b[32m'statute'\u001b[0m: \u001b[32m'Republic Act No. 10381'\u001b[0m,\n",
       "            \u001b[32m'action'\u001b[0m: \u001b[32m'Modified'\u001b[0m,\n",
       "            \u001b[32m'statute_id'\u001b[0m: \u001b[32m'ra-10381-march-14-2013'\u001b[0m,\n",
       "            \u001b[32m'statute_mp'\u001b[0m: \u001b[32m'1.1.'\u001b[0m\n",
       "        \u001b[1m}\u001b[0m,\n",
       "        \u001b[1m{\u001b[0m\n",
       "            \u001b[32m'statute_category'\u001b[0m: \u001b[32m'ra'\u001b[0m,\n",
       "            \u001b[32m'statute_serial_id'\u001b[0m: \u001b[32m'10480'\u001b[0m,\n",
       "            \u001b[32m'locator'\u001b[0m: \u001b[32m'Section 1'\u001b[0m,\n",
       "            \u001b[32m'statute'\u001b[0m: \u001b[32m'Republic Act No. 10480'\u001b[0m,\n",
       "            \u001b[32m'action'\u001b[0m: \u001b[32m'Modified'\u001b[0m,\n",
       "            \u001b[32m'statute_id'\u001b[0m: \u001b[32m'ra-10480-april-16-2013'\u001b[0m,\n",
       "            \u001b[32m'statute_mp'\u001b[0m: \u001b[32m'1.1.'\u001b[0m\n",
       "        \u001b[1m}\u001b[0m,\n",
       "        \u001b[1m{\u001b[0m\n",
       "            \u001b[32m'statute_category'\u001b[0m: \u001b[32m'ra'\u001b[0m,\n",
       "            \u001b[32m'statute_serial_id'\u001b[0m: \u001b[32m'10520'\u001b[0m,\n",
       "            \u001b[32m'locator'\u001b[0m: \u001b[32m'Section 1'\u001b[0m,\n",
       "            \u001b[32m'statute'\u001b[0m: \u001b[32m'Republic Act No. 10520'\u001b[0m,\n",
       "            \u001b[32m'action'\u001b[0m: \u001b[32m'Modified'\u001b[0m\n",
       "        \u001b[1m}\u001b[0m,\n",
       "        \u001b[1m{\u001b[0m\n",
       "            \u001b[32m'statute_category'\u001b[0m: \u001b[32m'ra'\u001b[0m,\n",
       "            \u001b[32m'statute_serial_id'\u001b[0m: \u001b[32m'10522'\u001b[0m,\n",
       "            \u001b[32m'locator'\u001b[0m: \u001b[32m'Section 1'\u001b[0m,\n",
       "            \u001b[32m'statute'\u001b[0m: \u001b[32m'Republic Act No. 10522'\u001b[0m,\n",
       "            \u001b[32m'action'\u001b[0m: \u001b[32m'Modified'\u001b[0m,\n",
       "            \u001b[32m'statute_id'\u001b[0m: \u001b[32m'ra-10522-april-23-2013'\u001b[0m,\n",
       "            \u001b[32m'statute_mp'\u001b[0m: \u001b[32m'1.1.'\u001b[0m\n",
       "        \u001b[1m}\u001b[0m,\n",
       "        \u001b[1m{\u001b[0m\n",
       "            \u001b[32m'statute_category'\u001b[0m: \u001b[32m'ra'\u001b[0m,\n",
       "            \u001b[32m'statute_serial_id'\u001b[0m: \u001b[32m'10537'\u001b[0m,\n",
       "            \u001b[32m'locator'\u001b[0m: \u001b[32m'Section 1'\u001b[0m,\n",
       "            \u001b[32m'statute'\u001b[0m: \u001b[32m'Republic Act No. 10537'\u001b[0m,\n",
       "            \u001b[32m'action'\u001b[0m: \u001b[32m'Modified'\u001b[0m,\n",
       "            \u001b[32m'statute_id'\u001b[0m: \u001b[32m'ra-10537-may-15-2013'\u001b[0m,\n",
       "            \u001b[32m'statute_mp'\u001b[0m: \u001b[32m'1.1.'\u001b[0m\n",
       "        \u001b[1m}\u001b[0m,\n",
       "        \u001b[1m{\u001b[0m\n",
       "            \u001b[32m'statute_category'\u001b[0m: \u001b[32m'ra'\u001b[0m,\n",
       "            \u001b[32m'statute_serial_id'\u001b[0m: \u001b[32m'10566'\u001b[0m,\n",
       "            \u001b[32m'locator'\u001b[0m: \u001b[32m'Section 1'\u001b[0m,\n",
       "            \u001b[32m'statute'\u001b[0m: \u001b[32m'Republic Act No. 10566'\u001b[0m,\n",
       "            \u001b[32m'action'\u001b[0m: \u001b[32m'Modified'\u001b[0m,\n",
       "            \u001b[32m'statute_id'\u001b[0m: \u001b[32m'ra-10566-may-22-2013'\u001b[0m,\n",
       "            \u001b[32m'statute_mp'\u001b[0m: \u001b[32m'1.1.'\u001b[0m\n",
       "        \u001b[1m}\u001b[0m,\n",
       "        \u001b[1m{\u001b[0m\n",
       "            \u001b[32m'statute_category'\u001b[0m: \u001b[32m'ra'\u001b[0m,\n",
       "            \u001b[32m'statute_serial_id'\u001b[0m: \u001b[32m'10711'\u001b[0m,\n",
       "            \u001b[32m'locator'\u001b[0m: \u001b[32m'Section 1'\u001b[0m,\n",
       "            \u001b[32m'statute'\u001b[0m: \u001b[32m'Republic Act No. 10711'\u001b[0m,\n",
       "            \u001b[32m'action'\u001b[0m: \u001b[32m'Modified'\u001b[0m\n",
       "        \u001b[1m}\u001b[0m\n",
       "    \u001b[1m]\u001b[0m,\n",
       "    \u001b[1m[\u001b[0m\n",
       "        \u001b[1m{\u001b[0m\n",
       "            \u001b[32m'statute_category'\u001b[0m: \u001b[32m'bp'\u001b[0m,\n",
       "            \u001b[32m'statute_serial_id'\u001b[0m: \u001b[32m'129'\u001b[0m,\n",
       "            \u001b[32m'locator'\u001b[0m: \u001b[32m'Section 26'\u001b[0m,\n",
       "            \u001b[32m'statute'\u001b[0m: \u001b[32m'Batas Pambansa Blg. 129'\u001b[0m,\n",
       "            \u001b[32m'action'\u001b[0m: \u001b[32m'Originated'\u001b[0m\n",
       "        \u001b[1m}\u001b[0m,\n",
       "        \u001b[1m{\u001b[0m\n",
       "            \u001b[32m'statute_category'\u001b[0m: \u001b[32m'ra'\u001b[0m,\n",
       "            \u001b[32m'statute_serial_id'\u001b[0m: \u001b[32m'11459'\u001b[0m,\n",
       "            \u001b[32m'locator'\u001b[0m: \u001b[32m'Section 26'\u001b[0m,\n",
       "            \u001b[32m'statute'\u001b[0m: \u001b[32m'Republic Act No. 11459'\u001b[0m,\n",
       "            \u001b[32m'action'\u001b[0m: \u001b[32m'Amended'\u001b[0m\n",
       "        \u001b[1m}\u001b[0m\n",
       "    \u001b[1m]\u001b[0m,\n",
       "    \u001b[1m[\u001b[0m\n",
       "        \u001b[1m{\u001b[0m\n",
       "            \u001b[32m'statute_category'\u001b[0m: \u001b[32m'ra'\u001b[0m,\n",
       "            \u001b[32m'statute_serial_id'\u001b[0m: \u001b[32m'11459'\u001b[0m,\n",
       "            \u001b[32m'locator'\u001b[0m: \u001b[32m'Section 25-A'\u001b[0m,\n",
       "            \u001b[32m'statute'\u001b[0m: \u001b[32m'Republic Act No. 11459'\u001b[0m,\n",
       "            \u001b[32m'action'\u001b[0m: \u001b[32m'Originated'\u001b[0m\n",
       "        \u001b[1m}\u001b[0m\n",
       "    \u001b[1m]\u001b[0m,\n",
       "    \u001b[1m[\u001b[0m\n",
       "        \u001b[1m{\u001b[0m\n",
       "            \u001b[32m'statute_category'\u001b[0m: \u001b[32m'bp'\u001b[0m,\n",
       "            \u001b[32m'statute_serial_id'\u001b[0m: \u001b[32m'129'\u001b[0m,\n",
       "            \u001b[32m'locator'\u001b[0m: \u001b[32m'Section 19'\u001b[0m,\n",
       "            \u001b[32m'statute'\u001b[0m: \u001b[32m'Batas Pambansa Blg. 129'\u001b[0m,\n",
       "            \u001b[32m'action'\u001b[0m: \u001b[32m'Originated'\u001b[0m\n",
       "        \u001b[1m}\u001b[0m,\n",
       "        \u001b[1m{\u001b[0m\n",
       "            \u001b[32m'statute_category'\u001b[0m: \u001b[32m'ra'\u001b[0m,\n",
       "            \u001b[32m'statute_serial_id'\u001b[0m: \u001b[32m'7691'\u001b[0m,\n",
       "            \u001b[32m'locator'\u001b[0m: \u001b[32m'Section 19'\u001b[0m,\n",
       "            \u001b[32m'statute'\u001b[0m: \u001b[32m'Republic Act No. 7691'\u001b[0m,\n",
       "            \u001b[32m'action'\u001b[0m: \u001b[32m'Amended'\u001b[0m\n",
       "        \u001b[1m}\u001b[0m,\n",
       "        \u001b[1m{\u001b[0m\n",
       "            \u001b[32m'statute_category'\u001b[0m: \u001b[32m'ra'\u001b[0m,\n",
       "            \u001b[32m'statute_serial_id'\u001b[0m: \u001b[32m'11576'\u001b[0m,\n",
       "            \u001b[32m'locator'\u001b[0m: \u001b[32m'Section 19'\u001b[0m,\n",
       "            \u001b[32m'statute'\u001b[0m: \u001b[32m'Republic Act No. 11576'\u001b[0m,\n",
       "            \u001b[32m'action'\u001b[0m: \u001b[32m'Amended'\u001b[0m\n",
       "        \u001b[1m}\u001b[0m\n",
       "    \u001b[1m]\u001b[0m,\n",
       "    \u001b[1m[\u001b[0m\n",
       "        \u001b[1m{\u001b[0m\n",
       "            \u001b[32m'statute_category'\u001b[0m: \u001b[32m'bp'\u001b[0m,\n",
       "            \u001b[32m'statute_serial_id'\u001b[0m: \u001b[32m'129'\u001b[0m,\n",
       "            \u001b[32m'locator'\u001b[0m: \u001b[32m'Section 15'\u001b[0m,\n",
       "            \u001b[32m'statute'\u001b[0m: \u001b[32m'Batas Pambansa Blg. 129'\u001b[0m,\n",
       "            \u001b[32m'action'\u001b[0m: \u001b[32m'Originated'\u001b[0m\n",
       "        \u001b[1m}\u001b[0m,\n",
       "        \u001b[1m{\u001b[0m\n",
       "            \u001b[32m'statute_category'\u001b[0m: \u001b[32m'ra'\u001b[0m,\n",
       "            \u001b[32m'statute_serial_id'\u001b[0m: \u001b[32m'8369'\u001b[0m,\n",
       "            \u001b[32m'locator'\u001b[0m: \u001b[32m'Section 15'\u001b[0m,\n",
       "            \u001b[32m'statute'\u001b[0m: \u001b[32m'Republic Act No. 8369'\u001b[0m,\n",
       "            \u001b[32m'action'\u001b[0m: \u001b[32m'Amended'\u001b[0m\n",
       "        \u001b[1m}\u001b[0m,\n",
       "        \u001b[1m{\u001b[0m\n",
       "            \u001b[32m'statute_category'\u001b[0m: \u001b[32m'ra'\u001b[0m,\n",
       "            \u001b[32m'statute_serial_id'\u001b[0m: \u001b[32m'11459'\u001b[0m,\n",
       "            \u001b[32m'locator'\u001b[0m: \u001b[32m'Section 15'\u001b[0m,\n",
       "            \u001b[32m'statute'\u001b[0m: \u001b[32m'Republic Act No. 11459'\u001b[0m,\n",
       "            \u001b[32m'action'\u001b[0m: \u001b[32m'Amended'\u001b[0m\n",
       "        \u001b[1m}\u001b[0m\n",
       "    \u001b[1m]\u001b[0m,\n",
       "    \u001b[1m[\u001b[0m\n",
       "        \u001b[1m{\u001b[0m\n",
       "            \u001b[32m'statute_category'\u001b[0m: \u001b[32m'ra'\u001b[0m,\n",
       "            \u001b[32m'statute_serial_id'\u001b[0m: \u001b[32m'11459'\u001b[0m,\n",
       "            \u001b[32m'locator'\u001b[0m: \u001b[32m'n'\u001b[0m,\n",
       "            \u001b[32m'statute'\u001b[0m: \u001b[32m'Republic Act No. 11459'\u001b[0m,\n",
       "            \u001b[32m'action'\u001b[0m: \u001b[32m'Inserted'\u001b[0m\n",
       "        \u001b[1m}\u001b[0m\n",
       "    \u001b[1m]\u001b[0m,\n",
       "    \u001b[1m[\u001b[0m\n",
       "        \u001b[1m{\u001b[0m\n",
       "            \u001b[32m'statute_category'\u001b[0m: \u001b[32m'bp'\u001b[0m,\n",
       "            \u001b[32m'statute_serial_id'\u001b[0m: \u001b[32m'129'\u001b[0m,\n",
       "            \u001b[32m'locator'\u001b[0m: \u001b[32m'm'\u001b[0m,\n",
       "            \u001b[32m'content'\u001b[0m: \u001b[32m'Twenty Regional Trial Judges'\u001b[0m,\n",
       "            \u001b[32m'statute'\u001b[0m: \u001b[32m'Batas Pambansa Blg. 129'\u001b[0m,\n",
       "            \u001b[32m'action'\u001b[0m: \u001b[32m'Originated'\u001b[0m\n",
       "        \u001b[1m}\u001b[0m,\n",
       "        \u001b[1m{\u001b[0m\n",
       "            \u001b[32m'statute_category'\u001b[0m: \u001b[32m'ra'\u001b[0m,\n",
       "            \u001b[32m'statute_serial_id'\u001b[0m: \u001b[32m'7154'\u001b[0m,\n",
       "            \u001b[32m'locator'\u001b[0m: \u001b[32m'm'\u001b[0m,\n",
       "            \u001b[32m'content'\u001b[0m: \u001b[32m'Twenty-five Regional Trial Judges'\u001b[0m,\n",
       "            \u001b[32m'statute'\u001b[0m: \u001b[32m'Republic Act No. 7154'\u001b[0m,\n",
       "            \u001b[32m'action'\u001b[0m: \u001b[32m'Amended'\u001b[0m\n",
       "        \u001b[1m}\u001b[0m,\n",
       "        \u001b[1m{\u001b[0m\n",
       "            \u001b[32m'statute_category'\u001b[0m: \u001b[32m'ra'\u001b[0m,\n",
       "            \u001b[32m'statute_serial_id'\u001b[0m: \u001b[32m'10542'\u001b[0m,\n",
       "            \u001b[32m'locator'\u001b[0m: \u001b[32m'Section 1'\u001b[0m,\n",
       "            \u001b[32m'statute'\u001b[0m: \u001b[32m'Republic Act No. 10542'\u001b[0m,\n",
       "            \u001b[32m'action'\u001b[0m: \u001b[32m'Modified'\u001b[0m,\n",
       "            \u001b[32m'statute_id'\u001b[0m: \u001b[32m'ra-10542-may-15-2013'\u001b[0m,\n",
       "            \u001b[32m'statute_mp'\u001b[0m: \u001b[32m'1.1.'\u001b[0m\n",
       "        \u001b[1m}\u001b[0m,\n",
       "        \u001b[1m{\u001b[0m\n",
       "            \u001b[32m'statute_category'\u001b[0m: \u001b[32m'ra'\u001b[0m,\n",
       "            \u001b[32m'statute_serial_id'\u001b[0m: \u001b[32m'10546'\u001b[0m,\n",
       "            \u001b[32m'locator'\u001b[0m: \u001b[32m'Section 1'\u001b[0m,\n",
       "            \u001b[32m'statute'\u001b[0m: \u001b[32m'Republic Act No. 10546'\u001b[0m,\n",
       "            \u001b[32m'action'\u001b[0m: \u001b[32m'Modified'\u001b[0m,\n",
       "            \u001b[32m'statute_id'\u001b[0m: \u001b[32m'ra-10546-may-15-2013'\u001b[0m,\n",
       "            \u001b[32m'statute_mp'\u001b[0m: \u001b[32m'1.1.'\u001b[0m\n",
       "        \u001b[1m}\u001b[0m,\n",
       "        \u001b[1m{\u001b[0m\n",
       "            \u001b[32m'statute_category'\u001b[0m: \u001b[32m'ra'\u001b[0m,\n",
       "            \u001b[32m'statute_serial_id'\u001b[0m: \u001b[32m'10576'\u001b[0m,\n",
       "            \u001b[32m'locator'\u001b[0m: \u001b[32m'Section 1'\u001b[0m,\n",
       "            \u001b[32m'statute'\u001b[0m: \u001b[32m'Republic Act No. 10576'\u001b[0m,\n",
       "            \u001b[32m'action'\u001b[0m: \u001b[32m'Modified'\u001b[0m,\n",
       "            \u001b[32m'statute_id'\u001b[0m: \u001b[32m'ra-10576-may-24-2013'\u001b[0m,\n",
       "            \u001b[32m'statute_mp'\u001b[0m: \u001b[32m'1.1.'\u001b[0m\n",
       "        \u001b[1m}\u001b[0m,\n",
       "        \u001b[1m{\u001b[0m\n",
       "            \u001b[32m'statute_category'\u001b[0m: \u001b[32m'ra'\u001b[0m,\n",
       "            \u001b[32m'statute_serial_id'\u001b[0m: \u001b[32m'11455'\u001b[0m,\n",
       "            \u001b[32m'locator'\u001b[0m: \u001b[32m'Section 1'\u001b[0m,\n",
       "            \u001b[32m'statute'\u001b[0m: \u001b[32m'Republic Act No. 11455'\u001b[0m,\n",
       "            \u001b[32m'action'\u001b[0m: \u001b[32m'Modified'\u001b[0m,\n",
       "            \u001b[32m'statute_id'\u001b[0m: \u001b[32m'ra-11455-august-30-2019'\u001b[0m,\n",
       "            \u001b[32m'statute_mp'\u001b[0m: \u001b[32m'1.1.'\u001b[0m\n",
       "        \u001b[1m}\u001b[0m\n",
       "    \u001b[1m]\u001b[0m,\n",
       "    \u001b[1m[\u001b[0m\n",
       "        \u001b[1m{\u001b[0m\n",
       "            \u001b[32m'statute_category'\u001b[0m: \u001b[32m'bp'\u001b[0m,\n",
       "            \u001b[32m'statute_serial_id'\u001b[0m: \u001b[32m'129'\u001b[0m,\n",
       "            \u001b[32m'locator'\u001b[0m: \u001b[32m'l'\u001b[0m,\n",
       "            \u001b[32m'content'\u001b[0m: \u001b[32m'Twenty-nine Regional Trial Judges'\u001b[0m,\n",
       "            \u001b[32m'statute'\u001b[0m: \u001b[32m'Batas Pambansa Blg. 129'\u001b[0m,\n",
       "            \u001b[32m'action'\u001b[0m: \u001b[32m'Originated'\u001b[0m\n",
       "        \u001b[1m}\u001b[0m,\n",
       "        \u001b[1m{\u001b[0m\n",
       "            \u001b[32m'statute_category'\u001b[0m: \u001b[32m'ra'\u001b[0m,\n",
       "            \u001b[32m'statute_serial_id'\u001b[0m: \u001b[32m'7154'\u001b[0m,\n",
       "            \u001b[32m'locator'\u001b[0m: \u001b[32m'l'\u001b[0m,\n",
       "            \u001b[32m'content'\u001b[0m: \u001b[32m'Forty-one Regional Trial Judges'\u001b[0m,\n",
       "            \u001b[32m'statute'\u001b[0m: \u001b[32m'Republic Act No. 7154'\u001b[0m,\n",
       "            \u001b[32m'action'\u001b[0m: \u001b[32m'Amended'\u001b[0m\n",
       "        \u001b[1m}\u001b[0m,\n",
       "        \u001b[1m{\u001b[0m\n",
       "            \u001b[32m'statute_category'\u001b[0m: \u001b[32m'ra'\u001b[0m,\n",
       "            \u001b[32m'statute_serial_id'\u001b[0m: \u001b[32m'10243'\u001b[0m,\n",
       "            \u001b[32m'locator'\u001b[0m: \u001b[32m'Section 1'\u001b[0m,\n",
       "            \u001b[32m'statute'\u001b[0m: \u001b[32m'Republic Act No. 10243'\u001b[0m,\n",
       "            \u001b[32m'action'\u001b[0m: \u001b[32m'Modified'\u001b[0m,\n",
       "            \u001b[32m'statute_id'\u001b[0m: \u001b[32m'ra-10243-november-08-2012'\u001b[0m,\n",
       "            \u001b[32m'statute_mp'\u001b[0m: \u001b[32m'1.1.'\u001b[0m\n",
       "        \u001b[1m}\u001b[0m,\n",
       "        \u001b[1m{\u001b[0m\n",
       "            \u001b[32m'statute_category'\u001b[0m: \u001b[32m'ra'\u001b[0m,\n",
       "            \u001b[32m'statute_serial_id'\u001b[0m: \u001b[32m'10246'\u001b[0m,\n",
       "            \u001b[32m'locator'\u001b[0m: \u001b[32m'Section 1'\u001b[0m,\n",
       "            \u001b[32m'statute'\u001b[0m: \u001b[32m'Republic Act No. 10246'\u001b[0m,\n",
       "            \u001b[32m'action'\u001b[0m: \u001b[32m'Modified'\u001b[0m,\n",
       "            \u001b[32m'statute_id'\u001b[0m: \u001b[32m'ra-10246-november-08-2012'\u001b[0m,\n",
       "            \u001b[32m'statute_mp'\u001b[0m: \u001b[32m'1.1.'\u001b[0m\n",
       "        \u001b[1m}\u001b[0m,\n",
       "        \u001b[1m{\u001b[0m\n",
       "            \u001b[32m'statute_category'\u001b[0m: \u001b[32m'ra'\u001b[0m,\n",
       "            \u001b[32m'statute_serial_id'\u001b[0m: \u001b[32m'10252'\u001b[0m,\n",
       "            \u001b[32m'locator'\u001b[0m: \u001b[32m'Section 1'\u001b[0m,\n",
       "            \u001b[32m'statute'\u001b[0m: \u001b[32m'Republic Act No. 10252'\u001b[0m,\n",
       "            \u001b[32m'action'\u001b[0m: \u001b[32m'Modified'\u001b[0m,\n",
       "            \u001b[32m'statute_id'\u001b[0m: \u001b[32m'ra-10252-november-08-2012'\u001b[0m,\n",
       "            \u001b[32m'statute_mp'\u001b[0m: \u001b[32m'1.1.'\u001b[0m\n",
       "        \u001b[1m}\u001b[0m,\n",
       "        \u001b[1m{\u001b[0m\n",
       "            \u001b[32m'statute_category'\u001b[0m: \u001b[32m'ra'\u001b[0m,\n",
       "            \u001b[32m'statute_serial_id'\u001b[0m: \u001b[32m'10393'\u001b[0m,\n",
       "            \u001b[32m'locator'\u001b[0m: \u001b[32m'Section 1'\u001b[0m,\n",
       "            \u001b[32m'statute'\u001b[0m: \u001b[32m'Republic Act No. 10393'\u001b[0m,\n",
       "            \u001b[32m'action'\u001b[0m: \u001b[32m'Modified'\u001b[0m,\n",
       "            \u001b[32m'statute_id'\u001b[0m: \u001b[32m'ra-10393-march-14-2013'\u001b[0m,\n",
       "            \u001b[32m'statute_mp'\u001b[0m: \u001b[32m'1.1.'\u001b[0m\n",
       "        \u001b[1m}\u001b[0m,\n",
       "        \u001b[1m{\u001b[0m\n",
       "            \u001b[32m'statute_category'\u001b[0m: \u001b[32m'ra'\u001b[0m,\n",
       "            \u001b[32m'statute_serial_id'\u001b[0m: \u001b[32m'10565'\u001b[0m,\n",
       "            \u001b[32m'locator'\u001b[0m: \u001b[32m'Section 1'\u001b[0m,\n",
       "            \u001b[32m'statute'\u001b[0m: \u001b[32m'Republic Act No. 10565'\u001b[0m,\n",
       "            \u001b[32m'action'\u001b[0m: \u001b[32m'Modified'\u001b[0m,\n",
       "            \u001b[32m'statute_id'\u001b[0m: \u001b[32m'ra-10565-may-22-2013'\u001b[0m,\n",
       "            \u001b[32m'statute_mp'\u001b[0m: \u001b[32m'1.1.'\u001b[0m\n",
       "        \u001b[1m}\u001b[0m,\n",
       "        \u001b[1m{\u001b[0m\n",
       "            \u001b[32m'statute_category'\u001b[0m: \u001b[32m'ra'\u001b[0m,\n",
       "            \u001b[32m'statute_serial_id'\u001b[0m: \u001b[32m'10608'\u001b[0m,\n",
       "            \u001b[32m'locator'\u001b[0m: \u001b[32m'Section 1'\u001b[0m,\n",
       "            \u001b[32m'statute'\u001b[0m: \u001b[32m'Republic Act No. 10608'\u001b[0m,\n",
       "            \u001b[32m'action'\u001b[0m: \u001b[32m'Modified'\u001b[0m,\n",
       "            \u001b[32m'statute_id'\u001b[0m: \u001b[32m'ra-10608-august-22-2013'\u001b[0m,\n",
       "            \u001b[32m'statute_mp'\u001b[0m: \u001b[32m'1.1.'\u001b[0m\n",
       "        \u001b[1m}\u001b[0m\n",
       "    \u001b[1m]\u001b[0m,\n",
       "    \u001b[1m[\u001b[0m\n",
       "        \u001b[1m{\u001b[0m\n",
       "            \u001b[32m'statute_category'\u001b[0m: \u001b[32m'bp'\u001b[0m,\n",
       "            \u001b[32m'statute_serial_id'\u001b[0m: \u001b[32m'129'\u001b[0m,\n",
       "            \u001b[32m'locator'\u001b[0m: \u001b[32m'k'\u001b[0m,\n",
       "            \u001b[32m'content'\u001b[0m: \u001b[32m'Thirty-two Regional Trial Judge'\u001b[0m,\n",
       "            \u001b[32m'statute'\u001b[0m: \u001b[32m'Batas Pambansa Blg. 129'\u001b[0m,\n",
       "            \u001b[32m'action'\u001b[0m: \u001b[32m'Originated'\u001b[0m\n",
       "        \u001b[1m}\u001b[0m,\n",
       "        \u001b[1m{\u001b[0m\n",
       "            \u001b[32m'statute_category'\u001b[0m: \u001b[32m'ra'\u001b[0m,\n",
       "            \u001b[32m'statute_serial_id'\u001b[0m: \u001b[32m'7154'\u001b[0m,\n",
       "            \u001b[32m'locator'\u001b[0m: \u001b[32m'k'\u001b[0m,\n",
       "            \u001b[32m'content'\u001b[0m: \u001b[32m'Forty-four Regional Trial Judges'\u001b[0m,\n",
       "            \u001b[32m'statute'\u001b[0m: \u001b[32m'Republic Act No. 7154'\u001b[0m,\n",
       "            \u001b[32m'action'\u001b[0m: \u001b[32m'Amended'\u001b[0m\n",
       "        \u001b[1m}\u001b[0m,\n",
       "        \u001b[1m{\u001b[0m\n",
       "            \u001b[32m'statute_category'\u001b[0m: \u001b[32m'ra'\u001b[0m,\n",
       "            \u001b[32m'statute_serial_id'\u001b[0m: \u001b[32m'10362'\u001b[0m,\n",
       "            \u001b[32m'locator'\u001b[0m: \u001b[32m'Section 1'\u001b[0m,\n",
       "            \u001b[32m'statute'\u001b[0m: \u001b[32m'Republic Act No. 10362'\u001b[0m,\n",
       "            \u001b[32m'action'\u001b[0m: \u001b[32m'Modified'\u001b[0m,\n",
       "            \u001b[32m'statute_id'\u001b[0m: \u001b[32m'ra-10362-january-23-2013'\u001b[0m,\n",
       "            \u001b[32m'statute_mp'\u001b[0m: \u001b[32m'1.1.'\u001b[0m\n",
       "        \u001b[1m}\u001b[0m,\n",
       "        \u001b[1m{\u001b[0m\n",
       "            \u001b[32m'statute_category'\u001b[0m: \u001b[32m'ra'\u001b[0m,\n",
       "            \u001b[32m'statute_serial_id'\u001b[0m: \u001b[32m'10602'\u001b[0m,\n",
       "            \u001b[32m'locator'\u001b[0m: \u001b[32m'Section 1'\u001b[0m,\n",
       "            \u001b[32m'statute'\u001b[0m: \u001b[32m'Republic Act No. 10602'\u001b[0m,\n",
       "            \u001b[32m'action'\u001b[0m: \u001b[32m'Modified'\u001b[0m,\n",
       "            \u001b[32m'statute_id'\u001b[0m: \u001b[32m'ra-10602-june-11-2013'\u001b[0m,\n",
       "            \u001b[32m'statute_mp'\u001b[0m: \u001b[32m'1.1.'\u001b[0m\n",
       "        \u001b[1m}\u001b[0m,\n",
       "        \u001b[1m{\u001b[0m\n",
       "            \u001b[32m'statute_category'\u001b[0m: \u001b[32m'ra'\u001b[0m,\n",
       "            \u001b[32m'statute_serial_id'\u001b[0m: \u001b[32m'10701'\u001b[0m,\n",
       "            \u001b[32m'locator'\u001b[0m: \u001b[32m'Section 1'\u001b[0m,\n",
       "            \u001b[32m'statute'\u001b[0m: \u001b[32m'Republic Act No. 10701'\u001b[0m,\n",
       "            \u001b[32m'action'\u001b[0m: \u001b[32m'Modified'\u001b[0m,\n",
       "            \u001b[32m'statute_id'\u001b[0m: \u001b[32m'ra-10701-november-20-2015'\u001b[0m,\n",
       "            \u001b[32m'statute_mp'\u001b[0m: \u001b[32m'1.1.'\u001b[0m\n",
       "        \u001b[1m}\u001b[0m\n",
       "    \u001b[1m]\u001b[0m,\n",
       "    \u001b[1m[\u001b[0m\n",
       "        \u001b[1m{\u001b[0m\n",
       "            \u001b[32m'statute_category'\u001b[0m: \u001b[32m'bp'\u001b[0m,\n",
       "            \u001b[32m'statute_serial_id'\u001b[0m: \u001b[32m'129'\u001b[0m,\n",
       "            \u001b[32m'locator'\u001b[0m: \u001b[32m'j'\u001b[0m,\n",
       "            \u001b[32m'content'\u001b[0m: \u001b[32m'Twenty-four Regional Trial Judges'\u001b[0m,\n",
       "            \u001b[32m'statute'\u001b[0m: \u001b[32m'Batas Pambansa Blg. 129'\u001b[0m,\n",
       "            \u001b[32m'action'\u001b[0m: \u001b[32m'Originated'\u001b[0m\n",
       "        \u001b[1m}\u001b[0m,\n",
       "        \u001b[1m{\u001b[0m\n",
       "            \u001b[32m'statute_category'\u001b[0m: \u001b[32m'ra'\u001b[0m,\n",
       "            \u001b[32m'statute_serial_id'\u001b[0m: \u001b[32m'7154'\u001b[0m,\n",
       "            \u001b[32m'locator'\u001b[0m: \u001b[32m'j'\u001b[0m,\n",
       "            \u001b[32m'content'\u001b[0m: \u001b[32m'Thirty Regional Trial Judges'\u001b[0m,\n",
       "            \u001b[32m'statute'\u001b[0m: \u001b[32m'Republic Act No. 7154'\u001b[0m,\n",
       "            \u001b[32m'action'\u001b[0m: \u001b[32m'Amended'\u001b[0m\n",
       "        \u001b[1m}\u001b[0m,\n",
       "        \u001b[1m{\u001b[0m\n",
       "            \u001b[32m'statute_category'\u001b[0m: \u001b[32m'ra'\u001b[0m,\n",
       "            \u001b[32m'statute_serial_id'\u001b[0m: \u001b[32m'10301'\u001b[0m,\n",
       "            \u001b[32m'locator'\u001b[0m: \u001b[32m'Section 1'\u001b[0m,\n",
       "            \u001b[32m'statute'\u001b[0m: \u001b[32m'Republic Act No. 10301'\u001b[0m,\n",
       "            \u001b[32m'action'\u001b[0m: \u001b[32m'Modified'\u001b[0m,\n",
       "            \u001b[32m'statute_id'\u001b[0m: \u001b[32m'ra-10301-november-15-2012'\u001b[0m,\n",
       "            \u001b[32m'statute_mp'\u001b[0m: \u001b[32m'1.1.'\u001b[0m\n",
       "        \u001b[1m}\u001b[0m,\n",
       "        \u001b[1m{\u001b[0m\n",
       "            \u001b[32m'statute_category'\u001b[0m: \u001b[32m'ra'\u001b[0m,\n",
       "            \u001b[32m'statute_serial_id'\u001b[0m: \u001b[32m'10577'\u001b[0m,\n",
       "            \u001b[32m'locator'\u001b[0m: \u001b[32m'Section 1'\u001b[0m,\n",
       "            \u001b[32m'statute'\u001b[0m: \u001b[32m'Republic Act No. 10577'\u001b[0m,\n",
       "            \u001b[32m'action'\u001b[0m: \u001b[32m'Modified'\u001b[0m,\n",
       "            \u001b[32m'statute_id'\u001b[0m: \u001b[32m'ra-10577-may-24-2013'\u001b[0m,\n",
       "            \u001b[32m'statute_mp'\u001b[0m: \u001b[32m'1.1.'\u001b[0m\n",
       "        \u001b[1m}\u001b[0m,\n",
       "        \u001b[1m{\u001b[0m\n",
       "            \u001b[32m'statute_category'\u001b[0m: \u001b[32m'ra'\u001b[0m,\n",
       "            \u001b[32m'statute_serial_id'\u001b[0m: \u001b[32m'11386'\u001b[0m,\n",
       "            \u001b[32m'locator'\u001b[0m: \u001b[32m'Section 1'\u001b[0m,\n",
       "            \u001b[32m'statute'\u001b[0m: \u001b[32m'Republic Act No. 11386'\u001b[0m,\n",
       "            \u001b[32m'action'\u001b[0m: \u001b[32m'Modified'\u001b[0m,\n",
       "            \u001b[32m'statute_id'\u001b[0m: \u001b[32m'ra-11386-august-22-2019'\u001b[0m,\n",
       "            \u001b[32m'statute_mp'\u001b[0m: \u001b[32m'1.1.'\u001b[0m\n",
       "        \u001b[1m}\u001b[0m,\n",
       "        \u001b[1m{\u001b[0m\n",
       "            \u001b[32m'statute_category'\u001b[0m: \u001b[32m'ra'\u001b[0m,\n",
       "            \u001b[32m'statute_serial_id'\u001b[0m: \u001b[32m'11456'\u001b[0m,\n",
       "            \u001b[32m'locator'\u001b[0m: \u001b[32m'Section 1'\u001b[0m,\n",
       "            \u001b[32m'statute'\u001b[0m: \u001b[32m'Republic Act No. 11456'\u001b[0m,\n",
       "            \u001b[32m'action'\u001b[0m: \u001b[32m'Modified'\u001b[0m,\n",
       "            \u001b[32m'statute_id'\u001b[0m: \u001b[32m'ra-11456-august-30-2019'\u001b[0m,\n",
       "            \u001b[32m'statute_mp'\u001b[0m: \u001b[32m'1.1.'\u001b[0m\n",
       "        \u001b[1m}\u001b[0m\n",
       "    \u001b[1m]\u001b[0m,\n",
       "    \u001b[1m[\u001b[0m\n",
       "        \u001b[1m{\u001b[0m\n",
       "            \u001b[32m'statute_category'\u001b[0m: \u001b[32m'bp'\u001b[0m,\n",
       "            \u001b[32m'statute_serial_id'\u001b[0m: \u001b[32m'129'\u001b[0m,\n",
       "            \u001b[32m'locator'\u001b[0m: \u001b[32m'i'\u001b[0m,\n",
       "            \u001b[32m'content'\u001b[0m: \u001b[32m'Thirty-three Regional Trial Judges'\u001b[0m,\n",
       "            \u001b[32m'statute'\u001b[0m: \u001b[32m'Batas Pambansa Blg. 129'\u001b[0m,\n",
       "            \u001b[32m'action'\u001b[0m: \u001b[32m'Originated'\u001b[0m\n",
       "        \u001b[1m}\u001b[0m,\n",
       "        \u001b[1m{\u001b[0m\n",
       "            \u001b[32m'statute_category'\u001b[0m: \u001b[32m'ra'\u001b[0m,\n",
       "            \u001b[32m'statute_serial_id'\u001b[0m: \u001b[32m'7154'\u001b[0m,\n",
       "            \u001b[32m'locator'\u001b[0m: \u001b[32m'i'\u001b[0m,\n",
       "            \u001b[32m'content'\u001b[0m: \u001b[32m'Forty-one Regional Trial Judges'\u001b[0m,\n",
       "            \u001b[32m'statute'\u001b[0m: \u001b[32m'Republic Act No. 7154'\u001b[0m,\n",
       "            \u001b[32m'action'\u001b[0m: \u001b[32m'Amended'\u001b[0m\n",
       "        \u001b[1m}\u001b[0m,\n",
       "        \u001b[1m{\u001b[0m\n",
       "            \u001b[32m'statute_category'\u001b[0m: \u001b[32m'ra'\u001b[0m,\n",
       "            \u001b[32m'statute_serial_id'\u001b[0m: \u001b[32m'10244'\u001b[0m,\n",
       "            \u001b[32m'locator'\u001b[0m: \u001b[32m'Section 1'\u001b[0m,\n",
       "            \u001b[32m'statute'\u001b[0m: \u001b[32m'Republic Act No. 10244'\u001b[0m,\n",
       "            \u001b[32m'action'\u001b[0m: \u001b[32m'Modified'\u001b[0m,\n",
       "            \u001b[32m'statute_id'\u001b[0m: \u001b[32m'ra-10244-november-08-2012'\u001b[0m,\n",
       "            \u001b[32m'statute_mp'\u001b[0m: \u001b[32m'1.1.'\u001b[0m\n",
       "        \u001b[1m}\u001b[0m,\n",
       "        \u001b[1m{\u001b[0m\n",
       "            \u001b[32m'statute_category'\u001b[0m: \u001b[32m'ra'\u001b[0m,\n",
       "            \u001b[32m'statute_serial_id'\u001b[0m: \u001b[32m'10541'\u001b[0m,\n",
       "            \u001b[32m'locator'\u001b[0m: \u001b[32m'Section 1'\u001b[0m,\n",
       "            \u001b[32m'statute'\u001b[0m: \u001b[32m'Republic Act No. 10541'\u001b[0m,\n",
       "            \u001b[32m'action'\u001b[0m: \u001b[32m'Modified'\u001b[0m,\n",
       "            \u001b[32m'statute_id'\u001b[0m: \u001b[32m'ra-10541-may-15-2013'\u001b[0m,\n",
       "            \u001b[32m'statute_mp'\u001b[0m: \u001b[32m'1.1.'\u001b[0m\n",
       "        \u001b[1m}\u001b[0m\n",
       "    \u001b[1m]\u001b[0m,\n",
       "    \u001b[1m[\u001b[0m\n",
       "        \u001b[1m{\u001b[0m\n",
       "            \u001b[32m'statute_category'\u001b[0m: \u001b[32m'bp'\u001b[0m,\n",
       "            \u001b[32m'statute_serial_id'\u001b[0m: \u001b[32m'129'\u001b[0m,\n",
       "            \u001b[32m'locator'\u001b[0m: \u001b[32m'h'\u001b[0m,\n",
       "            \u001b[32m'content'\u001b[0m: \u001b[32m'Forty-six Regional Trial Judges'\u001b[0m,\n",
       "            \u001b[32m'statute'\u001b[0m: \u001b[32m'Batas Pambansa Blg. 129'\u001b[0m,\n",
       "            \u001b[32m'action'\u001b[0m: \u001b[32m'Originated'\u001b[0m\n",
       "        \u001b[1m}\u001b[0m,\n",
       "        \u001b[1m{\u001b[0m\n",
       "            \u001b[32m'statute_category'\u001b[0m: \u001b[32m'ra'\u001b[0m,\n",
       "            \u001b[32m'statute_serial_id'\u001b[0m: \u001b[32m'7154'\u001b[0m,\n",
       "            \u001b[32m'locator'\u001b[0m: \u001b[32m'h'\u001b[0m,\n",
       "            \u001b[32m'content'\u001b[0m: \u001b[32m'Sixty-four Regional Trial Judges'\u001b[0m,\n",
       "            \u001b[32m'statute'\u001b[0m: \u001b[32m'Republic Act No. 7154'\u001b[0m,\n",
       "            \u001b[32m'action'\u001b[0m: \u001b[32m'Amended'\u001b[0m\n",
       "        \u001b[1m}\u001b[0m,\n",
       "        \u001b[1m{\u001b[0m\n",
       "            \u001b[32m'statute_category'\u001b[0m: \u001b[32m'ra'\u001b[0m,\n",
       "            \u001b[32m'statute_serial_id'\u001b[0m: \u001b[32m'10340'\u001b[0m,\n",
       "            \u001b[32m'locator'\u001b[0m: \u001b[32m'Section 1'\u001b[0m,\n",
       "            \u001b[32m'statute'\u001b[0m: \u001b[32m'Republic Act No. 10340'\u001b[0m,\n",
       "            \u001b[32m'action'\u001b[0m: \u001b[32m'Modified'\u001b[0m,\n",
       "            \u001b[32m'statute_id'\u001b[0m: \u001b[32m'ra-10340-november-21-2012'\u001b[0m,\n",
       "            \u001b[32m'statute_mp'\u001b[0m: \u001b[32m'1.1.'\u001b[0m\n",
       "        \u001b[1m}\u001b[0m,\n",
       "        \u001b[1m{\u001b[0m\n",
       "            \u001b[32m'statute_category'\u001b[0m: \u001b[32m'ra'\u001b[0m,\n",
       "            \u001b[32m'statute_serial_id'\u001b[0m: \u001b[32m'10348'\u001b[0m,\n",
       "            \u001b[32m'locator'\u001b[0m: \u001b[32m'Section 1'\u001b[0m,\n",
       "            \u001b[32m'statute'\u001b[0m: \u001b[32m'Republic Act No. 10348'\u001b[0m,\n",
       "            \u001b[32m'action'\u001b[0m: \u001b[32m'Modified'\u001b[0m,\n",
       "            \u001b[32m'statute_id'\u001b[0m: \u001b[32m'ra-10348-december-06-2012'\u001b[0m,\n",
       "            \u001b[32m'statute_mp'\u001b[0m: \u001b[32m'1.1.'\u001b[0m\n",
       "        \u001b[1m}\u001b[0m,\n",
       "        \u001b[1m{\u001b[0m\n",
       "            \u001b[32m'statute_category'\u001b[0m: \u001b[32m'ra'\u001b[0m,\n",
       "            \u001b[32m'statute_serial_id'\u001b[0m: \u001b[32m'10363'\u001b[0m,\n",
       "            \u001b[32m'locator'\u001b[0m: \u001b[32m'Section 1'\u001b[0m,\n",
       "            \u001b[32m'statute'\u001b[0m: \u001b[32m'Republic Act No. 10363'\u001b[0m,\n",
       "            \u001b[32m'action'\u001b[0m: \u001b[32m'Modified'\u001b[0m,\n",
       "            \u001b[32m'statute_id'\u001b[0m: \u001b[32m'ra-10363-january-28-2013'\u001b[0m,\n",
       "            \u001b[32m'statute_mp'\u001b[0m: \u001b[32m'1.1.'\u001b[0m\n",
       "        \u001b[1m}\u001b[0m,\n",
       "        \u001b[1m{\u001b[0m\n",
       "            \u001b[32m'statute_category'\u001b[0m: \u001b[32m'ra'\u001b[0m,\n",
       "            \u001b[32m'statute_serial_id'\u001b[0m: \u001b[32m'10519'\u001b[0m,\n",
       "            \u001b[32m'locator'\u001b[0m: \u001b[32m'Section 1'\u001b[0m,\n",
       "            \u001b[32m'statute'\u001b[0m: \u001b[32m'Republic Act No. 10519'\u001b[0m,\n",
       "            \u001b[32m'action'\u001b[0m: \u001b[32m'Modified'\u001b[0m,\n",
       "            \u001b[32m'statute_id'\u001b[0m: \u001b[32m'ra-10519-april-23-2013'\u001b[0m,\n",
       "            \u001b[32m'statute_mp'\u001b[0m: \u001b[32m'1.1.'\u001b[0m\n",
       "        \u001b[1m}\u001b[0m,\n",
       "        \u001b[1m{\u001b[0m\n",
       "            \u001b[32m'statute_category'\u001b[0m: \u001b[32m'ra'\u001b[0m,\n",
       "            \u001b[32m'statute_serial_id'\u001b[0m: \u001b[32m'10540'\u001b[0m,\n",
       "            \u001b[32m'locator'\u001b[0m: \u001b[32m'Section 1'\u001b[0m,\n",
       "            \u001b[32m'statute'\u001b[0m: \u001b[32m'Republic Act No. 10540'\u001b[0m,\n",
       "            \u001b[32m'action'\u001b[0m: \u001b[32m'Modified'\u001b[0m,\n",
       "            \u001b[32m'statute_id'\u001b[0m: \u001b[32m'ra-10540-may-15-2013'\u001b[0m,\n",
       "            \u001b[32m'statute_mp'\u001b[0m: \u001b[32m'1.1.'\u001b[0m\n",
       "        \u001b[1m}\u001b[0m,\n",
       "        \u001b[1m{\u001b[0m\n",
       "            \u001b[32m'statute_category'\u001b[0m: \u001b[32m'ra'\u001b[0m,\n",
       "            \u001b[32m'statute_serial_id'\u001b[0m: \u001b[32m'10544'\u001b[0m,\n",
       "            \u001b[32m'locator'\u001b[0m: \u001b[32m'Section 1'\u001b[0m,\n",
       "            \u001b[32m'statute'\u001b[0m: \u001b[32m'Republic Act No. 10544'\u001b[0m,\n",
       "            \u001b[32m'action'\u001b[0m: \u001b[32m'Modified'\u001b[0m,\n",
       "            \u001b[32m'statute_id'\u001b[0m: \u001b[32m'ra-10544-may-15-2013'\u001b[0m,\n",
       "            \u001b[32m'statute_mp'\u001b[0m: \u001b[32m'1.1.'\u001b[0m\n",
       "        \u001b[1m}\u001b[0m,\n",
       "        \u001b[1m{\u001b[0m\n",
       "            \u001b[32m'statute_category'\u001b[0m: \u001b[32m'ra'\u001b[0m,\n",
       "            \u001b[32m'statute_serial_id'\u001b[0m: \u001b[32m'10545'\u001b[0m,\n",
       "            \u001b[32m'locator'\u001b[0m: \u001b[32m'Section 1'\u001b[0m,\n",
       "            \u001b[32m'statute'\u001b[0m: \u001b[32m'Republic Act No. 10545'\u001b[0m,\n",
       "            \u001b[32m'action'\u001b[0m: \u001b[32m'Modified'\u001b[0m,\n",
       "            \u001b[32m'statute_id'\u001b[0m: \u001b[32m'ra-10545-may-15-2013'\u001b[0m,\n",
       "            \u001b[32m'statute_mp'\u001b[0m: \u001b[32m'1.1.'\u001b[0m\n",
       "        \u001b[1m}\u001b[0m,\n",
       "        \u001b[1m{\u001b[0m\n",
       "            \u001b[32m'statute_category'\u001b[0m: \u001b[32m'ra'\u001b[0m,\n",
       "            \u001b[32m'statute_serial_id'\u001b[0m: \u001b[32m'10570'\u001b[0m,\n",
       "            \u001b[32m'locator'\u001b[0m: \u001b[32m'Section 1'\u001b[0m,\n",
       "            \u001b[32m'statute'\u001b[0m: \u001b[32m'Republic Act No. 10570'\u001b[0m,\n",
       "            \u001b[32m'action'\u001b[0m: \u001b[32m'Modified'\u001b[0m\n",
       "        \u001b[1m}\u001b[0m,\n",
       "        \u001b[1m{\u001b[0m\n",
       "            \u001b[32m'statute_category'\u001b[0m: \u001b[32m'ra'\u001b[0m,\n",
       "            \u001b[32m'statute_serial_id'\u001b[0m: \u001b[32m'10571'\u001b[0m,\n",
       "            \u001b[32m'locator'\u001b[0m: \u001b[32m'Section 1'\u001b[0m,\n",
       "            \u001b[32m'statute'\u001b[0m: \u001b[32m'Republic Act No. 10571'\u001b[0m,\n",
       "            \u001b[32m'action'\u001b[0m: \u001b[32m'Modified'\u001b[0m,\n",
       "            \u001b[32m'statute_id'\u001b[0m: \u001b[32m'ra-10571-may-22-2013'\u001b[0m,\n",
       "            \u001b[32m'statute_mp'\u001b[0m: \u001b[32m'1.1.'\u001b[0m\n",
       "        \u001b[1m}\u001b[0m,\n",
       "        \u001b[1m{\u001b[0m\n",
       "            \u001b[32m'statute_category'\u001b[0m: \u001b[32m'ra'\u001b[0m,\n",
       "            \u001b[32m'statute_serial_id'\u001b[0m: \u001b[32m'10578'\u001b[0m,\n",
       "            \u001b[32m'locator'\u001b[0m: \u001b[32m'Section 1'\u001b[0m,\n",
       "            \u001b[32m'statute'\u001b[0m: \u001b[32m'Republic Act No. 10578'\u001b[0m,\n",
       "            \u001b[32m'action'\u001b[0m: \u001b[32m'Modified'\u001b[0m\n",
       "        \u001b[1m}\u001b[0m,\n",
       "        \u001b[1m{\u001b[0m\n",
       "            \u001b[32m'statute_category'\u001b[0m: \u001b[32m'ra'\u001b[0m,\n",
       "            \u001b[32m'statute_serial_id'\u001b[0m: \u001b[32m'10579'\u001b[0m,\n",
       "            \u001b[32m'locator'\u001b[0m: \u001b[32m'Section 1'\u001b[0m,\n",
       "            \u001b[32m'statute'\u001b[0m: \u001b[32m'Republic Act No. 10579'\u001b[0m,\n",
       "            \u001b[32m'action'\u001b[0m: \u001b[32m'Modified'\u001b[0m,\n",
       "            \u001b[32m'statute_id'\u001b[0m: \u001b[32m'ra-10579-may-24-2013'\u001b[0m,\n",
       "            \u001b[32m'statute_mp'\u001b[0m: \u001b[32m'1.1.'\u001b[0m\n",
       "        \u001b[1m}\u001b[0m,\n",
       "        \u001b[1m{\u001b[0m\n",
       "            \u001b[32m'statute_category'\u001b[0m: \u001b[32m'ra'\u001b[0m,\n",
       "            \u001b[32m'statute_serial_id'\u001b[0m: \u001b[32m'10703'\u001b[0m,\n",
       "            \u001b[32m'locator'\u001b[0m: \u001b[32m'Section 1'\u001b[0m,\n",
       "            \u001b[32m'statute'\u001b[0m: \u001b[32m'Republic Act No. 10703'\u001b[0m,\n",
       "            \u001b[32m'action'\u001b[0m: \u001b[32m'Modified'\u001b[0m,\n",
       "            \u001b[32m'statute_id'\u001b[0m: \u001b[32m'ra-10703-november-20-2015'\u001b[0m,\n",
       "            \u001b[32m'statute_mp'\u001b[0m: \u001b[32m'1.1.'\u001b[0m\n",
       "        \u001b[1m}\u001b[0m\n",
       "    \u001b[1m]\u001b[0m,\n",
       "    \u001b[1m[\u001b[0m\n",
       "        \u001b[1m{\u001b[0m\n",
       "            \u001b[32m'statute_category'\u001b[0m: \u001b[32m'bp'\u001b[0m,\n",
       "            \u001b[32m'statute_serial_id'\u001b[0m: \u001b[32m'129'\u001b[0m,\n",
       "            \u001b[32m'locator'\u001b[0m: \u001b[32m'g'\u001b[0m,\n",
       "            \u001b[32m'content'\u001b[0m: \u001b[32m'Sixty-three Regional Trial Judges'\u001b[0m,\n",
       "            \u001b[32m'statute'\u001b[0m: \u001b[32m'Batas Pambansa Blg. 129'\u001b[0m,\n",
       "            \u001b[32m'action'\u001b[0m: \u001b[32m'Originated'\u001b[0m\n",
       "        \u001b[1m}\u001b[0m,\n",
       "        \u001b[1m{\u001b[0m\n",
       "            \u001b[32m'statute_category'\u001b[0m: \u001b[32m'ra'\u001b[0m,\n",
       "            \u001b[32m'statute_serial_id'\u001b[0m: \u001b[32m'7154'\u001b[0m,\n",
       "            \u001b[32m'locator'\u001b[0m: \u001b[32m'g'\u001b[0m,\n",
       "            \u001b[32m'content'\u001b[0m: \u001b[32m'Sixty-nine Regional Trial Judges'\u001b[0m,\n",
       "            \u001b[32m'statute'\u001b[0m: \u001b[32m'Republic Act No. 7154'\u001b[0m,\n",
       "            \u001b[32m'action'\u001b[0m: \u001b[32m'Amended'\u001b[0m\n",
       "        \u001b[1m}\u001b[0m,\n",
       "        \u001b[1m{\u001b[0m\n",
       "            \u001b[32m'statute_category'\u001b[0m: \u001b[32m'ra'\u001b[0m,\n",
       "            \u001b[32m'statute_serial_id'\u001b[0m: \u001b[32m'10245'\u001b[0m,\n",
       "            \u001b[32m'locator'\u001b[0m: \u001b[32m'Section 1'\u001b[0m,\n",
       "            \u001b[32m'statute'\u001b[0m: \u001b[32m'Republic Act No. 10245'\u001b[0m,\n",
       "            \u001b[32m'action'\u001b[0m: \u001b[32m'Modified'\u001b[0m,\n",
       "            \u001b[32m'statute_id'\u001b[0m: \u001b[32m'ra-10245-november-08-2012'\u001b[0m,\n",
       "            \u001b[32m'statute_mp'\u001b[0m: \u001b[32m'1.1.'\u001b[0m\n",
       "        \u001b[1m}\u001b[0m,\n",
       "        \u001b[1m{\u001b[0m\n",
       "            \u001b[32m'statute_category'\u001b[0m: \u001b[32m'ra'\u001b[0m,\n",
       "            \u001b[32m'statute_serial_id'\u001b[0m: \u001b[32m'10247'\u001b[0m,\n",
       "            \u001b[32m'locator'\u001b[0m: \u001b[32m'Section 1'\u001b[0m,\n",
       "            \u001b[32m'statute'\u001b[0m: \u001b[32m'Republic Act No. 10247'\u001b[0m,\n",
       "            \u001b[32m'action'\u001b[0m: \u001b[32m'Modified'\u001b[0m,\n",
       "            \u001b[32m'statute_id'\u001b[0m: \u001b[32m'ra-10247-november-08-2012'\u001b[0m,\n",
       "            \u001b[32m'statute_mp'\u001b[0m: \u001b[32m'1.1.'\u001b[0m\n",
       "        \u001b[1m}\u001b[0m,\n",
       "        \u001b[1m{\u001b[0m\n",
       "            \u001b[32m'statute_category'\u001b[0m: \u001b[32m'ra'\u001b[0m,\n",
       "            \u001b[32m'statute_serial_id'\u001b[0m: \u001b[32m'10248'\u001b[0m,\n",
       "            \u001b[32m'locator'\u001b[0m: \u001b[32m'Section 1'\u001b[0m,\n",
       "            \u001b[32m'statute'\u001b[0m: \u001b[32m'Republic Act No. 10248'\u001b[0m,\n",
       "            \u001b[32m'action'\u001b[0m: \u001b[32m'Modified'\u001b[0m,\n",
       "            \u001b[32m'statute_id'\u001b[0m: \u001b[32m'ra-10248-november-08-2012'\u001b[0m,\n",
       "            \u001b[32m'statute_mp'\u001b[0m: \u001b[32m'1.1.'\u001b[0m\n",
       "        \u001b[1m}\u001b[0m,\n",
       "        \u001b[1m{\u001b[0m\n",
       "            \u001b[32m'statute_category'\u001b[0m: \u001b[32m'ra'\u001b[0m,\n",
       "            \u001b[32m'statute_serial_id'\u001b[0m: \u001b[32m'10250'\u001b[0m,\n",
       "            \u001b[32m'locator'\u001b[0m: \u001b[32m'Section 1'\u001b[0m,\n",
       "            \u001b[32m'statute'\u001b[0m: \u001b[32m'Republic Act No. 10250'\u001b[0m,\n",
       "            \u001b[32m'action'\u001b[0m: \u001b[32m'Modified'\u001b[0m,\n",
       "            \u001b[32m'statute_id'\u001b[0m: \u001b[32m'ra-10250-november-08-2012'\u001b[0m,\n",
       "            \u001b[32m'statute_mp'\u001b[0m: \u001b[32m'1.1.'\u001b[0m\n",
       "        \u001b[1m}\u001b[0m,\n",
       "        \u001b[1m{\u001b[0m\n",
       "            \u001b[32m'statute_category'\u001b[0m: \u001b[32m'ra'\u001b[0m,\n",
       "            \u001b[32m'statute_serial_id'\u001b[0m: \u001b[32m'10371'\u001b[0m,\n",
       "            \u001b[32m'locator'\u001b[0m: \u001b[32m'Section 1'\u001b[0m,\n",
       "            \u001b[32m'statute'\u001b[0m: \u001b[32m'Republic Act No. 10371'\u001b[0m,\n",
       "            \u001b[32m'action'\u001b[0m: \u001b[32m'Modified'\u001b[0m,\n",
       "            \u001b[32m'statute_id'\u001b[0m: \u001b[32m'ra-10371-february-28-2013'\u001b[0m,\n",
       "            \u001b[32m'statute_mp'\u001b[0m: \u001b[32m'1.1.'\u001b[0m\n",
       "        \u001b[1m}\u001b[0m,\n",
       "        \u001b[1m{\u001b[0m\n",
       "            \u001b[32m'statute_category'\u001b[0m: \u001b[32m'ra'\u001b[0m,\n",
       "            \u001b[32m'statute_serial_id'\u001b[0m: \u001b[32m'10392'\u001b[0m,\n",
       "            \u001b[32m'locator'\u001b[0m: \u001b[32m'Section 1'\u001b[0m,\n",
       "            \u001b[32m'statute'\u001b[0m: \u001b[32m'Republic Act No. 10392'\u001b[0m,\n",
       "            \u001b[32m'action'\u001b[0m: \u001b[32m'Modified'\u001b[0m,\n",
       "            \u001b[32m'statute_id'\u001b[0m: \u001b[32m'ra-10392-march-14-2013'\u001b[0m,\n",
       "            \u001b[32m'statute_mp'\u001b[0m: \u001b[32m'1.1.'\u001b[0m\n",
       "        \u001b[1m}\u001b[0m,\n",
       "        \u001b[1m{\u001b[0m\n",
       "            \u001b[32m'statute_category'\u001b[0m: \u001b[32m'ra'\u001b[0m,\n",
       "            \u001b[32m'statute_serial_id'\u001b[0m: \u001b[32m'10715'\u001b[0m,\n",
       "            \u001b[32m'locator'\u001b[0m: \u001b[32m'Section 1'\u001b[0m,\n",
       "            \u001b[32m'statute'\u001b[0m: \u001b[32m'Republic Act No. 10715'\u001b[0m,\n",
       "            \u001b[32m'action'\u001b[0m: \u001b[32m'Modified'\u001b[0m,\n",
       "            \u001b[32m'statute_id'\u001b[0m: \u001b[32m'ra-10715-december-09-2015'\u001b[0m,\n",
       "            \u001b[32m'statute_mp'\u001b[0m: \u001b[32m'1.1.'\u001b[0m\n",
       "        \u001b[1m}\u001b[0m\n",
       "    \u001b[1m]\u001b[0m,\n",
       "    \u001b[1m[\u001b[0m\n",
       "        \u001b[1m{\u001b[0m\n",
       "            \u001b[32m'statute_category'\u001b[0m: \u001b[32m'bp'\u001b[0m,\n",
       "            \u001b[32m'statute_serial_id'\u001b[0m: \u001b[32m'129'\u001b[0m,\n",
       "            \u001b[32m'locator'\u001b[0m: \u001b[32m'f'\u001b[0m,\n",
       "            \u001b[32m'content'\u001b[0m: \u001b[32m'Fifty-five Regional Trial Judges'\u001b[0m,\n",
       "            \u001b[32m'statute'\u001b[0m: \u001b[32m'Batas Pambansa Blg. 129'\u001b[0m,\n",
       "            \u001b[32m'action'\u001b[0m: \u001b[32m'Originated'\u001b[0m\n",
       "        \u001b[1m}\u001b[0m,\n",
       "        \u001b[1m{\u001b[0m\n",
       "            \u001b[32m'statute_category'\u001b[0m: \u001b[32m'ra'\u001b[0m,\n",
       "            \u001b[32m'statute_serial_id'\u001b[0m: \u001b[32m'7154'\u001b[0m,\n",
       "            \u001b[32m'locator'\u001b[0m: \u001b[32m'f'\u001b[0m,\n",
       "            \u001b[32m'content'\u001b[0m: \u001b[32m'Sixty-five Regional Trial Judges'\u001b[0m,\n",
       "            \u001b[32m'statute'\u001b[0m: \u001b[32m'Republic Act No. 7154'\u001b[0m,\n",
       "            \u001b[32m'action'\u001b[0m: \u001b[32m'Amended'\u001b[0m\n",
       "        \u001b[1m}\u001b[0m,\n",
       "        \u001b[1m{\u001b[0m\n",
       "            \u001b[32m'statute_category'\u001b[0m: \u001b[32m'ra'\u001b[0m,\n",
       "            \u001b[32m'statute_serial_id'\u001b[0m: \u001b[32m'10712'\u001b[0m,\n",
       "            \u001b[32m'locator'\u001b[0m: \u001b[32m'Section 1'\u001b[0m,\n",
       "            \u001b[32m'statute'\u001b[0m: \u001b[32m'Republic Act No. 10712'\u001b[0m,\n",
       "            \u001b[32m'action'\u001b[0m: \u001b[32m'Modified'\u001b[0m,\n",
       "            \u001b[32m'statute_id'\u001b[0m: \u001b[32m'ra-10712-december-09-2015'\u001b[0m,\n",
       "            \u001b[32m'statute_mp'\u001b[0m: \u001b[32m'1.1.'\u001b[0m\n",
       "        \u001b[1m}\u001b[0m\n",
       "    \u001b[1m]\u001b[0m,\n",
       "    \u001b[1m[\u001b[0m\n",
       "        \u001b[1m{\u001b[0m\n",
       "            \u001b[32m'statute_category'\u001b[0m: \u001b[32m'bp'\u001b[0m,\n",
       "            \u001b[32m'statute_serial_id'\u001b[0m: \u001b[32m'129'\u001b[0m,\n",
       "            \u001b[32m'locator'\u001b[0m: \u001b[32m'e'\u001b[0m,\n",
       "            \u001b[32m'content'\u001b[0m: \u001b[32m'Eighty-two Regional Trial Judges'\u001b[0m,\n",
       "            \u001b[32m'statute'\u001b[0m: \u001b[32m'Batas Pambansa Blg. 129'\u001b[0m,\n",
       "            \u001b[32m'action'\u001b[0m: \u001b[32m'Originated'\u001b[0m\n",
       "        \u001b[1m}\u001b[0m,\n",
       "        \u001b[1m{\u001b[0m\n",
       "            \u001b[32m'statute_category'\u001b[0m: \u001b[32m'ra'\u001b[0m,\n",
       "            \u001b[32m'statute_serial_id'\u001b[0m: \u001b[32m'7154'\u001b[0m,\n",
       "            \u001b[32m'locator'\u001b[0m: \u001b[32m'e'\u001b[0m,\n",
       "            \u001b[32m'content'\u001b[0m: \u001b[32m'Ninety-six Regional Trial Judges'\u001b[0m,\n",
       "            \u001b[32m'statute'\u001b[0m: \u001b[32m'Republic Act No. 7154'\u001b[0m,\n",
       "            \u001b[32m'action'\u001b[0m: \u001b[32m'Amended'\u001b[0m\n",
       "        \u001b[1m}\u001b[0m,\n",
       "        \u001b[1m{\u001b[0m\n",
       "            \u001b[32m'statute_category'\u001b[0m: \u001b[32m'ra'\u001b[0m,\n",
       "            \u001b[32m'statute_serial_id'\u001b[0m: \u001b[32m'10162'\u001b[0m,\n",
       "            \u001b[32m'locator'\u001b[0m: \u001b[32m'Section 1'\u001b[0m,\n",
       "            \u001b[32m'statute'\u001b[0m: \u001b[32m'Republic Act No. 10162'\u001b[0m,\n",
       "            \u001b[32m'action'\u001b[0m: \u001b[32m'Modified'\u001b[0m,\n",
       "            \u001b[32m'statute_id'\u001b[0m: \u001b[32m'ra-10162-april-17-2012'\u001b[0m,\n",
       "            \u001b[32m'statute_mp'\u001b[0m: \u001b[32m'1.1.'\u001b[0m\n",
       "        \u001b[1m}\u001b[0m,\n",
       "        \u001b[1m{\u001b[0m\n",
       "            \u001b[32m'statute_category'\u001b[0m: \u001b[32m'ra'\u001b[0m,\n",
       "            \u001b[32m'statute_serial_id'\u001b[0m: \u001b[32m'10249'\u001b[0m,\n",
       "            \u001b[32m'locator'\u001b[0m: \u001b[32m'Section 1'\u001b[0m,\n",
       "            \u001b[32m'statute'\u001b[0m: \u001b[32m'Republic Act No. 10249'\u001b[0m,\n",
       "            \u001b[32m'action'\u001b[0m: \u001b[32m'Modified'\u001b[0m,\n",
       "            \u001b[32m'statute_id'\u001b[0m: \u001b[32m'ra-10249-november-08-2012'\u001b[0m,\n",
       "            \u001b[32m'statute_mp'\u001b[0m: \u001b[32m'1.1.'\u001b[0m\n",
       "        \u001b[1m}\u001b[0m,\n",
       "        \u001b[1m{\u001b[0m\n",
       "            \u001b[32m'statute_category'\u001b[0m: \u001b[32m'ra'\u001b[0m,\n",
       "            \u001b[32m'statute_serial_id'\u001b[0m: \u001b[32m'10300'\u001b[0m,\n",
       "            \u001b[32m'locator'\u001b[0m: \u001b[32m'Section 1'\u001b[0m,\n",
       "            \u001b[32m'statute'\u001b[0m: \u001b[32m'Republic Act No. 10300'\u001b[0m,\n",
       "            \u001b[32m'action'\u001b[0m: \u001b[32m'Modified'\u001b[0m,\n",
       "            \u001b[32m'statute_id'\u001b[0m: \u001b[32m'ra-10300-november-15-2012'\u001b[0m,\n",
       "            \u001b[32m'statute_mp'\u001b[0m: \u001b[32m'1.1.'\u001b[0m\n",
       "        \u001b[1m}\u001b[0m,\n",
       "        \u001b[1m{\u001b[0m\n",
       "            \u001b[32m'statute_category'\u001b[0m: \u001b[32m'ra'\u001b[0m,\n",
       "            \u001b[32m'statute_serial_id'\u001b[0m: \u001b[32m'10302'\u001b[0m,\n",
       "            \u001b[32m'locator'\u001b[0m: \u001b[32m'Section 1'\u001b[0m,\n",
       "            \u001b[32m'statute'\u001b[0m: \u001b[32m'Republic Act No. 10302'\u001b[0m,\n",
       "            \u001b[32m'action'\u001b[0m: \u001b[32m'Modified'\u001b[0m,\n",
       "            \u001b[32m'statute_id'\u001b[0m: \u001b[32m'ra-10302-november-15-2012'\u001b[0m,\n",
       "            \u001b[32m'statute_mp'\u001b[0m: \u001b[32m'1.1.'\u001b[0m\n",
       "        \u001b[1m}\u001b[0m,\n",
       "        \u001b[1m{\u001b[0m\n",
       "            \u001b[32m'statute_category'\u001b[0m: \u001b[32m'ra'\u001b[0m,\n",
       "            \u001b[32m'statute_serial_id'\u001b[0m: \u001b[32m'10339'\u001b[0m,\n",
       "            \u001b[32m'locator'\u001b[0m: \u001b[32m'Section 1'\u001b[0m,\n",
       "            \u001b[32m'statute'\u001b[0m: \u001b[32m'Republic Act No. 10339'\u001b[0m,\n",
       "            \u001b[32m'action'\u001b[0m: \u001b[32m'Modified'\u001b[0m,\n",
       "            \u001b[32m'statute_id'\u001b[0m: \u001b[32m'ra-10339-november-21-2012'\u001b[0m,\n",
       "            \u001b[32m'statute_mp'\u001b[0m: \u001b[32m'1.1.'\u001b[0m\n",
       "        \u001b[1m}\u001b[0m,\n",
       "        \u001b[1m{\u001b[0m\n",
       "            \u001b[32m'statute_category'\u001b[0m: \u001b[32m'ra'\u001b[0m,\n",
       "            \u001b[32m'statute_serial_id'\u001b[0m: \u001b[32m'10454'\u001b[0m,\n",
       "            \u001b[32m'locator'\u001b[0m: \u001b[32m'Section 1'\u001b[0m,\n",
       "            \u001b[32m'statute'\u001b[0m: \u001b[32m'Republic Act No. 10454'\u001b[0m,\n",
       "            \u001b[32m'action'\u001b[0m: \u001b[32m'Modified'\u001b[0m\n",
       "        \u001b[1m}\u001b[0m,\n",
       "        \u001b[1m{\u001b[0m\n",
       "            \u001b[32m'statute_category'\u001b[0m: \u001b[32m'ra'\u001b[0m,\n",
       "            \u001b[32m'statute_serial_id'\u001b[0m: \u001b[32m'10517'\u001b[0m,\n",
       "            \u001b[32m'locator'\u001b[0m: \u001b[32m'Section 1'\u001b[0m,\n",
       "            \u001b[32m'statute'\u001b[0m: \u001b[32m'Republic Act No. 10517'\u001b[0m,\n",
       "            \u001b[32m'action'\u001b[0m: \u001b[32m'Modified'\u001b[0m,\n",
       "            \u001b[32m'statute_id'\u001b[0m: \u001b[32m'ra-10517-april-23-2013'\u001b[0m,\n",
       "            \u001b[32m'statute_mp'\u001b[0m: \u001b[32m'1.1.'\u001b[0m\n",
       "        \u001b[1m}\u001b[0m,\n",
       "        \u001b[1m{\u001b[0m\n",
       "            \u001b[32m'statute_category'\u001b[0m: \u001b[32m'ra'\u001b[0m,\n",
       "            \u001b[32m'statute_serial_id'\u001b[0m: \u001b[32m'10518'\u001b[0m,\n",
       "            \u001b[32m'locator'\u001b[0m: \u001b[32m'Section 1'\u001b[0m,\n",
       "            \u001b[32m'statute'\u001b[0m: \u001b[32m'Republic Act No. 10518'\u001b[0m,\n",
       "            \u001b[32m'action'\u001b[0m: \u001b[32m'Modified'\u001b[0m,\n",
       "            \u001b[32m'statute_id'\u001b[0m: \u001b[32m'ra-10518-april-23-2013'\u001b[0m,\n",
       "            \u001b[32m'statute_mp'\u001b[0m: \u001b[32m'1.1.'\u001b[0m\n",
       "        \u001b[1m}\u001b[0m,\n",
       "        \u001b[1m{\u001b[0m\n",
       "            \u001b[32m'statute_category'\u001b[0m: \u001b[32m'ra'\u001b[0m,\n",
       "            \u001b[32m'statute_serial_id'\u001b[0m: \u001b[32m'10523'\u001b[0m,\n",
       "            \u001b[32m'locator'\u001b[0m: \u001b[32m'Section 1'\u001b[0m,\n",
       "            \u001b[32m'statute'\u001b[0m: \u001b[32m'Republic Act No. 10523'\u001b[0m,\n",
       "            \u001b[32m'action'\u001b[0m: \u001b[32m'Modified'\u001b[0m,\n",
       "            \u001b[32m'statute_id'\u001b[0m: \u001b[32m'ra-10523-april-23-2013'\u001b[0m,\n",
       "            \u001b[32m'statute_mp'\u001b[0m: \u001b[32m'1.1.'\u001b[0m\n",
       "        \u001b[1m}\u001b[0m,\n",
       "        \u001b[1m{\u001b[0m\n",
       "            \u001b[32m'statute_category'\u001b[0m: \u001b[32m'ra'\u001b[0m,\n",
       "            \u001b[32m'statute_serial_id'\u001b[0m: \u001b[32m'10539'\u001b[0m,\n",
       "            \u001b[32m'locator'\u001b[0m: \u001b[32m'Section 1'\u001b[0m,\n",
       "            \u001b[32m'statute'\u001b[0m: \u001b[32m'Republic Act No. 10539'\u001b[0m,\n",
       "            \u001b[32m'action'\u001b[0m: \u001b[32m'Modified'\u001b[0m,\n",
       "            \u001b[32m'statute_id'\u001b[0m: \u001b[32m'ra-10539-may-15-2013'\u001b[0m,\n",
       "            \u001b[32m'statute_mp'\u001b[0m: \u001b[32m'1.1.'\u001b[0m\n",
       "        \u001b[1m}\u001b[0m,\n",
       "        \u001b[1m{\u001b[0m\n",
       "            \u001b[32m'statute_category'\u001b[0m: \u001b[32m'ra'\u001b[0m,\n",
       "            \u001b[32m'statute_serial_id'\u001b[0m: \u001b[32m'10543'\u001b[0m,\n",
       "            \u001b[32m'locator'\u001b[0m: \u001b[32m'Section 1'\u001b[0m,\n",
       "            \u001b[32m'statute'\u001b[0m: \u001b[32m'Republic Act No. 10543'\u001b[0m,\n",
       "            \u001b[32m'action'\u001b[0m: \u001b[32m'Modified'\u001b[0m,\n",
       "            \u001b[32m'statute_id'\u001b[0m: \u001b[32m'ra-10543-may-15-2013'\u001b[0m,\n",
       "            \u001b[32m'statute_mp'\u001b[0m: \u001b[32m'1.1.'\u001b[0m\n",
       "        \u001b[1m}\u001b[0m,\n",
       "        \u001b[1m{\u001b[0m\n",
       "            \u001b[32m'statute_category'\u001b[0m: \u001b[32m'ra'\u001b[0m,\n",
       "            \u001b[32m'statute_serial_id'\u001b[0m: \u001b[32m'10547'\u001b[0m,\n",
       "            \u001b[32m'locator'\u001b[0m: \u001b[32m'Section 1'\u001b[0m,\n",
       "            \u001b[32m'statute'\u001b[0m: \u001b[32m'Republic Act No. 10547'\u001b[0m,\n",
       "            \u001b[32m'action'\u001b[0m: \u001b[32m'Modified'\u001b[0m,\n",
       "            \u001b[32m'statute_id'\u001b[0m: \u001b[32m'ra-10547-may-15-2013'\u001b[0m,\n",
       "            \u001b[32m'statute_mp'\u001b[0m: \u001b[32m'1.1.'\u001b[0m\n",
       "        \u001b[1m}\u001b[0m,\n",
       "        \u001b[1m{\u001b[0m\n",
       "            \u001b[32m'statute_category'\u001b[0m: \u001b[32m'ra'\u001b[0m,\n",
       "            \u001b[32m'statute_serial_id'\u001b[0m: \u001b[32m'10568'\u001b[0m,\n",
       "            \u001b[32m'locator'\u001b[0m: \u001b[32m'Section 1'\u001b[0m,\n",
       "            \u001b[32m'statute'\u001b[0m: \u001b[32m'Republic Act No. 10568'\u001b[0m,\n",
       "            \u001b[32m'action'\u001b[0m: \u001b[32m'Modified'\u001b[0m\n",
       "        \u001b[1m}\u001b[0m,\n",
       "        \u001b[1m{\u001b[0m\n",
       "            \u001b[32m'statute_category'\u001b[0m: \u001b[32m'ra'\u001b[0m,\n",
       "            \u001b[32m'statute_serial_id'\u001b[0m: \u001b[32m'10569'\u001b[0m,\n",
       "            \u001b[32m'locator'\u001b[0m: \u001b[32m'Section 1'\u001b[0m,\n",
       "            \u001b[32m'statute'\u001b[0m: \u001b[32m'Republic Act No. 10569'\u001b[0m,\n",
       "            \u001b[32m'action'\u001b[0m: \u001b[32m'Modified'\u001b[0m,\n",
       "            \u001b[32m'statute_id'\u001b[0m: \u001b[32m'ra-10569-may-22-2013'\u001b[0m,\n",
       "            \u001b[32m'statute_mp'\u001b[0m: \u001b[32m'1.1.'\u001b[0m\n",
       "        \u001b[1m}\u001b[0m,\n",
       "        \u001b[1m{\u001b[0m\n",
       "            \u001b[32m'statute_category'\u001b[0m: \u001b[32m'ra'\u001b[0m,\n",
       "            \u001b[32m'statute_serial_id'\u001b[0m: \u001b[32m'10580'\u001b[0m,\n",
       "            \u001b[32m'locator'\u001b[0m: \u001b[32m'Section 1'\u001b[0m,\n",
       "            \u001b[32m'statute'\u001b[0m: \u001b[32m'Republic Act No. 10580'\u001b[0m,\n",
       "            \u001b[32m'action'\u001b[0m: \u001b[32m'Modified'\u001b[0m,\n",
       "            \u001b[32m'statute_id'\u001b[0m: \u001b[32m'ra-10580-may-24-2013'\u001b[0m,\n",
       "            \u001b[32m'statute_mp'\u001b[0m: \u001b[32m'1.1.'\u001b[0m\n",
       "        \u001b[1m}\u001b[0m,\n",
       "        \u001b[1m{\u001b[0m\n",
       "            \u001b[32m'statute_category'\u001b[0m: \u001b[32m'ra'\u001b[0m,\n",
       "            \u001b[32m'statute_serial_id'\u001b[0m: \u001b[32m'10603'\u001b[0m,\n",
       "            \u001b[32m'locator'\u001b[0m: \u001b[32m'Section 1'\u001b[0m,\n",
       "            \u001b[32m'statute'\u001b[0m: \u001b[32m'Republic Act No. 10603'\u001b[0m,\n",
       "            \u001b[32m'action'\u001b[0m: \u001b[32m'Modified'\u001b[0m,\n",
       "            \u001b[32m'statute_id'\u001b[0m: \u001b[32m'ra-10603-june-11-2013'\u001b[0m,\n",
       "            \u001b[32m'statute_mp'\u001b[0m: \u001b[32m'1.1.'\u001b[0m\n",
       "        \u001b[1m}\u001b[0m,\n",
       "        \u001b[1m{\u001b[0m\n",
       "            \u001b[32m'statute_category'\u001b[0m: \u001b[32m'ra'\u001b[0m,\n",
       "            \u001b[32m'statute_serial_id'\u001b[0m: \u001b[32m'10880'\u001b[0m,\n",
       "            \u001b[32m'locator'\u001b[0m: \u001b[32m'Section 1'\u001b[0m,\n",
       "            \u001b[32m'statute'\u001b[0m: \u001b[32m'Republic Act No. 10880'\u001b[0m,\n",
       "            \u001b[32m'action'\u001b[0m: \u001b[32m'Modified'\u001b[0m,\n",
       "            \u001b[32m'statute_id'\u001b[0m: \u001b[32m'ra-10880-july-17-2016'\u001b[0m,\n",
       "            \u001b[32m'statute_mp'\u001b[0m: \u001b[32m'1.1.'\u001b[0m\n",
       "        \u001b[1m}\u001b[0m,\n",
       "        \u001b[1m{\u001b[0m\n",
       "            \u001b[32m'statute_category'\u001b[0m: \u001b[32m'ra'\u001b[0m,\n",
       "            \u001b[32m'statute_serial_id'\u001b[0m: \u001b[32m'11383'\u001b[0m,\n",
       "            \u001b[32m'locator'\u001b[0m: \u001b[32m'Section 1'\u001b[0m,\n",
       "            \u001b[32m'statute'\u001b[0m: \u001b[32m'Republic Act No. 11383'\u001b[0m,\n",
       "            \u001b[32m'action'\u001b[0m: \u001b[32m'Modified'\u001b[0m,\n",
       "            \u001b[32m'statute_id'\u001b[0m: \u001b[32m'ra-11383-august-22-2019'\u001b[0m,\n",
       "            \u001b[32m'statute_mp'\u001b[0m: \u001b[32m'1.1.'\u001b[0m\n",
       "        \u001b[1m}\u001b[0m,\n",
       "        \u001b[1m{\u001b[0m\n",
       "            \u001b[32m'statute_category'\u001b[0m: \u001b[32m'ra'\u001b[0m,\n",
       "            \u001b[32m'statute_serial_id'\u001b[0m: \u001b[32m'11385'\u001b[0m,\n",
       "            \u001b[32m'locator'\u001b[0m: \u001b[32m'Section 1'\u001b[0m,\n",
       "            \u001b[32m'statute'\u001b[0m: \u001b[32m'Republic Act No. 11385'\u001b[0m,\n",
       "            \u001b[32m'action'\u001b[0m: \u001b[32m'Modified'\u001b[0m\n",
       "        \u001b[1m}\u001b[0m,\n",
       "        \u001b[1m{\u001b[0m\n",
       "            \u001b[32m'statute_category'\u001b[0m: \u001b[32m'ra'\u001b[0m,\n",
       "            \u001b[32m'statute_serial_id'\u001b[0m: \u001b[32m'11387'\u001b[0m,\n",
       "            \u001b[32m'locator'\u001b[0m: \u001b[32m'Section 1'\u001b[0m,\n",
       "            \u001b[32m'statute'\u001b[0m: \u001b[32m'Republic Act No. 11387'\u001b[0m,\n",
       "            \u001b[32m'action'\u001b[0m: \u001b[32m'Modified'\u001b[0m,\n",
       "            \u001b[32m'statute_id'\u001b[0m: \u001b[32m'ra-11387-august-22-2019'\u001b[0m,\n",
       "            \u001b[32m'statute_mp'\u001b[0m: \u001b[32m'1.1.'\u001b[0m\n",
       "        \u001b[1m}\u001b[0m,\n",
       "        \u001b[1m{\u001b[0m\n",
       "            \u001b[32m'statute_category'\u001b[0m: \u001b[32m'ra'\u001b[0m,\n",
       "            \u001b[32m'statute_serial_id'\u001b[0m: \u001b[32m'11388'\u001b[0m,\n",
       "            \u001b[32m'locator'\u001b[0m: \u001b[32m'Section 1'\u001b[0m,\n",
       "            \u001b[32m'statute'\u001b[0m: \u001b[32m'Republic Act No. 11388'\u001b[0m,\n",
       "            \u001b[32m'action'\u001b[0m: \u001b[32m'Modified'\u001b[0m\n",
       "        \u001b[1m}\u001b[0m\n",
       "    \u001b[1m]\u001b[0m,\n",
       "    \u001b[1m[\u001b[0m\n",
       "        \u001b[1m{\u001b[0m\n",
       "            \u001b[32m'statute_category'\u001b[0m: \u001b[32m'bp'\u001b[0m,\n",
       "            \u001b[32m'statute_serial_id'\u001b[0m: \u001b[32m'129'\u001b[0m,\n",
       "            \u001b[32m'locator'\u001b[0m: \u001b[32m'd'\u001b[0m,\n",
       "            \u001b[32m'content'\u001b[0m: \u001b[32m'Seventy-five Regional Trial Judges'\u001b[0m,\n",
       "            \u001b[32m'statute'\u001b[0m: \u001b[32m'Batas Pambansa Blg. 129'\u001b[0m,\n",
       "            \u001b[32m'action'\u001b[0m: \u001b[32m'Originated'\u001b[0m\n",
       "        \u001b[1m}\u001b[0m,\n",
       "        \u001b[1m{\u001b[0m\n",
       "            \u001b[32m'statute_category'\u001b[0m: \u001b[32m'ra'\u001b[0m,\n",
       "            \u001b[32m'statute_serial_id'\u001b[0m: \u001b[32m'7154'\u001b[0m,\n",
       "            \u001b[32m'locator'\u001b[0m: \u001b[32m'd'\u001b[0m,\n",
       "            \u001b[32m'content'\u001b[0m: \u001b[32m'Two hundred seventy-six Regional Trial Judges'\u001b[0m,\n",
       "            \u001b[32m'statute'\u001b[0m: \u001b[32m'Republic Act No. 7154'\u001b[0m,\n",
       "            \u001b[32m'action'\u001b[0m: \u001b[32m'Amended'\u001b[0m\n",
       "        \u001b[1m}\u001b[0m,\n",
       "        \u001b[1m{\u001b[0m\n",
       "            \u001b[32m'statute_category'\u001b[0m: \u001b[32m'ra'\u001b[0m,\n",
       "            \u001b[32m'statute_serial_id'\u001b[0m: \u001b[32m'9848'\u001b[0m,\n",
       "            \u001b[32m'locator'\u001b[0m: \u001b[32m'Section 1'\u001b[0m,\n",
       "            \u001b[32m'statute'\u001b[0m: \u001b[32m'Republic Act No. 9848'\u001b[0m,\n",
       "            \u001b[32m'action'\u001b[0m: \u001b[32m'Modified'\u001b[0m\n",
       "        \u001b[1m}\u001b[0m,\n",
       "        \u001b[1m{\u001b[0m\n",
       "            \u001b[32m'statute_category'\u001b[0m: \u001b[32m'ra'\u001b[0m,\n",
       "            \u001b[32m'statute_serial_id'\u001b[0m: \u001b[32m'10299'\u001b[0m,\n",
       "            \u001b[32m'locator'\u001b[0m: \u001b[32m'Section 1'\u001b[0m,\n",
       "            \u001b[32m'statute'\u001b[0m: \u001b[32m'Republic Act No. 10299'\u001b[0m,\n",
       "            \u001b[32m'action'\u001b[0m: \u001b[32m'Modified'\u001b[0m\n",
       "        \u001b[1m}\u001b[0m,\n",
       "        \u001b[1m{\u001b[0m\n",
       "            \u001b[32m'statute_category'\u001b[0m: \u001b[32m'ra'\u001b[0m,\n",
       "            \u001b[32m'statute_serial_id'\u001b[0m: \u001b[32m'10394'\u001b[0m,\n",
       "            \u001b[32m'locator'\u001b[0m: \u001b[32m'Section 1'\u001b[0m,\n",
       "            \u001b[32m'statute'\u001b[0m: \u001b[32m'Republic Act No. 10394'\u001b[0m,\n",
       "            \u001b[32m'action'\u001b[0m: \u001b[32m'Modified'\u001b[0m,\n",
       "            \u001b[32m'statute_id'\u001b[0m: \u001b[32m'ra-10394-march-14-2013'\u001b[0m,\n",
       "            \u001b[32m'statute_mp'\u001b[0m: \u001b[32m'1.1.'\u001b[0m\n",
       "        \u001b[1m}\u001b[0m,\n",
       "        \u001b[1m{\u001b[0m\n",
       "            \u001b[32m'statute_category'\u001b[0m: \u001b[32m'ra'\u001b[0m,\n",
       "            \u001b[32m'statute_serial_id'\u001b[0m: \u001b[32m'10341'\u001b[0m,\n",
       "            \u001b[32m'locator'\u001b[0m: \u001b[32m'Section 1'\u001b[0m,\n",
       "            \u001b[32m'statute'\u001b[0m: \u001b[32m'Republic Act No. 10341'\u001b[0m,\n",
       "            \u001b[32m'action'\u001b[0m: \u001b[32m'Modified'\u001b[0m\n",
       "        \u001b[1m}\u001b[0m,\n",
       "        \u001b[1m{\u001b[0m\n",
       "            \u001b[32m'statute_category'\u001b[0m: \u001b[32m'ra'\u001b[0m,\n",
       "            \u001b[32m'statute_serial_id'\u001b[0m: \u001b[32m'10520'\u001b[0m,\n",
       "            \u001b[32m'locator'\u001b[0m: \u001b[32m'Section 1'\u001b[0m,\n",
       "            \u001b[32m'statute'\u001b[0m: \u001b[32m'Republic Act No. 10520'\u001b[0m,\n",
       "            \u001b[32m'action'\u001b[0m: \u001b[32m'Modified'\u001b[0m\n",
       "        \u001b[1m}\u001b[0m,\n",
       "        \u001b[1m{\u001b[0m\n",
       "            \u001b[32m'statute_category'\u001b[0m: \u001b[32m'ra'\u001b[0m,\n",
       "            \u001b[32m'statute_serial_id'\u001b[0m: \u001b[32m'10704'\u001b[0m,\n",
       "            \u001b[32m'locator'\u001b[0m: \u001b[32m'Section 1'\u001b[0m,\n",
       "            \u001b[32m'statute'\u001b[0m: \u001b[32m'Republic Act No. 10704'\u001b[0m,\n",
       "            \u001b[32m'action'\u001b[0m: \u001b[32m'Modified'\u001b[0m,\n",
       "            \u001b[32m'statute_id'\u001b[0m: \u001b[32m'ra-10704-november-20-2015'\u001b[0m,\n",
       "            \u001b[32m'statute_mp'\u001b[0m: \u001b[32m'1.1.'\u001b[0m\n",
       "        \u001b[1m}\u001b[0m,\n",
       "        \u001b[1m{\u001b[0m\n",
       "            \u001b[32m'statute_category'\u001b[0m: \u001b[32m'ra'\u001b[0m,\n",
       "            \u001b[32m'statute_serial_id'\u001b[0m: \u001b[32m'10711'\u001b[0m,\n",
       "            \u001b[32m'locator'\u001b[0m: \u001b[32m'Section 1'\u001b[0m,\n",
       "            \u001b[32m'statute'\u001b[0m: \u001b[32m'Republic Act No. 10711'\u001b[0m,\n",
       "            \u001b[32m'action'\u001b[0m: \u001b[32m'Modified'\u001b[0m\n",
       "        \u001b[1m}\u001b[0m,\n",
       "        \u001b[1m{\u001b[0m\n",
       "            \u001b[32m'statute_category'\u001b[0m: \u001b[32m'ra'\u001b[0m,\n",
       "            \u001b[32m'statute_serial_id'\u001b[0m: \u001b[32m'10713'\u001b[0m,\n",
       "            \u001b[32m'locator'\u001b[0m: \u001b[32m'Section 1'\u001b[0m,\n",
       "            \u001b[32m'statute'\u001b[0m: \u001b[32m'Republic Act No. 10713'\u001b[0m,\n",
       "            \u001b[32m'action'\u001b[0m: \u001b[32m'Modified'\u001b[0m,\n",
       "            \u001b[32m'statute_id'\u001b[0m: \u001b[32m'ra-10713-december-09-2015'\u001b[0m,\n",
       "            \u001b[32m'statute_mp'\u001b[0m: \u001b[32m'1.1.'\u001b[0m\n",
       "        \u001b[1m}\u001b[0m\n",
       "    \u001b[1m]\u001b[0m,\n",
       "    \u001b[1m[\u001b[0m\n",
       "        \u001b[1m{\u001b[0m\n",
       "            \u001b[32m'statute_category'\u001b[0m: \u001b[32m'bp'\u001b[0m,\n",
       "            \u001b[32m'statute_serial_id'\u001b[0m: \u001b[32m'129'\u001b[0m,\n",
       "            \u001b[32m'locator'\u001b[0m: \u001b[32m'c'\u001b[0m,\n",
       "            \u001b[32m'content'\u001b[0m: \u001b[32m'Seventy-five Regional Trial Judges'\u001b[0m,\n",
       "            \u001b[32m'statute'\u001b[0m: \u001b[32m'Batas Pambansa Blg. 129'\u001b[0m,\n",
       "            \u001b[32m'action'\u001b[0m: \u001b[32m'Originated'\u001b[0m\n",
       "        \u001b[1m}\u001b[0m,\n",
       "        \u001b[1m{\u001b[0m\n",
       "            \u001b[32m'statute_category'\u001b[0m: \u001b[32m'ra'\u001b[0m,\n",
       "            \u001b[32m'statute_serial_id'\u001b[0m: \u001b[32m'9680'\u001b[0m,\n",
       "            \u001b[32m'locator'\u001b[0m: \u001b[32m'Section 14'\u001b[0m,\n",
       "            \u001b[32m'caption'\u001b[0m: \u001b[32m'Regional Trial Courts.'\u001b[0m,\n",
       "            \u001b[32m'statute'\u001b[0m: \u001b[32m'Republic Act No. 9680'\u001b[0m,\n",
       "            \u001b[32m'action'\u001b[0m: \u001b[32m'Amended'\u001b[0m,\n",
       "            \u001b[32m'statute_id'\u001b[0m: \u001b[32m'ra-9680-july-29-2009'\u001b[0m,\n",
       "            \u001b[32m'statute_mp'\u001b[0m: \u001b[32m'1.1.1.'\u001b[0m\n",
       "        \u001b[1m}\u001b[0m,\n",
       "        \u001b[1m{\u001b[0m\n",
       "            \u001b[32m'statute_category'\u001b[0m: \u001b[32m'ra'\u001b[0m,\n",
       "            \u001b[32m'statute_serial_id'\u001b[0m: \u001b[32m'10303'\u001b[0m,\n",
       "            \u001b[32m'locator'\u001b[0m: \u001b[32m'Section 1'\u001b[0m,\n",
       "            \u001b[32m'statute'\u001b[0m: \u001b[32m'Republic Act No. 10303'\u001b[0m,\n",
       "            \u001b[32m'action'\u001b[0m: \u001b[32m'Modified'\u001b[0m,\n",
       "            \u001b[32m'statute_id'\u001b[0m: \u001b[32m'ra-10303-november-15-2012'\u001b[0m,\n",
       "            \u001b[32m'statute_mp'\u001b[0m: \u001b[32m'1.1.'\u001b[0m\n",
       "        \u001b[1m}\u001b[0m,\n",
       "        \u001b[1m{\u001b[0m\n",
       "            \u001b[32m'statute_category'\u001b[0m: \u001b[32m'ra'\u001b[0m,\n",
       "            \u001b[32m'statute_serial_id'\u001b[0m: \u001b[32m'10521'\u001b[0m,\n",
       "            \u001b[32m'locator'\u001b[0m: \u001b[32m'Section 1'\u001b[0m,\n",
       "            \u001b[32m'statute'\u001b[0m: \u001b[32m'Republic Act No. 10521'\u001b[0m,\n",
       "            \u001b[32m'action'\u001b[0m: \u001b[32m'Modified'\u001b[0m,\n",
       "            \u001b[32m'statute_id'\u001b[0m: \u001b[32m'ra-10521-april-23-2013'\u001b[0m,\n",
       "            \u001b[32m'statute_mp'\u001b[0m: \u001b[32m'1.1.'\u001b[0m\n",
       "        \u001b[1m}\u001b[0m,\n",
       "        \u001b[1m{\u001b[0m\n",
       "            \u001b[32m'statute_category'\u001b[0m: \u001b[32m'ra'\u001b[0m,\n",
       "            \u001b[32m'statute_serial_id'\u001b[0m: \u001b[32m'10562'\u001b[0m,\n",
       "            \u001b[32m'locator'\u001b[0m: \u001b[32m'Section 1'\u001b[0m,\n",
       "            \u001b[32m'statute'\u001b[0m: \u001b[32m'Republic Act No. 10562'\u001b[0m,\n",
       "            \u001b[32m'action'\u001b[0m: \u001b[32m'Modified'\u001b[0m,\n",
       "            \u001b[32m'statute_id'\u001b[0m: \u001b[32m'ra-10562-may-17-2013'\u001b[0m,\n",
       "            \u001b[32m'statute_mp'\u001b[0m: \u001b[32m'1.1.'\u001b[0m\n",
       "        \u001b[1m}\u001b[0m,\n",
       "        \u001b[1m{\u001b[0m\n",
       "            \u001b[32m'statute_category'\u001b[0m: \u001b[32m'ra'\u001b[0m,\n",
       "            \u001b[32m'statute_serial_id'\u001b[0m: \u001b[32m'10563'\u001b[0m,\n",
       "            \u001b[32m'locator'\u001b[0m: \u001b[32m'Section 1'\u001b[0m,\n",
       "            \u001b[32m'statute'\u001b[0m: \u001b[32m'Republic Act No. 10563'\u001b[0m,\n",
       "            \u001b[32m'action'\u001b[0m: \u001b[32m'Modified'\u001b[0m,\n",
       "            \u001b[32m'statute_id'\u001b[0m: \u001b[32m'ra-10563-may-15-2013'\u001b[0m,\n",
       "            \u001b[32m'statute_mp'\u001b[0m: \u001b[32m'1.1.'\u001b[0m\n",
       "        \u001b[1m}\u001b[0m,\n",
       "        \u001b[1m{\u001b[0m\n",
       "            \u001b[32m'statute_category'\u001b[0m: \u001b[32m'ra'\u001b[0m,\n",
       "            \u001b[32m'statute_serial_id'\u001b[0m: \u001b[32m'10564'\u001b[0m,\n",
       "            \u001b[32m'locator'\u001b[0m: \u001b[32m'Section 1'\u001b[0m,\n",
       "            \u001b[32m'statute'\u001b[0m: \u001b[32m'Republic Act No. 10564'\u001b[0m,\n",
       "            \u001b[32m'action'\u001b[0m: \u001b[32m'Modified'\u001b[0m,\n",
       "            \u001b[32m'statute_id'\u001b[0m: \u001b[32m'ra-10564-may-15-2013'\u001b[0m,\n",
       "            \u001b[32m'statute_mp'\u001b[0m: \u001b[32m'1.1.'\u001b[0m\n",
       "        \u001b[1m}\u001b[0m,\n",
       "        \u001b[1m{\u001b[0m\n",
       "            \u001b[32m'statute_category'\u001b[0m: \u001b[32m'ra'\u001b[0m,\n",
       "            \u001b[32m'statute_serial_id'\u001b[0m: \u001b[32m'10581'\u001b[0m,\n",
       "            \u001b[32m'locator'\u001b[0m: \u001b[32m'Section 1'\u001b[0m,\n",
       "            \u001b[32m'statute'\u001b[0m: \u001b[32m'Republic Act No. 10581'\u001b[0m,\n",
       "            \u001b[32m'action'\u001b[0m: \u001b[32m'Modified'\u001b[0m,\n",
       "            \u001b[32m'statute_id'\u001b[0m: \u001b[32m'ra-10581-may-24-2013'\u001b[0m,\n",
       "            \u001b[32m'statute_mp'\u001b[0m: \u001b[32m'1.1.'\u001b[0m\n",
       "        \u001b[1m}\u001b[0m,\n",
       "        \u001b[1m{\u001b[0m\n",
       "            \u001b[32m'statute_category'\u001b[0m: \u001b[32m'ra'\u001b[0m,\n",
       "            \u001b[32m'statute_serial_id'\u001b[0m: \u001b[32m'10582'\u001b[0m,\n",
       "            \u001b[32m'locator'\u001b[0m: \u001b[32m'Section 1'\u001b[0m,\n",
       "            \u001b[32m'statute'\u001b[0m: \u001b[32m'Republic Act No. 10582'\u001b[0m,\n",
       "            \u001b[32m'action'\u001b[0m: \u001b[32m'Modified'\u001b[0m,\n",
       "            \u001b[32m'statute_id'\u001b[0m: \u001b[32m'ra-10582-may-24-2013'\u001b[0m,\n",
       "            \u001b[32m'statute_mp'\u001b[0m: \u001b[32m'1.1.'\u001b[0m\n",
       "        \u001b[1m}\u001b[0m,\n",
       "        \u001b[1m{\u001b[0m\n",
       "            \u001b[32m'statute_category'\u001b[0m: \u001b[32m'ra'\u001b[0m,\n",
       "            \u001b[32m'statute_serial_id'\u001b[0m: \u001b[32m'10695'\u001b[0m,\n",
       "            \u001b[32m'locator'\u001b[0m: \u001b[32m'Section 1'\u001b[0m,\n",
       "            \u001b[32m'statute'\u001b[0m: \u001b[32m'Republic Act No. 10695'\u001b[0m,\n",
       "            \u001b[32m'action'\u001b[0m: \u001b[32m'Modified'\u001b[0m,\n",
       "            \u001b[32m'statute_id'\u001b[0m: \u001b[32m'ra-10695-november-11-2015'\u001b[0m,\n",
       "            \u001b[32m'statute_mp'\u001b[0m: \u001b[32m'1.1.'\u001b[0m\n",
       "        \u001b[1m}\u001b[0m,\n",
       "        \u001b[1m{\u001b[0m\n",
       "            \u001b[32m'statute_category'\u001b[0m: \u001b[32m'ra'\u001b[0m,\n",
       "            \u001b[32m'statute_serial_id'\u001b[0m: \u001b[32m'10700'\u001b[0m,\n",
       "            \u001b[32m'locator'\u001b[0m: \u001b[32m'Section 1'\u001b[0m,\n",
       "            \u001b[32m'statute'\u001b[0m: \u001b[32m'Republic Act No. 10700'\u001b[0m,\n",
       "            \u001b[32m'action'\u001b[0m: \u001b[32m'Modified'\u001b[0m,\n",
       "            \u001b[32m'statute_id'\u001b[0m: \u001b[32m'ra-10700-november-20-2015'\u001b[0m,\n",
       "            \u001b[32m'statute_mp'\u001b[0m: \u001b[32m'1.1.'\u001b[0m\n",
       "        \u001b[1m}\u001b[0m,\n",
       "        \u001b[1m{\u001b[0m\n",
       "            \u001b[32m'statute_category'\u001b[0m: \u001b[32m'ra'\u001b[0m,\n",
       "            \u001b[32m'statute_serial_id'\u001b[0m: \u001b[32m'10702'\u001b[0m,\n",
       "            \u001b[32m'locator'\u001b[0m: \u001b[32m'Section 1'\u001b[0m,\n",
       "            \u001b[32m'statute'\u001b[0m: \u001b[32m'Republic Act No. 10702'\u001b[0m,\n",
       "            \u001b[32m'action'\u001b[0m: \u001b[32m'Modified'\u001b[0m,\n",
       "            \u001b[32m'statute_id'\u001b[0m: \u001b[32m'ra-10702-november-20-2015'\u001b[0m,\n",
       "            \u001b[32m'statute_mp'\u001b[0m: \u001b[32m'1.1.'\u001b[0m\n",
       "        \u001b[1m}\u001b[0m,\n",
       "        \u001b[1m{\u001b[0m\n",
       "            \u001b[32m'statute_category'\u001b[0m: \u001b[32m'ra'\u001b[0m,\n",
       "            \u001b[32m'statute_serial_id'\u001b[0m: \u001b[32m'10739'\u001b[0m,\n",
       "            \u001b[32m'locator'\u001b[0m: \u001b[32m'Section 1'\u001b[0m,\n",
       "            \u001b[32m'statute'\u001b[0m: \u001b[32m'Republic Act No. 10739'\u001b[0m,\n",
       "            \u001b[32m'action'\u001b[0m: \u001b[32m'Modified'\u001b[0m,\n",
       "            \u001b[32m'statute_id'\u001b[0m: \u001b[32m'ra-10739-december-29-2015'\u001b[0m,\n",
       "            \u001b[32m'statute_mp'\u001b[0m: \u001b[32m'1.1.'\u001b[0m\n",
       "        \u001b[1m}\u001b[0m,\n",
       "        \u001b[1m{\u001b[0m\n",
       "            \u001b[32m'statute_category'\u001b[0m: \u001b[32m'ra'\u001b[0m,\n",
       "            \u001b[32m'statute_serial_id'\u001b[0m: \u001b[32m'11349'\u001b[0m,\n",
       "            \u001b[32m'locator'\u001b[0m: \u001b[32m'Section 1'\u001b[0m,\n",
       "            \u001b[32m'statute'\u001b[0m: \u001b[32m'Republic Act No. 11349'\u001b[0m,\n",
       "            \u001b[32m'action'\u001b[0m: \u001b[32m'Modified'\u001b[0m,\n",
       "            \u001b[32m'statute_id'\u001b[0m: \u001b[32m'ra-11349-july-25-2019'\u001b[0m,\n",
       "            \u001b[32m'statute_mp'\u001b[0m: \u001b[32m'1.1.'\u001b[0m\n",
       "        \u001b[1m}\u001b[0m\n",
       "    \u001b[1m]\u001b[0m,\n",
       "    \u001b[1m[\u001b[0m\n",
       "        \u001b[1m{\u001b[0m\n",
       "            \u001b[32m'statute_category'\u001b[0m: \u001b[32m'bp'\u001b[0m,\n",
       "            \u001b[32m'statute_serial_id'\u001b[0m: \u001b[32m'129'\u001b[0m,\n",
       "            \u001b[32m'locator'\u001b[0m: \u001b[32m'b'\u001b[0m,\n",
       "            \u001b[32m'content'\u001b[0m: \u001b[32m'Thirty-two Regional Trial Judges'\u001b[0m,\n",
       "            \u001b[32m'statute'\u001b[0m: \u001b[32m'Batas Pambansa Blg. 129'\u001b[0m,\n",
       "            \u001b[32m'action'\u001b[0m: \u001b[32m'Originated'\u001b[0m\n",
       "        \u001b[1m}\u001b[0m,\n",
       "        \u001b[1m{\u001b[0m\n",
       "            \u001b[32m'statute_category'\u001b[0m: \u001b[32m'ra'\u001b[0m,\n",
       "            \u001b[32m'statute_serial_id'\u001b[0m: \u001b[32m'7154'\u001b[0m,\n",
       "            \u001b[32m'locator'\u001b[0m: \u001b[32m'b'\u001b[0m,\n",
       "            \u001b[32m'content'\u001b[0m: \u001b[32m'Thirty-eight Regional Trial Judges'\u001b[0m,\n",
       "            \u001b[32m'statute'\u001b[0m: \u001b[32m'Republic Act No. 7154'\u001b[0m,\n",
       "            \u001b[32m'action'\u001b[0m: \u001b[32m'Amended'\u001b[0m\n",
       "        \u001b[1m}\u001b[0m,\n",
       "        \u001b[1m{\u001b[0m\n",
       "            \u001b[32m'statute_category'\u001b[0m: \u001b[32m'ra'\u001b[0m,\n",
       "            \u001b[32m'statute_serial_id'\u001b[0m: \u001b[32m'10298'\u001b[0m,\n",
       "            \u001b[32m'locator'\u001b[0m: \u001b[32m'Section 1'\u001b[0m,\n",
       "            \u001b[32m'statute'\u001b[0m: \u001b[32m'Republic Act No. 10298'\u001b[0m,\n",
       "            \u001b[32m'action'\u001b[0m: \u001b[32m'Modified'\u001b[0m,\n",
       "            \u001b[32m'statute_id'\u001b[0m: \u001b[32m'ra-10298-november-15-2012'\u001b[0m,\n",
       "            \u001b[32m'statute_mp'\u001b[0m: \u001b[32m'1.1.'\u001b[0m\n",
       "        \u001b[1m}\u001b[0m,\n",
       "        \u001b[1m{\u001b[0m\n",
       "            \u001b[32m'statute_category'\u001b[0m: \u001b[32m'ra'\u001b[0m,\n",
       "            \u001b[32m'statute_serial_id'\u001b[0m: \u001b[32m'10538'\u001b[0m,\n",
       "            \u001b[32m'locator'\u001b[0m: \u001b[32m'Section 1'\u001b[0m,\n",
       "            \u001b[32m'statute'\u001b[0m: \u001b[32m'Republic Act No. 10538'\u001b[0m,\n",
       "            \u001b[32m'action'\u001b[0m: \u001b[32m'Modified'\u001b[0m,\n",
       "            \u001b[32m'statute_id'\u001b[0m: \u001b[32m'ra-10538-may-15-2013'\u001b[0m,\n",
       "            \u001b[32m'statute_mp'\u001b[0m: \u001b[32m'1.1.'\u001b[0m\n",
       "        \u001b[1m}\u001b[0m\n",
       "    \u001b[1m]\u001b[0m,\n",
       "    \u001b[1m[\u001b[0m\n",
       "        \u001b[1m{\u001b[0m\n",
       "            \u001b[32m'statute_category'\u001b[0m: \u001b[32m'bp'\u001b[0m,\n",
       "            \u001b[32m'statute_serial_id'\u001b[0m: \u001b[32m'129'\u001b[0m,\n",
       "            \u001b[32m'locator'\u001b[0m: \u001b[32m'a'\u001b[0m,\n",
       "            \u001b[32m'content'\u001b[0m: \u001b[32m'Fifty-seven Regional Trial Judges'\u001b[0m,\n",
       "            \u001b[32m'statute'\u001b[0m: \u001b[32m'Batas Pambansa Blg. 129'\u001b[0m,\n",
       "            \u001b[32m'action'\u001b[0m: \u001b[32m'Originated'\u001b[0m\n",
       "        \u001b[1m}\u001b[0m,\n",
       "        \u001b[1m{\u001b[0m\n",
       "            \u001b[32m'statute_category'\u001b[0m: \u001b[32m'ra'\u001b[0m,\n",
       "            \u001b[32m'statute_serial_id'\u001b[0m: \u001b[32m'7154'\u001b[0m,\n",
       "            \u001b[32m'locator'\u001b[0m: \u001b[32m'a'\u001b[0m,\n",
       "            \u001b[32m'content'\u001b[0m: \u001b[32m'Seventy Regional Trial Judges'\u001b[0m,\n",
       "            \u001b[32m'statute'\u001b[0m: \u001b[32m'Republic Act No. 7154'\u001b[0m,\n",
       "            \u001b[32m'action'\u001b[0m: \u001b[32m'Amended'\u001b[0m\n",
       "        \u001b[1m}\u001b[0m,\n",
       "        \u001b[1m{\u001b[0m\n",
       "            \u001b[32m'statute_category'\u001b[0m: \u001b[32m'ra'\u001b[0m,\n",
       "            \u001b[32m'statute_serial_id'\u001b[0m: \u001b[32m'7472'\u001b[0m,\n",
       "            \u001b[32m'locator'\u001b[0m: \u001b[32m'a'\u001b[0m,\n",
       "            \u001b[32m'content'\u001b[0m: \u001b[32m'Seventy-two Regional Trial Judges'\u001b[0m,\n",
       "            \u001b[32m'statute'\u001b[0m: \u001b[32m'Republic Act No. 7472'\u001b[0m,\n",
       "            \u001b[32m'action'\u001b[0m: \u001b[32m'Amended'\u001b[0m,\n",
       "            \u001b[32m'statute_id'\u001b[0m: \u001b[32m'ra-7472-may-05-1992'\u001b[0m,\n",
       "            \u001b[32m'statute_mp'\u001b[0m: \u001b[32m'1.1.1.'\u001b[0m\n",
       "        \u001b[1m}\u001b[0m,\n",
       "        \u001b[1m{\u001b[0m\n",
       "            \u001b[32m'statute_category'\u001b[0m: \u001b[32m'ra'\u001b[0m,\n",
       "            \u001b[32m'statute_serial_id'\u001b[0m: \u001b[32m'10567'\u001b[0m,\n",
       "            \u001b[32m'locator'\u001b[0m: \u001b[32m'Section 1'\u001b[0m,\n",
       "            \u001b[32m'statute'\u001b[0m: \u001b[32m'Republic Act No. 10567'\u001b[0m,\n",
       "            \u001b[32m'action'\u001b[0m: \u001b[32m'Modified'\u001b[0m,\n",
       "            \u001b[32m'statute_id'\u001b[0m: \u001b[32m'ra-10567-may-22-2013'\u001b[0m,\n",
       "            \u001b[32m'statute_mp'\u001b[0m: \u001b[32m'1.1.'\u001b[0m\n",
       "        \u001b[1m}\u001b[0m,\n",
       "        \u001b[1m{\u001b[0m\n",
       "            \u001b[32m'statute_category'\u001b[0m: \u001b[32m'ra'\u001b[0m,\n",
       "            \u001b[32m'statute_serial_id'\u001b[0m: \u001b[32m'10696'\u001b[0m,\n",
       "            \u001b[32m'locator'\u001b[0m: \u001b[32m'Section 1'\u001b[0m,\n",
       "            \u001b[32m'statute'\u001b[0m: \u001b[32m'Republic Act No. 10696'\u001b[0m,\n",
       "            \u001b[32m'action'\u001b[0m: \u001b[32m'Modified'\u001b[0m\n",
       "        \u001b[1m}\u001b[0m,\n",
       "        \u001b[1m{\u001b[0m\n",
       "            \u001b[32m'statute_category'\u001b[0m: \u001b[32m'ra'\u001b[0m,\n",
       "            \u001b[32m'statute_serial_id'\u001b[0m: \u001b[32m'10710'\u001b[0m,\n",
       "            \u001b[32m'locator'\u001b[0m: \u001b[32m'Section 1'\u001b[0m,\n",
       "            \u001b[32m'statute'\u001b[0m: \u001b[32m'Republic Act No. 10710'\u001b[0m,\n",
       "            \u001b[32m'action'\u001b[0m: \u001b[32m'Modified'\u001b[0m,\n",
       "            \u001b[32m'statute_id'\u001b[0m: \u001b[32m'ra-10710-december-09-2015'\u001b[0m,\n",
       "            \u001b[32m'statute_mp'\u001b[0m: \u001b[32m'1.1.'\u001b[0m\n",
       "        \u001b[1m}\u001b[0m,\n",
       "        \u001b[1m{\u001b[0m\n",
       "            \u001b[32m'statute_category'\u001b[0m: \u001b[32m'ra'\u001b[0m,\n",
       "            \u001b[32m'statute_serial_id'\u001b[0m: \u001b[32m'10714'\u001b[0m,\n",
       "            \u001b[32m'locator'\u001b[0m: \u001b[32m'Section 1'\u001b[0m,\n",
       "            \u001b[32m'statute'\u001b[0m: \u001b[32m'Republic Act No. 10714'\u001b[0m,\n",
       "            \u001b[32m'action'\u001b[0m: \u001b[32m'Modified'\u001b[0m,\n",
       "            \u001b[32m'statute_id'\u001b[0m: \u001b[32m'ra-10714-december-09-2015'\u001b[0m,\n",
       "            \u001b[32m'statute_mp'\u001b[0m: \u001b[32m'1.1.'\u001b[0m\n",
       "        \u001b[1m}\u001b[0m,\n",
       "        \u001b[1m{\u001b[0m\n",
       "            \u001b[32m'statute_category'\u001b[0m: \u001b[32m'ra'\u001b[0m,\n",
       "            \u001b[32m'statute_serial_id'\u001b[0m: \u001b[32m'11381'\u001b[0m,\n",
       "            \u001b[32m'locator'\u001b[0m: \u001b[32m'Section 1'\u001b[0m,\n",
       "            \u001b[32m'statute'\u001b[0m: \u001b[32m'Republic Act No. 11381'\u001b[0m,\n",
       "            \u001b[32m'action'\u001b[0m: \u001b[32m'Modified'\u001b[0m,\n",
       "            \u001b[32m'statute_id'\u001b[0m: \u001b[32m'ra-11381-august-22-2019'\u001b[0m,\n",
       "            \u001b[32m'statute_mp'\u001b[0m: \u001b[32m'1.1.'\u001b[0m\n",
       "        \u001b[1m}\u001b[0m,\n",
       "        \u001b[1m{\u001b[0m\n",
       "            \u001b[32m'statute_category'\u001b[0m: \u001b[32m'ra'\u001b[0m,\n",
       "            \u001b[32m'statute_serial_id'\u001b[0m: \u001b[32m'11384'\u001b[0m,\n",
       "            \u001b[32m'locator'\u001b[0m: \u001b[32m'Section 1'\u001b[0m,\n",
       "            \u001b[32m'statute'\u001b[0m: \u001b[32m'Republic Act No. 11384'\u001b[0m,\n",
       "            \u001b[32m'action'\u001b[0m: \u001b[32m'Modified'\u001b[0m,\n",
       "            \u001b[32m'statute_id'\u001b[0m: \u001b[32m'ra-11384-august-22-2019'\u001b[0m,\n",
       "            \u001b[32m'statute_mp'\u001b[0m: \u001b[32m'1.1.'\u001b[0m\n",
       "        \u001b[1m}\u001b[0m\n",
       "    \u001b[1m]\u001b[0m,\n",
       "    \u001b[1m[\u001b[0m\n",
       "        \u001b[1m{\u001b[0m\n",
       "            \u001b[32m'statute_category'\u001b[0m: \u001b[32m'bp'\u001b[0m,\n",
       "            \u001b[32m'statute_serial_id'\u001b[0m: \u001b[32m'129'\u001b[0m,\n",
       "            \u001b[32m'locator'\u001b[0m: \u001b[32m'Chapter I'\u001b[0m,\n",
       "            \u001b[32m'caption'\u001b[0m: \u001b[32m'Intermediate Appellate Court'\u001b[0m,\n",
       "            \u001b[32m'statute'\u001b[0m: \u001b[32m'Batas Pambansa Blg. 129'\u001b[0m,\n",
       "            \u001b[32m'action'\u001b[0m: \u001b[32m'Originated'\u001b[0m\n",
       "        \u001b[1m}\u001b[0m,\n",
       "        \u001b[1m{\u001b[0m\n",
       "            \u001b[32m'statute_category'\u001b[0m: \u001b[32m'eo'\u001b[0m,\n",
       "            \u001b[32m'statute_serial_id'\u001b[0m: \u001b[32m'33'\u001b[0m,\n",
       "            \u001b[32m'locator'\u001b[0m: \u001b[32m'Section 1'\u001b[0m,\n",
       "            \u001b[32m'content'\u001b[0m: \u001b[32m'The title of Chapter I'\u001b[0m,\n",
       "            \u001b[32m'statute'\u001b[0m: \u001b[32m'Executive Order No. 33'\u001b[0m,\n",
       "            \u001b[32m'date'\u001b[0m: \u001b[32m'1986-07-28'\u001b[0m,\n",
       "            \u001b[32m'action'\u001b[0m: \u001b[32m'Amended'\u001b[0m\n",
       "        \u001b[1m}\u001b[0m\n",
       "    \u001b[1m]\u001b[0m,\n",
       "    \u001b[1m[\u001b[0m\n",
       "        \u001b[1m{\u001b[0m\n",
       "            \u001b[32m'statute_category'\u001b[0m: \u001b[32m'bp'\u001b[0m,\n",
       "            \u001b[32m'statute_serial_id'\u001b[0m: \u001b[32m'129'\u001b[0m,\n",
       "            \u001b[32m'locator'\u001b[0m: \u001b[32m'Section 9'\u001b[0m,\n",
       "            \u001b[32m'caption'\u001b[0m: \u001b[32m'Quorum.'\u001b[0m,\n",
       "            \u001b[32m'statute'\u001b[0m: \u001b[32m'Batas Pambansa Blg. 129'\u001b[0m,\n",
       "            \u001b[32m'action'\u001b[0m: \u001b[32m'Originated'\u001b[0m\n",
       "        \u001b[1m}\u001b[0m,\n",
       "        \u001b[1m{\u001b[0m\n",
       "            \u001b[32m'statute_category'\u001b[0m: \u001b[32m'eo'\u001b[0m,\n",
       "            \u001b[32m'statute_serial_id'\u001b[0m: \u001b[32m'33'\u001b[0m,\n",
       "            \u001b[32m'locator'\u001b[0m: \u001b[32m'Section 11'\u001b[0m,\n",
       "            \u001b[32m'caption'\u001b[0m: \u001b[32m'Quorum.'\u001b[0m,\n",
       "            \u001b[32m'statute'\u001b[0m: \u001b[32m'Executive Order No. 33'\u001b[0m,\n",
       "            \u001b[32m'date'\u001b[0m: \u001b[32m'1986-07-28'\u001b[0m,\n",
       "            \u001b[32m'action'\u001b[0m: \u001b[32m'Amended'\u001b[0m\n",
       "        \u001b[1m}\u001b[0m\n",
       "    \u001b[1m]\u001b[0m,\n",
       "    \u001b[1m[\u001b[0m\n",
       "        \u001b[1m{\u001b[0m\n",
       "            \u001b[32m'statute_category'\u001b[0m: \u001b[32m'bp'\u001b[0m,\n",
       "            \u001b[32m'statute_serial_id'\u001b[0m: \u001b[32m'129'\u001b[0m,\n",
       "            \u001b[32m'locator'\u001b[0m: \u001b[32m'Section 9'\u001b[0m,\n",
       "            \u001b[32m'caption'\u001b[0m: \u001b[32m'Jurisdiction.'\u001b[0m,\n",
       "            \u001b[32m'statute'\u001b[0m: \u001b[32m'Batas Pambansa Blg. 129'\u001b[0m,\n",
       "            \u001b[32m'action'\u001b[0m: \u001b[32m'Originated'\u001b[0m\n",
       "        \u001b[1m}\u001b[0m,\n",
       "        \u001b[1m{\u001b[0m\n",
       "            \u001b[32m'statute_category'\u001b[0m: \u001b[32m'eo'\u001b[0m,\n",
       "            \u001b[32m'statute_serial_id'\u001b[0m: \u001b[32m'33'\u001b[0m,\n",
       "            \u001b[32m'locator'\u001b[0m: \u001b[32m'Paragraph 2'\u001b[0m,\n",
       "            \u001b[32m'content'\u001b[0m: \u001b[32m'The Court of Appeals shall have the power to receive evidence'\u001b[0m,\n",
       "            \u001b[32m'statute'\u001b[0m: \u001b[32m'Executive Order No. 33'\u001b[0m,\n",
       "            \u001b[32m'date'\u001b[0m: \u001b[32m'1986-07-28'\u001b[0m,\n",
       "            \u001b[32m'action'\u001b[0m: \u001b[32m'Amended'\u001b[0m\n",
       "        \u001b[1m}\u001b[0m,\n",
       "        \u001b[1m{\u001b[0m\n",
       "            \u001b[32m'statute_category'\u001b[0m: \u001b[32m'ra'\u001b[0m,\n",
       "            \u001b[32m'statute_serial_id'\u001b[0m: \u001b[32m'7902'\u001b[0m,\n",
       "            \u001b[32m'locator'\u001b[0m: \u001b[32m'Section 9'\u001b[0m,\n",
       "            \u001b[32m'caption'\u001b[0m: \u001b[32m'Jurisdiction.'\u001b[0m,\n",
       "            \u001b[32m'statute'\u001b[0m: \u001b[32m'Republic Act No. 7902'\u001b[0m,\n",
       "            \u001b[32m'action'\u001b[0m: \u001b[32m'Amended'\u001b[0m,\n",
       "            \u001b[32m'statute_id'\u001b[0m: \u001b[32m'ra-7902-february-23-1995'\u001b[0m,\n",
       "            \u001b[32m'statute_mp'\u001b[0m: \u001b[32m'1.1.1.'\u001b[0m\n",
       "        \u001b[1m}\u001b[0m\n",
       "    \u001b[1m]\u001b[0m,\n",
       "    \u001b[1m[\u001b[0m\n",
       "        \u001b[1m{\u001b[0m\n",
       "            \u001b[32m'statute_category'\u001b[0m: \u001b[32m'bp'\u001b[0m,\n",
       "            \u001b[32m'statute_serial_id'\u001b[0m: \u001b[32m'129'\u001b[0m,\n",
       "            \u001b[32m'locator'\u001b[0m: \u001b[32m'Section 8'\u001b[0m,\n",
       "            \u001b[32m'caption'\u001b[0m: \u001b[32m'Grouping of Divisions.'\u001b[0m,\n",
       "            \u001b[32m'statute'\u001b[0m: \u001b[32m'Batas Pambansa Blg. 129'\u001b[0m,\n",
       "            \u001b[32m'action'\u001b[0m: \u001b[32m'Originated'\u001b[0m\n",
       "        \u001b[1m}\u001b[0m,\n",
       "        \u001b[1m{\u001b[0m\n",
       "            \u001b[32m'statute_category'\u001b[0m: \u001b[32m'eo'\u001b[0m,\n",
       "            \u001b[32m'statute_serial_id'\u001b[0m: \u001b[32m'33'\u001b[0m,\n",
       "            \u001b[32m'locator'\u001b[0m: \u001b[32m'Section 4'\u001b[0m,\n",
       "            \u001b[32m'content'\u001b[0m: \u001b[32m'Section 8 of the same Act is hereby repealed.'\u001b[0m,\n",
       "            \u001b[32m'statute'\u001b[0m: \u001b[32m'Executive Order No. 33'\u001b[0m,\n",
       "            \u001b[32m'date'\u001b[0m: \u001b[32m'1986-07-28'\u001b[0m,\n",
       "            \u001b[32m'action'\u001b[0m: \u001b[32m'Repealed'\u001b[0m\n",
       "        \u001b[1m}\u001b[0m\n",
       "    \u001b[1m]\u001b[0m,\n",
       "    \u001b[1m[\u001b[0m\n",
       "        \u001b[1m{\u001b[0m\n",
       "            \u001b[32m'statute_category'\u001b[0m: \u001b[32m'bp'\u001b[0m,\n",
       "            \u001b[32m'statute_serial_id'\u001b[0m: \u001b[32m'129'\u001b[0m,\n",
       "            \u001b[32m'locator'\u001b[0m: \u001b[32m'Section 4'\u001b[0m,\n",
       "            \u001b[32m'caption'\u001b[0m: \u001b[32m'Exercise of Powers and Functions.'\u001b[0m,\n",
       "            \u001b[32m'statute'\u001b[0m: \u001b[32m'Batas Pambansa Blg. 129'\u001b[0m,\n",
       "            \u001b[32m'action'\u001b[0m: \u001b[32m'Originated'\u001b[0m\n",
       "        \u001b[1m}\u001b[0m,\n",
       "        \u001b[1m{\u001b[0m\n",
       "            \u001b[32m'statute_category'\u001b[0m: \u001b[32m'eo'\u001b[0m,\n",
       "            \u001b[32m'statute_serial_id'\u001b[0m: \u001b[32m'33'\u001b[0m,\n",
       "            \u001b[32m'locator'\u001b[0m: \u001b[32m'Section 4'\u001b[0m,\n",
       "            \u001b[32m'caption'\u001b[0m: \u001b[32m'Exercise of powers and functions.'\u001b[0m,\n",
       "            \u001b[32m'statute'\u001b[0m: \u001b[32m'Executive Order No. 33'\u001b[0m,\n",
       "            \u001b[32m'date'\u001b[0m: \u001b[32m'1986-07-28'\u001b[0m,\n",
       "            \u001b[32m'action'\u001b[0m: \u001b[32m'Amended'\u001b[0m\n",
       "        \u001b[1m}\u001b[0m,\n",
       "        \u001b[1m{\u001b[0m\n",
       "            \u001b[32m'statute_category'\u001b[0m: \u001b[32m'ra'\u001b[0m,\n",
       "            \u001b[32m'statute_serial_id'\u001b[0m: \u001b[32m'8246'\u001b[0m,\n",
       "            \u001b[32m'locator'\u001b[0m: \u001b[32m'Section 4'\u001b[0m,\n",
       "            \u001b[32m'caption'\u001b[0m: \u001b[32m'Exercise of Powers and Functions.'\u001b[0m,\n",
       "            \u001b[32m'statute'\u001b[0m: \u001b[32m'Republic Act No. 8246'\u001b[0m,\n",
       "            \u001b[32m'action'\u001b[0m: \u001b[32m'Originated'\u001b[0m\n",
       "        \u001b[1m}\u001b[0m\n",
       "    \u001b[1m]\u001b[0m,\n",
       "    \u001b[1m[\u001b[0m\n",
       "        \u001b[1m{\u001b[0m\n",
       "            \u001b[32m'statute_category'\u001b[0m: \u001b[32m'bp'\u001b[0m,\n",
       "            \u001b[32m'statute_serial_id'\u001b[0m: \u001b[32m'129'\u001b[0m,\n",
       "            \u001b[32m'locator'\u001b[0m: \u001b[32m'Section 3'\u001b[0m,\n",
       "            \u001b[32m'caption'\u001b[0m: \u001b[32m'Organization.'\u001b[0m,\n",
       "            \u001b[32m'statute'\u001b[0m: \u001b[32m'Batas Pambansa Blg. 129'\u001b[0m,\n",
       "            \u001b[32m'action'\u001b[0m: \u001b[32m'Originated'\u001b[0m\n",
       "        \u001b[1m}\u001b[0m,\n",
       "        \u001b[1m{\u001b[0m\n",
       "            \u001b[32m'statute_category'\u001b[0m: \u001b[32m'eo'\u001b[0m,\n",
       "            \u001b[32m'statute_serial_id'\u001b[0m: \u001b[32m'33'\u001b[0m,\n",
       "            \u001b[32m'locator'\u001b[0m: \u001b[32m'Section 3'\u001b[0m,\n",
       "            \u001b[32m'caption'\u001b[0m: \u001b[32m'Organization.'\u001b[0m,\n",
       "            \u001b[32m'statute'\u001b[0m: \u001b[32m'Executive Order No. 33'\u001b[0m,\n",
       "            \u001b[32m'date'\u001b[0m: \u001b[32m'1986-07-28'\u001b[0m,\n",
       "            \u001b[32m'action'\u001b[0m: \u001b[32m'Amended'\u001b[0m\n",
       "        \u001b[1m}\u001b[0m,\n",
       "        \u001b[1m{\u001b[0m\n",
       "            \u001b[32m'statute_category'\u001b[0m: \u001b[32m'ra'\u001b[0m,\n",
       "            \u001b[32m'statute_serial_id'\u001b[0m: \u001b[32m'8246'\u001b[0m,\n",
       "            \u001b[32m'locator'\u001b[0m: \u001b[32m'Section 3'\u001b[0m,\n",
       "            \u001b[32m'caption'\u001b[0m: \u001b[32m'Organization.'\u001b[0m,\n",
       "            \u001b[32m'statute'\u001b[0m: \u001b[32m'Republic Act No. 8246'\u001b[0m,\n",
       "            \u001b[32m'action'\u001b[0m: \u001b[32m'Amended'\u001b[0m\n",
       "        \u001b[1m}\u001b[0m\n",
       "    \u001b[1m]\u001b[0m\n",
       "\u001b[1m]\u001b[0m\n"
      ]
     },
     "metadata": {},
     "output_type": "display_data"
    }
   ],
   "source": [
    "list(fetch_values_from_key(xx['units'][0], 'history'))"
   ]
  }
 ],
 "metadata": {
  "kernelspec": {
   "display_name": "Python 3.11.0 ('.venv': poetry)",
   "language": "python",
   "name": "python3"
  },
  "language_info": {
   "codemirror_mode": {
    "name": "ipython",
    "version": 3
   },
   "file_extension": ".py",
   "mimetype": "text/x-python",
   "name": "python",
   "nbconvert_exporter": "python",
   "pygments_lexer": "ipython3",
   "version": "3.11.0"
  },
  "orig_nbformat": 4,
  "vscode": {
   "interpreter": {
    "hash": "f64842d3af6374b09eb9796b9cace4dfa027b5166849e320c3f954ad57a9beb0"
   }
  }
 },
 "nbformat": 4,
 "nbformat_minor": 2
}
