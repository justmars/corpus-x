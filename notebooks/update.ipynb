{
 "cells": [
  {
   "cell_type": "code",
   "execution_count": null,
   "metadata": {},
   "outputs": [],
   "source": [
    "%load_ext rich\n",
    "from rich import print\n",
    "from sqlpyd import Connection\n",
    "from sqlite_utils.db import Table\n",
    "from corpus_x.utils import set_histories\n",
    "from corpus_x.__main__ import get_codification\n",
    "from corpus_x.codifications import CodeStatuteEvent, CodeRow\n",
    "c = Connection(DatabasePath=\"x.db\", WAL=True) # type: ignore"
   ]
  },
  {
   "cell_type": "code",
   "execution_count": null,
   "metadata": {},
   "outputs": [],
   "source": [
    "code_pk = \"mv-2022-ra-386-modern-civil-code-v1\"\n",
    "#xx = CodeRow.set_update_units(c, code_pk)\n",
    "#obj = get_codification(c, code_pk)\n",
    "#obj['units'][0]['units'][0]['units']"
   ]
  },
  {
   "cell_type": "code",
   "execution_count": null,
   "metadata": {},
   "outputs": [],
   "source": [
    "for row in c.db[CodeRow.__tablename__].rows:\n",
    "    obj = CodeRow.set_update_units(c, row[\"id\"])"
   ]
  }
 ],
 "metadata": {
  "kernelspec": {
   "display_name": "Python 3.11.0 ('.venv': poetry)",
   "language": "python",
   "name": "python3"
  },
  "language_info": {
   "codemirror_mode": {
    "name": "ipython",
    "version": 3
   },
   "file_extension": ".py",
   "mimetype": "text/x-python",
   "name": "python",
   "nbconvert_exporter": "python",
   "pygments_lexer": "ipython3",
   "version": "3.11.0"
  },
  "orig_nbformat": 4,
  "vscode": {
   "interpreter": {
    "hash": "f64842d3af6374b09eb9796b9cace4dfa027b5166849e320c3f954ad57a9beb0"
   }
  }
 },
 "nbformat": 4,
 "nbformat_minor": 2
}
